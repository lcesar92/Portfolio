{
 "cells": [
  {
   "cell_type": "markdown",
   "id": "56ae9295",
   "metadata": {},
   "source": [
    "\n",
    "# ------------------------------------------------------------------\n",
    "# Big Data Forecasting with Recurrent Neural Networks and PySpark\n",
    "# ------------------------------------------------------------------\n"
   ]
  },
  {
   "cell_type": "markdown",
   "id": "2323057f-1022-48e9-bbbc-50b90d30f65a",
   "metadata": {},
   "source": [
    "# Dataset - Persons Killed in Road Accidents in Europe"
   ]
  },
  {
   "cell_type": "markdown",
   "id": "dfa44acb-cde1-46c2-adab-489bab55273f",
   "metadata": {},
   "source": [
    "    The data on road fatalities in Europe, collected from Eurostat, covers the period from 1999 to 2022. These statistics include deaths that occur within 30 days of a road accident, following the “death within 30 days” principle. The dataset encompasses information from all EU Member States and EFTA countries, allowing for a consistent comparison across nations.\n",
    "\n",
    "    Key aspects of the dataset include:\n",
    "\n",
    "    - Annual total fatalities reported in road accidents.\n",
    "    - Breakdown by vehicle type (e.g., cars, motorcycles, bicycles).\n",
    "    - Demographic details like age and gender of the victims.\n",
    "    - Information about the location and circumstances of accidents.\n",
    "    \n",
    "    This data shows a general decline in road fatalities over the years, attributed to improved road safety measures, better vehicle technology, and stricter regulations.\n",
    "    \n",
    "    References:\n",
    "    - Eurostat - Road Safety Metadata: https://ec.europa.eu/eurostat/cache/metadata/en/tran_sf_road_esms.htm\n",
    "    - Eurostat - Road Transport Safety Data: https://ec.europa.eu/eurostat/web/transport/data"
   ]
  },
  {
   "cell_type": "markdown",
   "id": "3df7c878-e49c-4805-91b5-48a64331517a",
   "metadata": {},
   "source": [
    "# Connection PySpark "
   ]
  },
  {
   "cell_type": "code",
   "execution_count": 1,
   "id": "2776c148",
   "metadata": {},
   "outputs": [
    {
     "data": {
      "text/plain": [
       "''"
      ]
     },
     "execution_count": 1,
     "metadata": {},
     "output_type": "execute_result"
    }
   ],
   "source": [
    "sc"
   ]
  },
  {
   "cell_type": "code",
   "execution_count": 2,
   "id": "91b93f35",
   "metadata": {},
   "outputs": [],
   "source": [
    "sc.master"
   ]
  },
  {
   "cell_type": "markdown",
   "id": "69320298",
   "metadata": {},
   "source": [
    "# Loading the Packages"
   ]
  },
  {
   "cell_type": "code",
   "execution_count": 3,
   "id": "7148e137",
   "metadata": {},
   "outputs": [],
   "source": [
    "import warnings\n",
    "warnings.filterwarnings(\"ignore\")"
   ]
  },
  {
   "cell_type": "code",
   "execution_count": 4,
   "id": "97ae3920-e8cd-421a-9a6c-71e6d2884376",
   "metadata": {},
   "outputs": [
    {
     "name": "stdout",
     "output_type": "stream",
     "text": [
      "Requirement already satisfied: matplotlib in c:\\users\\lorra\\anaconda3\\lib\\site-packages (3.5.1)\n",
      "Requirement already satisfied: cycler>=0.10 in c:\\users\\lorra\\anaconda3\\lib\\site-packages (from matplotlib) (0.11.0)\n",
      "Requirement already satisfied: pillow>=6.2.0 in c:\\users\\lorra\\anaconda3\\lib\\site-packages (from matplotlib) (9.0.1)\n",
      "Requirement already satisfied: fonttools>=4.22.0 in c:\\users\\lorra\\anaconda3\\lib\\site-packages (from matplotlib) (4.25.0)\n",
      "Requirement already satisfied: numpy>=1.17 in c:\\users\\lorra\\anaconda3\\lib\\site-packages (from matplotlib) (1.22.4)\n",
      "Requirement already satisfied: kiwisolver>=1.0.1 in c:\\users\\lorra\\anaconda3\\lib\\site-packages (from matplotlib) (1.3.2)\n",
      "Requirement already satisfied: pyparsing>=2.2.1 in c:\\users\\lorra\\anaconda3\\lib\\site-packages (from matplotlib) (3.0.4)\n",
      "Requirement already satisfied: packaging>=20.0 in c:\\users\\lorra\\anaconda3\\lib\\site-packages (from matplotlib) (23.2)\n",
      "Requirement already satisfied: python-dateutil>=2.7 in c:\\users\\lorra\\anaconda3\\lib\\site-packages (from matplotlib) (2.8.2)\n",
      "Requirement already satisfied: six>=1.5 in c:\\users\\lorra\\anaconda3\\lib\\site-packages (from python-dateutil>=2.7->matplotlib) (1.16.0)\n",
      "Note: you may need to restart the kernel to use updated packages.\n"
     ]
    }
   ],
   "source": [
    "pip install matplotlib"
   ]
  },
  {
   "cell_type": "code",
   "execution_count": 5,
   "id": "41eb7fa7",
   "metadata": {},
   "outputs": [],
   "source": [
    "import math\n",
    "import numpy as np\n",
    "import pandas as pd\n",
    "import matplotlib.pyplot as plt\n",
    "#import missingno as msno\n",
    "\n",
    "from pyspark.sql.functions import expr\n",
    "from pyspark.sql.functions import col, sum\n",
    "from pyspark.sql import SparkSession\n",
    "\n",
    "from tensorflow.keras.optimizers import Adam\n",
    "from tensorflow.keras.regularizers import l2\n",
    "from tensorflow.keras.layers import Dropout\n",
    "from tensorflow.keras.layers import BatchNormalization, TimeDistributed\n",
    "from tensorflow.keras.layers import Activation\n",
    "from sklearn.linear_model import LinearRegression\n",
    "from sklearn.metrics import mean_squared_error, r2_score\n",
    "from sklearn.preprocessing import MinMaxScaler\n",
    "from tensorflow.keras.models import Sequential\n",
    "from tensorflow.keras.layers import Dense\n",
    "from tensorflow.keras.layers import LSTM\n",
    "from tensorflow.keras.layers import Dropout"
   ]
  },
  {
   "cell_type": "markdown",
   "id": "8c21fac2",
   "metadata": {
    "tags": []
   },
   "source": [
    "# Reading the dataset from Hadoop "
   ]
  },
  {
   "cell_type": "code",
   "execution_count": 8,
   "id": "fff64424",
   "metadata": {
    "scrolled": true
   },
   "outputs": [],
   "source": [
    "sc = spark.sparkContext"
   ]
  },
  {
   "cell_type": "code",
   "execution_count": 9,
   "id": "7af7946d",
   "metadata": {},
   "outputs": [],
   "source": [
    "path = '/user1/estat_tran_sf_roadus.txt'\n",
    "death_roads = spark.read.csv(path, sep = '\\t', header = True, inferSchema = True)"
   ]
  },
  {
   "cell_type": "code",
   "execution_count": 10,
   "id": "fd1a28b3",
   "metadata": {},
   "outputs": [],
   "source": [
    "death_roads.show(truncate = False)"
   ]
  },
  {
   "cell_type": "markdown",
   "id": "63a2f52d-4d02-4cca-b90b-0f5064f8e55e",
   "metadata": {},
   "source": [
    "# Data Preparation"
   ]
  },
  {
   "cell_type": "code",
   "execution_count": 11,
   "id": "d6298c91-2bc0-4ba1-9226-f84af9977e90",
   "metadata": {},
   "outputs": [
    {
     "data": {
      "text/html": [
       "<div>\n",
       "<style scoped>\n",
       "    .dataframe tbody tr th:only-of-type {\n",
       "        vertical-align: middle;\n",
       "    }\n",
       "\n",
       "    .dataframe tbody tr th {\n",
       "        vertical-align: top;\n",
       "    }\n",
       "\n",
       "    .dataframe thead th {\n",
       "        text-align: right;\n",
       "    }\n",
       "</style>\n",
       "<table border=\"1\" class=\"dataframe\">\n",
       "  <thead>\n",
       "    <tr style=\"text-align: right;\">\n",
       "      <th></th>\n",
       "      <th>freq</th>\n",
       "      <th>sex</th>\n",
       "      <th>age</th>\n",
       "      <th>unit</th>\n",
       "      <th>pers_cat</th>\n",
       "      <th>geo\\TIME_PERIOD</th>\n",
       "      <th>1999</th>\n",
       "      <th>2000</th>\n",
       "      <th>2001</th>\n",
       "      <th>2002</th>\n",
       "      <th>...</th>\n",
       "      <th>2013</th>\n",
       "      <th>2014</th>\n",
       "      <th>2015</th>\n",
       "      <th>2016</th>\n",
       "      <th>2017</th>\n",
       "      <th>2018</th>\n",
       "      <th>2019</th>\n",
       "      <th>2020</th>\n",
       "      <th>2021</th>\n",
       "      <th>2022</th>\n",
       "    </tr>\n",
       "  </thead>\n",
       "  <tbody>\n",
       "    <tr>\n",
       "      <th>0</th>\n",
       "      <td>A</td>\n",
       "      <td>F</td>\n",
       "      <td>TOTAL</td>\n",
       "      <td>NR</td>\n",
       "      <td>DRIV</td>\n",
       "      <td>AT</td>\n",
       "      <td>129</td>\n",
       "      <td>100</td>\n",
       "      <td>112</td>\n",
       "      <td>105</td>\n",
       "      <td>...</td>\n",
       "      <td>49</td>\n",
       "      <td>61</td>\n",
       "      <td>65</td>\n",
       "      <td>57</td>\n",
       "      <td>48</td>\n",
       "      <td>49</td>\n",
       "      <td>53</td>\n",
       "      <td>45</td>\n",
       "      <td>54</td>\n",
       "      <td>56</td>\n",
       "    </tr>\n",
       "    <tr>\n",
       "      <th>1</th>\n",
       "      <td>A</td>\n",
       "      <td>F</td>\n",
       "      <td>TOTAL</td>\n",
       "      <td>NR</td>\n",
       "      <td>DRIV</td>\n",
       "      <td>BE</td>\n",
       "      <td>182</td>\n",
       "      <td>184</td>\n",
       "      <td>188</td>\n",
       "      <td>155</td>\n",
       "      <td>...</td>\n",
       "      <td>74</td>\n",
       "      <td>84</td>\n",
       "      <td>97</td>\n",
       "      <td>77</td>\n",
       "      <td>79</td>\n",
       "      <td>86</td>\n",
       "      <td>69</td>\n",
       "      <td>59</td>\n",
       "      <td>66</td>\n",
       "      <td>60</td>\n",
       "    </tr>\n",
       "    <tr>\n",
       "      <th>2</th>\n",
       "      <td>A</td>\n",
       "      <td>F</td>\n",
       "      <td>TOTAL</td>\n",
       "      <td>NR</td>\n",
       "      <td>DRIV</td>\n",
       "      <td>BG</td>\n",
       "      <td>:</td>\n",
       "      <td>:</td>\n",
       "      <td>:</td>\n",
       "      <td>:</td>\n",
       "      <td>...</td>\n",
       "      <td>:</td>\n",
       "      <td>:</td>\n",
       "      <td>:</td>\n",
       "      <td>23</td>\n",
       "      <td>29</td>\n",
       "      <td>24</td>\n",
       "      <td>31</td>\n",
       "      <td>23</td>\n",
       "      <td>18</td>\n",
       "      <td>21</td>\n",
       "    </tr>\n",
       "    <tr>\n",
       "      <th>3</th>\n",
       "      <td>A</td>\n",
       "      <td>F</td>\n",
       "      <td>TOTAL</td>\n",
       "      <td>NR</td>\n",
       "      <td>DRIV</td>\n",
       "      <td>CH</td>\n",
       "      <td>:</td>\n",
       "      <td>:</td>\n",
       "      <td>59</td>\n",
       "      <td>54</td>\n",
       "      <td>...</td>\n",
       "      <td>27</td>\n",
       "      <td>21</td>\n",
       "      <td>22</td>\n",
       "      <td>28</td>\n",
       "      <td>33</td>\n",
       "      <td>19</td>\n",
       "      <td>18</td>\n",
       "      <td>25</td>\n",
       "      <td>19</td>\n",
       "      <td>29</td>\n",
       "    </tr>\n",
       "    <tr>\n",
       "      <th>4</th>\n",
       "      <td>A</td>\n",
       "      <td>F</td>\n",
       "      <td>TOTAL</td>\n",
       "      <td>NR</td>\n",
       "      <td>DRIV</td>\n",
       "      <td>CY</td>\n",
       "      <td>:</td>\n",
       "      <td>:</td>\n",
       "      <td>:</td>\n",
       "      <td>:</td>\n",
       "      <td>...</td>\n",
       "      <td>3</td>\n",
       "      <td>3</td>\n",
       "      <td>7</td>\n",
       "      <td>2</td>\n",
       "      <td>4</td>\n",
       "      <td>1</td>\n",
       "      <td>4</td>\n",
       "      <td>2</td>\n",
       "      <td>4</td>\n",
       "      <td>3</td>\n",
       "    </tr>\n",
       "    <tr>\n",
       "      <th>...</th>\n",
       "      <td>...</td>\n",
       "      <td>...</td>\n",
       "      <td>...</td>\n",
       "      <td>...</td>\n",
       "      <td>...</td>\n",
       "      <td>...</td>\n",
       "      <td>...</td>\n",
       "      <td>...</td>\n",
       "      <td>...</td>\n",
       "      <td>...</td>\n",
       "      <td>...</td>\n",
       "      <td>...</td>\n",
       "      <td>...</td>\n",
       "      <td>...</td>\n",
       "      <td>...</td>\n",
       "      <td>...</td>\n",
       "      <td>...</td>\n",
       "      <td>...</td>\n",
       "      <td>...</td>\n",
       "      <td>...</td>\n",
       "      <td>...</td>\n",
       "    </tr>\n",
       "    <tr>\n",
       "      <th>5064</th>\n",
       "      <td>A</td>\n",
       "      <td>UNK</td>\n",
       "      <td>Y_LT15</td>\n",
       "      <td>NR</td>\n",
       "      <td>UNK</td>\n",
       "      <td>HR</td>\n",
       "      <td>:</td>\n",
       "      <td>:</td>\n",
       "      <td>:</td>\n",
       "      <td>:</td>\n",
       "      <td>...</td>\n",
       "      <td>:</td>\n",
       "      <td>:</td>\n",
       "      <td>:</td>\n",
       "      <td>:</td>\n",
       "      <td>:</td>\n",
       "      <td>:</td>\n",
       "      <td>:</td>\n",
       "      <td>:</td>\n",
       "      <td>:</td>\n",
       "      <td>:</td>\n",
       "    </tr>\n",
       "    <tr>\n",
       "      <th>5065</th>\n",
       "      <td>A</td>\n",
       "      <td>UNK</td>\n",
       "      <td>Y_LT15</td>\n",
       "      <td>NR</td>\n",
       "      <td>UNK</td>\n",
       "      <td>LT</td>\n",
       "      <td>:</td>\n",
       "      <td>:</td>\n",
       "      <td>:</td>\n",
       "      <td>:</td>\n",
       "      <td>...</td>\n",
       "      <td>:</td>\n",
       "      <td>:</td>\n",
       "      <td>:</td>\n",
       "      <td>:</td>\n",
       "      <td>:</td>\n",
       "      <td>:</td>\n",
       "      <td>0</td>\n",
       "      <td>:</td>\n",
       "      <td>:</td>\n",
       "      <td>:</td>\n",
       "    </tr>\n",
       "    <tr>\n",
       "      <th>5066</th>\n",
       "      <td>A</td>\n",
       "      <td>UNK</td>\n",
       "      <td>Y_LT15</td>\n",
       "      <td>NR</td>\n",
       "      <td>UNK</td>\n",
       "      <td>NL</td>\n",
       "      <td>:</td>\n",
       "      <td>:</td>\n",
       "      <td>:</td>\n",
       "      <td>:</td>\n",
       "      <td>...</td>\n",
       "      <td>0</td>\n",
       "      <td>0</td>\n",
       "      <td>:</td>\n",
       "      <td>:</td>\n",
       "      <td>:</td>\n",
       "      <td>0</td>\n",
       "      <td>0</td>\n",
       "      <td>:</td>\n",
       "      <td>:</td>\n",
       "      <td>:</td>\n",
       "    </tr>\n",
       "    <tr>\n",
       "      <th>5067</th>\n",
       "      <td>A</td>\n",
       "      <td>UNK</td>\n",
       "      <td>Y_LT15</td>\n",
       "      <td>NR</td>\n",
       "      <td>UNK</td>\n",
       "      <td>SE</td>\n",
       "      <td>:</td>\n",
       "      <td>:</td>\n",
       "      <td>:</td>\n",
       "      <td>:</td>\n",
       "      <td>...</td>\n",
       "      <td>:</td>\n",
       "      <td>:</td>\n",
       "      <td>:</td>\n",
       "      <td>:</td>\n",
       "      <td>:</td>\n",
       "      <td>:</td>\n",
       "      <td>:</td>\n",
       "      <td>:</td>\n",
       "      <td>:</td>\n",
       "      <td>:</td>\n",
       "    </tr>\n",
       "    <tr>\n",
       "      <th>5068</th>\n",
       "      <td>A</td>\n",
       "      <td>UNK</td>\n",
       "      <td>Y_LT15</td>\n",
       "      <td>NR</td>\n",
       "      <td>UNK</td>\n",
       "      <td>SI</td>\n",
       "      <td>:</td>\n",
       "      <td>:</td>\n",
       "      <td>:</td>\n",
       "      <td>:</td>\n",
       "      <td>...</td>\n",
       "      <td>:</td>\n",
       "      <td>:</td>\n",
       "      <td>:</td>\n",
       "      <td>:</td>\n",
       "      <td>:</td>\n",
       "      <td>:</td>\n",
       "      <td>:</td>\n",
       "      <td>:</td>\n",
       "      <td>:</td>\n",
       "      <td>:</td>\n",
       "    </tr>\n",
       "  </tbody>\n",
       "</table>\n",
       "<p>5069 rows × 30 columns</p>\n",
       "</div>"
      ],
      "text/plain": [
       "     freq  sex     age unit pers_cat geo\\TIME_PERIOD 1999 2000 2001 2002  ...  \\\n",
       "0       A    F   TOTAL   NR     DRIV              AT  129  100  112  105  ...   \n",
       "1       A    F   TOTAL   NR     DRIV              BE  182  184  188  155  ...   \n",
       "2       A    F   TOTAL   NR     DRIV              BG   :    :    :    :   ...   \n",
       "3       A    F   TOTAL   NR     DRIV              CH   :    :    59   54  ...   \n",
       "4       A    F   TOTAL   NR     DRIV              CY   :    :    :    :   ...   \n",
       "...   ...  ...     ...  ...      ...             ...  ...  ...  ...  ...  ...   \n",
       "5064    A  UNK  Y_LT15   NR      UNK              HR   :    :    :    :   ...   \n",
       "5065    A  UNK  Y_LT15   NR      UNK              LT   :    :    :    :   ...   \n",
       "5066    A  UNK  Y_LT15   NR      UNK              NL   :    :    :    :   ...   \n",
       "5067    A  UNK  Y_LT15   NR      UNK              SE   :    :    :    :   ...   \n",
       "5068    A  UNK  Y_LT15   NR      UNK              SI   :    :    :    :   ...   \n",
       "\n",
       "     2013 2014 2015 2016 2017 2018 2019 2020 2021 2022  \n",
       "0      49   61   65   57   48   49   53   45   54   56  \n",
       "1      74   84   97   77   79   86   69   59   66   60  \n",
       "2      :    :    :    23   29   24   31   23   18   21  \n",
       "3      27   21   22   28   33   19   18   25   19   29  \n",
       "4       3    3    7    2    4    1    4    2    4    3  \n",
       "...   ...  ...  ...  ...  ...  ...  ...  ...  ...  ...  \n",
       "5064   :    :    :    :    :    :    :    :    :    :   \n",
       "5065   :    :    :    :    :    :     0   :    :    :   \n",
       "5066    0    0   :    :    :     0    0   :    :    :   \n",
       "5067   :    :    :    :    :    :    :    :    :    :   \n",
       "5068   :    :    :    :    :    :    :    :    :    :   \n",
       "\n",
       "[5069 rows x 30 columns]"
      ]
     },
     "execution_count": 11,
     "metadata": {},
     "output_type": "execute_result"
    }
   ],
   "source": [
    "death_roads.toPandas()"
   ]
  },
  {
   "cell_type": "code",
   "execution_count": 12,
   "id": "7b2fe7e4-5fa6-4101-bcbf-857aca6ee1ab",
   "metadata": {},
   "outputs": [
    {
     "name": "stdout",
     "output_type": "stream",
     "text": [
      "root\n",
      " |-- freq: string (nullable = true)\n",
      " |-- sex: string (nullable = true)\n",
      " |-- age: string (nullable = true)\n",
      " |-- unit: string (nullable = true)\n",
      " |-- pers_cat: string (nullable = true)\n",
      " |-- geo\\TIME_PERIOD: string (nullable = true)\n",
      " |-- 1999: string (nullable = true)\n",
      " |-- 2000: string (nullable = true)\n",
      " |-- 2001: string (nullable = true)\n",
      " |-- 2002: string (nullable = true)\n",
      " |-- 2003: string (nullable = true)\n",
      " |-- 2004: string (nullable = true)\n",
      " |-- 2005: string (nullable = true)\n",
      " |-- 2006: string (nullable = true)\n",
      " |-- 2007: string (nullable = true)\n",
      " |-- 2008: string (nullable = true)\n",
      " |-- 2009: string (nullable = true)\n",
      " |-- 2010: string (nullable = true)\n",
      " |-- 2011: string (nullable = true)\n",
      " |-- 2012: string (nullable = true)\n",
      " |-- 2013: string (nullable = true)\n",
      " |-- 2014: string (nullable = true)\n",
      " |-- 2015: string (nullable = true)\n",
      " |-- 2016: string (nullable = true)\n",
      " |-- 2017: string (nullable = true)\n",
      " |-- 2018: string (nullable = true)\n",
      " |-- 2019: string (nullable = true)\n",
      " |-- 2020: string (nullable = true)\n",
      " |-- 2021: string (nullable = true)\n",
      " |-- 2022: string (nullable = true)\n",
      "\n"
     ]
    }
   ],
   "source": [
    "death_roads.printSchema()"
   ]
  },
  {
   "cell_type": "markdown",
   "id": "a56b1265-8ca8-4531-829d-87fc67176527",
   "metadata": {},
   "source": [
    "- Counting the Number of Rows"
   ]
  },
  {
   "cell_type": "code",
   "execution_count": 13,
   "id": "e589f7d5-8707-491d-92df-e051268bd5e0",
   "metadata": {},
   "outputs": [
    {
     "name": "stdout",
     "output_type": "stream",
     "text": [
      "Total number of rows: 5069\n"
     ]
    }
   ],
   "source": [
    "row_count = death_roads.count()\n",
    "print(f\"Total number of rows: {row_count}\")\n"
   ]
  },
  {
   "cell_type": "markdown",
   "id": "9be80f32-b36e-46ed-a071-51314b60e860",
   "metadata": {},
   "source": [
    "- Removing Columns"
   ]
  },
  {
   "cell_type": "code",
   "execution_count": 14,
   "id": "8c50e264-8761-45bf-b70d-25ab9e1fbf76",
   "metadata": {},
   "outputs": [],
   "source": [
    "death_roads = death_roads.drop('freq', 'unit')"
   ]
  },
  {
   "cell_type": "code",
   "execution_count": 15,
   "id": "24dbf1ef-dfbb-4cbc-8be3-8df8ab95f92a",
   "metadata": {},
   "outputs": [
    {
     "data": {
      "text/html": [
       "<div>\n",
       "<style scoped>\n",
       "    .dataframe tbody tr th:only-of-type {\n",
       "        vertical-align: middle;\n",
       "    }\n",
       "\n",
       "    .dataframe tbody tr th {\n",
       "        vertical-align: top;\n",
       "    }\n",
       "\n",
       "    .dataframe thead th {\n",
       "        text-align: right;\n",
       "    }\n",
       "</style>\n",
       "<table border=\"1\" class=\"dataframe\">\n",
       "  <thead>\n",
       "    <tr style=\"text-align: right;\">\n",
       "      <th></th>\n",
       "      <th>sex</th>\n",
       "      <th>age</th>\n",
       "      <th>pers_cat</th>\n",
       "      <th>geo\\TIME_PERIOD</th>\n",
       "      <th>1999</th>\n",
       "      <th>2000</th>\n",
       "      <th>2001</th>\n",
       "      <th>2002</th>\n",
       "      <th>2003</th>\n",
       "      <th>2004</th>\n",
       "      <th>...</th>\n",
       "      <th>2013</th>\n",
       "      <th>2014</th>\n",
       "      <th>2015</th>\n",
       "      <th>2016</th>\n",
       "      <th>2017</th>\n",
       "      <th>2018</th>\n",
       "      <th>2019</th>\n",
       "      <th>2020</th>\n",
       "      <th>2021</th>\n",
       "      <th>2022</th>\n",
       "    </tr>\n",
       "  </thead>\n",
       "  <tbody>\n",
       "    <tr>\n",
       "      <th>0</th>\n",
       "      <td>F</td>\n",
       "      <td>TOTAL</td>\n",
       "      <td>DRIV</td>\n",
       "      <td>AT</td>\n",
       "      <td>129</td>\n",
       "      <td>100</td>\n",
       "      <td>112</td>\n",
       "      <td>105</td>\n",
       "      <td>115</td>\n",
       "      <td>94</td>\n",
       "      <td>...</td>\n",
       "      <td>49</td>\n",
       "      <td>61</td>\n",
       "      <td>65</td>\n",
       "      <td>57</td>\n",
       "      <td>48</td>\n",
       "      <td>49</td>\n",
       "      <td>53</td>\n",
       "      <td>45</td>\n",
       "      <td>54</td>\n",
       "      <td>56</td>\n",
       "    </tr>\n",
       "    <tr>\n",
       "      <th>1</th>\n",
       "      <td>F</td>\n",
       "      <td>TOTAL</td>\n",
       "      <td>DRIV</td>\n",
       "      <td>BE</td>\n",
       "      <td>182</td>\n",
       "      <td>184</td>\n",
       "      <td>188</td>\n",
       "      <td>155</td>\n",
       "      <td>153</td>\n",
       "      <td>138</td>\n",
       "      <td>...</td>\n",
       "      <td>74</td>\n",
       "      <td>84</td>\n",
       "      <td>97</td>\n",
       "      <td>77</td>\n",
       "      <td>79</td>\n",
       "      <td>86</td>\n",
       "      <td>69</td>\n",
       "      <td>59</td>\n",
       "      <td>66</td>\n",
       "      <td>60</td>\n",
       "    </tr>\n",
       "    <tr>\n",
       "      <th>2</th>\n",
       "      <td>F</td>\n",
       "      <td>TOTAL</td>\n",
       "      <td>DRIV</td>\n",
       "      <td>BG</td>\n",
       "      <td>:</td>\n",
       "      <td>:</td>\n",
       "      <td>:</td>\n",
       "      <td>:</td>\n",
       "      <td>:</td>\n",
       "      <td>:</td>\n",
       "      <td>...</td>\n",
       "      <td>:</td>\n",
       "      <td>:</td>\n",
       "      <td>:</td>\n",
       "      <td>23</td>\n",
       "      <td>29</td>\n",
       "      <td>24</td>\n",
       "      <td>31</td>\n",
       "      <td>23</td>\n",
       "      <td>18</td>\n",
       "      <td>21</td>\n",
       "    </tr>\n",
       "    <tr>\n",
       "      <th>3</th>\n",
       "      <td>F</td>\n",
       "      <td>TOTAL</td>\n",
       "      <td>DRIV</td>\n",
       "      <td>CH</td>\n",
       "      <td>:</td>\n",
       "      <td>:</td>\n",
       "      <td>59</td>\n",
       "      <td>54</td>\n",
       "      <td>60</td>\n",
       "      <td>41</td>\n",
       "      <td>...</td>\n",
       "      <td>27</td>\n",
       "      <td>21</td>\n",
       "      <td>22</td>\n",
       "      <td>28</td>\n",
       "      <td>33</td>\n",
       "      <td>19</td>\n",
       "      <td>18</td>\n",
       "      <td>25</td>\n",
       "      <td>19</td>\n",
       "      <td>29</td>\n",
       "    </tr>\n",
       "    <tr>\n",
       "      <th>4</th>\n",
       "      <td>F</td>\n",
       "      <td>TOTAL</td>\n",
       "      <td>DRIV</td>\n",
       "      <td>CY</td>\n",
       "      <td>:</td>\n",
       "      <td>:</td>\n",
       "      <td>:</td>\n",
       "      <td>:</td>\n",
       "      <td>:</td>\n",
       "      <td>:</td>\n",
       "      <td>...</td>\n",
       "      <td>3</td>\n",
       "      <td>3</td>\n",
       "      <td>7</td>\n",
       "      <td>2</td>\n",
       "      <td>4</td>\n",
       "      <td>1</td>\n",
       "      <td>4</td>\n",
       "      <td>2</td>\n",
       "      <td>4</td>\n",
       "      <td>3</td>\n",
       "    </tr>\n",
       "    <tr>\n",
       "      <th>...</th>\n",
       "      <td>...</td>\n",
       "      <td>...</td>\n",
       "      <td>...</td>\n",
       "      <td>...</td>\n",
       "      <td>...</td>\n",
       "      <td>...</td>\n",
       "      <td>...</td>\n",
       "      <td>...</td>\n",
       "      <td>...</td>\n",
       "      <td>...</td>\n",
       "      <td>...</td>\n",
       "      <td>...</td>\n",
       "      <td>...</td>\n",
       "      <td>...</td>\n",
       "      <td>...</td>\n",
       "      <td>...</td>\n",
       "      <td>...</td>\n",
       "      <td>...</td>\n",
       "      <td>...</td>\n",
       "      <td>...</td>\n",
       "      <td>...</td>\n",
       "    </tr>\n",
       "    <tr>\n",
       "      <th>5064</th>\n",
       "      <td>UNK</td>\n",
       "      <td>Y_LT15</td>\n",
       "      <td>UNK</td>\n",
       "      <td>HR</td>\n",
       "      <td>:</td>\n",
       "      <td>:</td>\n",
       "      <td>:</td>\n",
       "      <td>:</td>\n",
       "      <td>:</td>\n",
       "      <td>:</td>\n",
       "      <td>...</td>\n",
       "      <td>:</td>\n",
       "      <td>:</td>\n",
       "      <td>:</td>\n",
       "      <td>:</td>\n",
       "      <td>:</td>\n",
       "      <td>:</td>\n",
       "      <td>:</td>\n",
       "      <td>:</td>\n",
       "      <td>:</td>\n",
       "      <td>:</td>\n",
       "    </tr>\n",
       "    <tr>\n",
       "      <th>5065</th>\n",
       "      <td>UNK</td>\n",
       "      <td>Y_LT15</td>\n",
       "      <td>UNK</td>\n",
       "      <td>LT</td>\n",
       "      <td>:</td>\n",
       "      <td>:</td>\n",
       "      <td>:</td>\n",
       "      <td>:</td>\n",
       "      <td>:</td>\n",
       "      <td>:</td>\n",
       "      <td>...</td>\n",
       "      <td>:</td>\n",
       "      <td>:</td>\n",
       "      <td>:</td>\n",
       "      <td>:</td>\n",
       "      <td>:</td>\n",
       "      <td>:</td>\n",
       "      <td>0</td>\n",
       "      <td>:</td>\n",
       "      <td>:</td>\n",
       "      <td>:</td>\n",
       "    </tr>\n",
       "    <tr>\n",
       "      <th>5066</th>\n",
       "      <td>UNK</td>\n",
       "      <td>Y_LT15</td>\n",
       "      <td>UNK</td>\n",
       "      <td>NL</td>\n",
       "      <td>:</td>\n",
       "      <td>:</td>\n",
       "      <td>:</td>\n",
       "      <td>:</td>\n",
       "      <td>:</td>\n",
       "      <td>:</td>\n",
       "      <td>...</td>\n",
       "      <td>0</td>\n",
       "      <td>0</td>\n",
       "      <td>:</td>\n",
       "      <td>:</td>\n",
       "      <td>:</td>\n",
       "      <td>0</td>\n",
       "      <td>0</td>\n",
       "      <td>:</td>\n",
       "      <td>:</td>\n",
       "      <td>:</td>\n",
       "    </tr>\n",
       "    <tr>\n",
       "      <th>5067</th>\n",
       "      <td>UNK</td>\n",
       "      <td>Y_LT15</td>\n",
       "      <td>UNK</td>\n",
       "      <td>SE</td>\n",
       "      <td>:</td>\n",
       "      <td>:</td>\n",
       "      <td>:</td>\n",
       "      <td>:</td>\n",
       "      <td>:</td>\n",
       "      <td>:</td>\n",
       "      <td>...</td>\n",
       "      <td>:</td>\n",
       "      <td>:</td>\n",
       "      <td>:</td>\n",
       "      <td>:</td>\n",
       "      <td>:</td>\n",
       "      <td>:</td>\n",
       "      <td>:</td>\n",
       "      <td>:</td>\n",
       "      <td>:</td>\n",
       "      <td>:</td>\n",
       "    </tr>\n",
       "    <tr>\n",
       "      <th>5068</th>\n",
       "      <td>UNK</td>\n",
       "      <td>Y_LT15</td>\n",
       "      <td>UNK</td>\n",
       "      <td>SI</td>\n",
       "      <td>:</td>\n",
       "      <td>:</td>\n",
       "      <td>:</td>\n",
       "      <td>:</td>\n",
       "      <td>:</td>\n",
       "      <td>:</td>\n",
       "      <td>...</td>\n",
       "      <td>:</td>\n",
       "      <td>:</td>\n",
       "      <td>:</td>\n",
       "      <td>:</td>\n",
       "      <td>:</td>\n",
       "      <td>:</td>\n",
       "      <td>:</td>\n",
       "      <td>:</td>\n",
       "      <td>:</td>\n",
       "      <td>:</td>\n",
       "    </tr>\n",
       "  </tbody>\n",
       "</table>\n",
       "<p>5069 rows × 28 columns</p>\n",
       "</div>"
      ],
      "text/plain": [
       "      sex     age pers_cat geo\\TIME_PERIOD 1999 2000 2001 2002 2003 2004  ...  \\\n",
       "0       F   TOTAL     DRIV              AT  129  100  112  105  115   94  ...   \n",
       "1       F   TOTAL     DRIV              BE  182  184  188  155  153  138  ...   \n",
       "2       F   TOTAL     DRIV              BG   :    :    :    :    :    :   ...   \n",
       "3       F   TOTAL     DRIV              CH   :    :    59   54   60   41  ...   \n",
       "4       F   TOTAL     DRIV              CY   :    :    :    :    :    :   ...   \n",
       "...   ...     ...      ...             ...  ...  ...  ...  ...  ...  ...  ...   \n",
       "5064  UNK  Y_LT15      UNK              HR   :    :    :    :    :    :   ...   \n",
       "5065  UNK  Y_LT15      UNK              LT   :    :    :    :    :    :   ...   \n",
       "5066  UNK  Y_LT15      UNK              NL   :    :    :    :    :    :   ...   \n",
       "5067  UNK  Y_LT15      UNK              SE   :    :    :    :    :    :   ...   \n",
       "5068  UNK  Y_LT15      UNK              SI   :    :    :    :    :    :   ...   \n",
       "\n",
       "     2013 2014 2015 2016 2017 2018 2019 2020 2021 2022  \n",
       "0      49   61   65   57   48   49   53   45   54   56  \n",
       "1      74   84   97   77   79   86   69   59   66   60  \n",
       "2      :    :    :    23   29   24   31   23   18   21  \n",
       "3      27   21   22   28   33   19   18   25   19   29  \n",
       "4       3    3    7    2    4    1    4    2    4    3  \n",
       "...   ...  ...  ...  ...  ...  ...  ...  ...  ...  ...  \n",
       "5064   :    :    :    :    :    :    :    :    :    :   \n",
       "5065   :    :    :    :    :    :     0   :    :    :   \n",
       "5066    0    0   :    :    :     0    0   :    :    :   \n",
       "5067   :    :    :    :    :    :    :    :    :    :   \n",
       "5068   :    :    :    :    :    :    :    :    :    :   \n",
       "\n",
       "[5069 rows x 28 columns]"
      ]
     },
     "execution_count": 15,
     "metadata": {},
     "output_type": "execute_result"
    }
   ],
   "source": [
    "death_roads.toPandas()"
   ]
  },
  {
   "cell_type": "markdown",
   "id": "ea1b8032-02ad-466e-9ba3-112bb8ee3157",
   "metadata": {},
   "source": [
    "- Renaming columnns"
   ]
  },
  {
   "cell_type": "code",
   "execution_count": 16,
   "id": "aee69b41-1ffa-47d4-983d-6698aea973ba",
   "metadata": {},
   "outputs": [],
   "source": [
    "death_roads = death_roads.withColumnRenamed(\"geo\\TIME_PERIOD\", \"country\") \\\n",
    "       .withColumnRenamed(\"pers_cat\", \"involved\")"
   ]
  },
  {
   "cell_type": "markdown",
   "id": "5129daea-4228-4a68-84c6-b94884b92795",
   "metadata": {},
   "source": [
    "- Transforming columns into rows"
   ]
  },
  {
   "cell_type": "code",
   "execution_count": 17,
   "id": "10b39ca9-a6c2-4784-9236-d7a103eb73d3",
   "metadata": {},
   "outputs": [],
   "source": [
    "value_columns = [col for col in death_roads.columns if col not in ['sex','age','involved','country']]\n",
    "\n",
    "d_roads = death_roads.selectExpr('sex',\n",
    "                                 'age',\n",
    "                                 'involved',\n",
    "                                 'country', \n",
    "                                 \"stack( {0}, {1}) as (year, value)\".format(\n",
    "                                     len(value_columns),\n",
    "                                     ', '.join([f\"'{col}', `{col}`\" for col in value_columns])\n",
    "                                )\n",
    ")\n",
    "                        "
   ]
  },
  {
   "cell_type": "code",
   "execution_count": 18,
   "id": "0e520fa8-1f28-4517-b7ec-9241176e7da8",
   "metadata": {},
   "outputs": [
    {
     "data": {
      "text/html": [
       "<div>\n",
       "<style scoped>\n",
       "    .dataframe tbody tr th:only-of-type {\n",
       "        vertical-align: middle;\n",
       "    }\n",
       "\n",
       "    .dataframe tbody tr th {\n",
       "        vertical-align: top;\n",
       "    }\n",
       "\n",
       "    .dataframe thead th {\n",
       "        text-align: right;\n",
       "    }\n",
       "</style>\n",
       "<table border=\"1\" class=\"dataframe\">\n",
       "  <thead>\n",
       "    <tr style=\"text-align: right;\">\n",
       "      <th></th>\n",
       "      <th>sex</th>\n",
       "      <th>age</th>\n",
       "      <th>involved</th>\n",
       "      <th>country</th>\n",
       "      <th>year</th>\n",
       "      <th>value</th>\n",
       "    </tr>\n",
       "  </thead>\n",
       "  <tbody>\n",
       "    <tr>\n",
       "      <th>0</th>\n",
       "      <td>F</td>\n",
       "      <td>TOTAL</td>\n",
       "      <td>DRIV</td>\n",
       "      <td>AT</td>\n",
       "      <td>1999</td>\n",
       "      <td>129</td>\n",
       "    </tr>\n",
       "    <tr>\n",
       "      <th>1</th>\n",
       "      <td>F</td>\n",
       "      <td>TOTAL</td>\n",
       "      <td>DRIV</td>\n",
       "      <td>AT</td>\n",
       "      <td>2000</td>\n",
       "      <td>100</td>\n",
       "    </tr>\n",
       "    <tr>\n",
       "      <th>2</th>\n",
       "      <td>F</td>\n",
       "      <td>TOTAL</td>\n",
       "      <td>DRIV</td>\n",
       "      <td>AT</td>\n",
       "      <td>2001</td>\n",
       "      <td>112</td>\n",
       "    </tr>\n",
       "    <tr>\n",
       "      <th>3</th>\n",
       "      <td>F</td>\n",
       "      <td>TOTAL</td>\n",
       "      <td>DRIV</td>\n",
       "      <td>AT</td>\n",
       "      <td>2002</td>\n",
       "      <td>105</td>\n",
       "    </tr>\n",
       "    <tr>\n",
       "      <th>4</th>\n",
       "      <td>F</td>\n",
       "      <td>TOTAL</td>\n",
       "      <td>DRIV</td>\n",
       "      <td>AT</td>\n",
       "      <td>2003</td>\n",
       "      <td>115</td>\n",
       "    </tr>\n",
       "    <tr>\n",
       "      <th>...</th>\n",
       "      <td>...</td>\n",
       "      <td>...</td>\n",
       "      <td>...</td>\n",
       "      <td>...</td>\n",
       "      <td>...</td>\n",
       "      <td>...</td>\n",
       "    </tr>\n",
       "    <tr>\n",
       "      <th>121651</th>\n",
       "      <td>UNK</td>\n",
       "      <td>Y_LT15</td>\n",
       "      <td>UNK</td>\n",
       "      <td>SI</td>\n",
       "      <td>2018</td>\n",
       "      <td>:</td>\n",
       "    </tr>\n",
       "    <tr>\n",
       "      <th>121652</th>\n",
       "      <td>UNK</td>\n",
       "      <td>Y_LT15</td>\n",
       "      <td>UNK</td>\n",
       "      <td>SI</td>\n",
       "      <td>2019</td>\n",
       "      <td>:</td>\n",
       "    </tr>\n",
       "    <tr>\n",
       "      <th>121653</th>\n",
       "      <td>UNK</td>\n",
       "      <td>Y_LT15</td>\n",
       "      <td>UNK</td>\n",
       "      <td>SI</td>\n",
       "      <td>2020</td>\n",
       "      <td>:</td>\n",
       "    </tr>\n",
       "    <tr>\n",
       "      <th>121654</th>\n",
       "      <td>UNK</td>\n",
       "      <td>Y_LT15</td>\n",
       "      <td>UNK</td>\n",
       "      <td>SI</td>\n",
       "      <td>2021</td>\n",
       "      <td>:</td>\n",
       "    </tr>\n",
       "    <tr>\n",
       "      <th>121655</th>\n",
       "      <td>UNK</td>\n",
       "      <td>Y_LT15</td>\n",
       "      <td>UNK</td>\n",
       "      <td>SI</td>\n",
       "      <td>2022</td>\n",
       "      <td>:</td>\n",
       "    </tr>\n",
       "  </tbody>\n",
       "</table>\n",
       "<p>121656 rows × 6 columns</p>\n",
       "</div>"
      ],
      "text/plain": [
       "        sex     age involved country  year value\n",
       "0         F   TOTAL     DRIV      AT  1999   129\n",
       "1         F   TOTAL     DRIV      AT  2000   100\n",
       "2         F   TOTAL     DRIV      AT  2001   112\n",
       "3         F   TOTAL     DRIV      AT  2002   105\n",
       "4         F   TOTAL     DRIV      AT  2003   115\n",
       "...     ...     ...      ...     ...   ...   ...\n",
       "121651  UNK  Y_LT15      UNK      SI  2018    : \n",
       "121652  UNK  Y_LT15      UNK      SI  2019    : \n",
       "121653  UNK  Y_LT15      UNK      SI  2020    : \n",
       "121654  UNK  Y_LT15      UNK      SI  2021    : \n",
       "121655  UNK  Y_LT15      UNK      SI  2022    : \n",
       "\n",
       "[121656 rows x 6 columns]"
      ]
     },
     "execution_count": 18,
     "metadata": {},
     "output_type": "execute_result"
    }
   ],
   "source": [
    "d_roads.toPandas()"
   ]
  },
  {
   "cell_type": "markdown",
   "id": "c6686456-5ecd-4c18-899c-bac005c7da92",
   "metadata": {},
   "source": [
    "- Counting the Number of Rows"
   ]
  },
  {
   "cell_type": "code",
   "execution_count": 19,
   "id": "64a6eb1f-ef3a-4168-8c03-a0a6c255959e",
   "metadata": {},
   "outputs": [
    {
     "name": "stdout",
     "output_type": "stream",
     "text": [
      "Total number of rows: 121656\n"
     ]
    }
   ],
   "source": [
    "row_count = d_roads.count()\n",
    "print(f\"Total number of rows: {row_count}\")\n"
   ]
  },
  {
   "cell_type": "markdown",
   "id": "5366c0b4-c5e2-417e-a733-4ed08fed0746",
   "metadata": {},
   "source": [
    "- Checking the distinct values for each variables"
   ]
  },
  {
   "cell_type": "code",
   "execution_count": 20,
   "id": "66883e6d-5825-4f5d-9101-035ca79a05d6",
   "metadata": {},
   "outputs": [
    {
     "name": "stdout",
     "output_type": "stream",
     "text": [
      "+------+\n",
      "|   age|\n",
      "+------+\n",
      "|Y50-64|\n",
      "|Y25-49|\n",
      "|Y18-24|\n",
      "|Y_GE65|\n",
      "|Y_LT15|\n",
      "|   UNK|\n",
      "| TOTAL|\n",
      "|Y15-17|\n",
      "+------+\n",
      "\n"
     ]
    }
   ],
   "source": [
    "d_roads.select(\"age\").distinct().show()"
   ]
  },
  {
   "cell_type": "code",
   "execution_count": 21,
   "id": "3e4bab74-e1a9-4f3e-a2a8-ad2d0f886cb1",
   "metadata": {},
   "outputs": [
    {
     "name": "stdout",
     "output_type": "stream",
     "text": [
      "+--------+\n",
      "|involved|\n",
      "+--------+\n",
      "|     PED|\n",
      "|     UNK|\n",
      "|     PAS|\n",
      "|   TOTAL|\n",
      "|    DRIV|\n",
      "+--------+\n",
      "\n"
     ]
    }
   ],
   "source": [
    "d_roads.select(\"involved\").distinct().show()"
   ]
  },
  {
   "cell_type": "code",
   "execution_count": 22,
   "id": "ebc764e4-8e67-43ac-828b-1151b768a18b",
   "metadata": {},
   "outputs": [
    {
     "name": "stdout",
     "output_type": "stream",
     "text": [
      "+---------+\n",
      "|  country|\n",
      "+---------+\n",
      "|       LT|\n",
      "|       FI|\n",
      "|       RO|\n",
      "|       NL|\n",
      "|       PL|\n",
      "|       EE|\n",
      "|       AT|\n",
      "|       HR|\n",
      "|       LI|\n",
      "|       CZ|\n",
      "|       PT|\n",
      "|       MT|\n",
      "|       DE|\n",
      "|       ES|\n",
      "|EU27_2020|\n",
      "|       FR|\n",
      "|       CH|\n",
      "|       IT|\n",
      "|       SE|\n",
      "|       BG|\n",
      "+---------+\n",
      "only showing top 20 rows\n",
      "\n"
     ]
    }
   ],
   "source": [
    "d_roads.select(\"country\").distinct().show()"
   ]
  },
  {
   "cell_type": "markdown",
   "id": "51808179-251f-4d99-bff7-37e8aa076b71",
   "metadata": {},
   "source": [
    "- Removing values from the variables"
   ]
  },
  {
   "cell_type": "code",
   "execution_count": 23,
   "id": "95ea4620-5675-4887-9a80-fb4da29d62ef",
   "metadata": {},
   "outputs": [],
   "source": [
    "d_roads = d_roads.filter((d_roads['age'] != 'TOTAL') & \n",
    "                         (d_roads['involved'] != 'TOTAL'))\n",
    "                      #   &(d_roads['country'] != 'EU27_2020')) "
   ]
  },
  {
   "cell_type": "markdown",
   "id": "020a2469-4079-4849-8beb-f1b375df3ebb",
   "metadata": {},
   "source": [
    "# Missing Values"
   ]
  },
  {
   "cell_type": "markdown",
   "id": "2141003f-f1b7-44f7-9053-ff9c82aaa5c3",
   "metadata": {},
   "source": [
    "- Changing characters and strings to NULL in the variable 'value'"
   ]
  },
  {
   "cell_type": "code",
   "execution_count": 24,
   "id": "dbf3dd9e-3117-4682-9eff-4b00b3008b68",
   "metadata": {},
   "outputs": [
    {
     "data": {
      "text/html": [
       "<div>\n",
       "<style scoped>\n",
       "    .dataframe tbody tr th:only-of-type {\n",
       "        vertical-align: middle;\n",
       "    }\n",
       "\n",
       "    .dataframe tbody tr th {\n",
       "        vertical-align: top;\n",
       "    }\n",
       "\n",
       "    .dataframe thead th {\n",
       "        text-align: right;\n",
       "    }\n",
       "</style>\n",
       "<table border=\"1\" class=\"dataframe\">\n",
       "  <thead>\n",
       "    <tr style=\"text-align: right;\">\n",
       "      <th></th>\n",
       "      <th>sex</th>\n",
       "      <th>age</th>\n",
       "      <th>involved</th>\n",
       "      <th>country</th>\n",
       "      <th>year</th>\n",
       "      <th>value</th>\n",
       "    </tr>\n",
       "  </thead>\n",
       "  <tbody>\n",
       "    <tr>\n",
       "      <th>0</th>\n",
       "      <td>F</td>\n",
       "      <td>UNK</td>\n",
       "      <td>DRIV</td>\n",
       "      <td>AT</td>\n",
       "      <td>1999</td>\n",
       "      <td>0.0</td>\n",
       "    </tr>\n",
       "    <tr>\n",
       "      <th>1</th>\n",
       "      <td>F</td>\n",
       "      <td>UNK</td>\n",
       "      <td>DRIV</td>\n",
       "      <td>AT</td>\n",
       "      <td>2000</td>\n",
       "      <td>0.0</td>\n",
       "    </tr>\n",
       "    <tr>\n",
       "      <th>2</th>\n",
       "      <td>F</td>\n",
       "      <td>UNK</td>\n",
       "      <td>DRIV</td>\n",
       "      <td>AT</td>\n",
       "      <td>2001</td>\n",
       "      <td>0.0</td>\n",
       "    </tr>\n",
       "    <tr>\n",
       "      <th>3</th>\n",
       "      <td>F</td>\n",
       "      <td>UNK</td>\n",
       "      <td>DRIV</td>\n",
       "      <td>AT</td>\n",
       "      <td>2002</td>\n",
       "      <td>0.0</td>\n",
       "    </tr>\n",
       "    <tr>\n",
       "      <th>4</th>\n",
       "      <td>F</td>\n",
       "      <td>UNK</td>\n",
       "      <td>DRIV</td>\n",
       "      <td>AT</td>\n",
       "      <td>2003</td>\n",
       "      <td>0.0</td>\n",
       "    </tr>\n",
       "    <tr>\n",
       "      <th>...</th>\n",
       "      <td>...</td>\n",
       "      <td>...</td>\n",
       "      <td>...</td>\n",
       "      <td>...</td>\n",
       "      <td>...</td>\n",
       "      <td>...</td>\n",
       "    </tr>\n",
       "    <tr>\n",
       "      <th>69907</th>\n",
       "      <td>UNK</td>\n",
       "      <td>Y_LT15</td>\n",
       "      <td>UNK</td>\n",
       "      <td>SI</td>\n",
       "      <td>2018</td>\n",
       "      <td>NaN</td>\n",
       "    </tr>\n",
       "    <tr>\n",
       "      <th>69908</th>\n",
       "      <td>UNK</td>\n",
       "      <td>Y_LT15</td>\n",
       "      <td>UNK</td>\n",
       "      <td>SI</td>\n",
       "      <td>2019</td>\n",
       "      <td>NaN</td>\n",
       "    </tr>\n",
       "    <tr>\n",
       "      <th>69909</th>\n",
       "      <td>UNK</td>\n",
       "      <td>Y_LT15</td>\n",
       "      <td>UNK</td>\n",
       "      <td>SI</td>\n",
       "      <td>2020</td>\n",
       "      <td>NaN</td>\n",
       "    </tr>\n",
       "    <tr>\n",
       "      <th>69910</th>\n",
       "      <td>UNK</td>\n",
       "      <td>Y_LT15</td>\n",
       "      <td>UNK</td>\n",
       "      <td>SI</td>\n",
       "      <td>2021</td>\n",
       "      <td>NaN</td>\n",
       "    </tr>\n",
       "    <tr>\n",
       "      <th>69911</th>\n",
       "      <td>UNK</td>\n",
       "      <td>Y_LT15</td>\n",
       "      <td>UNK</td>\n",
       "      <td>SI</td>\n",
       "      <td>2022</td>\n",
       "      <td>NaN</td>\n",
       "    </tr>\n",
       "  </tbody>\n",
       "</table>\n",
       "<p>69912 rows × 6 columns</p>\n",
       "</div>"
      ],
      "text/plain": [
       "       sex     age involved country  year  value\n",
       "0        F     UNK     DRIV      AT  1999    0.0\n",
       "1        F     UNK     DRIV      AT  2000    0.0\n",
       "2        F     UNK     DRIV      AT  2001    0.0\n",
       "3        F     UNK     DRIV      AT  2002    0.0\n",
       "4        F     UNK     DRIV      AT  2003    0.0\n",
       "...    ...     ...      ...     ...   ...    ...\n",
       "69907  UNK  Y_LT15      UNK      SI  2018    NaN\n",
       "69908  UNK  Y_LT15      UNK      SI  2019    NaN\n",
       "69909  UNK  Y_LT15      UNK      SI  2020    NaN\n",
       "69910  UNK  Y_LT15      UNK      SI  2021    NaN\n",
       "69911  UNK  Y_LT15      UNK      SI  2022    NaN\n",
       "\n",
       "[69912 rows x 6 columns]"
      ]
     },
     "execution_count": 24,
     "metadata": {},
     "output_type": "execute_result"
    }
   ],
   "source": [
    "from pyspark.sql.functions import regexp_replace, col, when\n",
    "\n",
    "d_roads = d_roads.withColumn('value',regexp_replace(col('value'),': ',''))\n",
    "d_roads = d_roads.withColumn('value',regexp_replace(col('value'), r'[^\\d.-]', ''))\n",
    "\n",
    "valid_value_regex = r'^\\d+(\\.\\d+)?$'\n",
    "d_roads = d_roads.withColumn(\n",
    "    \"value\",\n",
    "    when(col(\"value\").rlike(valid_value_regex), col(\"value\").cast(\"double\")).otherwise(None)\n",
    ")\n",
    "\n",
    "d_roads.toPandas()"
   ]
  },
  {
   "cell_type": "code",
   "execution_count": 25,
   "id": "e68ba107-e962-4001-8c22-fe8f5138a128",
   "metadata": {},
   "outputs": [
    {
     "name": "stdout",
     "output_type": "stream",
     "text": [
      "root\n",
      " |-- sex: string (nullable = true)\n",
      " |-- age: string (nullable = true)\n",
      " |-- involved: string (nullable = true)\n",
      " |-- country: string (nullable = true)\n",
      " |-- year: string (nullable = true)\n",
      " |-- value: double (nullable = true)\n",
      "\n"
     ]
    }
   ],
   "source": [
    "d_roads.printSchema()"
   ]
  },
  {
   "cell_type": "markdown",
   "id": "ebea4bbe-82c9-4407-abf4-35c1bcadc195",
   "metadata": {},
   "source": [
    "- Removing Missing Values"
   ]
  },
  {
   "cell_type": "code",
   "execution_count": 26,
   "id": "de761c2d-3013-40e5-a693-ad2bcb6b7821",
   "metadata": {},
   "outputs": [
    {
     "data": {
      "text/html": [
       "<div>\n",
       "<style scoped>\n",
       "    .dataframe tbody tr th:only-of-type {\n",
       "        vertical-align: middle;\n",
       "    }\n",
       "\n",
       "    .dataframe tbody tr th {\n",
       "        vertical-align: top;\n",
       "    }\n",
       "\n",
       "    .dataframe thead th {\n",
       "        text-align: right;\n",
       "    }\n",
       "</style>\n",
       "<table border=\"1\" class=\"dataframe\">\n",
       "  <thead>\n",
       "    <tr style=\"text-align: right;\">\n",
       "      <th></th>\n",
       "      <th>sex</th>\n",
       "      <th>age</th>\n",
       "      <th>involved</th>\n",
       "      <th>country</th>\n",
       "      <th>year</th>\n",
       "      <th>value</th>\n",
       "    </tr>\n",
       "  </thead>\n",
       "  <tbody>\n",
       "    <tr>\n",
       "      <th>0</th>\n",
       "      <td>F</td>\n",
       "      <td>UNK</td>\n",
       "      <td>DRIV</td>\n",
       "      <td>AT</td>\n",
       "      <td>1999</td>\n",
       "      <td>0.0</td>\n",
       "    </tr>\n",
       "    <tr>\n",
       "      <th>1</th>\n",
       "      <td>F</td>\n",
       "      <td>UNK</td>\n",
       "      <td>DRIV</td>\n",
       "      <td>AT</td>\n",
       "      <td>2000</td>\n",
       "      <td>0.0</td>\n",
       "    </tr>\n",
       "    <tr>\n",
       "      <th>2</th>\n",
       "      <td>F</td>\n",
       "      <td>UNK</td>\n",
       "      <td>DRIV</td>\n",
       "      <td>AT</td>\n",
       "      <td>2001</td>\n",
       "      <td>0.0</td>\n",
       "    </tr>\n",
       "    <tr>\n",
       "      <th>3</th>\n",
       "      <td>F</td>\n",
       "      <td>UNK</td>\n",
       "      <td>DRIV</td>\n",
       "      <td>AT</td>\n",
       "      <td>2002</td>\n",
       "      <td>0.0</td>\n",
       "    </tr>\n",
       "    <tr>\n",
       "      <th>4</th>\n",
       "      <td>F</td>\n",
       "      <td>UNK</td>\n",
       "      <td>DRIV</td>\n",
       "      <td>AT</td>\n",
       "      <td>2003</td>\n",
       "      <td>0.0</td>\n",
       "    </tr>\n",
       "    <tr>\n",
       "      <th>...</th>\n",
       "      <td>...</td>\n",
       "      <td>...</td>\n",
       "      <td>...</td>\n",
       "      <td>...</td>\n",
       "      <td>...</td>\n",
       "      <td>...</td>\n",
       "    </tr>\n",
       "    <tr>\n",
       "      <th>50356</th>\n",
       "      <td>UNK</td>\n",
       "      <td>Y_LT15</td>\n",
       "      <td>UNK</td>\n",
       "      <td>NL</td>\n",
       "      <td>2018</td>\n",
       "      <td>0.0</td>\n",
       "    </tr>\n",
       "    <tr>\n",
       "      <th>50357</th>\n",
       "      <td>UNK</td>\n",
       "      <td>Y_LT15</td>\n",
       "      <td>UNK</td>\n",
       "      <td>NL</td>\n",
       "      <td>2019</td>\n",
       "      <td>0.0</td>\n",
       "    </tr>\n",
       "    <tr>\n",
       "      <th>50358</th>\n",
       "      <td>UNK</td>\n",
       "      <td>Y_LT15</td>\n",
       "      <td>UNK</td>\n",
       "      <td>SE</td>\n",
       "      <td>2011</td>\n",
       "      <td>0.0</td>\n",
       "    </tr>\n",
       "    <tr>\n",
       "      <th>50359</th>\n",
       "      <td>UNK</td>\n",
       "      <td>Y_LT15</td>\n",
       "      <td>UNK</td>\n",
       "      <td>SE</td>\n",
       "      <td>2012</td>\n",
       "      <td>0.0</td>\n",
       "    </tr>\n",
       "    <tr>\n",
       "      <th>50360</th>\n",
       "      <td>UNK</td>\n",
       "      <td>Y_LT15</td>\n",
       "      <td>UNK</td>\n",
       "      <td>SI</td>\n",
       "      <td>2007</td>\n",
       "      <td>0.0</td>\n",
       "    </tr>\n",
       "  </tbody>\n",
       "</table>\n",
       "<p>50361 rows × 6 columns</p>\n",
       "</div>"
      ],
      "text/plain": [
       "       sex     age involved country  year  value\n",
       "0        F     UNK     DRIV      AT  1999    0.0\n",
       "1        F     UNK     DRIV      AT  2000    0.0\n",
       "2        F     UNK     DRIV      AT  2001    0.0\n",
       "3        F     UNK     DRIV      AT  2002    0.0\n",
       "4        F     UNK     DRIV      AT  2003    0.0\n",
       "...    ...     ...      ...     ...   ...    ...\n",
       "50356  UNK  Y_LT15      UNK      NL  2018    0.0\n",
       "50357  UNK  Y_LT15      UNK      NL  2019    0.0\n",
       "50358  UNK  Y_LT15      UNK      SE  2011    0.0\n",
       "50359  UNK  Y_LT15      UNK      SE  2012    0.0\n",
       "50360  UNK  Y_LT15      UNK      SI  2007    0.0\n",
       "\n",
       "[50361 rows x 6 columns]"
      ]
     },
     "execution_count": 26,
     "metadata": {},
     "output_type": "execute_result"
    }
   ],
   "source": [
    "d_roads = d_roads.na.drop()\n",
    "d_roads.toPandas()"
   ]
  },
  {
   "cell_type": "markdown",
   "id": "f55b9c2a-84c1-43b7-a1b6-ab41906917fd",
   "metadata": {},
   "source": [
    "- Changing the format of the variable 'value' to 'float64'"
   ]
  },
  {
   "cell_type": "code",
   "execution_count": 27,
   "id": "855a74c5-5830-4d86-9d83-0ed1923f86b1",
   "metadata": {},
   "outputs": [],
   "source": [
    "d_roads = d_roads.withColumn('value', col('value').cast('int'))"
   ]
  },
  {
   "cell_type": "code",
   "execution_count": 28,
   "id": "079dcd83-525c-4788-b51f-c946a5addc1f",
   "metadata": {},
   "outputs": [
    {
     "name": "stdout",
     "output_type": "stream",
     "text": [
      "root\n",
      " |-- sex: string (nullable = true)\n",
      " |-- age: string (nullable = true)\n",
      " |-- involved: string (nullable = true)\n",
      " |-- country: string (nullable = true)\n",
      " |-- year: string (nullable = true)\n",
      " |-- value: integer (nullable = true)\n",
      "\n"
     ]
    }
   ],
   "source": [
    "d_roads.printSchema()"
   ]
  },
  {
   "cell_type": "markdown",
   "id": "6540729b-a7fa-4248-8c14-2794e4d4b486",
   "metadata": {},
   "source": [
    "# Exploratory Data Analysis (EDA)"
   ]
  },
  {
   "cell_type": "markdown",
   "id": "b040e2d3-9f83-482c-9060-542c8a76200c",
   "metadata": {},
   "source": [
    "## Describing the Dataset"
   ]
  },
  {
   "cell_type": "markdown",
   "id": "6b642c7d-79a6-4295-8315-89fda2d4f4fe",
   "metadata": {},
   "source": [
    "- Checking the dataset features"
   ]
  },
  {
   "cell_type": "code",
   "execution_count": 29,
   "id": "78dea662-8597-4c08-9715-f05314b6095c",
   "metadata": {},
   "outputs": [
    {
     "data": {
      "text/html": [
       "<div>\n",
       "<style scoped>\n",
       "    .dataframe tbody tr th:only-of-type {\n",
       "        vertical-align: middle;\n",
       "    }\n",
       "\n",
       "    .dataframe tbody tr th {\n",
       "        vertical-align: top;\n",
       "    }\n",
       "\n",
       "    .dataframe thead th {\n",
       "        text-align: right;\n",
       "    }\n",
       "</style>\n",
       "<table border=\"1\" class=\"dataframe\">\n",
       "  <thead>\n",
       "    <tr style=\"text-align: right;\">\n",
       "      <th></th>\n",
       "      <th>sex</th>\n",
       "      <th>age</th>\n",
       "      <th>involved</th>\n",
       "      <th>country</th>\n",
       "      <th>year</th>\n",
       "      <th>value</th>\n",
       "    </tr>\n",
       "  </thead>\n",
       "  <tbody>\n",
       "    <tr>\n",
       "      <th>0</th>\n",
       "      <td>F</td>\n",
       "      <td>UNK</td>\n",
       "      <td>DRIV</td>\n",
       "      <td>AT</td>\n",
       "      <td>1999</td>\n",
       "      <td>0</td>\n",
       "    </tr>\n",
       "    <tr>\n",
       "      <th>1</th>\n",
       "      <td>F</td>\n",
       "      <td>UNK</td>\n",
       "      <td>DRIV</td>\n",
       "      <td>AT</td>\n",
       "      <td>2000</td>\n",
       "      <td>0</td>\n",
       "    </tr>\n",
       "    <tr>\n",
       "      <th>2</th>\n",
       "      <td>F</td>\n",
       "      <td>UNK</td>\n",
       "      <td>DRIV</td>\n",
       "      <td>AT</td>\n",
       "      <td>2001</td>\n",
       "      <td>0</td>\n",
       "    </tr>\n",
       "    <tr>\n",
       "      <th>3</th>\n",
       "      <td>F</td>\n",
       "      <td>UNK</td>\n",
       "      <td>DRIV</td>\n",
       "      <td>AT</td>\n",
       "      <td>2002</td>\n",
       "      <td>0</td>\n",
       "    </tr>\n",
       "    <tr>\n",
       "      <th>4</th>\n",
       "      <td>F</td>\n",
       "      <td>UNK</td>\n",
       "      <td>DRIV</td>\n",
       "      <td>AT</td>\n",
       "      <td>2003</td>\n",
       "      <td>0</td>\n",
       "    </tr>\n",
       "    <tr>\n",
       "      <th>...</th>\n",
       "      <td>...</td>\n",
       "      <td>...</td>\n",
       "      <td>...</td>\n",
       "      <td>...</td>\n",
       "      <td>...</td>\n",
       "      <td>...</td>\n",
       "    </tr>\n",
       "    <tr>\n",
       "      <th>50356</th>\n",
       "      <td>UNK</td>\n",
       "      <td>Y_LT15</td>\n",
       "      <td>UNK</td>\n",
       "      <td>NL</td>\n",
       "      <td>2018</td>\n",
       "      <td>0</td>\n",
       "    </tr>\n",
       "    <tr>\n",
       "      <th>50357</th>\n",
       "      <td>UNK</td>\n",
       "      <td>Y_LT15</td>\n",
       "      <td>UNK</td>\n",
       "      <td>NL</td>\n",
       "      <td>2019</td>\n",
       "      <td>0</td>\n",
       "    </tr>\n",
       "    <tr>\n",
       "      <th>50358</th>\n",
       "      <td>UNK</td>\n",
       "      <td>Y_LT15</td>\n",
       "      <td>UNK</td>\n",
       "      <td>SE</td>\n",
       "      <td>2011</td>\n",
       "      <td>0</td>\n",
       "    </tr>\n",
       "    <tr>\n",
       "      <th>50359</th>\n",
       "      <td>UNK</td>\n",
       "      <td>Y_LT15</td>\n",
       "      <td>UNK</td>\n",
       "      <td>SE</td>\n",
       "      <td>2012</td>\n",
       "      <td>0</td>\n",
       "    </tr>\n",
       "    <tr>\n",
       "      <th>50360</th>\n",
       "      <td>UNK</td>\n",
       "      <td>Y_LT15</td>\n",
       "      <td>UNK</td>\n",
       "      <td>SI</td>\n",
       "      <td>2007</td>\n",
       "      <td>0</td>\n",
       "    </tr>\n",
       "  </tbody>\n",
       "</table>\n",
       "<p>50361 rows × 6 columns</p>\n",
       "</div>"
      ],
      "text/plain": [
       "       sex     age involved country  year  value\n",
       "0        F     UNK     DRIV      AT  1999      0\n",
       "1        F     UNK     DRIV      AT  2000      0\n",
       "2        F     UNK     DRIV      AT  2001      0\n",
       "3        F     UNK     DRIV      AT  2002      0\n",
       "4        F     UNK     DRIV      AT  2003      0\n",
       "...    ...     ...      ...     ...   ...    ...\n",
       "50356  UNK  Y_LT15      UNK      NL  2018      0\n",
       "50357  UNK  Y_LT15      UNK      NL  2019      0\n",
       "50358  UNK  Y_LT15      UNK      SE  2011      0\n",
       "50359  UNK  Y_LT15      UNK      SE  2012      0\n",
       "50360  UNK  Y_LT15      UNK      SI  2007      0\n",
       "\n",
       "[50361 rows x 6 columns]"
      ]
     },
     "execution_count": 29,
     "metadata": {},
     "output_type": "execute_result"
    }
   ],
   "source": [
    "d_roads.toPandas()"
   ]
  },
  {
   "cell_type": "code",
   "execution_count": 30,
   "id": "05f1f032-f53b-4ed3-9739-84ec081c0908",
   "metadata": {},
   "outputs": [
    {
     "name": "stdout",
     "output_type": "stream",
     "text": [
      "root\n",
      " |-- sex: string (nullable = true)\n",
      " |-- age: string (nullable = true)\n",
      " |-- involved: string (nullable = true)\n",
      " |-- country: string (nullable = true)\n",
      " |-- year: string (nullable = true)\n",
      " |-- value: integer (nullable = true)\n",
      "\n"
     ]
    }
   ],
   "source": [
    "d_roads.printSchema()"
   ]
  },
  {
   "cell_type": "markdown",
   "id": "b4371a1f-e0fd-4e9c-b09d-61ed7ba6c46c",
   "metadata": {},
   "source": [
    "- Describing the dataset"
   ]
  },
  {
   "cell_type": "code",
   "execution_count": 31,
   "id": "54769ebd-aee5-4f40-b3ef-6e2a924cf2a0",
   "metadata": {},
   "outputs": [
    {
     "name": "stdout",
     "output_type": "stream",
     "text": [
      "+-------+-----+------+--------+-------+------------------+------------------+\n",
      "|summary|  sex|   age|involved|country|              year|             value|\n",
      "+-------+-----+------+--------+-------+------------------+------------------+\n",
      "|  count|50361| 50361|   50361|  50361|             50361|             50361|\n",
      "|   mean| null|  null|    null|   null|2011.1119715652985| 68.06000675125593|\n",
      "| stddev| null|  null|    null|   null| 6.647680193331159|386.72557611361003|\n",
      "|    min|    F|   UNK|    DRIV|     AT|              1999|                 0|\n",
      "|    max|  UNK|Y_LT15|     UNK|     UK|              2022|             20264|\n",
      "+-------+-----+------+--------+-------+------------------+------------------+\n",
      "\n"
     ]
    }
   ],
   "source": [
    "d_roads.describe().show()"
   ]
  },
  {
   "cell_type": "code",
   "execution_count": 32,
   "id": "bf916aad-0c9d-497b-841d-fd063f820000",
   "metadata": {},
   "outputs": [
    {
     "name": "stdout",
     "output_type": "stream",
     "text": [
      "+-----------------+------------------+---------+---------+\n",
      "|       mean_value|      stddev_value|min_value|max_value|\n",
      "+-----------------+------------------+---------+---------+\n",
      "|68.06000675125593|386.72557611361003|        0|    20264|\n",
      "+-----------------+------------------+---------+---------+\n",
      "\n"
     ]
    }
   ],
   "source": [
    "from pyspark.sql.functions import mean, stddev, min, max\n",
    "\n",
    "# Calcular estatísticas personalizadas para a coluna 'value'\n",
    "d_roads.agg(\n",
    "    mean(\"value\").alias(\"mean_value\"),\n",
    "    stddev(\"value\").alias(\"stddev_value\"),\n",
    "    min(\"value\").alias(\"min_value\"),\n",
    "    max(\"value\").alias(\"max_value\")\n",
    ").show()"
   ]
  },
  {
   "cell_type": "markdown",
   "id": "fb1d2577-ccac-492c-89f8-16ee7f797ecd",
   "metadata": {},
   "source": [
    "## Graphical Analysis"
   ]
  },
  {
   "cell_type": "code",
   "execution_count": 33,
   "id": "3efc435d-450e-42e3-b42c-ebbaec8c2e8f",
   "metadata": {},
   "outputs": [
    {
     "data": {
      "image/png": "[encoded data removed]",
      "text/plain": [
       "<Figure size 864x576 with 1 Axes>"
      ]
     },
     "metadata": {
      "needs_background": "light"
     },
     "output_type": "display_data"
    }
   ],
   "source": [
    "# Filtering the DataFrame to exclude 'EU27_2020' from the country column\n",
    "filtered_d_roads = d_roads.filter(col(\"country\") != \"EU27_2020\")\n",
    "\n",
    "# Aggregating the data by country and sex, summing the 'value' column\n",
    "result_df_filtered = filtered_d_roads.groupBy(\"country\", \"sex\") \\\n",
    "                                     .agg(sum(\"value\").alias(\"total_value\")) \\\n",
    "                                     .orderBy(col(\"total_value\").desc()) \\\n",
    "                                     .toPandas()\n",
    "\n",
    "# Pivot the DataFrame to have 'sex' as columns for plotting\n",
    "pivot_df = result_df_filtered.pivot(index='country', columns='sex', values='total_value').fillna(0)\n",
    "\n",
    "# Sorting the DataFrame by the sum of 'F' and 'M' values \n",
    "pivot_df['total'] = pivot_df.sum(axis=1)\n",
    "pivot_df = pivot_df.sort_values(by='total', ascending=False)\n",
    "\n",
    "# Plotting the stacked bar chart\n",
    "plt.figure(figsize=(12, 8))\n",
    "plt.bar(pivot_df.index, pivot_df['M'], label='Male', color='blue')\n",
    "plt.bar(pivot_df.index, pivot_df['F'], bottom=pivot_df['M'], label='Female', color='pink')\n",
    "#plt.bar(pivot_df.index, pivot_df['T'], bottom=pivot_df['F'], label='Transgender', color='brown')\n",
    "#plt.bar(pivot_df.index, pivot_df['UNK'], bottom=pivot_df['T'], label='Unknown', color='grey')\n",
    "plt.xlabel('Country')\n",
    "plt.ylabel('Total Value')\n",
    "plt.title('People killed in Road Accidents Considering Male and Female Gender')\n",
    "plt.xticks(rotation=90) \n",
    "plt.legend()  # Adding a legend to differentiate male and female values\n",
    "plt.tight_layout()\n",
    "plt.show()\n"
   ]
  },
  {
   "cell_type": "code",
   "execution_count": 34,
   "id": "51dbe775-4452-4550-9721-2f1884e3feea",
   "metadata": {},
   "outputs": [
    {
     "data": {
      "image/png": "[encoded data removed]",
      "text/plain": [
       "<Figure size 864x576 with 1 Axes>"
      ]
     },
     "metadata": {
      "needs_background": "light"
     },
     "output_type": "display_data"
    }
   ],
   "source": [
    "# Filtering the DataFrame to exclude 'EU27_2020' from the country column\n",
    "filtered_d_roads = d_roads.filter(col(\"country\") != \"EU27_2020\")\n",
    "\n",
    "# Aggregating the data by year, summing the 'value' column\n",
    "result_df_year = filtered_d_roads.groupBy(\"year\") \\\n",
    "                                 .agg(sum(\"value\").alias(\"total_value\")) \\\n",
    "                                 .orderBy(col(\"total_value\").desc()) \\\n",
    "                                 .toPandas()\n",
    "\n",
    "# Plotting the horizontal bar chart\n",
    "plt.figure(figsize=(12, 8))\n",
    "bars = plt.barh(result_df_year['year'], result_df_year['total_value'], color='skyblue')\n",
    "plt.xlabel('Total Deaths')\n",
    "plt.ylabel('Year')\n",
    "plt.title('Total Deaths per Year (Excluding EU27_2020)')\n",
    "\n",
    "# Adding labels to each bar\n",
    "for bar in bars:\n",
    "    plt.text(bar.get_width(), bar.get_y() + bar.get_height()/2, f'{int(bar.get_width())}', \n",
    "             va='center', ha='left', fontsize=9)\n",
    "\n",
    "plt.gca().invert_yaxis()  # Invert the y-axis to have the highest values at the top\n",
    "plt.tight_layout()\n",
    "plt.show()\n",
    "\n"
   ]
  },
  {
   "cell_type": "code",
   "execution_count": 35,
   "id": "781e814c-f7be-482b-87ce-1767222eecbb",
   "metadata": {},
   "outputs": [
    {
     "data": {
      "image/png": "[encoded data removed]",
      "text/plain": [
       "<Figure size 864x432 with 1 Axes>"
      ]
     },
     "metadata": {
      "needs_background": "light"
     },
     "output_type": "display_data"
    }
   ],
   "source": [
    "\n",
    "from pyspark.sql.functions import col, sum\n",
    "\n",
    "# Filtering the DataFrame to exclude 'EU27_2020' from the country column\n",
    "filtered_d_roads = d_roads.filter(col(\"country\") != \"EU27_2020\")\n",
    "\n",
    "# Aggregating the data by year, summing the 'value' column and ordering by year\n",
    "result_df_year = filtered_d_roads.groupBy(\"year\") \\\n",
    "                                 .agg(sum(\"value\").alias(\"total_value\")) \\\n",
    "                                 .orderBy(col(\"year\").asc()) \\\n",
    "                                 .toPandas()\n",
    "\n",
    "# Plotting the line chart\n",
    "plt.figure(figsize=(12, 6))\n",
    "plt.plot(result_df_year['year'], result_df_year['total_value'], marker='o', linestyle='-', color='blue')\n",
    "plt.xlabel('Year')\n",
    "plt.ylabel('Total Deaths')\n",
    "plt.title('Total Deaths in Road Accidents per Year (UK and EU)')\n",
    "plt.xticks(rotation=45)  # Rotate x-axis labels for better readability\n",
    "plt.grid(True)  # Add a grid for better visual reference\n",
    "plt.tight_layout()\n",
    "plt.show()\n"
   ]
  },
  {
   "cell_type": "code",
   "execution_count": 36,
   "id": "922ef132-32f1-4854-9e77-017335c60067",
   "metadata": {},
   "outputs": [
    {
     "data": {
      "image/png": "[encoded data removed]",
      "text/plain": [
       "<Figure size 864x432 with 1 Axes>"
      ]
     },
     "metadata": {
      "needs_background": "light"
     },
     "output_type": "display_data"
    }
   ],
   "source": [
    "\n",
    "# Filtering the DataFrame to include only 'EU27_2020' from the country column\n",
    "filtered_eu_d_roads = d_roads.filter(col(\"country\") == \"EU27_2020\")\n",
    "\n",
    "# Aggregating the data by year, summing the 'value' column and ordering by year\n",
    "result_df_eu_year = filtered_eu_d_roads.groupBy(\"year\") \\\n",
    "                                       .agg(sum(\"value\").alias(\"total_value\")) \\\n",
    "                                       .orderBy(col(\"year\").asc()) \\\n",
    "                                       .toPandas()\n",
    "\n",
    "# Plotting the line chart for EU27_2020\n",
    "plt.figure(figsize=(12, 6))\n",
    "plt.plot(result_df_eu_year['year'], result_df_eu_year['total_value'], marker='o', linestyle='-', color='green')\n",
    "plt.xlabel('Year')\n",
    "plt.ylabel('Total Deaths')\n",
    "plt.title('Total Deaths per Year Considering only European Union')\n",
    "plt.xticks(rotation=45)  # Rotate x-axis labels for better readability\n",
    "plt.grid(True)  # Add a grid for better visual reference\n",
    "plt.tight_layout()\n",
    "plt.show()\n"
   ]
  },
  {
   "cell_type": "markdown",
   "id": "992e55e3-4436-4e7b-a707-8686b7af206b",
   "metadata": {},
   "source": [
    "#  Linear Regression Extrapolation"
   ]
  },
  {
   "cell_type": "markdown",
   "id": "8a844da1-4175-431f-829c-b47a8e91ca0d",
   "metadata": {},
   "source": [
    "Linear Regression Extrapolation is a technique used to predict values outside the range of observed data by extending the trend captured by a linear regression model. It assumes that the relationship between the variables continues in the same linear pattern beyond the known data points. By fitting a straight line to the existing data, this method allows for estimating future or past values based on the slope and intercept of the regression line, making it useful for time series forecasting or filling missing data."
   ]
  },
  {
   "cell_type": "markdown",
   "id": "035fe4b5-d0c9-45ff-89b2-0bc29ebf0113",
   "metadata": {},
   "source": [
    "## Preparing the Dataset"
   ]
  },
  {
   "cell_type": "code",
   "execution_count": 37,
   "id": "e1942145-f34d-4448-9cde-456348172577",
   "metadata": {},
   "outputs": [
    {
     "data": {
      "text/html": [
       "<div>\n",
       "<style scoped>\n",
       "    .dataframe tbody tr th:only-of-type {\n",
       "        vertical-align: middle;\n",
       "    }\n",
       "\n",
       "    .dataframe tbody tr th {\n",
       "        vertical-align: top;\n",
       "    }\n",
       "\n",
       "    .dataframe thead th {\n",
       "        text-align: right;\n",
       "    }\n",
       "</style>\n",
       "<table border=\"1\" class=\"dataframe\">\n",
       "  <thead>\n",
       "    <tr style=\"text-align: right;\">\n",
       "      <th></th>\n",
       "      <th>sex</th>\n",
       "      <th>age</th>\n",
       "      <th>involved</th>\n",
       "      <th>country</th>\n",
       "      <th>year</th>\n",
       "      <th>value</th>\n",
       "    </tr>\n",
       "  </thead>\n",
       "  <tbody>\n",
       "    <tr>\n",
       "      <th>0</th>\n",
       "      <td>F</td>\n",
       "      <td>UNK</td>\n",
       "      <td>DRIV</td>\n",
       "      <td>AT</td>\n",
       "      <td>1999</td>\n",
       "      <td>0</td>\n",
       "    </tr>\n",
       "    <tr>\n",
       "      <th>1</th>\n",
       "      <td>F</td>\n",
       "      <td>UNK</td>\n",
       "      <td>DRIV</td>\n",
       "      <td>AT</td>\n",
       "      <td>2000</td>\n",
       "      <td>0</td>\n",
       "    </tr>\n",
       "    <tr>\n",
       "      <th>2</th>\n",
       "      <td>F</td>\n",
       "      <td>UNK</td>\n",
       "      <td>DRIV</td>\n",
       "      <td>AT</td>\n",
       "      <td>2001</td>\n",
       "      <td>0</td>\n",
       "    </tr>\n",
       "    <tr>\n",
       "      <th>3</th>\n",
       "      <td>F</td>\n",
       "      <td>UNK</td>\n",
       "      <td>DRIV</td>\n",
       "      <td>AT</td>\n",
       "      <td>2002</td>\n",
       "      <td>0</td>\n",
       "    </tr>\n",
       "    <tr>\n",
       "      <th>4</th>\n",
       "      <td>F</td>\n",
       "      <td>UNK</td>\n",
       "      <td>DRIV</td>\n",
       "      <td>AT</td>\n",
       "      <td>2003</td>\n",
       "      <td>0</td>\n",
       "    </tr>\n",
       "    <tr>\n",
       "      <th>...</th>\n",
       "      <td>...</td>\n",
       "      <td>...</td>\n",
       "      <td>...</td>\n",
       "      <td>...</td>\n",
       "      <td>...</td>\n",
       "      <td>...</td>\n",
       "    </tr>\n",
       "    <tr>\n",
       "      <th>50356</th>\n",
       "      <td>UNK</td>\n",
       "      <td>Y_LT15</td>\n",
       "      <td>UNK</td>\n",
       "      <td>NL</td>\n",
       "      <td>2018</td>\n",
       "      <td>0</td>\n",
       "    </tr>\n",
       "    <tr>\n",
       "      <th>50357</th>\n",
       "      <td>UNK</td>\n",
       "      <td>Y_LT15</td>\n",
       "      <td>UNK</td>\n",
       "      <td>NL</td>\n",
       "      <td>2019</td>\n",
       "      <td>0</td>\n",
       "    </tr>\n",
       "    <tr>\n",
       "      <th>50358</th>\n",
       "      <td>UNK</td>\n",
       "      <td>Y_LT15</td>\n",
       "      <td>UNK</td>\n",
       "      <td>SE</td>\n",
       "      <td>2011</td>\n",
       "      <td>0</td>\n",
       "    </tr>\n",
       "    <tr>\n",
       "      <th>50359</th>\n",
       "      <td>UNK</td>\n",
       "      <td>Y_LT15</td>\n",
       "      <td>UNK</td>\n",
       "      <td>SE</td>\n",
       "      <td>2012</td>\n",
       "      <td>0</td>\n",
       "    </tr>\n",
       "    <tr>\n",
       "      <th>50360</th>\n",
       "      <td>UNK</td>\n",
       "      <td>Y_LT15</td>\n",
       "      <td>UNK</td>\n",
       "      <td>SI</td>\n",
       "      <td>2007</td>\n",
       "      <td>0</td>\n",
       "    </tr>\n",
       "  </tbody>\n",
       "</table>\n",
       "<p>50361 rows × 6 columns</p>\n",
       "</div>"
      ],
      "text/plain": [
       "       sex     age involved country  year  value\n",
       "0        F     UNK     DRIV      AT  1999      0\n",
       "1        F     UNK     DRIV      AT  2000      0\n",
       "2        F     UNK     DRIV      AT  2001      0\n",
       "3        F     UNK     DRIV      AT  2002      0\n",
       "4        F     UNK     DRIV      AT  2003      0\n",
       "...    ...     ...      ...     ...   ...    ...\n",
       "50356  UNK  Y_LT15      UNK      NL  2018      0\n",
       "50357  UNK  Y_LT15      UNK      NL  2019      0\n",
       "50358  UNK  Y_LT15      UNK      SE  2011      0\n",
       "50359  UNK  Y_LT15      UNK      SE  2012      0\n",
       "50360  UNK  Y_LT15      UNK      SI  2007      0\n",
       "\n",
       "[50361 rows x 6 columns]"
      ]
     },
     "execution_count": 37,
     "metadata": {},
     "output_type": "execute_result"
    }
   ],
   "source": [
    "d_roads.toPandas()"
   ]
  },
  {
   "cell_type": "markdown",
   "id": "ff5c5acc-a704-486f-868c-6b5162a2a9ec",
   "metadata": {
    "tags": []
   },
   "source": [
    "### Total Deaths by Year"
   ]
  },
  {
   "cell_type": "code",
   "execution_count": 38,
   "id": "87bacdbd-3df8-45e5-b88b-d1c4d31d382d",
   "metadata": {},
   "outputs": [],
   "source": [
    "filtered_d_roads = d_roads.filter(col(\"country\") != \"EU27_2020\")\n",
    "\n",
    "dr_year_pre = filtered_d_roads.groupBy(\"year\") \\\n",
    "                                 .agg(sum(\"value\").alias(\"total_value\")) \\\n",
    "                                 .orderBy(col(\"year\")) \\\n",
    "                                 .toPandas()"
   ]
  },
  {
   "cell_type": "code",
   "execution_count": 39,
   "id": "7a35cea4-d6a1-4dd8-a07b-4f93e73ae82d",
   "metadata": {},
   "outputs": [
    {
     "data": {
      "text/html": [
       "<div>\n",
       "<style scoped>\n",
       "    .dataframe tbody tr th:only-of-type {\n",
       "        vertical-align: middle;\n",
       "    }\n",
       "\n",
       "    .dataframe tbody tr th {\n",
       "        vertical-align: top;\n",
       "    }\n",
       "\n",
       "    .dataframe thead th {\n",
       "        text-align: right;\n",
       "    }\n",
       "</style>\n",
       "<table border=\"1\" class=\"dataframe\">\n",
       "  <thead>\n",
       "    <tr style=\"text-align: right;\">\n",
       "      <th></th>\n",
       "      <th>year</th>\n",
       "      <th>total_value</th>\n",
       "    </tr>\n",
       "  </thead>\n",
       "  <tbody>\n",
       "    <tr>\n",
       "      <th>0</th>\n",
       "      <td>1999</td>\n",
       "      <td>118304</td>\n",
       "    </tr>\n",
       "    <tr>\n",
       "      <th>1</th>\n",
       "      <td>2000</td>\n",
       "      <td>115916</td>\n",
       "    </tr>\n",
       "    <tr>\n",
       "      <th>2</th>\n",
       "      <td>2001</td>\n",
       "      <td>111450</td>\n",
       "    </tr>\n",
       "    <tr>\n",
       "      <th>3</th>\n",
       "      <td>2002</td>\n",
       "      <td>109552</td>\n",
       "    </tr>\n",
       "    <tr>\n",
       "      <th>4</th>\n",
       "      <td>2003</td>\n",
       "      <td>103686</td>\n",
       "    </tr>\n",
       "    <tr>\n",
       "      <th>5</th>\n",
       "      <td>2004</td>\n",
       "      <td>97250</td>\n",
       "    </tr>\n",
       "    <tr>\n",
       "      <th>6</th>\n",
       "      <td>2005</td>\n",
       "      <td>93084</td>\n",
       "    </tr>\n",
       "    <tr>\n",
       "      <th>7</th>\n",
       "      <td>2006</td>\n",
       "      <td>88612</td>\n",
       "    </tr>\n",
       "    <tr>\n",
       "      <th>8</th>\n",
       "      <td>2007</td>\n",
       "      <td>87458</td>\n",
       "    </tr>\n",
       "    <tr>\n",
       "      <th>9</th>\n",
       "      <td>2008</td>\n",
       "      <td>80300</td>\n",
       "    </tr>\n",
       "    <tr>\n",
       "      <th>10</th>\n",
       "      <td>2009</td>\n",
       "      <td>71788</td>\n",
       "    </tr>\n",
       "    <tr>\n",
       "      <th>11</th>\n",
       "      <td>2010</td>\n",
       "      <td>64048</td>\n",
       "    </tr>\n",
       "    <tr>\n",
       "      <th>12</th>\n",
       "      <td>2011</td>\n",
       "      <td>62384</td>\n",
       "    </tr>\n",
       "    <tr>\n",
       "      <th>13</th>\n",
       "      <td>2012</td>\n",
       "      <td>57566</td>\n",
       "    </tr>\n",
       "    <tr>\n",
       "      <th>14</th>\n",
       "      <td>2013</td>\n",
       "      <td>52912</td>\n",
       "    </tr>\n",
       "    <tr>\n",
       "      <th>15</th>\n",
       "      <td>2014</td>\n",
       "      <td>52758</td>\n",
       "    </tr>\n",
       "    <tr>\n",
       "      <th>16</th>\n",
       "      <td>2015</td>\n",
       "      <td>53100</td>\n",
       "    </tr>\n",
       "    <tr>\n",
       "      <th>17</th>\n",
       "      <td>2016</td>\n",
       "      <td>52074</td>\n",
       "    </tr>\n",
       "    <tr>\n",
       "      <th>18</th>\n",
       "      <td>2017</td>\n",
       "      <td>51204</td>\n",
       "    </tr>\n",
       "    <tr>\n",
       "      <th>19</th>\n",
       "      <td>2018</td>\n",
       "      <td>51052</td>\n",
       "    </tr>\n",
       "    <tr>\n",
       "      <th>20</th>\n",
       "      <td>2019</td>\n",
       "      <td>46114</td>\n",
       "    </tr>\n",
       "    <tr>\n",
       "      <th>21</th>\n",
       "      <td>2020</td>\n",
       "      <td>38324</td>\n",
       "    </tr>\n",
       "    <tr>\n",
       "      <th>22</th>\n",
       "      <td>2021</td>\n",
       "      <td>40412</td>\n",
       "    </tr>\n",
       "    <tr>\n",
       "      <th>23</th>\n",
       "      <td>2022</td>\n",
       "      <td>40146</td>\n",
       "    </tr>\n",
       "  </tbody>\n",
       "</table>\n",
       "</div>"
      ],
      "text/plain": [
       "    year  total_value\n",
       "0   1999       118304\n",
       "1   2000       115916\n",
       "2   2001       111450\n",
       "3   2002       109552\n",
       "4   2003       103686\n",
       "5   2004        97250\n",
       "6   2005        93084\n",
       "7   2006        88612\n",
       "8   2007        87458\n",
       "9   2008        80300\n",
       "10  2009        71788\n",
       "11  2010        64048\n",
       "12  2011        62384\n",
       "13  2012        57566\n",
       "14  2013        52912\n",
       "15  2014        52758\n",
       "16  2015        53100\n",
       "17  2016        52074\n",
       "18  2017        51204\n",
       "19  2018        51052\n",
       "20  2019        46114\n",
       "21  2020        38324\n",
       "22  2021        40412\n",
       "23  2022        40146"
      ]
     },
     "execution_count": 39,
     "metadata": {},
     "output_type": "execute_result"
    }
   ],
   "source": [
    "dr_year_pre"
   ]
  },
  {
   "cell_type": "markdown",
   "id": "b5343835-b8b2-4c4a-bd07-e440eaf03164",
   "metadata": {},
   "source": [
    "### Total Deaths by Year - European Union "
   ]
  },
  {
   "cell_type": "code",
   "execution_count": 40,
   "id": "b8fcdd79-26ad-425b-b06a-e6db739768c8",
   "metadata": {},
   "outputs": [],
   "source": [
    "filtered_d_roads_EU = d_roads.filter(col(\"country\") == \"EU27_2020\")\n",
    "\n",
    "dr_year_pre_EU = filtered_d_roads_EU.groupBy(\"year\") \\\n",
    "                                       .agg(sum(\"value\").alias(\"total_value\")) \\\n",
    "                                       .orderBy(col(\"year\")) \\\n",
    "                                       .toPandas()"
   ]
  },
  {
   "cell_type": "code",
   "execution_count": 41,
   "id": "4b273df5-2a32-4a70-8d6b-7a8ce0db007d",
   "metadata": {},
   "outputs": [
    {
     "data": {
      "text/html": [
       "<div>\n",
       "<style scoped>\n",
       "    .dataframe tbody tr th:only-of-type {\n",
       "        vertical-align: middle;\n",
       "    }\n",
       "\n",
       "    .dataframe tbody tr th {\n",
       "        vertical-align: top;\n",
       "    }\n",
       "\n",
       "    .dataframe thead th {\n",
       "        text-align: right;\n",
       "    }\n",
       "</style>\n",
       "<table border=\"1\" class=\"dataframe\">\n",
       "  <thead>\n",
       "    <tr style=\"text-align: right;\">\n",
       "      <th></th>\n",
       "      <th>year</th>\n",
       "      <th>total_value</th>\n",
       "    </tr>\n",
       "  </thead>\n",
       "  <tbody>\n",
       "    <tr>\n",
       "      <th>0</th>\n",
       "      <td>1999</td>\n",
       "      <td>109360</td>\n",
       "    </tr>\n",
       "    <tr>\n",
       "      <th>1</th>\n",
       "      <td>2000</td>\n",
       "      <td>106820</td>\n",
       "    </tr>\n",
       "    <tr>\n",
       "      <th>2</th>\n",
       "      <td>2001</td>\n",
       "      <td>102564</td>\n",
       "    </tr>\n",
       "    <tr>\n",
       "      <th>3</th>\n",
       "      <td>2002</td>\n",
       "      <td>100686</td>\n",
       "    </tr>\n",
       "    <tr>\n",
       "      <th>4</th>\n",
       "      <td>2003</td>\n",
       "      <td>94662</td>\n",
       "    </tr>\n",
       "    <tr>\n",
       "      <th>5</th>\n",
       "      <td>2004</td>\n",
       "      <td>88932</td>\n",
       "    </tr>\n",
       "    <tr>\n",
       "      <th>6</th>\n",
       "      <td>2005</td>\n",
       "      <td>85104</td>\n",
       "    </tr>\n",
       "    <tr>\n",
       "      <th>7</th>\n",
       "      <td>2006</td>\n",
       "      <td>80730</td>\n",
       "    </tr>\n",
       "    <tr>\n",
       "      <th>8</th>\n",
       "      <td>2007</td>\n",
       "      <td>80076</td>\n",
       "    </tr>\n",
       "    <tr>\n",
       "      <th>9</th>\n",
       "      <td>2008</td>\n",
       "      <td>73760</td>\n",
       "    </tr>\n",
       "    <tr>\n",
       "      <th>10</th>\n",
       "      <td>2009</td>\n",
       "      <td>65956</td>\n",
       "    </tr>\n",
       "    <tr>\n",
       "      <th>11</th>\n",
       "      <td>2010</td>\n",
       "      <td>59152</td>\n",
       "    </tr>\n",
       "    <tr>\n",
       "      <th>12</th>\n",
       "      <td>2011</td>\n",
       "      <td>57460</td>\n",
       "    </tr>\n",
       "    <tr>\n",
       "      <th>13</th>\n",
       "      <td>2012</td>\n",
       "      <td>52974</td>\n",
       "    </tr>\n",
       "    <tr>\n",
       "      <th>14</th>\n",
       "      <td>2013</td>\n",
       "      <td>48426</td>\n",
       "    </tr>\n",
       "    <tr>\n",
       "      <th>15</th>\n",
       "      <td>2014</td>\n",
       "      <td>48256</td>\n",
       "    </tr>\n",
       "    <tr>\n",
       "      <th>16</th>\n",
       "      <td>2015</td>\n",
       "      <td>48716</td>\n",
       "    </tr>\n",
       "    <tr>\n",
       "      <th>17</th>\n",
       "      <td>2016</td>\n",
       "      <td>47616</td>\n",
       "    </tr>\n",
       "    <tr>\n",
       "      <th>18</th>\n",
       "      <td>2017</td>\n",
       "      <td>46784</td>\n",
       "    </tr>\n",
       "    <tr>\n",
       "      <th>19</th>\n",
       "      <td>2018</td>\n",
       "      <td>46656</td>\n",
       "    </tr>\n",
       "    <tr>\n",
       "      <th>20</th>\n",
       "      <td>2019</td>\n",
       "      <td>45512</td>\n",
       "    </tr>\n",
       "    <tr>\n",
       "      <th>21</th>\n",
       "      <td>2020</td>\n",
       "      <td>37666</td>\n",
       "    </tr>\n",
       "    <tr>\n",
       "      <th>22</th>\n",
       "      <td>2021</td>\n",
       "      <td>74676</td>\n",
       "    </tr>\n",
       "    <tr>\n",
       "      <th>23</th>\n",
       "      <td>2022</td>\n",
       "      <td>85532</td>\n",
       "    </tr>\n",
       "  </tbody>\n",
       "</table>\n",
       "</div>"
      ],
      "text/plain": [
       "    year  total_value\n",
       "0   1999       109360\n",
       "1   2000       106820\n",
       "2   2001       102564\n",
       "3   2002       100686\n",
       "4   2003        94662\n",
       "5   2004        88932\n",
       "6   2005        85104\n",
       "7   2006        80730\n",
       "8   2007        80076\n",
       "9   2008        73760\n",
       "10  2009        65956\n",
       "11  2010        59152\n",
       "12  2011        57460\n",
       "13  2012        52974\n",
       "14  2013        48426\n",
       "15  2014        48256\n",
       "16  2015        48716\n",
       "17  2016        47616\n",
       "18  2017        46784\n",
       "19  2018        46656\n",
       "20  2019        45512\n",
       "21  2020        37666\n",
       "22  2021        74676\n",
       "23  2022        85532"
      ]
     },
     "execution_count": 41,
     "metadata": {},
     "output_type": "execute_result"
    }
   ],
   "source": [
    "dr_year_pre_EU"
   ]
  },
  {
   "cell_type": "markdown",
   "id": "2be5d751-4aa0-43e1-86cc-a3a534a9ba32",
   "metadata": {},
   "source": [
    "### Total Deaths by Year and Sex"
   ]
  },
  {
   "cell_type": "code",
   "execution_count": 42,
   "id": "471977ee-388f-4ccf-80b9-86cfdf43d988",
   "metadata": {},
   "outputs": [],
   "source": [
    "dr_sex_male_filtered = d_roads.filter((col(\"sex\") == \"M\")  & (col(\"country\") != \"EU27_2020\") )\n",
    "dr_sex_female_filtered = d_roads.filter((col(\"sex\") == \"F\")  & (col(\"country\") != \"EU27_2020\") )\n",
    "\n",
    "dr_sex_male_pre = dr_sex_male_filtered.groupBy(\"year\") \\\n",
    "                                       .agg(sum(\"value\").alias(\"total_value\")) \\\n",
    "                                       .orderBy(col(\"year\")) \\\n",
    "                                       .toPandas()\n",
    "\n",
    "dr_sex_female_pre = dr_sex_female_filtered.groupBy(\"year\") \\\n",
    "                                           .agg(sum(\"value\").alias(\"total_value\")) \\\n",
    "                                           .orderBy(col(\"year\")) \\\n",
    "                                           .toPandas()"
   ]
  },
  {
   "cell_type": "code",
   "execution_count": 43,
   "id": "0f51837a-eb81-4d9a-afac-eea1db8417b6",
   "metadata": {},
   "outputs": [
    {
     "data": {
      "text/plain": [
       "array([[ 9484],\n",
       "       [12573],\n",
       "       [12722],\n",
       "       [12264],\n",
       "       [11483],\n",
       "       [10896],\n",
       "       [10512],\n",
       "       [ 9934],\n",
       "       [ 9696],\n",
       "       [ 9402],\n",
       "       [ 8489],\n",
       "       [ 7329],\n",
       "       [ 7062],\n",
       "       [ 6536],\n",
       "       [ 6187],\n",
       "       [ 6156],\n",
       "       [ 6064],\n",
       "       [ 6293],\n",
       "       [ 6140],\n",
       "       [ 6096],\n",
       "       [ 5278],\n",
       "       [ 4191],\n",
       "       [ 4352],\n",
       "       [ 4584]], dtype=int64)"
      ]
     },
     "execution_count": 43,
     "metadata": {},
     "output_type": "execute_result"
    }
   ],
   "source": [
    "dr_sex_female_pre[['total_value']].values"
   ]
  },
  {
   "cell_type": "markdown",
   "id": "6e0fa7ab-acbf-4c9f-859a-ee03e1379afe",
   "metadata": {},
   "source": [
    "## Applying Linear Regression Extrapolation to the Dataset"
   ]
  },
  {
   "cell_type": "markdown",
   "id": "6cdbb7e9-e684-4c5a-97b6-8a89b551f665",
   "metadata": {},
   "source": [
    "### Convert the 'year' column to datetime"
   ]
  },
  {
   "cell_type": "markdown",
   "id": "1836b3b5-f217-4cb1-b30f-8d3912fa9db8",
   "metadata": {},
   "source": [
    "- Total Deaths by Year "
   ]
  },
  {
   "cell_type": "code",
   "execution_count": 44,
   "id": "d4f84546-afaa-40c1-83f4-f0acbc2c16f8",
   "metadata": {},
   "outputs": [],
   "source": [
    "dr_year_pre['year'] = pd.to_datetime(dr_year_pre['year'], format='%Y')"
   ]
  },
  {
   "cell_type": "markdown",
   "id": "5c4fa95c-7dba-4709-89e8-5fe48ef1d7a8",
   "metadata": {},
   "source": [
    "- Total Deaths by Year - European Union "
   ]
  },
  {
   "cell_type": "code",
   "execution_count": 45,
   "id": "3c8fa45a-5e10-4ccf-ad8d-8658e1f10e00",
   "metadata": {},
   "outputs": [],
   "source": [
    "dr_year_pre_EU['year'] = pd.to_datetime(dr_year_pre_EU['year'], format='%Y')"
   ]
  },
  {
   "cell_type": "markdown",
   "id": "6434cff9-87a1-4d29-85c1-81516abf63f3",
   "metadata": {},
   "source": [
    "- Total Deaths by Year and Sex - Male"
   ]
  },
  {
   "cell_type": "code",
   "execution_count": 46,
   "id": "43dcf870-2dfd-4951-a18a-261da42a5cf1",
   "metadata": {},
   "outputs": [],
   "source": [
    "dr_sex_male_pre['year'] = pd.to_datetime(dr_sex_male_pre['year'], format='%Y')"
   ]
  },
  {
   "cell_type": "markdown",
   "id": "cce613df-2990-4752-83bc-df8ceda07460",
   "metadata": {},
   "source": [
    "- Total Deaths by Year and Sex - Female"
   ]
  },
  {
   "cell_type": "code",
   "execution_count": 47,
   "id": "9f3031c6-6dd7-49be-99ee-11cc397416d4",
   "metadata": {},
   "outputs": [],
   "source": [
    "dr_sex_female_pre['year'] = pd.to_datetime(dr_sex_female_pre['year'], format='%Y')"
   ]
  },
  {
   "cell_type": "markdown",
   "id": "b9b1d50b-27c0-4be1-8107-b84a787f6e48",
   "metadata": {},
   "source": [
    "### Perform Linear Regression"
   ]
  },
  {
   "cell_type": "markdown",
   "id": "bc24e39a-0c0d-457e-8f89-d9b25e751b6b",
   "metadata": {},
   "source": [
    "- Total Deaths by Year "
   ]
  },
  {
   "cell_type": "code",
   "execution_count": 48,
   "id": "cd8d357a-c715-4fff-8c36-ec101de5948c",
   "metadata": {},
   "outputs": [
    {
     "data": {
      "text/html": [
       "<style>#sk-container-id-1 {\n",
       "  /* Definition of color scheme common for light and dark mode */\n",
       "  --sklearn-color-text: black;\n",
       "  --sklearn-color-line: gray;\n",
       "  /* Definition of color scheme for unfitted estimators */\n",
       "  --sklearn-color-unfitted-level-0: #fff5e6;\n",
       "  --sklearn-color-unfitted-level-1: #f6e4d2;\n",
       "  --sklearn-color-unfitted-level-2: #ffe0b3;\n",
       "  --sklearn-color-unfitted-level-3: chocolate;\n",
       "  /* Definition of color scheme for fitted estimators */\n",
       "  --sklearn-color-fitted-level-0: #f0f8ff;\n",
       "  --sklearn-color-fitted-level-1: #d4ebff;\n",
       "  --sklearn-color-fitted-level-2: #b3dbfd;\n",
       "  --sklearn-color-fitted-level-3: cornflowerblue;\n",
       "\n",
       "  /* Specific color for light theme */\n",
       "  --sklearn-color-text-on-default-background: var(--sg-text-color, var(--theme-code-foreground, var(--jp-content-font-color1, black)));\n",
       "  --sklearn-color-background: var(--sg-background-color, var(--theme-background, var(--jp-layout-color0, white)));\n",
       "  --sklearn-color-border-box: var(--sg-text-color, var(--theme-code-foreground, var(--jp-content-font-color1, black)));\n",
       "  --sklearn-color-icon: #696969;\n",
       "\n",
       "  @media (prefers-color-scheme: dark) {\n",
       "    /* Redefinition of color scheme for dark theme */\n",
       "    --sklearn-color-text-on-default-background: var(--sg-text-color, var(--theme-code-foreground, var(--jp-content-font-color1, white)));\n",
       "    --sklearn-color-background: var(--sg-background-color, var(--theme-background, var(--jp-layout-color0, #111)));\n",
       "    --sklearn-color-border-box: var(--sg-text-color, var(--theme-code-foreground, var(--jp-content-font-color1, white)));\n",
       "    --sklearn-color-icon: #878787;\n",
       "  }\n",
       "}\n",
       "\n",
       "#sk-container-id-1 {\n",
       "  color: var(--sklearn-color-text);\n",
       "}\n",
       "\n",
       "#sk-container-id-1 pre {\n",
       "  padding: 0;\n",
       "}\n",
       "\n",
       "#sk-container-id-1 input.sk-hidden--visually {\n",
       "  border: 0;\n",
       "  clip: rect(1px 1px 1px 1px);\n",
       "  clip: rect(1px, 1px, 1px, 1px);\n",
       "  height: 1px;\n",
       "  margin: -1px;\n",
       "  overflow: hidden;\n",
       "  padding: 0;\n",
       "  position: absolute;\n",
       "  width: 1px;\n",
       "}\n",
       "\n",
       "#sk-container-id-1 div.sk-dashed-wrapped {\n",
       "  border: 1px dashed var(--sklearn-color-line);\n",
       "  margin: 0 0.4em 0.5em 0.4em;\n",
       "  box-sizing: border-box;\n",
       "  padding-bottom: 0.4em;\n",
       "  background-color: var(--sklearn-color-background);\n",
       "}\n",
       "\n",
       "#sk-container-id-1 div.sk-container {\n",
       "  /* jupyter's `normalize.less` sets `[hidden] { display: none; }`\n",
       "     but bootstrap.min.css set `[hidden] { display: none !important; }`\n",
       "     so we also need the `!important` here to be able to override the\n",
       "     default hidden behavior on the sphinx rendered scikit-learn.org.\n",
       "     See: https://github.com/scikit-learn/scikit-learn/issues/21755 */\n",
       "  display: inline-block !important;\n",
       "  position: relative;\n",
       "}\n",
       "\n",
       "#sk-container-id-1 div.sk-text-repr-fallback {\n",
       "  display: none;\n",
       "}\n",
       "\n",
       "div.sk-parallel-item,\n",
       "div.sk-serial,\n",
       "div.sk-item {\n",
       "  /* draw centered vertical line to link estimators */\n",
       "  background-image: linear-gradient(var(--sklearn-color-text-on-default-background), var(--sklearn-color-text-on-default-background));\n",
       "  background-size: 2px 100%;\n",
       "  background-repeat: no-repeat;\n",
       "  background-position: center center;\n",
       "}\n",
       "\n",
       "/* Parallel-specific style estimator block */\n",
       "\n",
       "#sk-container-id-1 div.sk-parallel-item::after {\n",
       "  content: \"\";\n",
       "  width: 100%;\n",
       "  border-bottom: 2px solid var(--sklearn-color-text-on-default-background);\n",
       "  flex-grow: 1;\n",
       "}\n",
       "\n",
       "#sk-container-id-1 div.sk-parallel {\n",
       "  display: flex;\n",
       "  align-items: stretch;\n",
       "  justify-content: center;\n",
       "  background-color: var(--sklearn-color-background);\n",
       "  position: relative;\n",
       "}\n",
       "\n",
       "#sk-container-id-1 div.sk-parallel-item {\n",
       "  display: flex;\n",
       "  flex-direction: column;\n",
       "}\n",
       "\n",
       "#sk-container-id-1 div.sk-parallel-item:first-child::after {\n",
       "  align-self: flex-end;\n",
       "  width: 50%;\n",
       "}\n",
       "\n",
       "#sk-container-id-1 div.sk-parallel-item:last-child::after {\n",
       "  align-self: flex-start;\n",
       "  width: 50%;\n",
       "}\n",
       "\n",
       "#sk-container-id-1 div.sk-parallel-item:only-child::after {\n",
       "  width: 0;\n",
       "}\n",
       "\n",
       "/* Serial-specific style estimator block */\n",
       "\n",
       "#sk-container-id-1 div.sk-serial {\n",
       "  display: flex;\n",
       "  flex-direction: column;\n",
       "  align-items: center;\n",
       "  background-color: var(--sklearn-color-background);\n",
       "  padding-right: 1em;\n",
       "  padding-left: 1em;\n",
       "}\n",
       "\n",
       "\n",
       "/* Toggleable style: style used for estimator/Pipeline/ColumnTransformer box that is\n",
       "clickable and can be expanded/collapsed.\n",
       "- Pipeline and ColumnTransformer use this feature and define the default style\n",
       "- Estimators will overwrite some part of the style using the `sk-estimator` class\n",
       "*/\n",
       "\n",
       "/* Pipeline and ColumnTransformer style (default) */\n",
       "\n",
       "#sk-container-id-1 div.sk-toggleable {\n",
       "  /* Default theme specific background. It is overwritten whether we have a\n",
       "  specific estimator or a Pipeline/ColumnTransformer */\n",
       "  background-color: var(--sklearn-color-background);\n",
       "}\n",
       "\n",
       "/* Toggleable label */\n",
       "#sk-container-id-1 label.sk-toggleable__label {\n",
       "  cursor: pointer;\n",
       "  display: block;\n",
       "  width: 100%;\n",
       "  margin-bottom: 0;\n",
       "  padding: 0.5em;\n",
       "  box-sizing: border-box;\n",
       "  text-align: center;\n",
       "}\n",
       "\n",
       "#sk-container-id-1 label.sk-toggleable__label-arrow:before {\n",
       "  /* Arrow on the left of the label */\n",
       "  content: \"▸\";\n",
       "  float: left;\n",
       "  margin-right: 0.25em;\n",
       "  color: var(--sklearn-color-icon);\n",
       "}\n",
       "\n",
       "#sk-container-id-1 label.sk-toggleable__label-arrow:hover:before {\n",
       "  color: var(--sklearn-color-text);\n",
       "}\n",
       "\n",
       "/* Toggleable content - dropdown */\n",
       "\n",
       "#sk-container-id-1 div.sk-toggleable__content {\n",
       "  max-height: 0;\n",
       "  max-width: 0;\n",
       "  overflow: hidden;\n",
       "  text-align: left;\n",
       "  /* unfitted */\n",
       "  background-color: var(--sklearn-color-unfitted-level-0);\n",
       "}\n",
       "\n",
       "#sk-container-id-1 div.sk-toggleable__content.fitted {\n",
       "  /* fitted */\n",
       "  background-color: var(--sklearn-color-fitted-level-0);\n",
       "}\n",
       "\n",
       "#sk-container-id-1 div.sk-toggleable__content pre {\n",
       "  margin: 0.2em;\n",
       "  border-radius: 0.25em;\n",
       "  color: var(--sklearn-color-text);\n",
       "  /* unfitted */\n",
       "  background-color: var(--sklearn-color-unfitted-level-0);\n",
       "}\n",
       "\n",
       "#sk-container-id-1 div.sk-toggleable__content.fitted pre {\n",
       "  /* unfitted */\n",
       "  background-color: var(--sklearn-color-fitted-level-0);\n",
       "}\n",
       "\n",
       "#sk-container-id-1 input.sk-toggleable__control:checked~div.sk-toggleable__content {\n",
       "  /* Expand drop-down */\n",
       "  max-height: 200px;\n",
       "  max-width: 100%;\n",
       "  overflow: auto;\n",
       "}\n",
       "\n",
       "#sk-container-id-1 input.sk-toggleable__control:checked~label.sk-toggleable__label-arrow:before {\n",
       "  content: \"▾\";\n",
       "}\n",
       "\n",
       "/* Pipeline/ColumnTransformer-specific style */\n",
       "\n",
       "#sk-container-id-1 div.sk-label input.sk-toggleable__control:checked~label.sk-toggleable__label {\n",
       "  color: var(--sklearn-color-text);\n",
       "  background-color: var(--sklearn-color-unfitted-level-2);\n",
       "}\n",
       "\n",
       "#sk-container-id-1 div.sk-label.fitted input.sk-toggleable__control:checked~label.sk-toggleable__label {\n",
       "  background-color: var(--sklearn-color-fitted-level-2);\n",
       "}\n",
       "\n",
       "/* Estimator-specific style */\n",
       "\n",
       "/* Colorize estimator box */\n",
       "#sk-container-id-1 div.sk-estimator input.sk-toggleable__control:checked~label.sk-toggleable__label {\n",
       "  /* unfitted */\n",
       "  background-color: var(--sklearn-color-unfitted-level-2);\n",
       "}\n",
       "\n",
       "#sk-container-id-1 div.sk-estimator.fitted input.sk-toggleable__control:checked~label.sk-toggleable__label {\n",
       "  /* fitted */\n",
       "  background-color: var(--sklearn-color-fitted-level-2);\n",
       "}\n",
       "\n",
       "#sk-container-id-1 div.sk-label label.sk-toggleable__label,\n",
       "#sk-container-id-1 div.sk-label label {\n",
       "  /* The background is the default theme color */\n",
       "  color: var(--sklearn-color-text-on-default-background);\n",
       "}\n",
       "\n",
       "/* On hover, darken the color of the background */\n",
       "#sk-container-id-1 div.sk-label:hover label.sk-toggleable__label {\n",
       "  color: var(--sklearn-color-text);\n",
       "  background-color: var(--sklearn-color-unfitted-level-2);\n",
       "}\n",
       "\n",
       "/* Label box, darken color on hover, fitted */\n",
       "#sk-container-id-1 div.sk-label.fitted:hover label.sk-toggleable__label.fitted {\n",
       "  color: var(--sklearn-color-text);\n",
       "  background-color: var(--sklearn-color-fitted-level-2);\n",
       "}\n",
       "\n",
       "/* Estimator label */\n",
       "\n",
       "#sk-container-id-1 div.sk-label label {\n",
       "  font-family: monospace;\n",
       "  font-weight: bold;\n",
       "  display: inline-block;\n",
       "  line-height: 1.2em;\n",
       "}\n",
       "\n",
       "#sk-container-id-1 div.sk-label-container {\n",
       "  text-align: center;\n",
       "}\n",
       "\n",
       "/* Estimator-specific */\n",
       "#sk-container-id-1 div.sk-estimator {\n",
       "  font-family: monospace;\n",
       "  border: 1px dotted var(--sklearn-color-border-box);\n",
       "  border-radius: 0.25em;\n",
       "  box-sizing: border-box;\n",
       "  margin-bottom: 0.5em;\n",
       "  /* unfitted */\n",
       "  background-color: var(--sklearn-color-unfitted-level-0);\n",
       "}\n",
       "\n",
       "#sk-container-id-1 div.sk-estimator.fitted {\n",
       "  /* fitted */\n",
       "  background-color: var(--sklearn-color-fitted-level-0);\n",
       "}\n",
       "\n",
       "/* on hover */\n",
       "#sk-container-id-1 div.sk-estimator:hover {\n",
       "  /* unfitted */\n",
       "  background-color: var(--sklearn-color-unfitted-level-2);\n",
       "}\n",
       "\n",
       "#sk-container-id-1 div.sk-estimator.fitted:hover {\n",
       "  /* fitted */\n",
       "  background-color: var(--sklearn-color-fitted-level-2);\n",
       "}\n",
       "\n",
       "/* Specification for estimator info (e.g. \"i\" and \"?\") */\n",
       "\n",
       "/* Common style for \"i\" and \"?\" */\n",
       "\n",
       ".sk-estimator-doc-link,\n",
       "a:link.sk-estimator-doc-link,\n",
       "a:visited.sk-estimator-doc-link {\n",
       "  float: right;\n",
       "  font-size: smaller;\n",
       "  line-height: 1em;\n",
       "  font-family: monospace;\n",
       "  background-color: var(--sklearn-color-background);\n",
       "  border-radius: 1em;\n",
       "  height: 1em;\n",
       "  width: 1em;\n",
       "  text-decoration: none !important;\n",
       "  margin-left: 1ex;\n",
       "  /* unfitted */\n",
       "  border: var(--sklearn-color-unfitted-level-1) 1pt solid;\n",
       "  color: var(--sklearn-color-unfitted-level-1);\n",
       "}\n",
       "\n",
       ".sk-estimator-doc-link.fitted,\n",
       "a:link.sk-estimator-doc-link.fitted,\n",
       "a:visited.sk-estimator-doc-link.fitted {\n",
       "  /* fitted */\n",
       "  border: var(--sklearn-color-fitted-level-1) 1pt solid;\n",
       "  color: var(--sklearn-color-fitted-level-1);\n",
       "}\n",
       "\n",
       "/* On hover */\n",
       "div.sk-estimator:hover .sk-estimator-doc-link:hover,\n",
       ".sk-estimator-doc-link:hover,\n",
       "div.sk-label-container:hover .sk-estimator-doc-link:hover,\n",
       ".sk-estimator-doc-link:hover {\n",
       "  /* unfitted */\n",
       "  background-color: var(--sklearn-color-unfitted-level-3);\n",
       "  color: var(--sklearn-color-background);\n",
       "  text-decoration: none;\n",
       "}\n",
       "\n",
       "div.sk-estimator.fitted:hover .sk-estimator-doc-link.fitted:hover,\n",
       ".sk-estimator-doc-link.fitted:hover,\n",
       "div.sk-label-container:hover .sk-estimator-doc-link.fitted:hover,\n",
       ".sk-estimator-doc-link.fitted:hover {\n",
       "  /* fitted */\n",
       "  background-color: var(--sklearn-color-fitted-level-3);\n",
       "  color: var(--sklearn-color-background);\n",
       "  text-decoration: none;\n",
       "}\n",
       "\n",
       "/* Span, style for the box shown on hovering the info icon */\n",
       ".sk-estimator-doc-link span {\n",
       "  display: none;\n",
       "  z-index: 9999;\n",
       "  position: relative;\n",
       "  font-weight: normal;\n",
       "  right: .2ex;\n",
       "  padding: .5ex;\n",
       "  margin: .5ex;\n",
       "  width: min-content;\n",
       "  min-width: 20ex;\n",
       "  max-width: 50ex;\n",
       "  color: var(--sklearn-color-text);\n",
       "  box-shadow: 2pt 2pt 4pt #999;\n",
       "  /* unfitted */\n",
       "  background: var(--sklearn-color-unfitted-level-0);\n",
       "  border: .5pt solid var(--sklearn-color-unfitted-level-3);\n",
       "}\n",
       "\n",
       ".sk-estimator-doc-link.fitted span {\n",
       "  /* fitted */\n",
       "  background: var(--sklearn-color-fitted-level-0);\n",
       "  border: var(--sklearn-color-fitted-level-3);\n",
       "}\n",
       "\n",
       ".sk-estimator-doc-link:hover span {\n",
       "  display: block;\n",
       "}\n",
       "\n",
       "/* \"?\"-specific style due to the `<a>` HTML tag */\n",
       "\n",
       "#sk-container-id-1 a.estimator_doc_link {\n",
       "  float: right;\n",
       "  font-size: 1rem;\n",
       "  line-height: 1em;\n",
       "  font-family: monospace;\n",
       "  background-color: var(--sklearn-color-background);\n",
       "  border-radius: 1rem;\n",
       "  height: 1rem;\n",
       "  width: 1rem;\n",
       "  text-decoration: none;\n",
       "  /* unfitted */\n",
       "  color: var(--sklearn-color-unfitted-level-1);\n",
       "  border: var(--sklearn-color-unfitted-level-1) 1pt solid;\n",
       "}\n",
       "\n",
       "#sk-container-id-1 a.estimator_doc_link.fitted {\n",
       "  /* fitted */\n",
       "  border: var(--sklearn-color-fitted-level-1) 1pt solid;\n",
       "  color: var(--sklearn-color-fitted-level-1);\n",
       "}\n",
       "\n",
       "/* On hover */\n",
       "#sk-container-id-1 a.estimator_doc_link:hover {\n",
       "  /* unfitted */\n",
       "  background-color: var(--sklearn-color-unfitted-level-3);\n",
       "  color: var(--sklearn-color-background);\n",
       "  text-decoration: none;\n",
       "}\n",
       "\n",
       "#sk-container-id-1 a.estimator_doc_link.fitted:hover {\n",
       "  /* fitted */\n",
       "  background-color: var(--sklearn-color-fitted-level-3);\n",
       "}\n",
       "</style><div id=\"sk-container-id-1\" class=\"sk-top-container\"><div class=\"sk-text-repr-fallback\"><pre>LinearRegression()</pre><b>In a Jupyter environment, please rerun this cell to show the HTML representation or trust the notebook. <br />On GitHub, the HTML representation is unable to render, please try loading this page with nbviewer.org.</b></div><div class=\"sk-container\" hidden><div class=\"sk-item\"><div class=\"sk-estimator fitted sk-toggleable\"><input class=\"sk-toggleable__control sk-hidden--visually\" id=\"sk-estimator-id-1\" type=\"checkbox\" checked><label for=\"sk-estimator-id-1\" class=\"sk-toggleable__label fitted sk-toggleable__label-arrow fitted\">&nbsp;&nbsp;LinearRegression<a class=\"sk-estimator-doc-link fitted\" rel=\"noreferrer\" target=\"_blank\" href=\"https://scikit-learn.org/1.5/modules/generated/sklearn.linear_model.LinearRegression.html\">?<span>Documentation for LinearRegression</span></a><span class=\"sk-estimator-doc-link fitted\">i<span>Fitted</span></span></label><div class=\"sk-toggleable__content fitted\"><pre>LinearRegression()</pre></div> </div></div></div></div>"
      ],
      "text/plain": [
       "LinearRegression()"
      ]
     },
     "execution_count": 48,
     "metadata": {},
     "output_type": "execute_result"
    }
   ],
   "source": [
    "X = np.array(dr_year_pre['year'].dt.year).reshape(-1, 1)\n",
    "y = dr_year_pre['total_value']\n",
    "\n",
    "model_dr_year_pre = LinearRegression()\n",
    "model_dr_year_pre.fit(X, y)"
   ]
  },
  {
   "cell_type": "markdown",
   "id": "521fca96-bb5b-48db-a3f2-8bd2c6973f50",
   "metadata": {},
   "source": [
    "- Total Deaths by Year - European Union "
   ]
  },
  {
   "cell_type": "code",
   "execution_count": 49,
   "id": "d0e45c60-2d8c-450b-b749-f75afa426714",
   "metadata": {},
   "outputs": [
    {
     "data": {
      "text/html": [
       "<style>#sk-container-id-2 {\n",
       "  /* Definition of color scheme common for light and dark mode */\n",
       "  --sklearn-color-text: black;\n",
       "  --sklearn-color-line: gray;\n",
       "  /* Definition of color scheme for unfitted estimators */\n",
       "  --sklearn-color-unfitted-level-0: #fff5e6;\n",
       "  --sklearn-color-unfitted-level-1: #f6e4d2;\n",
       "  --sklearn-color-unfitted-level-2: #ffe0b3;\n",
       "  --sklearn-color-unfitted-level-3: chocolate;\n",
       "  /* Definition of color scheme for fitted estimators */\n",
       "  --sklearn-color-fitted-level-0: #f0f8ff;\n",
       "  --sklearn-color-fitted-level-1: #d4ebff;\n",
       "  --sklearn-color-fitted-level-2: #b3dbfd;\n",
       "  --sklearn-color-fitted-level-3: cornflowerblue;\n",
       "\n",
       "  /* Specific color for light theme */\n",
       "  --sklearn-color-text-on-default-background: var(--sg-text-color, var(--theme-code-foreground, var(--jp-content-font-color1, black)));\n",
       "  --sklearn-color-background: var(--sg-background-color, var(--theme-background, var(--jp-layout-color0, white)));\n",
       "  --sklearn-color-border-box: var(--sg-text-color, var(--theme-code-foreground, var(--jp-content-font-color1, black)));\n",
       "  --sklearn-color-icon: #696969;\n",
       "\n",
       "  @media (prefers-color-scheme: dark) {\n",
       "    /* Redefinition of color scheme for dark theme */\n",
       "    --sklearn-color-text-on-default-background: var(--sg-text-color, var(--theme-code-foreground, var(--jp-content-font-color1, white)));\n",
       "    --sklearn-color-background: var(--sg-background-color, var(--theme-background, var(--jp-layout-color0, #111)));\n",
       "    --sklearn-color-border-box: var(--sg-text-color, var(--theme-code-foreground, var(--jp-content-font-color1, white)));\n",
       "    --sklearn-color-icon: #878787;\n",
       "  }\n",
       "}\n",
       "\n",
       "#sk-container-id-2 {\n",
       "  color: var(--sklearn-color-text);\n",
       "}\n",
       "\n",
       "#sk-container-id-2 pre {\n",
       "  padding: 0;\n",
       "}\n",
       "\n",
       "#sk-container-id-2 input.sk-hidden--visually {\n",
       "  border: 0;\n",
       "  clip: rect(1px 1px 1px 1px);\n",
       "  clip: rect(1px, 1px, 1px, 1px);\n",
       "  height: 1px;\n",
       "  margin: -1px;\n",
       "  overflow: hidden;\n",
       "  padding: 0;\n",
       "  position: absolute;\n",
       "  width: 1px;\n",
       "}\n",
       "\n",
       "#sk-container-id-2 div.sk-dashed-wrapped {\n",
       "  border: 1px dashed var(--sklearn-color-line);\n",
       "  margin: 0 0.4em 0.5em 0.4em;\n",
       "  box-sizing: border-box;\n",
       "  padding-bottom: 0.4em;\n",
       "  background-color: var(--sklearn-color-background);\n",
       "}\n",
       "\n",
       "#sk-container-id-2 div.sk-container {\n",
       "  /* jupyter's `normalize.less` sets `[hidden] { display: none; }`\n",
       "     but bootstrap.min.css set `[hidden] { display: none !important; }`\n",
       "     so we also need the `!important` here to be able to override the\n",
       "     default hidden behavior on the sphinx rendered scikit-learn.org.\n",
       "     See: https://github.com/scikit-learn/scikit-learn/issues/21755 */\n",
       "  display: inline-block !important;\n",
       "  position: relative;\n",
       "}\n",
       "\n",
       "#sk-container-id-2 div.sk-text-repr-fallback {\n",
       "  display: none;\n",
       "}\n",
       "\n",
       "div.sk-parallel-item,\n",
       "div.sk-serial,\n",
       "div.sk-item {\n",
       "  /* draw centered vertical line to link estimators */\n",
       "  background-image: linear-gradient(var(--sklearn-color-text-on-default-background), var(--sklearn-color-text-on-default-background));\n",
       "  background-size: 2px 100%;\n",
       "  background-repeat: no-repeat;\n",
       "  background-position: center center;\n",
       "}\n",
       "\n",
       "/* Parallel-specific style estimator block */\n",
       "\n",
       "#sk-container-id-2 div.sk-parallel-item::after {\n",
       "  content: \"\";\n",
       "  width: 100%;\n",
       "  border-bottom: 2px solid var(--sklearn-color-text-on-default-background);\n",
       "  flex-grow: 1;\n",
       "}\n",
       "\n",
       "#sk-container-id-2 div.sk-parallel {\n",
       "  display: flex;\n",
       "  align-items: stretch;\n",
       "  justify-content: center;\n",
       "  background-color: var(--sklearn-color-background);\n",
       "  position: relative;\n",
       "}\n",
       "\n",
       "#sk-container-id-2 div.sk-parallel-item {\n",
       "  display: flex;\n",
       "  flex-direction: column;\n",
       "}\n",
       "\n",
       "#sk-container-id-2 div.sk-parallel-item:first-child::after {\n",
       "  align-self: flex-end;\n",
       "  width: 50%;\n",
       "}\n",
       "\n",
       "#sk-container-id-2 div.sk-parallel-item:last-child::after {\n",
       "  align-self: flex-start;\n",
       "  width: 50%;\n",
       "}\n",
       "\n",
       "#sk-container-id-2 div.sk-parallel-item:only-child::after {\n",
       "  width: 0;\n",
       "}\n",
       "\n",
       "/* Serial-specific style estimator block */\n",
       "\n",
       "#sk-container-id-2 div.sk-serial {\n",
       "  display: flex;\n",
       "  flex-direction: column;\n",
       "  align-items: center;\n",
       "  background-color: var(--sklearn-color-background);\n",
       "  padding-right: 1em;\n",
       "  padding-left: 1em;\n",
       "}\n",
       "\n",
       "\n",
       "/* Toggleable style: style used for estimator/Pipeline/ColumnTransformer box that is\n",
       "clickable and can be expanded/collapsed.\n",
       "- Pipeline and ColumnTransformer use this feature and define the default style\n",
       "- Estimators will overwrite some part of the style using the `sk-estimator` class\n",
       "*/\n",
       "\n",
       "/* Pipeline and ColumnTransformer style (default) */\n",
       "\n",
       "#sk-container-id-2 div.sk-toggleable {\n",
       "  /* Default theme specific background. It is overwritten whether we have a\n",
       "  specific estimator or a Pipeline/ColumnTransformer */\n",
       "  background-color: var(--sklearn-color-background);\n",
       "}\n",
       "\n",
       "/* Toggleable label */\n",
       "#sk-container-id-2 label.sk-toggleable__label {\n",
       "  cursor: pointer;\n",
       "  display: block;\n",
       "  width: 100%;\n",
       "  margin-bottom: 0;\n",
       "  padding: 0.5em;\n",
       "  box-sizing: border-box;\n",
       "  text-align: center;\n",
       "}\n",
       "\n",
       "#sk-container-id-2 label.sk-toggleable__label-arrow:before {\n",
       "  /* Arrow on the left of the label */\n",
       "  content: \"▸\";\n",
       "  float: left;\n",
       "  margin-right: 0.25em;\n",
       "  color: var(--sklearn-color-icon);\n",
       "}\n",
       "\n",
       "#sk-container-id-2 label.sk-toggleable__label-arrow:hover:before {\n",
       "  color: var(--sklearn-color-text);\n",
       "}\n",
       "\n",
       "/* Toggleable content - dropdown */\n",
       "\n",
       "#sk-container-id-2 div.sk-toggleable__content {\n",
       "  max-height: 0;\n",
       "  max-width: 0;\n",
       "  overflow: hidden;\n",
       "  text-align: left;\n",
       "  /* unfitted */\n",
       "  background-color: var(--sklearn-color-unfitted-level-0);\n",
       "}\n",
       "\n",
       "#sk-container-id-2 div.sk-toggleable__content.fitted {\n",
       "  /* fitted */\n",
       "  background-color: var(--sklearn-color-fitted-level-0);\n",
       "}\n",
       "\n",
       "#sk-container-id-2 div.sk-toggleable__content pre {\n",
       "  margin: 0.2em;\n",
       "  border-radius: 0.25em;\n",
       "  color: var(--sklearn-color-text);\n",
       "  /* unfitted */\n",
       "  background-color: var(--sklearn-color-unfitted-level-0);\n",
       "}\n",
       "\n",
       "#sk-container-id-2 div.sk-toggleable__content.fitted pre {\n",
       "  /* unfitted */\n",
       "  background-color: var(--sklearn-color-fitted-level-0);\n",
       "}\n",
       "\n",
       "#sk-container-id-2 input.sk-toggleable__control:checked~div.sk-toggleable__content {\n",
       "  /* Expand drop-down */\n",
       "  max-height: 200px;\n",
       "  max-width: 100%;\n",
       "  overflow: auto;\n",
       "}\n",
       "\n",
       "#sk-container-id-2 input.sk-toggleable__control:checked~label.sk-toggleable__label-arrow:before {\n",
       "  content: \"▾\";\n",
       "}\n",
       "\n",
       "/* Pipeline/ColumnTransformer-specific style */\n",
       "\n",
       "#sk-container-id-2 div.sk-label input.sk-toggleable__control:checked~label.sk-toggleable__label {\n",
       "  color: var(--sklearn-color-text);\n",
       "  background-color: var(--sklearn-color-unfitted-level-2);\n",
       "}\n",
       "\n",
       "#sk-container-id-2 div.sk-label.fitted input.sk-toggleable__control:checked~label.sk-toggleable__label {\n",
       "  background-color: var(--sklearn-color-fitted-level-2);\n",
       "}\n",
       "\n",
       "/* Estimator-specific style */\n",
       "\n",
       "/* Colorize estimator box */\n",
       "#sk-container-id-2 div.sk-estimator input.sk-toggleable__control:checked~label.sk-toggleable__label {\n",
       "  /* unfitted */\n",
       "  background-color: var(--sklearn-color-unfitted-level-2);\n",
       "}\n",
       "\n",
       "#sk-container-id-2 div.sk-estimator.fitted input.sk-toggleable__control:checked~label.sk-toggleable__label {\n",
       "  /* fitted */\n",
       "  background-color: var(--sklearn-color-fitted-level-2);\n",
       "}\n",
       "\n",
       "#sk-container-id-2 div.sk-label label.sk-toggleable__label,\n",
       "#sk-container-id-2 div.sk-label label {\n",
       "  /* The background is the default theme color */\n",
       "  color: var(--sklearn-color-text-on-default-background);\n",
       "}\n",
       "\n",
       "/* On hover, darken the color of the background */\n",
       "#sk-container-id-2 div.sk-label:hover label.sk-toggleable__label {\n",
       "  color: var(--sklearn-color-text);\n",
       "  background-color: var(--sklearn-color-unfitted-level-2);\n",
       "}\n",
       "\n",
       "/* Label box, darken color on hover, fitted */\n",
       "#sk-container-id-2 div.sk-label.fitted:hover label.sk-toggleable__label.fitted {\n",
       "  color: var(--sklearn-color-text);\n",
       "  background-color: var(--sklearn-color-fitted-level-2);\n",
       "}\n",
       "\n",
       "/* Estimator label */\n",
       "\n",
       "#sk-container-id-2 div.sk-label label {\n",
       "  font-family: monospace;\n",
       "  font-weight: bold;\n",
       "  display: inline-block;\n",
       "  line-height: 1.2em;\n",
       "}\n",
       "\n",
       "#sk-container-id-2 div.sk-label-container {\n",
       "  text-align: center;\n",
       "}\n",
       "\n",
       "/* Estimator-specific */\n",
       "#sk-container-id-2 div.sk-estimator {\n",
       "  font-family: monospace;\n",
       "  border: 1px dotted var(--sklearn-color-border-box);\n",
       "  border-radius: 0.25em;\n",
       "  box-sizing: border-box;\n",
       "  margin-bottom: 0.5em;\n",
       "  /* unfitted */\n",
       "  background-color: var(--sklearn-color-unfitted-level-0);\n",
       "}\n",
       "\n",
       "#sk-container-id-2 div.sk-estimator.fitted {\n",
       "  /* fitted */\n",
       "  background-color: var(--sklearn-color-fitted-level-0);\n",
       "}\n",
       "\n",
       "/* on hover */\n",
       "#sk-container-id-2 div.sk-estimator:hover {\n",
       "  /* unfitted */\n",
       "  background-color: var(--sklearn-color-unfitted-level-2);\n",
       "}\n",
       "\n",
       "#sk-container-id-2 div.sk-estimator.fitted:hover {\n",
       "  /* fitted */\n",
       "  background-color: var(--sklearn-color-fitted-level-2);\n",
       "}\n",
       "\n",
       "/* Specification for estimator info (e.g. \"i\" and \"?\") */\n",
       "\n",
       "/* Common style for \"i\" and \"?\" */\n",
       "\n",
       ".sk-estimator-doc-link,\n",
       "a:link.sk-estimator-doc-link,\n",
       "a:visited.sk-estimator-doc-link {\n",
       "  float: right;\n",
       "  font-size: smaller;\n",
       "  line-height: 1em;\n",
       "  font-family: monospace;\n",
       "  background-color: var(--sklearn-color-background);\n",
       "  border-radius: 1em;\n",
       "  height: 1em;\n",
       "  width: 1em;\n",
       "  text-decoration: none !important;\n",
       "  margin-left: 1ex;\n",
       "  /* unfitted */\n",
       "  border: var(--sklearn-color-unfitted-level-1) 1pt solid;\n",
       "  color: var(--sklearn-color-unfitted-level-1);\n",
       "}\n",
       "\n",
       ".sk-estimator-doc-link.fitted,\n",
       "a:link.sk-estimator-doc-link.fitted,\n",
       "a:visited.sk-estimator-doc-link.fitted {\n",
       "  /* fitted */\n",
       "  border: var(--sklearn-color-fitted-level-1) 1pt solid;\n",
       "  color: var(--sklearn-color-fitted-level-1);\n",
       "}\n",
       "\n",
       "/* On hover */\n",
       "div.sk-estimator:hover .sk-estimator-doc-link:hover,\n",
       ".sk-estimator-doc-link:hover,\n",
       "div.sk-label-container:hover .sk-estimator-doc-link:hover,\n",
       ".sk-estimator-doc-link:hover {\n",
       "  /* unfitted */\n",
       "  background-color: var(--sklearn-color-unfitted-level-3);\n",
       "  color: var(--sklearn-color-background);\n",
       "  text-decoration: none;\n",
       "}\n",
       "\n",
       "div.sk-estimator.fitted:hover .sk-estimator-doc-link.fitted:hover,\n",
       ".sk-estimator-doc-link.fitted:hover,\n",
       "div.sk-label-container:hover .sk-estimator-doc-link.fitted:hover,\n",
       ".sk-estimator-doc-link.fitted:hover {\n",
       "  /* fitted */\n",
       "  background-color: var(--sklearn-color-fitted-level-3);\n",
       "  color: var(--sklearn-color-background);\n",
       "  text-decoration: none;\n",
       "}\n",
       "\n",
       "/* Span, style for the box shown on hovering the info icon */\n",
       ".sk-estimator-doc-link span {\n",
       "  display: none;\n",
       "  z-index: 9999;\n",
       "  position: relative;\n",
       "  font-weight: normal;\n",
       "  right: .2ex;\n",
       "  padding: .5ex;\n",
       "  margin: .5ex;\n",
       "  width: min-content;\n",
       "  min-width: 20ex;\n",
       "  max-width: 50ex;\n",
       "  color: var(--sklearn-color-text);\n",
       "  box-shadow: 2pt 2pt 4pt #999;\n",
       "  /* unfitted */\n",
       "  background: var(--sklearn-color-unfitted-level-0);\n",
       "  border: .5pt solid var(--sklearn-color-unfitted-level-3);\n",
       "}\n",
       "\n",
       ".sk-estimator-doc-link.fitted span {\n",
       "  /* fitted */\n",
       "  background: var(--sklearn-color-fitted-level-0);\n",
       "  border: var(--sklearn-color-fitted-level-3);\n",
       "}\n",
       "\n",
       ".sk-estimator-doc-link:hover span {\n",
       "  display: block;\n",
       "}\n",
       "\n",
       "/* \"?\"-specific style due to the `<a>` HTML tag */\n",
       "\n",
       "#sk-container-id-2 a.estimator_doc_link {\n",
       "  float: right;\n",
       "  font-size: 1rem;\n",
       "  line-height: 1em;\n",
       "  font-family: monospace;\n",
       "  background-color: var(--sklearn-color-background);\n",
       "  border-radius: 1rem;\n",
       "  height: 1rem;\n",
       "  width: 1rem;\n",
       "  text-decoration: none;\n",
       "  /* unfitted */\n",
       "  color: var(--sklearn-color-unfitted-level-1);\n",
       "  border: var(--sklearn-color-unfitted-level-1) 1pt solid;\n",
       "}\n",
       "\n",
       "#sk-container-id-2 a.estimator_doc_link.fitted {\n",
       "  /* fitted */\n",
       "  border: var(--sklearn-color-fitted-level-1) 1pt solid;\n",
       "  color: var(--sklearn-color-fitted-level-1);\n",
       "}\n",
       "\n",
       "/* On hover */\n",
       "#sk-container-id-2 a.estimator_doc_link:hover {\n",
       "  /* unfitted */\n",
       "  background-color: var(--sklearn-color-unfitted-level-3);\n",
       "  color: var(--sklearn-color-background);\n",
       "  text-decoration: none;\n",
       "}\n",
       "\n",
       "#sk-container-id-2 a.estimator_doc_link.fitted:hover {\n",
       "  /* fitted */\n",
       "  background-color: var(--sklearn-color-fitted-level-3);\n",
       "}\n",
       "</style><div id=\"sk-container-id-2\" class=\"sk-top-container\"><div class=\"sk-text-repr-fallback\"><pre>LinearRegression()</pre><b>In a Jupyter environment, please rerun this cell to show the HTML representation or trust the notebook. <br />On GitHub, the HTML representation is unable to render, please try loading this page with nbviewer.org.</b></div><div class=\"sk-container\" hidden><div class=\"sk-item\"><div class=\"sk-estimator fitted sk-toggleable\"><input class=\"sk-toggleable__control sk-hidden--visually\" id=\"sk-estimator-id-2\" type=\"checkbox\" checked><label for=\"sk-estimator-id-2\" class=\"sk-toggleable__label fitted sk-toggleable__label-arrow fitted\">&nbsp;&nbsp;LinearRegression<a class=\"sk-estimator-doc-link fitted\" rel=\"noreferrer\" target=\"_blank\" href=\"https://scikit-learn.org/1.5/modules/generated/sklearn.linear_model.LinearRegression.html\">?<span>Documentation for LinearRegression</span></a><span class=\"sk-estimator-doc-link fitted\">i<span>Fitted</span></span></label><div class=\"sk-toggleable__content fitted\"><pre>LinearRegression()</pre></div> </div></div></div></div>"
      ],
      "text/plain": [
       "LinearRegression()"
      ]
     },
     "execution_count": 49,
     "metadata": {},
     "output_type": "execute_result"
    }
   ],
   "source": [
    "X = np.array(dr_year_pre_EU['year'].dt.year).reshape(-1, 1)\n",
    "y = dr_year_pre_EU['total_value']\n",
    "\n",
    "model_dr_year_pre_EU = LinearRegression()\n",
    "model_dr_year_pre_EU.fit(X, y)"
   ]
  },
  {
   "cell_type": "markdown",
   "id": "30dcb87e-fcf7-4968-bc1c-c7a7fa607499",
   "metadata": {},
   "source": [
    "- Total Deaths by Year and Sex - Male"
   ]
  },
  {
   "cell_type": "code",
   "execution_count": 50,
   "id": "35f04572-012f-4a99-a0c4-d34dc874062b",
   "metadata": {},
   "outputs": [
    {
     "data": {
      "text/html": [
       "<style>#sk-container-id-3 {\n",
       "  /* Definition of color scheme common for light and dark mode */\n",
       "  --sklearn-color-text: black;\n",
       "  --sklearn-color-line: gray;\n",
       "  /* Definition of color scheme for unfitted estimators */\n",
       "  --sklearn-color-unfitted-level-0: #fff5e6;\n",
       "  --sklearn-color-unfitted-level-1: #f6e4d2;\n",
       "  --sklearn-color-unfitted-level-2: #ffe0b3;\n",
       "  --sklearn-color-unfitted-level-3: chocolate;\n",
       "  /* Definition of color scheme for fitted estimators */\n",
       "  --sklearn-color-fitted-level-0: #f0f8ff;\n",
       "  --sklearn-color-fitted-level-1: #d4ebff;\n",
       "  --sklearn-color-fitted-level-2: #b3dbfd;\n",
       "  --sklearn-color-fitted-level-3: cornflowerblue;\n",
       "\n",
       "  /* Specific color for light theme */\n",
       "  --sklearn-color-text-on-default-background: var(--sg-text-color, var(--theme-code-foreground, var(--jp-content-font-color1, black)));\n",
       "  --sklearn-color-background: var(--sg-background-color, var(--theme-background, var(--jp-layout-color0, white)));\n",
       "  --sklearn-color-border-box: var(--sg-text-color, var(--theme-code-foreground, var(--jp-content-font-color1, black)));\n",
       "  --sklearn-color-icon: #696969;\n",
       "\n",
       "  @media (prefers-color-scheme: dark) {\n",
       "    /* Redefinition of color scheme for dark theme */\n",
       "    --sklearn-color-text-on-default-background: var(--sg-text-color, var(--theme-code-foreground, var(--jp-content-font-color1, white)));\n",
       "    --sklearn-color-background: var(--sg-background-color, var(--theme-background, var(--jp-layout-color0, #111)));\n",
       "    --sklearn-color-border-box: var(--sg-text-color, var(--theme-code-foreground, var(--jp-content-font-color1, white)));\n",
       "    --sklearn-color-icon: #878787;\n",
       "  }\n",
       "}\n",
       "\n",
       "#sk-container-id-3 {\n",
       "  color: var(--sklearn-color-text);\n",
       "}\n",
       "\n",
       "#sk-container-id-3 pre {\n",
       "  padding: 0;\n",
       "}\n",
       "\n",
       "#sk-container-id-3 input.sk-hidden--visually {\n",
       "  border: 0;\n",
       "  clip: rect(1px 1px 1px 1px);\n",
       "  clip: rect(1px, 1px, 1px, 1px);\n",
       "  height: 1px;\n",
       "  margin: -1px;\n",
       "  overflow: hidden;\n",
       "  padding: 0;\n",
       "  position: absolute;\n",
       "  width: 1px;\n",
       "}\n",
       "\n",
       "#sk-container-id-3 div.sk-dashed-wrapped {\n",
       "  border: 1px dashed var(--sklearn-color-line);\n",
       "  margin: 0 0.4em 0.5em 0.4em;\n",
       "  box-sizing: border-box;\n",
       "  padding-bottom: 0.4em;\n",
       "  background-color: var(--sklearn-color-background);\n",
       "}\n",
       "\n",
       "#sk-container-id-3 div.sk-container {\n",
       "  /* jupyter's `normalize.less` sets `[hidden] { display: none; }`\n",
       "     but bootstrap.min.css set `[hidden] { display: none !important; }`\n",
       "     so we also need the `!important` here to be able to override the\n",
       "     default hidden behavior on the sphinx rendered scikit-learn.org.\n",
       "     See: https://github.com/scikit-learn/scikit-learn/issues/21755 */\n",
       "  display: inline-block !important;\n",
       "  position: relative;\n",
       "}\n",
       "\n",
       "#sk-container-id-3 div.sk-text-repr-fallback {\n",
       "  display: none;\n",
       "}\n",
       "\n",
       "div.sk-parallel-item,\n",
       "div.sk-serial,\n",
       "div.sk-item {\n",
       "  /* draw centered vertical line to link estimators */\n",
       "  background-image: linear-gradient(var(--sklearn-color-text-on-default-background), var(--sklearn-color-text-on-default-background));\n",
       "  background-size: 2px 100%;\n",
       "  background-repeat: no-repeat;\n",
       "  background-position: center center;\n",
       "}\n",
       "\n",
       "/* Parallel-specific style estimator block */\n",
       "\n",
       "#sk-container-id-3 div.sk-parallel-item::after {\n",
       "  content: \"\";\n",
       "  width: 100%;\n",
       "  border-bottom: 2px solid var(--sklearn-color-text-on-default-background);\n",
       "  flex-grow: 1;\n",
       "}\n",
       "\n",
       "#sk-container-id-3 div.sk-parallel {\n",
       "  display: flex;\n",
       "  align-items: stretch;\n",
       "  justify-content: center;\n",
       "  background-color: var(--sklearn-color-background);\n",
       "  position: relative;\n",
       "}\n",
       "\n",
       "#sk-container-id-3 div.sk-parallel-item {\n",
       "  display: flex;\n",
       "  flex-direction: column;\n",
       "}\n",
       "\n",
       "#sk-container-id-3 div.sk-parallel-item:first-child::after {\n",
       "  align-self: flex-end;\n",
       "  width: 50%;\n",
       "}\n",
       "\n",
       "#sk-container-id-3 div.sk-parallel-item:last-child::after {\n",
       "  align-self: flex-start;\n",
       "  width: 50%;\n",
       "}\n",
       "\n",
       "#sk-container-id-3 div.sk-parallel-item:only-child::after {\n",
       "  width: 0;\n",
       "}\n",
       "\n",
       "/* Serial-specific style estimator block */\n",
       "\n",
       "#sk-container-id-3 div.sk-serial {\n",
       "  display: flex;\n",
       "  flex-direction: column;\n",
       "  align-items: center;\n",
       "  background-color: var(--sklearn-color-background);\n",
       "  padding-right: 1em;\n",
       "  padding-left: 1em;\n",
       "}\n",
       "\n",
       "\n",
       "/* Toggleable style: style used for estimator/Pipeline/ColumnTransformer box that is\n",
       "clickable and can be expanded/collapsed.\n",
       "- Pipeline and ColumnTransformer use this feature and define the default style\n",
       "- Estimators will overwrite some part of the style using the `sk-estimator` class\n",
       "*/\n",
       "\n",
       "/* Pipeline and ColumnTransformer style (default) */\n",
       "\n",
       "#sk-container-id-3 div.sk-toggleable {\n",
       "  /* Default theme specific background. It is overwritten whether we have a\n",
       "  specific estimator or a Pipeline/ColumnTransformer */\n",
       "  background-color: var(--sklearn-color-background);\n",
       "}\n",
       "\n",
       "/* Toggleable label */\n",
       "#sk-container-id-3 label.sk-toggleable__label {\n",
       "  cursor: pointer;\n",
       "  display: block;\n",
       "  width: 100%;\n",
       "  margin-bottom: 0;\n",
       "  padding: 0.5em;\n",
       "  box-sizing: border-box;\n",
       "  text-align: center;\n",
       "}\n",
       "\n",
       "#sk-container-id-3 label.sk-toggleable__label-arrow:before {\n",
       "  /* Arrow on the left of the label */\n",
       "  content: \"▸\";\n",
       "  float: left;\n",
       "  margin-right: 0.25em;\n",
       "  color: var(--sklearn-color-icon);\n",
       "}\n",
       "\n",
       "#sk-container-id-3 label.sk-toggleable__label-arrow:hover:before {\n",
       "  color: var(--sklearn-color-text);\n",
       "}\n",
       "\n",
       "/* Toggleable content - dropdown */\n",
       "\n",
       "#sk-container-id-3 div.sk-toggleable__content {\n",
       "  max-height: 0;\n",
       "  max-width: 0;\n",
       "  overflow: hidden;\n",
       "  text-align: left;\n",
       "  /* unfitted */\n",
       "  background-color: var(--sklearn-color-unfitted-level-0);\n",
       "}\n",
       "\n",
       "#sk-container-id-3 div.sk-toggleable__content.fitted {\n",
       "  /* fitted */\n",
       "  background-color: var(--sklearn-color-fitted-level-0);\n",
       "}\n",
       "\n",
       "#sk-container-id-3 div.sk-toggleable__content pre {\n",
       "  margin: 0.2em;\n",
       "  border-radius: 0.25em;\n",
       "  color: var(--sklearn-color-text);\n",
       "  /* unfitted */\n",
       "  background-color: var(--sklearn-color-unfitted-level-0);\n",
       "}\n",
       "\n",
       "#sk-container-id-3 div.sk-toggleable__content.fitted pre {\n",
       "  /* unfitted */\n",
       "  background-color: var(--sklearn-color-fitted-level-0);\n",
       "}\n",
       "\n",
       "#sk-container-id-3 input.sk-toggleable__control:checked~div.sk-toggleable__content {\n",
       "  /* Expand drop-down */\n",
       "  max-height: 200px;\n",
       "  max-width: 100%;\n",
       "  overflow: auto;\n",
       "}\n",
       "\n",
       "#sk-container-id-3 input.sk-toggleable__control:checked~label.sk-toggleable__label-arrow:before {\n",
       "  content: \"▾\";\n",
       "}\n",
       "\n",
       "/* Pipeline/ColumnTransformer-specific style */\n",
       "\n",
       "#sk-container-id-3 div.sk-label input.sk-toggleable__control:checked~label.sk-toggleable__label {\n",
       "  color: var(--sklearn-color-text);\n",
       "  background-color: var(--sklearn-color-unfitted-level-2);\n",
       "}\n",
       "\n",
       "#sk-container-id-3 div.sk-label.fitted input.sk-toggleable__control:checked~label.sk-toggleable__label {\n",
       "  background-color: var(--sklearn-color-fitted-level-2);\n",
       "}\n",
       "\n",
       "/* Estimator-specific style */\n",
       "\n",
       "/* Colorize estimator box */\n",
       "#sk-container-id-3 div.sk-estimator input.sk-toggleable__control:checked~label.sk-toggleable__label {\n",
       "  /* unfitted */\n",
       "  background-color: var(--sklearn-color-unfitted-level-2);\n",
       "}\n",
       "\n",
       "#sk-container-id-3 div.sk-estimator.fitted input.sk-toggleable__control:checked~label.sk-toggleable__label {\n",
       "  /* fitted */\n",
       "  background-color: var(--sklearn-color-fitted-level-2);\n",
       "}\n",
       "\n",
       "#sk-container-id-3 div.sk-label label.sk-toggleable__label,\n",
       "#sk-container-id-3 div.sk-label label {\n",
       "  /* The background is the default theme color */\n",
       "  color: var(--sklearn-color-text-on-default-background);\n",
       "}\n",
       "\n",
       "/* On hover, darken the color of the background */\n",
       "#sk-container-id-3 div.sk-label:hover label.sk-toggleable__label {\n",
       "  color: var(--sklearn-color-text);\n",
       "  background-color: var(--sklearn-color-unfitted-level-2);\n",
       "}\n",
       "\n",
       "/* Label box, darken color on hover, fitted */\n",
       "#sk-container-id-3 div.sk-label.fitted:hover label.sk-toggleable__label.fitted {\n",
       "  color: var(--sklearn-color-text);\n",
       "  background-color: var(--sklearn-color-fitted-level-2);\n",
       "}\n",
       "\n",
       "/* Estimator label */\n",
       "\n",
       "#sk-container-id-3 div.sk-label label {\n",
       "  font-family: monospace;\n",
       "  font-weight: bold;\n",
       "  display: inline-block;\n",
       "  line-height: 1.2em;\n",
       "}\n",
       "\n",
       "#sk-container-id-3 div.sk-label-container {\n",
       "  text-align: center;\n",
       "}\n",
       "\n",
       "/* Estimator-specific */\n",
       "#sk-container-id-3 div.sk-estimator {\n",
       "  font-family: monospace;\n",
       "  border: 1px dotted var(--sklearn-color-border-box);\n",
       "  border-radius: 0.25em;\n",
       "  box-sizing: border-box;\n",
       "  margin-bottom: 0.5em;\n",
       "  /* unfitted */\n",
       "  background-color: var(--sklearn-color-unfitted-level-0);\n",
       "}\n",
       "\n",
       "#sk-container-id-3 div.sk-estimator.fitted {\n",
       "  /* fitted */\n",
       "  background-color: var(--sklearn-color-fitted-level-0);\n",
       "}\n",
       "\n",
       "/* on hover */\n",
       "#sk-container-id-3 div.sk-estimator:hover {\n",
       "  /* unfitted */\n",
       "  background-color: var(--sklearn-color-unfitted-level-2);\n",
       "}\n",
       "\n",
       "#sk-container-id-3 div.sk-estimator.fitted:hover {\n",
       "  /* fitted */\n",
       "  background-color: var(--sklearn-color-fitted-level-2);\n",
       "}\n",
       "\n",
       "/* Specification for estimator info (e.g. \"i\" and \"?\") */\n",
       "\n",
       "/* Common style for \"i\" and \"?\" */\n",
       "\n",
       ".sk-estimator-doc-link,\n",
       "a:link.sk-estimator-doc-link,\n",
       "a:visited.sk-estimator-doc-link {\n",
       "  float: right;\n",
       "  font-size: smaller;\n",
       "  line-height: 1em;\n",
       "  font-family: monospace;\n",
       "  background-color: var(--sklearn-color-background);\n",
       "  border-radius: 1em;\n",
       "  height: 1em;\n",
       "  width: 1em;\n",
       "  text-decoration: none !important;\n",
       "  margin-left: 1ex;\n",
       "  /* unfitted */\n",
       "  border: var(--sklearn-color-unfitted-level-1) 1pt solid;\n",
       "  color: var(--sklearn-color-unfitted-level-1);\n",
       "}\n",
       "\n",
       ".sk-estimator-doc-link.fitted,\n",
       "a:link.sk-estimator-doc-link.fitted,\n",
       "a:visited.sk-estimator-doc-link.fitted {\n",
       "  /* fitted */\n",
       "  border: var(--sklearn-color-fitted-level-1) 1pt solid;\n",
       "  color: var(--sklearn-color-fitted-level-1);\n",
       "}\n",
       "\n",
       "/* On hover */\n",
       "div.sk-estimator:hover .sk-estimator-doc-link:hover,\n",
       ".sk-estimator-doc-link:hover,\n",
       "div.sk-label-container:hover .sk-estimator-doc-link:hover,\n",
       ".sk-estimator-doc-link:hover {\n",
       "  /* unfitted */\n",
       "  background-color: var(--sklearn-color-unfitted-level-3);\n",
       "  color: var(--sklearn-color-background);\n",
       "  text-decoration: none;\n",
       "}\n",
       "\n",
       "div.sk-estimator.fitted:hover .sk-estimator-doc-link.fitted:hover,\n",
       ".sk-estimator-doc-link.fitted:hover,\n",
       "div.sk-label-container:hover .sk-estimator-doc-link.fitted:hover,\n",
       ".sk-estimator-doc-link.fitted:hover {\n",
       "  /* fitted */\n",
       "  background-color: var(--sklearn-color-fitted-level-3);\n",
       "  color: var(--sklearn-color-background);\n",
       "  text-decoration: none;\n",
       "}\n",
       "\n",
       "/* Span, style for the box shown on hovering the info icon */\n",
       ".sk-estimator-doc-link span {\n",
       "  display: none;\n",
       "  z-index: 9999;\n",
       "  position: relative;\n",
       "  font-weight: normal;\n",
       "  right: .2ex;\n",
       "  padding: .5ex;\n",
       "  margin: .5ex;\n",
       "  width: min-content;\n",
       "  min-width: 20ex;\n",
       "  max-width: 50ex;\n",
       "  color: var(--sklearn-color-text);\n",
       "  box-shadow: 2pt 2pt 4pt #999;\n",
       "  /* unfitted */\n",
       "  background: var(--sklearn-color-unfitted-level-0);\n",
       "  border: .5pt solid var(--sklearn-color-unfitted-level-3);\n",
       "}\n",
       "\n",
       ".sk-estimator-doc-link.fitted span {\n",
       "  /* fitted */\n",
       "  background: var(--sklearn-color-fitted-level-0);\n",
       "  border: var(--sklearn-color-fitted-level-3);\n",
       "}\n",
       "\n",
       ".sk-estimator-doc-link:hover span {\n",
       "  display: block;\n",
       "}\n",
       "\n",
       "/* \"?\"-specific style due to the `<a>` HTML tag */\n",
       "\n",
       "#sk-container-id-3 a.estimator_doc_link {\n",
       "  float: right;\n",
       "  font-size: 1rem;\n",
       "  line-height: 1em;\n",
       "  font-family: monospace;\n",
       "  background-color: var(--sklearn-color-background);\n",
       "  border-radius: 1rem;\n",
       "  height: 1rem;\n",
       "  width: 1rem;\n",
       "  text-decoration: none;\n",
       "  /* unfitted */\n",
       "  color: var(--sklearn-color-unfitted-level-1);\n",
       "  border: var(--sklearn-color-unfitted-level-1) 1pt solid;\n",
       "}\n",
       "\n",
       "#sk-container-id-3 a.estimator_doc_link.fitted {\n",
       "  /* fitted */\n",
       "  border: var(--sklearn-color-fitted-level-1) 1pt solid;\n",
       "  color: var(--sklearn-color-fitted-level-1);\n",
       "}\n",
       "\n",
       "/* On hover */\n",
       "#sk-container-id-3 a.estimator_doc_link:hover {\n",
       "  /* unfitted */\n",
       "  background-color: var(--sklearn-color-unfitted-level-3);\n",
       "  color: var(--sklearn-color-background);\n",
       "  text-decoration: none;\n",
       "}\n",
       "\n",
       "#sk-container-id-3 a.estimator_doc_link.fitted:hover {\n",
       "  /* fitted */\n",
       "  background-color: var(--sklearn-color-fitted-level-3);\n",
       "}\n",
       "</style><div id=\"sk-container-id-3\" class=\"sk-top-container\"><div class=\"sk-text-repr-fallback\"><pre>LinearRegression()</pre><b>In a Jupyter environment, please rerun this cell to show the HTML representation or trust the notebook. <br />On GitHub, the HTML representation is unable to render, please try loading this page with nbviewer.org.</b></div><div class=\"sk-container\" hidden><div class=\"sk-item\"><div class=\"sk-estimator fitted sk-toggleable\"><input class=\"sk-toggleable__control sk-hidden--visually\" id=\"sk-estimator-id-3\" type=\"checkbox\" checked><label for=\"sk-estimator-id-3\" class=\"sk-toggleable__label fitted sk-toggleable__label-arrow fitted\">&nbsp;&nbsp;LinearRegression<a class=\"sk-estimator-doc-link fitted\" rel=\"noreferrer\" target=\"_blank\" href=\"https://scikit-learn.org/1.5/modules/generated/sklearn.linear_model.LinearRegression.html\">?<span>Documentation for LinearRegression</span></a><span class=\"sk-estimator-doc-link fitted\">i<span>Fitted</span></span></label><div class=\"sk-toggleable__content fitted\"><pre>LinearRegression()</pre></div> </div></div></div></div>"
      ],
      "text/plain": [
       "LinearRegression()"
      ]
     },
     "execution_count": 50,
     "metadata": {},
     "output_type": "execute_result"
    }
   ],
   "source": [
    "X = np.array(dr_sex_male_pre['year'].dt.year).reshape(-1, 1)\n",
    "y = dr_sex_male_pre['total_value']\n",
    "\n",
    "model_dr_sex_male_pre = LinearRegression()\n",
    "model_dr_sex_male_pre.fit(X, y)"
   ]
  },
  {
   "cell_type": "markdown",
   "id": "97c4818a-4b5f-447a-b5f9-350ff593ddc2",
   "metadata": {},
   "source": [
    "- Total Deaths by Year and Sex - Female"
   ]
  },
  {
   "cell_type": "code",
   "execution_count": 51,
   "id": "e6f9e046-e6a3-4332-81f7-dc5fe9c28bd6",
   "metadata": {},
   "outputs": [
    {
     "data": {
      "text/html": [
       "<style>#sk-container-id-4 {\n",
       "  /* Definition of color scheme common for light and dark mode */\n",
       "  --sklearn-color-text: black;\n",
       "  --sklearn-color-line: gray;\n",
       "  /* Definition of color scheme for unfitted estimators */\n",
       "  --sklearn-color-unfitted-level-0: #fff5e6;\n",
       "  --sklearn-color-unfitted-level-1: #f6e4d2;\n",
       "  --sklearn-color-unfitted-level-2: #ffe0b3;\n",
       "  --sklearn-color-unfitted-level-3: chocolate;\n",
       "  /* Definition of color scheme for fitted estimators */\n",
       "  --sklearn-color-fitted-level-0: #f0f8ff;\n",
       "  --sklearn-color-fitted-level-1: #d4ebff;\n",
       "  --sklearn-color-fitted-level-2: #b3dbfd;\n",
       "  --sklearn-color-fitted-level-3: cornflowerblue;\n",
       "\n",
       "  /* Specific color for light theme */\n",
       "  --sklearn-color-text-on-default-background: var(--sg-text-color, var(--theme-code-foreground, var(--jp-content-font-color1, black)));\n",
       "  --sklearn-color-background: var(--sg-background-color, var(--theme-background, var(--jp-layout-color0, white)));\n",
       "  --sklearn-color-border-box: var(--sg-text-color, var(--theme-code-foreground, var(--jp-content-font-color1, black)));\n",
       "  --sklearn-color-icon: #696969;\n",
       "\n",
       "  @media (prefers-color-scheme: dark) {\n",
       "    /* Redefinition of color scheme for dark theme */\n",
       "    --sklearn-color-text-on-default-background: var(--sg-text-color, var(--theme-code-foreground, var(--jp-content-font-color1, white)));\n",
       "    --sklearn-color-background: var(--sg-background-color, var(--theme-background, var(--jp-layout-color0, #111)));\n",
       "    --sklearn-color-border-box: var(--sg-text-color, var(--theme-code-foreground, var(--jp-content-font-color1, white)));\n",
       "    --sklearn-color-icon: #878787;\n",
       "  }\n",
       "}\n",
       "\n",
       "#sk-container-id-4 {\n",
       "  color: var(--sklearn-color-text);\n",
       "}\n",
       "\n",
       "#sk-container-id-4 pre {\n",
       "  padding: 0;\n",
       "}\n",
       "\n",
       "#sk-container-id-4 input.sk-hidden--visually {\n",
       "  border: 0;\n",
       "  clip: rect(1px 1px 1px 1px);\n",
       "  clip: rect(1px, 1px, 1px, 1px);\n",
       "  height: 1px;\n",
       "  margin: -1px;\n",
       "  overflow: hidden;\n",
       "  padding: 0;\n",
       "  position: absolute;\n",
       "  width: 1px;\n",
       "}\n",
       "\n",
       "#sk-container-id-4 div.sk-dashed-wrapped {\n",
       "  border: 1px dashed var(--sklearn-color-line);\n",
       "  margin: 0 0.4em 0.5em 0.4em;\n",
       "  box-sizing: border-box;\n",
       "  padding-bottom: 0.4em;\n",
       "  background-color: var(--sklearn-color-background);\n",
       "}\n",
       "\n",
       "#sk-container-id-4 div.sk-container {\n",
       "  /* jupyter's `normalize.less` sets `[hidden] { display: none; }`\n",
       "     but bootstrap.min.css set `[hidden] { display: none !important; }`\n",
       "     so we also need the `!important` here to be able to override the\n",
       "     default hidden behavior on the sphinx rendered scikit-learn.org.\n",
       "     See: https://github.com/scikit-learn/scikit-learn/issues/21755 */\n",
       "  display: inline-block !important;\n",
       "  position: relative;\n",
       "}\n",
       "\n",
       "#sk-container-id-4 div.sk-text-repr-fallback {\n",
       "  display: none;\n",
       "}\n",
       "\n",
       "div.sk-parallel-item,\n",
       "div.sk-serial,\n",
       "div.sk-item {\n",
       "  /* draw centered vertical line to link estimators */\n",
       "  background-image: linear-gradient(var(--sklearn-color-text-on-default-background), var(--sklearn-color-text-on-default-background));\n",
       "  background-size: 2px 100%;\n",
       "  background-repeat: no-repeat;\n",
       "  background-position: center center;\n",
       "}\n",
       "\n",
       "/* Parallel-specific style estimator block */\n",
       "\n",
       "#sk-container-id-4 div.sk-parallel-item::after {\n",
       "  content: \"\";\n",
       "  width: 100%;\n",
       "  border-bottom: 2px solid var(--sklearn-color-text-on-default-background);\n",
       "  flex-grow: 1;\n",
       "}\n",
       "\n",
       "#sk-container-id-4 div.sk-parallel {\n",
       "  display: flex;\n",
       "  align-items: stretch;\n",
       "  justify-content: center;\n",
       "  background-color: var(--sklearn-color-background);\n",
       "  position: relative;\n",
       "}\n",
       "\n",
       "#sk-container-id-4 div.sk-parallel-item {\n",
       "  display: flex;\n",
       "  flex-direction: column;\n",
       "}\n",
       "\n",
       "#sk-container-id-4 div.sk-parallel-item:first-child::after {\n",
       "  align-self: flex-end;\n",
       "  width: 50%;\n",
       "}\n",
       "\n",
       "#sk-container-id-4 div.sk-parallel-item:last-child::after {\n",
       "  align-self: flex-start;\n",
       "  width: 50%;\n",
       "}\n",
       "\n",
       "#sk-container-id-4 div.sk-parallel-item:only-child::after {\n",
       "  width: 0;\n",
       "}\n",
       "\n",
       "/* Serial-specific style estimator block */\n",
       "\n",
       "#sk-container-id-4 div.sk-serial {\n",
       "  display: flex;\n",
       "  flex-direction: column;\n",
       "  align-items: center;\n",
       "  background-color: var(--sklearn-color-background);\n",
       "  padding-right: 1em;\n",
       "  padding-left: 1em;\n",
       "}\n",
       "\n",
       "\n",
       "/* Toggleable style: style used for estimator/Pipeline/ColumnTransformer box that is\n",
       "clickable and can be expanded/collapsed.\n",
       "- Pipeline and ColumnTransformer use this feature and define the default style\n",
       "- Estimators will overwrite some part of the style using the `sk-estimator` class\n",
       "*/\n",
       "\n",
       "/* Pipeline and ColumnTransformer style (default) */\n",
       "\n",
       "#sk-container-id-4 div.sk-toggleable {\n",
       "  /* Default theme specific background. It is overwritten whether we have a\n",
       "  specific estimator or a Pipeline/ColumnTransformer */\n",
       "  background-color: var(--sklearn-color-background);\n",
       "}\n",
       "\n",
       "/* Toggleable label */\n",
       "#sk-container-id-4 label.sk-toggleable__label {\n",
       "  cursor: pointer;\n",
       "  display: block;\n",
       "  width: 100%;\n",
       "  margin-bottom: 0;\n",
       "  padding: 0.5em;\n",
       "  box-sizing: border-box;\n",
       "  text-align: center;\n",
       "}\n",
       "\n",
       "#sk-container-id-4 label.sk-toggleable__label-arrow:before {\n",
       "  /* Arrow on the left of the label */\n",
       "  content: \"▸\";\n",
       "  float: left;\n",
       "  margin-right: 0.25em;\n",
       "  color: var(--sklearn-color-icon);\n",
       "}\n",
       "\n",
       "#sk-container-id-4 label.sk-toggleable__label-arrow:hover:before {\n",
       "  color: var(--sklearn-color-text);\n",
       "}\n",
       "\n",
       "/* Toggleable content - dropdown */\n",
       "\n",
       "#sk-container-id-4 div.sk-toggleable__content {\n",
       "  max-height: 0;\n",
       "  max-width: 0;\n",
       "  overflow: hidden;\n",
       "  text-align: left;\n",
       "  /* unfitted */\n",
       "  background-color: var(--sklearn-color-unfitted-level-0);\n",
       "}\n",
       "\n",
       "#sk-container-id-4 div.sk-toggleable__content.fitted {\n",
       "  /* fitted */\n",
       "  background-color: var(--sklearn-color-fitted-level-0);\n",
       "}\n",
       "\n",
       "#sk-container-id-4 div.sk-toggleable__content pre {\n",
       "  margin: 0.2em;\n",
       "  border-radius: 0.25em;\n",
       "  color: var(--sklearn-color-text);\n",
       "  /* unfitted */\n",
       "  background-color: var(--sklearn-color-unfitted-level-0);\n",
       "}\n",
       "\n",
       "#sk-container-id-4 div.sk-toggleable__content.fitted pre {\n",
       "  /* unfitted */\n",
       "  background-color: var(--sklearn-color-fitted-level-0);\n",
       "}\n",
       "\n",
       "#sk-container-id-4 input.sk-toggleable__control:checked~div.sk-toggleable__content {\n",
       "  /* Expand drop-down */\n",
       "  max-height: 200px;\n",
       "  max-width: 100%;\n",
       "  overflow: auto;\n",
       "}\n",
       "\n",
       "#sk-container-id-4 input.sk-toggleable__control:checked~label.sk-toggleable__label-arrow:before {\n",
       "  content: \"▾\";\n",
       "}\n",
       "\n",
       "/* Pipeline/ColumnTransformer-specific style */\n",
       "\n",
       "#sk-container-id-4 div.sk-label input.sk-toggleable__control:checked~label.sk-toggleable__label {\n",
       "  color: var(--sklearn-color-text);\n",
       "  background-color: var(--sklearn-color-unfitted-level-2);\n",
       "}\n",
       "\n",
       "#sk-container-id-4 div.sk-label.fitted input.sk-toggleable__control:checked~label.sk-toggleable__label {\n",
       "  background-color: var(--sklearn-color-fitted-level-2);\n",
       "}\n",
       "\n",
       "/* Estimator-specific style */\n",
       "\n",
       "/* Colorize estimator box */\n",
       "#sk-container-id-4 div.sk-estimator input.sk-toggleable__control:checked~label.sk-toggleable__label {\n",
       "  /* unfitted */\n",
       "  background-color: var(--sklearn-color-unfitted-level-2);\n",
       "}\n",
       "\n",
       "#sk-container-id-4 div.sk-estimator.fitted input.sk-toggleable__control:checked~label.sk-toggleable__label {\n",
       "  /* fitted */\n",
       "  background-color: var(--sklearn-color-fitted-level-2);\n",
       "}\n",
       "\n",
       "#sk-container-id-4 div.sk-label label.sk-toggleable__label,\n",
       "#sk-container-id-4 div.sk-label label {\n",
       "  /* The background is the default theme color */\n",
       "  color: var(--sklearn-color-text-on-default-background);\n",
       "}\n",
       "\n",
       "/* On hover, darken the color of the background */\n",
       "#sk-container-id-4 div.sk-label:hover label.sk-toggleable__label {\n",
       "  color: var(--sklearn-color-text);\n",
       "  background-color: var(--sklearn-color-unfitted-level-2);\n",
       "}\n",
       "\n",
       "/* Label box, darken color on hover, fitted */\n",
       "#sk-container-id-4 div.sk-label.fitted:hover label.sk-toggleable__label.fitted {\n",
       "  color: var(--sklearn-color-text);\n",
       "  background-color: var(--sklearn-color-fitted-level-2);\n",
       "}\n",
       "\n",
       "/* Estimator label */\n",
       "\n",
       "#sk-container-id-4 div.sk-label label {\n",
       "  font-family: monospace;\n",
       "  font-weight: bold;\n",
       "  display: inline-block;\n",
       "  line-height: 1.2em;\n",
       "}\n",
       "\n",
       "#sk-container-id-4 div.sk-label-container {\n",
       "  text-align: center;\n",
       "}\n",
       "\n",
       "/* Estimator-specific */\n",
       "#sk-container-id-4 div.sk-estimator {\n",
       "  font-family: monospace;\n",
       "  border: 1px dotted var(--sklearn-color-border-box);\n",
       "  border-radius: 0.25em;\n",
       "  box-sizing: border-box;\n",
       "  margin-bottom: 0.5em;\n",
       "  /* unfitted */\n",
       "  background-color: var(--sklearn-color-unfitted-level-0);\n",
       "}\n",
       "\n",
       "#sk-container-id-4 div.sk-estimator.fitted {\n",
       "  /* fitted */\n",
       "  background-color: var(--sklearn-color-fitted-level-0);\n",
       "}\n",
       "\n",
       "/* on hover */\n",
       "#sk-container-id-4 div.sk-estimator:hover {\n",
       "  /* unfitted */\n",
       "  background-color: var(--sklearn-color-unfitted-level-2);\n",
       "}\n",
       "\n",
       "#sk-container-id-4 div.sk-estimator.fitted:hover {\n",
       "  /* fitted */\n",
       "  background-color: var(--sklearn-color-fitted-level-2);\n",
       "}\n",
       "\n",
       "/* Specification for estimator info (e.g. \"i\" and \"?\") */\n",
       "\n",
       "/* Common style for \"i\" and \"?\" */\n",
       "\n",
       ".sk-estimator-doc-link,\n",
       "a:link.sk-estimator-doc-link,\n",
       "a:visited.sk-estimator-doc-link {\n",
       "  float: right;\n",
       "  font-size: smaller;\n",
       "  line-height: 1em;\n",
       "  font-family: monospace;\n",
       "  background-color: var(--sklearn-color-background);\n",
       "  border-radius: 1em;\n",
       "  height: 1em;\n",
       "  width: 1em;\n",
       "  text-decoration: none !important;\n",
       "  margin-left: 1ex;\n",
       "  /* unfitted */\n",
       "  border: var(--sklearn-color-unfitted-level-1) 1pt solid;\n",
       "  color: var(--sklearn-color-unfitted-level-1);\n",
       "}\n",
       "\n",
       ".sk-estimator-doc-link.fitted,\n",
       "a:link.sk-estimator-doc-link.fitted,\n",
       "a:visited.sk-estimator-doc-link.fitted {\n",
       "  /* fitted */\n",
       "  border: var(--sklearn-color-fitted-level-1) 1pt solid;\n",
       "  color: var(--sklearn-color-fitted-level-1);\n",
       "}\n",
       "\n",
       "/* On hover */\n",
       "div.sk-estimator:hover .sk-estimator-doc-link:hover,\n",
       ".sk-estimator-doc-link:hover,\n",
       "div.sk-label-container:hover .sk-estimator-doc-link:hover,\n",
       ".sk-estimator-doc-link:hover {\n",
       "  /* unfitted */\n",
       "  background-color: var(--sklearn-color-unfitted-level-3);\n",
       "  color: var(--sklearn-color-background);\n",
       "  text-decoration: none;\n",
       "}\n",
       "\n",
       "div.sk-estimator.fitted:hover .sk-estimator-doc-link.fitted:hover,\n",
       ".sk-estimator-doc-link.fitted:hover,\n",
       "div.sk-label-container:hover .sk-estimator-doc-link.fitted:hover,\n",
       ".sk-estimator-doc-link.fitted:hover {\n",
       "  /* fitted */\n",
       "  background-color: var(--sklearn-color-fitted-level-3);\n",
       "  color: var(--sklearn-color-background);\n",
       "  text-decoration: none;\n",
       "}\n",
       "\n",
       "/* Span, style for the box shown on hovering the info icon */\n",
       ".sk-estimator-doc-link span {\n",
       "  display: none;\n",
       "  z-index: 9999;\n",
       "  position: relative;\n",
       "  font-weight: normal;\n",
       "  right: .2ex;\n",
       "  padding: .5ex;\n",
       "  margin: .5ex;\n",
       "  width: min-content;\n",
       "  min-width: 20ex;\n",
       "  max-width: 50ex;\n",
       "  color: var(--sklearn-color-text);\n",
       "  box-shadow: 2pt 2pt 4pt #999;\n",
       "  /* unfitted */\n",
       "  background: var(--sklearn-color-unfitted-level-0);\n",
       "  border: .5pt solid var(--sklearn-color-unfitted-level-3);\n",
       "}\n",
       "\n",
       ".sk-estimator-doc-link.fitted span {\n",
       "  /* fitted */\n",
       "  background: var(--sklearn-color-fitted-level-0);\n",
       "  border: var(--sklearn-color-fitted-level-3);\n",
       "}\n",
       "\n",
       ".sk-estimator-doc-link:hover span {\n",
       "  display: block;\n",
       "}\n",
       "\n",
       "/* \"?\"-specific style due to the `<a>` HTML tag */\n",
       "\n",
       "#sk-container-id-4 a.estimator_doc_link {\n",
       "  float: right;\n",
       "  font-size: 1rem;\n",
       "  line-height: 1em;\n",
       "  font-family: monospace;\n",
       "  background-color: var(--sklearn-color-background);\n",
       "  border-radius: 1rem;\n",
       "  height: 1rem;\n",
       "  width: 1rem;\n",
       "  text-decoration: none;\n",
       "  /* unfitted */\n",
       "  color: var(--sklearn-color-unfitted-level-1);\n",
       "  border: var(--sklearn-color-unfitted-level-1) 1pt solid;\n",
       "}\n",
       "\n",
       "#sk-container-id-4 a.estimator_doc_link.fitted {\n",
       "  /* fitted */\n",
       "  border: var(--sklearn-color-fitted-level-1) 1pt solid;\n",
       "  color: var(--sklearn-color-fitted-level-1);\n",
       "}\n",
       "\n",
       "/* On hover */\n",
       "#sk-container-id-4 a.estimator_doc_link:hover {\n",
       "  /* unfitted */\n",
       "  background-color: var(--sklearn-color-unfitted-level-3);\n",
       "  color: var(--sklearn-color-background);\n",
       "  text-decoration: none;\n",
       "}\n",
       "\n",
       "#sk-container-id-4 a.estimator_doc_link.fitted:hover {\n",
       "  /* fitted */\n",
       "  background-color: var(--sklearn-color-fitted-level-3);\n",
       "}\n",
       "</style><div id=\"sk-container-id-4\" class=\"sk-top-container\"><div class=\"sk-text-repr-fallback\"><pre>LinearRegression()</pre><b>In a Jupyter environment, please rerun this cell to show the HTML representation or trust the notebook. <br />On GitHub, the HTML representation is unable to render, please try loading this page with nbviewer.org.</b></div><div class=\"sk-container\" hidden><div class=\"sk-item\"><div class=\"sk-estimator fitted sk-toggleable\"><input class=\"sk-toggleable__control sk-hidden--visually\" id=\"sk-estimator-id-4\" type=\"checkbox\" checked><label for=\"sk-estimator-id-4\" class=\"sk-toggleable__label fitted sk-toggleable__label-arrow fitted\">&nbsp;&nbsp;LinearRegression<a class=\"sk-estimator-doc-link fitted\" rel=\"noreferrer\" target=\"_blank\" href=\"https://scikit-learn.org/1.5/modules/generated/sklearn.linear_model.LinearRegression.html\">?<span>Documentation for LinearRegression</span></a><span class=\"sk-estimator-doc-link fitted\">i<span>Fitted</span></span></label><div class=\"sk-toggleable__content fitted\"><pre>LinearRegression()</pre></div> </div></div></div></div>"
      ],
      "text/plain": [
       "LinearRegression()"
      ]
     },
     "execution_count": 51,
     "metadata": {},
     "output_type": "execute_result"
    }
   ],
   "source": [
    "X = np.array(dr_sex_female_pre['year'].dt.year).reshape(-1, 1)\n",
    "y = dr_sex_female_pre['total_value']\n",
    "\n",
    "model_dr_sex_female_pre = LinearRegression()\n",
    "model_dr_sex_female_pre.fit(X, y)"
   ]
  },
  {
   "cell_type": "markdown",
   "id": "001ec8ec-5025-4cc0-8c91-a1a5f37676d3",
   "metadata": {},
   "source": [
    "### Simulating the Values for the 15 Previous Years"
   ]
  },
  {
   "cell_type": "markdown",
   "id": "a8ca27fa-3fe2-45e2-b1ed-3f3ebf02e5af",
   "metadata": {},
   "source": [
    "- Total Deaths by Year "
   ]
  },
  {
   "cell_type": "code",
   "execution_count": 52,
   "id": "fd034edb-4f40-4f41-9358-a6bcebec139b",
   "metadata": {},
   "outputs": [],
   "source": [
    "new_years_dr_year_pre = np.arange(1984, 1999).reshape(-1, 1)  # 15 years before 1999\n",
    "predicted_values_dr_year_pre = model_dr_year_pre.predict(new_years_dr_year_pre)"
   ]
  },
  {
   "cell_type": "markdown",
   "id": "babd31c0-170d-4891-b754-e7b2bd9d34e8",
   "metadata": {},
   "source": [
    "- Total Deaths by Year - European Union "
   ]
  },
  {
   "cell_type": "code",
   "execution_count": 53,
   "id": "418b5217-66a7-4307-9f37-a849b88ba488",
   "metadata": {},
   "outputs": [],
   "source": [
    "new_years_dr_year_pre_EU = np.arange(1984, 1999).reshape(-1, 1)  # 15 years before 1999\n",
    "predicted_values_dr_year_pre_EU = model_dr_year_pre_EU.predict(new_years_dr_year_pre_EU)"
   ]
  },
  {
   "cell_type": "markdown",
   "id": "de0f7716-0490-457a-a9a3-6ce2e43a0fc4",
   "metadata": {},
   "source": [
    "- Total Deaths by Year and Sex - Male"
   ]
  },
  {
   "cell_type": "code",
   "execution_count": 54,
   "id": "83d2a541-0b24-41fd-8b76-c6ef1a8b6b34",
   "metadata": {},
   "outputs": [],
   "source": [
    "new_years_dr_sex_male_pre = np.arange(1984, 1999).reshape(-1, 1)  # 15 years before 1999\n",
    "predicted_values_dr_sex_male_pre = model_dr_sex_male_pre.predict(new_years_dr_sex_male_pre)"
   ]
  },
  {
   "cell_type": "markdown",
   "id": "96976d9b-153a-400b-80c5-7647f5f9cd88",
   "metadata": {},
   "source": [
    "- Total Deaths by Year and Sex - Female"
   ]
  },
  {
   "cell_type": "code",
   "execution_count": 55,
   "id": "0368f4e6-1dbd-4b2f-b8ac-44eb1a7a4637",
   "metadata": {},
   "outputs": [],
   "source": [
    "new_years_dr_sex_female_pre = np.arange(1984, 1999).reshape(-1, 1)  # 15 years before 1999\n",
    "predicted_values_dr_sex_female_pre = model_dr_sex_female_pre.predict(new_years_dr_sex_female_pre)"
   ]
  },
  {
   "cell_type": "markdown",
   "id": "b5ef7b0d-49c9-4d07-8ae1-27a31b0256c2",
   "metadata": {},
   "source": [
    "### Adding Noise to the Extrapolated Data"
   ]
  },
  {
   "cell_type": "markdown",
   "id": "87719ca2-2e39-4119-8ba8-3397573183fd",
   "metadata": {},
   "source": [
    "- Total Deaths by Year "
   ]
  },
  {
   "cell_type": "code",
   "execution_count": 56,
   "id": "0e6390be-e2f8-44d1-9cdc-d6afc91ea40d",
   "metadata": {},
   "outputs": [],
   "source": [
    "noise_dr_year_pre = np.random.normal(0, 2000, len(predicted_values_dr_year_pre))  # Noise with a smaller standard deviation (2000)\n",
    "predicted_values_with_noise_dr_year_pre = predicted_values_dr_year_pre + noise_dr_year_pre"
   ]
  },
  {
   "cell_type": "markdown",
   "id": "c301663f-9603-422d-a75b-5b2d53831d0b",
   "metadata": {},
   "source": [
    "- Total Deaths by Year - European Union "
   ]
  },
  {
   "cell_type": "code",
   "execution_count": 57,
   "id": "84453966-51a0-4904-bda0-e274de05401c",
   "metadata": {},
   "outputs": [],
   "source": [
    "noise_dr_year_pre_EU = np.random.normal(0, 2000, len(predicted_values_dr_year_pre_EU))  # Noise with a smaller standard deviation (2000)\n",
    "predicted_values_with_noise_dr_year_pre_EU = predicted_values_dr_year_pre_EU + noise_dr_year_pre_EU"
   ]
  },
  {
   "cell_type": "markdown",
   "id": "25f55dee-ee88-4908-9e5b-6ff1c95a2fd2",
   "metadata": {},
   "source": [
    "- Total Deaths by Year and Sex - Male"
   ]
  },
  {
   "cell_type": "code",
   "execution_count": 58,
   "id": "d584f0df-db62-4be2-894d-77d4f68f94e5",
   "metadata": {},
   "outputs": [],
   "source": [
    "noise_dr_sex_male_pre= np.random.normal(0, 2000, len(predicted_values_dr_sex_male_pre))  # Noise with a smaller standard deviation (2000)\n",
    "predicted_values_with_noise_dr_sex_male_pre = predicted_values_dr_sex_male_pre + noise_dr_sex_male_pre"
   ]
  },
  {
   "cell_type": "markdown",
   "id": "c022e360-3449-44b6-ad94-1470530961ed",
   "metadata": {},
   "source": [
    "- Total Deaths by Year and Sex - Female"
   ]
  },
  {
   "cell_type": "code",
   "execution_count": 59,
   "id": "41233c84-cb62-4f25-a1c4-8fd52e32f244",
   "metadata": {},
   "outputs": [],
   "source": [
    "noise_dr_sex_female_pre= np.random.normal(0, 2000, len(predicted_values_dr_sex_female_pre))  # Noise with a smaller standard deviation (2000)\n",
    "predicted_values_with_noise_dr_sex_female_pre = predicted_values_dr_sex_female_pre + noise_dr_sex_female_pre"
   ]
  },
  {
   "cell_type": "code",
   "execution_count": 60,
   "id": "94311345-2be0-4a07-8a14-b586110c2703",
   "metadata": {},
   "outputs": [
    {
     "data": {
      "text/plain": [
       "array([17504.96746301, 17436.32354693, 17758.28532781, 16284.56051565,\n",
       "       15443.66059224, 17345.56455256, 15945.92988049, 15318.80587707,\n",
       "       14782.41760884, 11996.25884479, 14387.90815463, 15012.67586083,\n",
       "       12777.0735892 , 12497.56623154, 16100.3214107 ])"
      ]
     },
     "execution_count": 60,
     "metadata": {},
     "output_type": "execute_result"
    }
   ],
   "source": [
    "predicted_values_with_noise_dr_sex_female_pre"
   ]
  },
  {
   "cell_type": "markdown",
   "id": "ccbb7215-1e39-4b64-9018-2de8e8fae16b",
   "metadata": {},
   "source": [
    "### Plotting the Graph with The Original and Extrapolated Data"
   ]
  },
  {
   "cell_type": "markdown",
   "id": "9bba8acf-8457-49c4-aa2f-01f63f94f0fc",
   "metadata": {},
   "source": [
    "- Total Deaths by Year "
   ]
  },
  {
   "cell_type": "code",
   "execution_count": 61,
   "id": "3baf466d-a21f-49ca-9160-8b09f96b44e9",
   "metadata": {},
   "outputs": [
    {
     "data": {
      "image/png": "[encoded data removed]",
      "text/plain": [
       "<Figure size 720x432 with 1 Axes>"
      ]
     },
     "metadata": {
      "needs_background": "light"
     },
     "output_type": "display_data"
    }
   ],
   "source": [
    "# Creating a DataFrame with the previous years and the predicted values with noise\n",
    "df_new_years_dr_year_pre = pd.DataFrame({\n",
    "    'year': pd.to_datetime(new_years_dr_year_pre.flatten(), format='%Y'),\n",
    "    'total_value': predicted_values_with_noise_dr_year_pre\n",
    "})\n",
    "\n",
    "# Concatenating the original data with the predicted years\n",
    "df_final_dr_year_pre = pd.concat([df_new_years_dr_year_pre, dr_year_pre])\n",
    "df_final_dr_year_pre = df_final_dr_year_pre.reset_index(drop=True)\n",
    "\n",
    "# Plotting the graph \n",
    "plt.figure(figsize=(10,6))\n",
    "df_full_dr_year_pre = pd.concat([df_new_years_dr_year_pre, dr_year_pre])\n",
    "plt.plot(df_full_dr_year_pre['year'], df_full_dr_year_pre['total_value'], marker='o', label='Original Data', color='blue')\n",
    "plt.plot(df_new_years_dr_year_pre['year'], df_new_years_dr_year_pre['total_value'], marker='o', linestyle='-', label='Extrapolated Data', color='orange')\n",
    "plt.title('Road Accident Deaths by Year (With Data Extrapolation)')\n",
    "plt.xlabel('Year')\n",
    "plt.ylabel('Total Value')\n",
    "plt.grid(True)\n",
    "plt.xticks(rotation=45)\n",
    "plt.legend()\n",
    "plt.tight_layout()\n",
    "\n",
    "# Show the plot\n",
    "plt.show()\n"
   ]
  },
  {
   "cell_type": "markdown",
   "id": "7dfb7b9a-381e-4e7e-b8d0-e77881f635d4",
   "metadata": {},
   "source": [
    "- Total Deaths by Year - European Union "
   ]
  },
  {
   "cell_type": "code",
   "execution_count": 62,
   "id": "9877d1d5-f796-493d-a047-3c91a400e720",
   "metadata": {},
   "outputs": [
    {
     "data": {
      "image/png": "[encoded data removed]",
      "text/plain": [
       "<Figure size 720x432 with 1 Axes>"
      ]
     },
     "metadata": {
      "needs_background": "light"
     },
     "output_type": "display_data"
    }
   ],
   "source": [
    "# Creating a DataFrame with the previous years and the predicted values with noise\n",
    "df_new_years_dr_year_pre_EU = pd.DataFrame({\n",
    "    'year': pd.to_datetime(new_years_dr_year_pre_EU.flatten(), format='%Y'),\n",
    "    'total_value': predicted_values_with_noise_dr_year_pre_EU\n",
    "})\n",
    "\n",
    "# Concatenating the original data with the predicted years\n",
    "df_final_dr_year_pre_EU = pd.concat([df_new_years_dr_year_pre_EU, dr_year_pre_EU])\n",
    "df_final_dr_year_pre_EU = df_final_dr_year_pre_EU.reset_index(drop=True)\n",
    "\n",
    "# Plotting the graph \n",
    "plt.figure(figsize=(10,6))\n",
    "df_full_dr_year_pre_EU = pd.concat([df_new_years_dr_year_pre_EU, dr_year_pre_EU])\n",
    "plt.plot(df_full_dr_year_pre_EU['year'], df_full_dr_year_pre_EU['total_value'], marker='o', label='Original Data', color='blue')\n",
    "plt.plot(df_new_years_dr_year_pre_EU['year'], df_new_years_dr_year_pre_EU['total_value'], marker='o', linestyle='-', label='Extrapolated Data', color='orange')\n",
    "plt.title('Road Accident Deaths by Year in European Union (With Data Extrapolation)')\n",
    "plt.xlabel('Year')\n",
    "plt.ylabel('Total Value')\n",
    "plt.grid(True)\n",
    "plt.xticks(rotation=45)\n",
    "plt.legend()\n",
    "plt.tight_layout()\n",
    "\n",
    "# Show the plot\n",
    "plt.show()"
   ]
  },
  {
   "cell_type": "markdown",
   "id": "11bdbe7a-8a39-4c4c-a9d3-3c1017b29722",
   "metadata": {},
   "source": [
    "- Total Deaths by Year and Sex - Male"
   ]
  },
  {
   "cell_type": "code",
   "execution_count": 63,
   "id": "ebcfb634-60dd-4eb8-b299-9874a6243266",
   "metadata": {},
   "outputs": [
    {
     "data": {
      "image/png": "[encoded data removed]",
      "text/plain": [
       "<Figure size 720x432 with 1 Axes>"
      ]
     },
     "metadata": {
      "needs_background": "light"
     },
     "output_type": "display_data"
    }
   ],
   "source": [
    "# Creating a DataFrame with the previous years and the predicted values with noise\n",
    "df_new_years_dr_sex_male_pre = pd.DataFrame({\n",
    "    'year': pd.to_datetime(new_years_dr_sex_male_pre.flatten(), format='%Y'),\n",
    "    'total_value': predicted_values_with_noise_dr_sex_male_pre\n",
    "})\n",
    "\n",
    "# Concatenating the original data with the predicted years\n",
    "df_final_dr_sex_male_pre = pd.concat([df_new_years_dr_sex_male_pre, dr_sex_male_pre])\n",
    "df_final_dr_sex_male_pre = df_final_dr_sex_male_pre.reset_index(drop=True)\n",
    "\n",
    "# Plotting the graph \n",
    "plt.figure(figsize=(10,6))\n",
    "df_full_dr_sex_male_pre = pd.concat([df_new_years_dr_sex_male_pre, dr_sex_male_pre])\n",
    "plt.plot(df_full_dr_sex_male_pre['year'], df_full_dr_sex_male_pre['total_value'], marker='o', label='Original Data', color='blue')\n",
    "plt.plot(df_new_years_dr_sex_male_pre['year'], df_new_years_dr_sex_male_pre['total_value'], marker='o', linestyle='-', label='Extrapolated Data', color='orange')\n",
    "plt.title('Road Accident Deaths by Year and Sex - Male (With Data Extrapolation)')\n",
    "plt.xlabel('Year')\n",
    "plt.ylabel('Total Value')\n",
    "plt.grid(True)\n",
    "plt.xticks(rotation=45)\n",
    "plt.legend()\n",
    "plt.tight_layout()\n",
    "\n",
    "# Show the plot\n",
    "plt.show()"
   ]
  },
  {
   "cell_type": "markdown",
   "id": "27078524-a1b3-4126-a74a-1f1b89a9f619",
   "metadata": {},
   "source": [
    "- Total Deaths by Year and Sex - Female"
   ]
  },
  {
   "cell_type": "code",
   "execution_count": 64,
   "id": "560ec640-f37f-4d39-9481-fbb74891240b",
   "metadata": {},
   "outputs": [
    {
     "data": {
      "image/png": "[encoded data removed]",
      "text/plain": [
       "<Figure size 720x432 with 1 Axes>"
      ]
     },
     "metadata": {
      "needs_background": "light"
     },
     "output_type": "display_data"
    }
   ],
   "source": [
    "# Creating a DataFrame with the previous years and the predicted values with noise\n",
    "df_new_years_dr_sex_female_pre = pd.DataFrame({\n",
    "    'year': pd.to_datetime(new_years_dr_sex_female_pre.flatten(), format='%Y'),\n",
    "    'total_value': predicted_values_with_noise_dr_sex_female_pre\n",
    "})\n",
    "\n",
    "# Concatenating the original data with the predicted years\n",
    "df_final_dr_sex_female_pre = pd.concat([df_new_years_dr_sex_female_pre, dr_sex_female_pre])\n",
    "df_final_dr_sex_female_pre = df_final_dr_sex_female_pre.reset_index(drop=True)\n",
    "\n",
    "# Plotting the graph \n",
    "plt.figure(figsize=(10,6))\n",
    "df_full_dr_sex_female_pre = pd.concat([df_new_years_dr_sex_female_pre, dr_sex_female_pre])\n",
    "plt.plot(df_full_dr_sex_female_pre['year'], df_full_dr_sex_female_pre['total_value'], marker='o', label='Original Data', color='blue')\n",
    "plt.plot(df_new_years_dr_sex_female_pre['year'], df_new_years_dr_sex_female_pre['total_value'], marker='o', linestyle='-', label='Extrapolated Data', color='orange')\n",
    "plt.title('Road Accident Deaths by Year and Sex - Female (With Data Extrapolation)')\n",
    "plt.xlabel('Year')\n",
    "plt.ylabel('Total Value')\n",
    "plt.grid(True)\n",
    "plt.xticks(rotation=45)\n",
    "plt.legend()\n",
    "plt.tight_layout()\n",
    "\n",
    "# Show the plot\n",
    "plt.show()"
   ]
  },
  {
   "cell_type": "markdown",
   "id": "17b26252-d740-4b38-a4ff-b7634e027e5b",
   "metadata": {},
   "source": [
    "### Renaming Datasets"
   ]
  },
  {
   "cell_type": "code",
   "execution_count": 65,
   "id": "9854d7d8-eee7-4ebc-ae09-ee84d63093dd",
   "metadata": {},
   "outputs": [],
   "source": [
    "dr_year = df_full_dr_year_pre\n",
    "dr_year_EU = df_full_dr_year_pre_EU\n",
    "dr_sex_male = df_full_dr_sex_male_pre\n",
    "dr_sex_female = df_full_dr_sex_female_pre"
   ]
  },
  {
   "cell_type": "markdown",
   "id": "d6667962-9909-4863-a5f9-0f440a0a49ca",
   "metadata": {},
   "source": [
    "# Feature Engineering"
   ]
  },
  {
   "cell_type": "markdown",
   "id": "41c144e0-e8cd-431b-90b4-896e028af7f2",
   "metadata": {},
   "source": [
    "### Setting the Number of Previous Observations for Prediction"
   ]
  },
  {
   "cell_type": "code",
   "execution_count": 66,
   "id": "ebc6b659-d6fd-456c-bcb2-daa636b41be2",
   "metadata": {},
   "outputs": [],
   "source": [
    "previous_years = 15"
   ]
  },
  {
   "cell_type": "markdown",
   "id": "4b9cf2c5-39e7-44b0-99df-fdbd1285a340",
   "metadata": {},
   "source": [
    "## Splitting the Dataset in Train and Test"
   ]
  },
  {
   "cell_type": "markdown",
   "id": "c44bf6c6-ec8a-4ee4-9a5d-d0d778d8d4d5",
   "metadata": {},
   "source": [
    "- Total Deaths by Year "
   ]
  },
  {
   "cell_type": "code",
   "execution_count": 67,
   "id": "a9a2e358-54f2-40d9-a2d6-395310ab68a2",
   "metadata": {},
   "outputs": [],
   "source": [
    "dr_year_v = dr_year[['total_value']].values"
   ]
  },
  {
   "cell_type": "markdown",
   "id": "5f786b6a-3457-4156-a595-62f6d055e079",
   "metadata": {},
   "source": [
    "- Total Deaths by Year - European Union "
   ]
  },
  {
   "cell_type": "code",
   "execution_count": 68,
   "id": "2d29242d-75a9-4d03-9c32-bb8dab4a8af8",
   "metadata": {},
   "outputs": [],
   "source": [
    "dr_year_v_EU = dr_year_EU[['total_value']].values"
   ]
  },
  {
   "cell_type": "markdown",
   "id": "f28ca84e-e391-4752-a95c-adccef9231d4",
   "metadata": {},
   "source": [
    "- Total Deaths by Year and Sex - Male"
   ]
  },
  {
   "cell_type": "code",
   "execution_count": 69,
   "id": "d2fd3e72-6cc0-424b-acf9-160fe21839fd",
   "metadata": {},
   "outputs": [],
   "source": [
    "dr_sex_male_v =dr_sex_male[['total_value']].values"
   ]
  },
  {
   "cell_type": "markdown",
   "id": "b92c23a9-9d03-4dc0-9734-181750329605",
   "metadata": {},
   "source": [
    "- Total Deaths by Year and Sex - Female"
   ]
  },
  {
   "cell_type": "code",
   "execution_count": 70,
   "id": "0af4d3ec-be91-4879-9bb7-3ac31c59bca7",
   "metadata": {},
   "outputs": [],
   "source": [
    "dr_sex_female_v = dr_sex_female[['total_value']].values"
   ]
  },
  {
   "cell_type": "markdown",
   "id": "4e1602f7-6787-462d-ae68-20e17e4327d0",
   "metadata": {},
   "source": [
    "### Defining the Size of Train Sample"
   ]
  },
  {
   "cell_type": "code",
   "execution_count": 71,
   "id": "2f913532-ddeb-426d-916f-ff4b111cb14e",
   "metadata": {},
   "outputs": [],
   "source": [
    "training_data_len = math.ceil( len(dr_year) * .8 )"
   ]
  },
  {
   "cell_type": "code",
   "execution_count": 72,
   "id": "c0ec621c-adb9-4298-8ade-c35db82219f5",
   "metadata": {},
   "outputs": [
    {
     "data": {
      "text/plain": [
       "32"
      ]
     },
     "execution_count": 72,
     "metadata": {},
     "output_type": "execute_result"
    }
   ],
   "source": [
    "training_data_len"
   ]
  },
  {
   "cell_type": "markdown",
   "id": "30e9f040-0709-4a17-9cc4-51410c2d66b7",
   "metadata": {},
   "source": [
    "### Splitting the Datasets"
   ]
  },
  {
   "cell_type": "code",
   "execution_count": 73,
   "id": "7f9d6a21-9429-4973-9680-523fddcd5a0d",
   "metadata": {},
   "outputs": [],
   "source": [
    "train_data_dr_year = dr_year_v[0:training_data_len , :]\n",
    "train_data_dr_year_EU = dr_year_v_EU[0:training_data_len , :]\n",
    "train_data_dr_sex_male = dr_sex_male_v[0:training_data_len , :]\n",
    "train_data_dr_sex_female= dr_sex_female_v[0:training_data_len , :]"
   ]
  },
  {
   "cell_type": "markdown",
   "id": "db4e5e4c-9011-4739-a886-00ee3c06b02d",
   "metadata": {},
   "source": [
    "# Recurrent Neural Networking"
   ]
  },
  {
   "cell_type": "markdown",
   "id": "bda3a8ae-afb9-4720-8fe9-a17a56d05aa4",
   "metadata": {
    "tags": []
   },
   "source": [
    "## RNN for Total Deaths by Year"
   ]
  },
  {
   "cell_type": "markdown",
   "id": "75593d4a-25e7-49c6-b37c-302802a2223b",
   "metadata": {},
   "source": [
    "### Creating a Loop to Define Training Variables and the Target Variable"
   ]
  },
  {
   "cell_type": "code",
   "execution_count": 74,
   "id": "acf329e1-38ef-4bfc-a015-e4c52875f1f2",
   "metadata": {},
   "outputs": [],
   "source": [
    "x_train_dr_year =[]\n",
    "y_train_dr_year =[]\n",
    "\n",
    "for i in range(previous_years, len(train_data_dr_year)):\n",
    "    x_train_dr_year.append(train_data_dr_year[i-previous_years:i,0])\n",
    "    y_train_dr_year.append(train_data_dr_year[i,0])\n",
    "    \n",
    "x_train_dr_year = np.array(x_train_dr_year)\n",
    "y_train_dr_year = np.array(y_train_dr_year)"
   ]
  },
  {
   "cell_type": "markdown",
   "id": "a592f7b3-3944-487a-8c3e-af2a8eb4a482",
   "metadata": {},
   "source": [
    "#### Normalizing Train Data"
   ]
  },
  {
   "cell_type": "code",
   "execution_count": 75,
   "id": "29f4ed56-28ab-4088-8f52-b51c5bc10230",
   "metadata": {},
   "outputs": [],
   "source": [
    "scaler = MinMaxScaler(feature_range=(0, 1))\n",
    "x_train_scaled = scaler.fit_transform(x_train_dr_year)\n",
    "y_train_scaled = scaler.fit_transform(y_train_dr_year.reshape(-1, 1))"
   ]
  },
  {
   "cell_type": "markdown",
   "id": "145ff112-2943-4624-85d8-bc046537f97f",
   "metadata": {},
   "source": [
    "- Converting in Numpy Arrays to Train the LTSM Neural Net model"
   ]
  },
  {
   "cell_type": "code",
   "execution_count": 76,
   "id": "dbac7de5-4ea5-4434-b28f-2490ce71bbb4",
   "metadata": {},
   "outputs": [
    {
     "data": {
      "text/plain": [
       "(17, 15, 1)"
      ]
     },
     "execution_count": 76,
     "metadata": {},
     "output_type": "execute_result"
    }
   ],
   "source": [
    "x_train_scaled =np.reshape(x_train_scaled,(x_train_scaled.shape[0], x_train_scaled.shape[1],1))\n",
    "x_train_scaled.shape"
   ]
  },
  {
   "cell_type": "markdown",
   "id": "9e28ea6a-eca7-441e-97d9-1b001ebefbf4",
   "metadata": {},
   "source": [
    "### Building the Model LSTM Neural Net Model"
   ]
  },
  {
   "cell_type": "code",
   "execution_count": 172,
   "id": "12a11313-36c7-401e-af6b-08dde841f256",
   "metadata": {},
   "outputs": [],
   "source": [
    "model_dr_year = Sequential()\n",
    "model_dr_year.add(LSTM(20, return_sequences = True, input_shape = (x_train_scaled.shape[1], 1)))\n",
    "model_dr_year.add(TimeDistributed(Dense(20)))\n",
    "model_dr_year.add(LSTM(15, return_sequences = False))\n",
    "model_dr_year.add(Dense(10, kernel_regularizer=l2(0.001)))\n",
    "model_dr_year.add(Dense(1)) "
   ]
  },
  {
   "cell_type": "markdown",
   "id": "c1b32351-4770-4b41-83d9-dfc8b54145ad",
   "metadata": {},
   "source": [
    "### Compiling the Model"
   ]
  },
  {
   "cell_type": "code",
   "execution_count": 173,
   "id": "5162089d-2050-448d-b830-be395b59cf39",
   "metadata": {},
   "outputs": [],
   "source": [
    "optimizer = Adam(learning_rate=0.0005)\n",
    "model_dr_year.compile(loss='mean_squared_error', optimizer=optimizer)"
   ]
  },
  {
   "cell_type": "markdown",
   "id": "49e1a0ea-ef61-4b94-b08b-b8abc5c70d23",
   "metadata": {},
   "source": [
    "### Training the Model"
   ]
  },
  {
   "cell_type": "code",
   "execution_count": 174,
   "id": "589725c4-14e0-4815-9782-b6cbaa6b7589",
   "metadata": {},
   "outputs": [
    {
     "name": "stdout",
     "output_type": "stream",
     "text": [
      "Epoch 1/50\n",
      "2/2 [==============================] - 9s 25ms/step - loss: 0.3676\n",
      "Epoch 2/50\n",
      "2/2 [==============================] - 0s 21ms/step - loss: 0.3321\n",
      "Epoch 3/50\n",
      "2/2 [==============================] - 0s 19ms/step - loss: 0.2984\n",
      "Epoch 4/50\n",
      "2/2 [==============================] - 0s 22ms/step - loss: 0.2704\n",
      "Epoch 5/50\n",
      "2/2 [==============================] - 0s 21ms/step - loss: 0.2417\n",
      "Epoch 6/50\n",
      "2/2 [==============================] - 0s 21ms/step - loss: 0.2188\n",
      "Epoch 7/50\n",
      "2/2 [==============================] - 0s 23ms/step - loss: 0.1955\n",
      "Epoch 8/50\n",
      "2/2 [==============================] - 0s 17ms/step - loss: 0.1756\n",
      "Epoch 9/50\n",
      "2/2 [==============================] - 0s 19ms/step - loss: 0.1575\n",
      "Epoch 10/50\n",
      "2/2 [==============================] - 0s 19ms/step - loss: 0.1419\n",
      "Epoch 11/50\n",
      "2/2 [==============================] - 0s 21ms/step - loss: 0.1279\n",
      "Epoch 12/50\n",
      "2/2 [==============================] - 0s 24ms/step - loss: 0.1156\n",
      "Epoch 13/50\n",
      "2/2 [==============================] - 0s 21ms/step - loss: 0.1034\n",
      "Epoch 14/50\n",
      "2/2 [==============================] - 0s 22ms/step - loss: 0.0929\n",
      "Epoch 15/50\n",
      "2/2 [==============================] - 0s 28ms/step - loss: 0.0826\n",
      "Epoch 16/50\n",
      "2/2 [==============================] - 0s 23ms/step - loss: 0.0748\n",
      "Epoch 17/50\n",
      "2/2 [==============================] - 0s 24ms/step - loss: 0.0674\n",
      "Epoch 18/50\n",
      "2/2 [==============================] - 0s 9ms/step - loss: 0.0620\n",
      "Epoch 19/50\n",
      "2/2 [==============================] - 0s 21ms/step - loss: 0.0578\n",
      "Epoch 20/50\n",
      "2/2 [==============================] - 0s 18ms/step - loss: 0.0548\n",
      "Epoch 21/50\n",
      "2/2 [==============================] - 0s 19ms/step - loss: 0.0521\n",
      "Epoch 22/50\n",
      "2/2 [==============================] - 0s 22ms/step - loss: 0.0500\n",
      "Epoch 23/50\n",
      "2/2 [==============================] - 0s 20ms/step - loss: 0.0484\n",
      "Epoch 24/50\n",
      "2/2 [==============================] - 0s 20ms/step - loss: 0.0470\n",
      "Epoch 25/50\n",
      "2/2 [==============================] - 0s 21ms/step - loss: 0.0457\n",
      "Epoch 26/50\n",
      "2/2 [==============================] - 0s 20ms/step - loss: 0.0447\n",
      "Epoch 27/50\n",
      "2/2 [==============================] - 0s 19ms/step - loss: 0.0439\n",
      "Epoch 28/50\n",
      "2/2 [==============================] - 0s 21ms/step - loss: 0.0432\n",
      "Epoch 29/50\n",
      "2/2 [==============================] - 0s 27ms/step - loss: 0.0424\n",
      "Epoch 30/50\n",
      "2/2 [==============================] - 0s 20ms/step - loss: 0.0416\n",
      "Epoch 31/50\n",
      "2/2 [==============================] - 0s 22ms/step - loss: 0.0408\n",
      "Epoch 32/50\n",
      "2/2 [==============================] - 0s 21ms/step - loss: 0.0400\n",
      "Epoch 33/50\n",
      "2/2 [==============================] - 0s 20ms/step - loss: 0.0381\n",
      "Epoch 34/50\n",
      "2/2 [==============================] - 0s 19ms/step - loss: 0.0360\n",
      "Epoch 35/50\n",
      "2/2 [==============================] - 0s 21ms/step - loss: 0.0335\n",
      "Epoch 36/50\n",
      "2/2 [==============================] - 0s 26ms/step - loss: 0.0323\n",
      "Epoch 37/50\n",
      "2/2 [==============================] - 0s 24ms/step - loss: 0.0312\n",
      "Epoch 38/50\n",
      "2/2 [==============================] - 0s 22ms/step - loss: 0.0303\n",
      "Epoch 39/50\n",
      "2/2 [==============================] - 0s 12ms/step - loss: 0.0294\n",
      "Epoch 40/50\n",
      "2/2 [==============================] - 0s 21ms/step - loss: 0.0282\n",
      "Epoch 41/50\n",
      "2/2 [==============================] - 0s 33ms/step - loss: 0.0270\n",
      "Epoch 42/50\n",
      "2/2 [==============================] - 0s 25ms/step - loss: 0.0260\n",
      "Epoch 43/50\n",
      "2/2 [==============================] - 0s 21ms/step - loss: 0.0252\n",
      "Epoch 44/50\n",
      "2/2 [==============================] - 0s 20ms/step - loss: 0.0245\n",
      "Epoch 45/50\n",
      "2/2 [==============================] - 0s 20ms/step - loss: 0.0245\n",
      "Epoch 46/50\n",
      "2/2 [==============================] - 0s 19ms/step - loss: 0.0239\n",
      "Epoch 47/50\n",
      "2/2 [==============================] - 0s 22ms/step - loss: 0.0229\n",
      "Epoch 48/50\n",
      "2/2 [==============================] - 0s 22ms/step - loss: 0.0217\n",
      "Epoch 49/50\n",
      "2/2 [==============================] - 0s 19ms/step - loss: 0.0206\n",
      "Epoch 50/50\n",
      "2/2 [==============================] - 0s 20ms/step - loss: 0.0195\n"
     ]
    },
    {
     "data": {
      "text/plain": [
       "<keras.callbacks.History at 0x239a225c250>"
      ]
     },
     "execution_count": 174,
     "metadata": {},
     "output_type": "execute_result"
    }
   ],
   "source": [
    "model_dr_year.fit(x_train_scaled, y_train_scaled, batch_size = 16, epochs = 50)"
   ]
  },
  {
   "cell_type": "markdown",
   "id": "83b47c03-e5a3-4fdd-b402-654c9d2248a2",
   "metadata": {},
   "source": [
    "### Testing the Model"
   ]
  },
  {
   "cell_type": "code",
   "execution_count": 175,
   "id": "500c6592-5aaa-4829-9322-4243bc9b8954",
   "metadata": {},
   "outputs": [],
   "source": [
    "test_data_dr_year = dr_year_v[training_data_len -previous_years: , :]"
   ]
  },
  {
   "cell_type": "markdown",
   "id": "66fa620b-938c-47d9-9eb7-d7675a224338",
   "metadata": {},
   "source": [
    "#### Creating a Loop - Test Data"
   ]
  },
  {
   "cell_type": "code",
   "execution_count": 176,
   "id": "ed142c0f-251e-41d2-8283-c21e6ad4f9da",
   "metadata": {},
   "outputs": [],
   "source": [
    "x_test_dr_year = []\n",
    "y_test_dr_year = dr_year_v[training_data_len:, :]\n",
    "\n",
    "for i in range(previous_years,len(test_data_dr_year)):\n",
    "    x_test_dr_year.append(test_data_dr_year[i-previous_years:i, 0])\n",
    "    \n",
    "x_test_dr_year = np.array(x_test_dr_year)\n",
    "y_test_dr_year = np.array(y_test_dr_year)   "
   ]
  },
  {
   "cell_type": "markdown",
   "id": "a62c5a0b-8f5d-492d-944d-8a0069b82bcc",
   "metadata": {},
   "source": [
    "#### Normalizing Test Data"
   ]
  },
  {
   "cell_type": "code",
   "execution_count": 177,
   "id": "d77ccf74-9642-4803-880a-fc7c53e8df9e",
   "metadata": {},
   "outputs": [],
   "source": [
    "scaler = MinMaxScaler(feature_range=(0, 1))\n",
    "x_test_scaled = scaler.fit_transform(x_test_dr_year)\n",
    "y_test_scaled = scaler.fit_transform(y_test_dr_year.reshape(-1, 1))"
   ]
  },
  {
   "cell_type": "markdown",
   "id": "3991ed43-e5d0-4c16-9854-d6c35c796885",
   "metadata": {},
   "source": [
    "- Reshaping Test Data"
   ]
  },
  {
   "cell_type": "code",
   "execution_count": 178,
   "id": "f77b78c0-96d2-43d5-b75d-a47e371ca0cd",
   "metadata": {},
   "outputs": [],
   "source": [
    "x_test_scaled = np.reshape(x_test_scaled,(x_test_scaled.shape[0], x_test_scaled.shape[1],1))"
   ]
  },
  {
   "cell_type": "markdown",
   "id": "33d09f1e-b2a2-4626-bbe1-24674be905da",
   "metadata": {},
   "source": [
    "#### Predicting"
   ]
  },
  {
   "cell_type": "code",
   "execution_count": 179,
   "id": "d3f9ed1c-8610-4714-9619-02458950e658",
   "metadata": {},
   "outputs": [
    {
     "name": "stdout",
     "output_type": "stream",
     "text": [
      "1/1 [==============================] - 2s 2s/step\n"
     ]
    }
   ],
   "source": [
    "predictions = model_dr_year.predict(x_test_scaled)"
   ]
  },
  {
   "cell_type": "code",
   "execution_count": 180,
   "id": "fb05afa4-7cdf-4e79-93f5-d2b645cf1481",
   "metadata": {},
   "outputs": [
    {
     "data": {
      "text/plain": [
       "array([[0.902086  ],\n",
       "       [0.71560234],\n",
       "       [0.54904187],\n",
       "       [0.40170097],\n",
       "       [0.27160743],\n",
       "       [0.14814003],\n",
       "       [0.01671345]], dtype=float32)"
      ]
     },
     "execution_count": 180,
     "metadata": {},
     "output_type": "execute_result"
    }
   ],
   "source": [
    "predictions"
   ]
  },
  {
   "cell_type": "markdown",
   "id": "59c12aa8-7976-43f3-bdcc-03498787c84c",
   "metadata": {},
   "source": [
    "#### Unscaling the Data"
   ]
  },
  {
   "cell_type": "code",
   "execution_count": 181,
   "id": "0e01b9c6-2343-481b-a79e-c934bdf2e0d8",
   "metadata": {},
   "outputs": [],
   "source": [
    "predictions = scaler.inverse_transform(predictions)"
   ]
  },
  {
   "cell_type": "markdown",
   "id": "3d792944-19f4-464b-9c85-4f7d41afc5e5",
   "metadata": {},
   "source": [
    "### Evaluating the Model"
   ]
  },
  {
   "cell_type": "code",
   "execution_count": 182,
   "id": "cb9746a0-c977-43c2-be9f-6bb6c5aa6cde",
   "metadata": {},
   "outputs": [
    {
     "name": "stdout",
     "output_type": "stream",
     "text": [
      "Root Mean Square Error:  2915.430061921865\n",
      "R^2 Value:  0.7205419012386344\n"
     ]
    }
   ],
   "source": [
    "rmse = np.sqrt(mean_squared_error(y_test_dr_year,predictions))\n",
    "r2_value = r2_score(y_test_dr_year,predictions)\n",
    "print(\"Root Mean Square Error: \", rmse)\n",
    "print(\"R^2 Value: \", r2_value)"
   ]
  },
  {
   "cell_type": "markdown",
   "id": "9772781a-3afd-4f67-b1a4-957a4470da3f",
   "metadata": {},
   "source": [
    "### Plotting the Data"
   ]
  },
  {
   "cell_type": "code",
   "execution_count": 183,
   "id": "9b974beb-1888-4778-9fb7-ca1559999898",
   "metadata": {},
   "outputs": [],
   "source": [
    "train = dr_year[:training_data_len]\n",
    "valid = dr_year[training_data_len:]\n",
    "valid['Predictions'] = predictions"
   ]
  },
  {
   "cell_type": "code",
   "execution_count": 184,
   "id": "e842adf9-403b-4f24-8ec7-601e2325fa04",
   "metadata": {},
   "outputs": [
    {
     "data": {
      "image/png": "[encoded data removed]",
      "text/plain": [
       "<Figure size 1152x576 with 1 Axes>"
      ]
     },
     "metadata": {
      "needs_background": "light"
     },
     "output_type": "display_data"
    }
   ],
   "source": [
    "# Plot the graph with interlinked lines and different colors for train, valid, and predictions\n",
    "plt.figure(figsize=(16,8))\n",
    "plt.title('LSTM Deep Learning Neural Networks Model - Total Deaths by Year', fontsize=20)\n",
    "plt.xlabel('Year', fontsize=18)\n",
    "plt.ylabel('Number of Deaths', fontsize=18)\n",
    "\n",
    "# Concatenate train and valid to ensure the lines are continuous\n",
    "df_combined = pd.concat([train, valid])\n",
    "\n",
    "# Plot train and valid interlinked with different colors\n",
    "plt.plot(df_combined['year'], df_combined['total_value'], marker='o', linestyle='-', color='blue', label='Train')\n",
    "\n",
    "# Highlight the validation part in yellow\n",
    "plt.plot(valid['year'], valid['total_value'], marker='o', linestyle='-', color='green', label='Valid')\n",
    "\n",
    "# Plot the predictions interlinked, but highlighted in green\n",
    "plt.plot(valid['year'], valid['Predictions'], marker='o', linestyle='-', color='orange', label='Predictions')\n",
    "\n",
    "# Final adjustments\n",
    "plt.legend(['Train', 'Valid', 'Predictions'], loc='upper right')\n",
    "plt.grid(True)\n",
    "plt.xticks(rotation=45)\n",
    "plt.tight_layout()\n",
    "\n",
    "# Show the plot\n",
    "plt.show()"
   ]
  },
  {
   "cell_type": "markdown",
   "id": "9a6f97c3-6d3e-4336-a1fd-ebc725c3800c",
   "metadata": {},
   "source": [
    "## RNN for Total Deaths by Year and Sex - Male"
   ]
  },
  {
   "cell_type": "markdown",
   "id": "771d6717-84e1-42a1-abf4-e8f5a396ca77",
   "metadata": {},
   "source": [
    "### Creating a Loop to Define Training Variables and the Target Variable"
   ]
  },
  {
   "cell_type": "code",
   "execution_count": 90,
   "id": "59bbaee0-6345-41f7-b3d0-8db08cbfb719",
   "metadata": {},
   "outputs": [],
   "source": [
    "x_train_dr_sex_male =[]\n",
    "y_train_dr_sex_male =[]\n",
    " \n",
    "for i in range(previous_years, len(train_data_dr_sex_male)):\n",
    "    x_train_dr_sex_male.append(train_data_dr_sex_male[i-previous_years:i,0])\n",
    "    y_train_dr_sex_male.append(train_data_dr_sex_male[i,0])\n",
    "    \n",
    "x_train_dr_sex_male = np.array(x_train_dr_sex_male)\n",
    "y_train_dr_sex_male = np.array(y_train_dr_sex_male)"
   ]
  },
  {
   "cell_type": "markdown",
   "id": "706221ab-424a-45a5-844b-998c61ce3587",
   "metadata": {},
   "source": [
    "#### Normalizing Train Data"
   ]
  },
  {
   "cell_type": "code",
   "execution_count": 91,
   "id": "afbf1292-1803-4b90-8547-531ef94d8cd8",
   "metadata": {},
   "outputs": [],
   "source": [
    "scaler = MinMaxScaler(feature_range=(0, 1))\n",
    "x_train_scaled_sex_male = scaler.fit_transform(x_train_dr_sex_male)\n",
    "y_train_scaled_sex_male = scaler.fit_transform(y_train_dr_sex_male.reshape(-1, 1))"
   ]
  },
  {
   "cell_type": "markdown",
   "id": "d6bbdc9e-8649-4ad2-9a73-fc2aeead31b6",
   "metadata": {},
   "source": [
    "- Converting in Numpy Arrays to Train the LTSM Neural Net model"
   ]
  },
  {
   "cell_type": "code",
   "execution_count": 92,
   "id": "d24f5012-7a75-4ea7-9432-fe2ad3bd74de",
   "metadata": {},
   "outputs": [
    {
     "data": {
      "text/plain": [
       "(17, 15, 1)"
      ]
     },
     "execution_count": 92,
     "metadata": {},
     "output_type": "execute_result"
    }
   ],
   "source": [
    "x_train_scaled_sex_male =np.reshape(x_train_scaled_sex_male,(x_train_scaled_sex_male.shape[0], x_train_scaled_sex_male.shape[1],1))\n",
    "x_train_scaled_sex_male.shape"
   ]
  },
  {
   "cell_type": "markdown",
   "id": "ee179082-2d34-406c-8ec2-5945677ba6df",
   "metadata": {},
   "source": [
    "### Building the Model LSTM Neural Net Model"
   ]
  },
  {
   "cell_type": "code",
   "execution_count": 148,
   "id": "964e97be-9565-4780-91de-99fe8e964676",
   "metadata": {},
   "outputs": [],
   "source": [
    "model_dr_sex_male  = Sequential()\n",
    "model_dr_sex_male .add(LSTM(25, return_sequences = True, input_shape = (x_train_scaled_sex_male.shape[1], 1)))\n",
    "model_dr_sex_male.add(TimeDistributed(Dense(25)))\n",
    "model_dr_sex_male.add(LSTM(20, return_sequences = False))\n",
    "model_dr_sex_male.add(Dense(15, kernel_regularizer=l2(0.001)))\n",
    "model_dr_sex_male.add(Dense(10))\n",
    "model_dr_sex_male.add(Dense(1)) "
   ]
  },
  {
   "cell_type": "markdown",
   "id": "9a96bc7b-e8cb-48d1-b0e3-0b20a98b008b",
   "metadata": {},
   "source": [
    "### Compiling the Model"
   ]
  },
  {
   "cell_type": "code",
   "execution_count": 149,
   "id": "8a90c510-6787-4de3-a1f1-ddae85f762ec",
   "metadata": {},
   "outputs": [],
   "source": [
    "optimizer = Adam(learning_rate=0.0005)\n",
    "model_dr_sex_male.compile(loss='mean_squared_error', optimizer=optimizer)"
   ]
  },
  {
   "cell_type": "markdown",
   "id": "5ebc72c3-767b-4a67-8206-e4e335285367",
   "metadata": {},
   "source": [
    "### Training the Model"
   ]
  },
  {
   "cell_type": "code",
   "execution_count": 150,
   "id": "1f182530-89d9-443a-80d8-d15b1b2d453a",
   "metadata": {},
   "outputs": [
    {
     "name": "stdout",
     "output_type": "stream",
     "text": [
      "Epoch 1/50\n",
      "2/2 [==============================] - 10s 20ms/step - loss: 0.3950\n",
      "Epoch 2/50\n",
      "2/2 [==============================] - 0s 22ms/step - loss: 0.3385\n",
      "Epoch 3/50\n",
      "2/2 [==============================] - 0s 22ms/step - loss: 0.2906\n",
      "Epoch 4/50\n",
      "2/2 [==============================] - 0s 21ms/step - loss: 0.2455\n",
      "Epoch 5/50\n",
      "2/2 [==============================] - 0s 20ms/step - loss: 0.2047\n",
      "Epoch 6/50\n",
      "2/2 [==============================] - 0s 20ms/step - loss: 0.1717\n",
      "Epoch 7/50\n",
      "2/2 [==============================] - 0s 14ms/step - loss: 0.1404\n",
      "Epoch 8/50\n",
      "2/2 [==============================] - 0s 23ms/step - loss: 0.1173\n",
      "Epoch 9/50\n",
      "2/2 [==============================] - 0s 23ms/step - loss: 0.0996\n",
      "Epoch 10/50\n",
      "2/2 [==============================] - 0s 30ms/step - loss: 0.0881\n",
      "Epoch 11/50\n",
      "2/2 [==============================] - 0s 21ms/step - loss: 0.0820\n",
      "Epoch 12/50\n",
      "2/2 [==============================] - 0s 10ms/step - loss: 0.0808\n",
      "Epoch 13/50\n",
      "2/2 [==============================] - 0s 22ms/step - loss: 0.0805\n",
      "Epoch 14/50\n",
      "2/2 [==============================] - 0s 24ms/step - loss: 0.0801\n",
      "Epoch 15/50\n",
      "2/2 [==============================] - 0s 19ms/step - loss: 0.0800\n",
      "Epoch 16/50\n",
      "2/2 [==============================] - 0s 20ms/step - loss: 0.0795\n",
      "Epoch 17/50\n",
      "2/2 [==============================] - 0s 20ms/step - loss: 0.0782\n",
      "Epoch 18/50\n",
      "2/2 [==============================] - 0s 20ms/step - loss: 0.0767\n",
      "Epoch 19/50\n",
      "2/2 [==============================] - 0s 21ms/step - loss: 0.0767\n",
      "Epoch 20/50\n",
      "2/2 [==============================] - 0s 14ms/step - loss: 0.0760\n",
      "Epoch 21/50\n",
      "2/2 [==============================] - 0s 21ms/step - loss: 0.0756\n",
      "Epoch 22/50\n",
      "2/2 [==============================] - 0s 22ms/step - loss: 0.0754\n",
      "Epoch 23/50\n",
      "2/2 [==============================] - 0s 30ms/step - loss: 0.0766\n",
      "Epoch 24/50\n",
      "2/2 [==============================] - 0s 18ms/step - loss: 0.0769\n",
      "Epoch 25/50\n",
      "2/2 [==============================] - 0s 23ms/step - loss: 0.0763\n",
      "Epoch 26/50\n",
      "2/2 [==============================] - 0s 22ms/step - loss: 0.0750\n",
      "Epoch 27/50\n",
      "2/2 [==============================] - 0s 21ms/step - loss: 0.0737\n",
      "Epoch 28/50\n",
      "2/2 [==============================] - 0s 23ms/step - loss: 0.0721\n",
      "Epoch 29/50\n",
      "2/2 [==============================] - 0s 22ms/step - loss: 0.0710\n",
      "Epoch 30/50\n",
      "2/2 [==============================] - 0s 26ms/step - loss: 0.0702\n",
      "Epoch 31/50\n",
      "2/2 [==============================] - 0s 20ms/step - loss: 0.0692\n",
      "Epoch 32/50\n",
      "2/2 [==============================] - 0s 21ms/step - loss: 0.0684\n",
      "Epoch 33/50\n",
      "2/2 [==============================] - 0s 21ms/step - loss: 0.0674\n",
      "Epoch 34/50\n",
      "2/2 [==============================] - 0s 26ms/step - loss: 0.0664\n",
      "Epoch 35/50\n",
      "2/2 [==============================] - 0s 25ms/step - loss: 0.0657\n",
      "Epoch 36/50\n",
      "2/2 [==============================] - 0s 20ms/step - loss: 0.0649\n",
      "Epoch 37/50\n",
      "2/2 [==============================] - 0s 24ms/step - loss: 0.0641\n",
      "Epoch 38/50\n",
      "2/2 [==============================] - 0s 23ms/step - loss: 0.0634\n",
      "Epoch 39/50\n",
      "2/2 [==============================] - 0s 14ms/step - loss: 0.0627\n",
      "Epoch 40/50\n",
      "2/2 [==============================] - 0s 24ms/step - loss: 0.0627\n",
      "Epoch 41/50\n",
      "2/2 [==============================] - 0s 22ms/step - loss: 0.0632\n",
      "Epoch 42/50\n",
      "2/2 [==============================] - 0s 21ms/step - loss: 0.0637\n",
      "Epoch 43/50\n",
      "2/2 [==============================] - 0s 35ms/step - loss: 0.0649\n",
      "Epoch 44/50\n",
      "2/2 [==============================] - 0s 20ms/step - loss: 0.0643\n",
      "Epoch 45/50\n",
      "2/2 [==============================] - 0s 22ms/step - loss: 0.0619\n",
      "Epoch 46/50\n",
      "2/2 [==============================] - 0s 24ms/step - loss: 0.0592\n",
      "Epoch 47/50\n",
      "2/2 [==============================] - 0s 28ms/step - loss: 0.0584\n",
      "Epoch 48/50\n",
      "2/2 [==============================] - 0s 11ms/step - loss: 0.0601\n",
      "Epoch 49/50\n",
      "2/2 [==============================] - 0s 22ms/step - loss: 0.0636\n",
      "Epoch 50/50\n",
      "2/2 [==============================] - 0s 21ms/step - loss: 0.0674\n"
     ]
    },
    {
     "data": {
      "text/plain": [
       "<keras.callbacks.History at 0x23997207eb0>"
      ]
     },
     "execution_count": 150,
     "metadata": {},
     "output_type": "execute_result"
    }
   ],
   "source": [
    "model_dr_sex_male.fit(x_train_scaled_sex_male, y_train_scaled_sex_male, batch_size = 16, epochs = 50)"
   ]
  },
  {
   "cell_type": "markdown",
   "id": "8c1b124b-8561-437d-b0a2-2205a4a4bb05",
   "metadata": {},
   "source": [
    "### Testing the Model"
   ]
  },
  {
   "cell_type": "code",
   "execution_count": 151,
   "id": "7c45fd0d-e60c-4b63-be63-cb0d883be833",
   "metadata": {},
   "outputs": [],
   "source": [
    "test_data_dr_sex_male = dr_sex_male_v[training_data_len -previous_years: , :]"
   ]
  },
  {
   "cell_type": "markdown",
   "id": "296b2c4b-595a-40e6-9439-35c8ec6b11ad",
   "metadata": {},
   "source": [
    "#### Creating a Loop - Test Data"
   ]
  },
  {
   "cell_type": "code",
   "execution_count": 152,
   "id": "2c807da2-b6af-4cc4-b690-20a5b6b05735",
   "metadata": {},
   "outputs": [],
   "source": [
    "x_test_dr_sex_male = []\n",
    "y_test_dr_sex_male = dr_sex_male_v[training_data_len:, :]\n",
    "\n",
    "for i in range(previous_years,len(test_data_dr_sex_male)):\n",
    "    x_test_dr_sex_male.append(test_data_dr_sex_male[i-previous_years:i, 0])\n",
    "    \n",
    "x_test_dr_sex_male = np.array(x_test_dr_sex_male)\n",
    "y_test_dr_sex_male = np.array(y_test_dr_sex_male)   "
   ]
  },
  {
   "cell_type": "markdown",
   "id": "7cc13d67-5966-4abc-a07a-3d65f8c57f45",
   "metadata": {},
   "source": [
    "#### Normalizing Test Data"
   ]
  },
  {
   "cell_type": "code",
   "execution_count": 153,
   "id": "cd4d6ccc-dce5-49ac-add2-5cd78139834a",
   "metadata": {},
   "outputs": [],
   "source": [
    "scaler = MinMaxScaler(feature_range=(0, 1))\n",
    "x_test_scaled_sex_male = scaler.fit_transform(x_test_dr_sex_male)\n",
    "y_test_scaled_sex_male = scaler.fit_transform(y_test_dr_sex_male.reshape(-1, 1))"
   ]
  },
  {
   "cell_type": "markdown",
   "id": "e6d08807-475f-40b2-ae82-df905e6cd5b9",
   "metadata": {},
   "source": [
    "- Reshaping Test Data"
   ]
  },
  {
   "cell_type": "code",
   "execution_count": 154,
   "id": "4c260be5-0010-4675-9b4b-2bbc89f0bd10",
   "metadata": {},
   "outputs": [],
   "source": [
    "x_test_scaled_sex_male = np.reshape(x_test_scaled_sex_male,(x_test_scaled_sex_male.shape[0], x_test_scaled_sex_male.shape[1],1))"
   ]
  },
  {
   "cell_type": "markdown",
   "id": "a5171892-6dbb-4039-9af7-bcb7e88c3ad3",
   "metadata": {},
   "source": [
    "#### Predicting"
   ]
  },
  {
   "cell_type": "code",
   "execution_count": 155,
   "id": "325c5265-acef-4681-8f64-9720c0569687",
   "metadata": {},
   "outputs": [
    {
     "name": "stdout",
     "output_type": "stream",
     "text": [
      "WARNING:tensorflow:6 out of the last 6 calls to <function Model.make_predict_function.<locals>.predict_function at 0x00000239998DF700> triggered tf.function retracing. Tracing is expensive and the excessive number of tracings could be due to (1) creating @tf.function repeatedly in a loop, (2) passing tensors with different shapes, (3) passing Python objects instead of tensors. For (1), please define your @tf.function outside of the loop. For (2), @tf.function has reduce_retracing=True option that can avoid unnecessary retracing. For (3), please refer to https://www.tensorflow.org/guide/function#controlling_retracing and https://www.tensorflow.org/api_docs/python/tf/function for  more details.\n",
      "1/1 [==============================] - 2s 2s/step\n"
     ]
    }
   ],
   "source": [
    "predictions_sex_male = model_dr_sex_male.predict(x_test_scaled_sex_male)"
   ]
  },
  {
   "cell_type": "code",
   "execution_count": 156,
   "id": "415c42c0-796f-4476-8459-50782177a3ec",
   "metadata": {},
   "outputs": [
    {
     "data": {
      "text/plain": [
       "array([[1.0581553 ],\n",
       "       [0.81206363],\n",
       "       [0.63464755],\n",
       "       [0.514475  ],\n",
       "       [0.40951875],\n",
       "       [0.27747402],\n",
       "       [0.10736124]], dtype=float32)"
      ]
     },
     "execution_count": 156,
     "metadata": {},
     "output_type": "execute_result"
    }
   ],
   "source": [
    "predictions_sex_male"
   ]
  },
  {
   "cell_type": "markdown",
   "id": "41f524ea-4db2-44fd-a7a2-be99f8a978b6",
   "metadata": {},
   "source": [
    "#### Unscaling the Data"
   ]
  },
  {
   "cell_type": "code",
   "execution_count": 157,
   "id": "76cc1dbc-eb2e-416d-bc79-ed9f960c8a4b",
   "metadata": {},
   "outputs": [],
   "source": [
    "predictions_sex_male = scaler.inverse_transform(predictions_sex_male)"
   ]
  },
  {
   "cell_type": "markdown",
   "id": "c42c73be-79ff-4c40-86d2-3dff31b4e4c5",
   "metadata": {},
   "source": [
    "### Evaluating the Model"
   ]
  },
  {
   "cell_type": "code",
   "execution_count": 158,
   "id": "e1362f53-ad5b-49b4-8ff8-0fdc8f7e171a",
   "metadata": {},
   "outputs": [
    {
     "name": "stdout",
     "output_type": "stream",
     "text": [
      "Root Mean Square Error:  996.0068691496772\n",
      "R^2 Value:  0.7412035864172355\n"
     ]
    }
   ],
   "source": [
    "rmse = np.sqrt(mean_squared_error(y_test_dr_sex_male,predictions_sex_male))\n",
    "r2_value = r2_score(y_test_dr_sex_male,predictions_sex_male)\n",
    "print(\"Root Mean Square Error: \", rmse)\n",
    "print(\"R^2 Value: \", r2_value)"
   ]
  },
  {
   "cell_type": "markdown",
   "id": "24f5c11d-93e0-4660-a804-0a3b854a1935",
   "metadata": {},
   "source": [
    "### Plotting the Data"
   ]
  },
  {
   "cell_type": "code",
   "execution_count": 159,
   "id": "1a83edec-81d4-468e-abad-311eed5f86fb",
   "metadata": {},
   "outputs": [],
   "source": [
    "train_sex_male = dr_sex_male[:training_data_len]\n",
    "valid_sex_male = dr_sex_male[training_data_len:]\n",
    "valid_sex_male['Predictions'] = predictions_sex_male"
   ]
  },
  {
   "cell_type": "code",
   "execution_count": 160,
   "id": "21b8662d-56ae-4c83-93dd-551675388dd7",
   "metadata": {},
   "outputs": [
    {
     "data": {
      "image/png": "[encoded data removed]",
      "text/plain": [
       "<Figure size 1152x576 with 1 Axes>"
      ]
     },
     "metadata": {
      "needs_background": "light"
     },
     "output_type": "display_data"
    }
   ],
   "source": [
    "# Plot the graph with interlinked lines and different colors for train, valid, and predictions\n",
    "plt.figure(figsize=(16,8))\n",
    "plt.title('LSTM Deep Learning Neural Networks - Total Deaths by Year and Sex (Male)', fontsize=20)\n",
    "plt.xlabel('Year', fontsize=18)\n",
    "plt.ylabel('Number of Deaths', fontsize=18)\n",
    "\n",
    "# Concatenate train and valid to ensure the lines are continuous\n",
    "df_combined_sex_male = pd.concat([train_sex_male, valid_sex_male])\n",
    "\n",
    "# Plot train and valid interlinked with different colors\n",
    "plt.plot(df_combined_sex_male['year'], df_combined_sex_male['total_value'], marker='o', linestyle='-', color='blue', label='Train')\n",
    "\n",
    "# Highlight the validation part in yellow\n",
    "plt.plot(valid_sex_male['year'], valid_sex_male['total_value'], marker='o', linestyle='-', color='green', label='Valid')\n",
    "\n",
    "# Plot the predictions interlinked, but highlighted in green\n",
    "plt.plot(valid_sex_male['year'], valid_sex_male['Predictions'], marker='o', linestyle='-', color='orange', label='Predictions')\n",
    "\n",
    "# Final adjustments\n",
    "plt.legend(['Train', 'Valid', 'Predictions'], loc='upper right')\n",
    "plt.grid(True)\n",
    "plt.xticks(rotation=45)\n",
    "plt.tight_layout()\n",
    "\n",
    "# Show the plot\n",
    "plt.show()"
   ]
  },
  {
   "cell_type": "markdown",
   "id": "402e82af-5bda-4920-925c-6c16f6b622ac",
   "metadata": {},
   "source": [
    "## RNN for Total Deaths by Year and Sex - Female"
   ]
  },
  {
   "cell_type": "markdown",
   "id": "ec09d56d-725b-4f46-afff-b77f07a62515",
   "metadata": {},
   "source": [
    "### Creating a Loop to Define Training Variables and the Target Variable"
   ]
  },
  {
   "cell_type": "code",
   "execution_count": 106,
   "id": "b19dc117-1156-41fc-aa31-a3f56a2ad625",
   "metadata": {},
   "outputs": [],
   "source": [
    "x_train_dr_sex_female =[]\n",
    "y_train_dr_sex_female =[]\n",
    " \n",
    "for i in range(previous_years, len(train_data_dr_sex_female)):\n",
    "    x_train_dr_sex_female.append(train_data_dr_sex_female[i-previous_years:i,0])\n",
    "    y_train_dr_sex_female.append(train_data_dr_sex_female[i,0])\n",
    "    \n",
    "x_train_dr_sex_female = np.array(x_train_dr_sex_female)\n",
    "y_train_dr_sex_female = np.array(y_train_dr_sex_female)"
   ]
  },
  {
   "cell_type": "markdown",
   "id": "d3a49dc5-b240-4045-b333-1c865a510002",
   "metadata": {},
   "source": [
    "#### Normalizing Train Data"
   ]
  },
  {
   "cell_type": "code",
   "execution_count": 107,
   "id": "5d8aa103-f105-4548-90db-9c2702674881",
   "metadata": {},
   "outputs": [],
   "source": [
    "scaler = MinMaxScaler(feature_range=(0, 1))\n",
    "x_train_scaled_sex_female = scaler.fit_transform(x_train_dr_sex_female)\n",
    "y_train_scaled_sex_female = scaler.fit_transform(y_train_dr_sex_female.reshape(-1, 1))"
   ]
  },
  {
   "cell_type": "markdown",
   "id": "00a2c469-c860-4167-882e-bd59a3ef2e3e",
   "metadata": {},
   "source": [
    "- Converting in Numpy Arrays to Train the LTSM Neural Net model"
   ]
  },
  {
   "cell_type": "code",
   "execution_count": 108,
   "id": "c5a99644-6bb5-4251-b2bd-339922d43454",
   "metadata": {},
   "outputs": [
    {
     "data": {
      "text/plain": [
       "(17, 15, 1)"
      ]
     },
     "execution_count": 108,
     "metadata": {},
     "output_type": "execute_result"
    }
   ],
   "source": [
    "x_train_scaled_sex_female =np.reshape(x_train_scaled_sex_female,(x_train_scaled_sex_female.shape[0], x_train_scaled_sex_female.shape[1],1))\n",
    "x_train_scaled_sex_female.shape"
   ]
  },
  {
   "cell_type": "markdown",
   "id": "d2458ca1-6316-455d-8ae7-16f69a93ad36",
   "metadata": {},
   "source": [
    "### Building the Model LSTM Neural Net Model"
   ]
  },
  {
   "cell_type": "code",
   "execution_count": 135,
   "id": "05215ee5-5ec7-40a2-b32a-fe8f6ac25709",
   "metadata": {},
   "outputs": [],
   "source": [
    "model_dr_sex_female  = Sequential()\n",
    "model_dr_sex_female .add(LSTM(25, return_sequences = True, input_shape = (x_train_scaled_sex_female.shape[1], 1)))\n",
    "model_dr_sex_female.add(TimeDistributed(Dense(25)))\n",
    "model_dr_sex_female.add(LSTM(20, return_sequences = False))\n",
    "model_dr_sex_female.add(Dense(15, kernel_regularizer=l2(0.001)))\n",
    "model_dr_sex_female.add(Dense(10)) \n",
    "model_dr_sex_female.add(Dense(1)) "
   ]
  },
  {
   "cell_type": "markdown",
   "id": "310ac4f3-14af-44a2-afb6-a2a1c47a179e",
   "metadata": {},
   "source": [
    "### Compiling the Model"
   ]
  },
  {
   "cell_type": "code",
   "execution_count": 136,
   "id": "194b91f1-e25e-432f-bc73-94b23f12534e",
   "metadata": {},
   "outputs": [],
   "source": [
    "optimizer = Adam(learning_rate=0.0005)\n",
    "model_dr_sex_female.compile(loss='mean_squared_error', optimizer=optimizer)"
   ]
  },
  {
   "cell_type": "markdown",
   "id": "b847e12a-cd7b-4610-8d29-94d2b67441f1",
   "metadata": {},
   "source": [
    "### Training the Model"
   ]
  },
  {
   "cell_type": "code",
   "execution_count": 137,
   "id": "e76aaf32-142a-40a5-89c9-859d62ce66bc",
   "metadata": {},
   "outputs": [
    {
     "name": "stdout",
     "output_type": "stream",
     "text": [
      "Epoch 1/50\n",
      "2/2 [==============================] - 10s 27ms/step - loss: 0.3160\n",
      "Epoch 2/50\n",
      "2/2 [==============================] - 0s 21ms/step - loss: 0.2727\n",
      "Epoch 3/50\n",
      "2/2 [==============================] - 0s 20ms/step - loss: 0.2335\n",
      "Epoch 4/50\n",
      "2/2 [==============================] - 0s 21ms/step - loss: 0.1945\n",
      "Epoch 5/50\n",
      "2/2 [==============================] - 0s 26ms/step - loss: 0.1593\n",
      "Epoch 6/50\n",
      "2/2 [==============================] - 0s 19ms/step - loss: 0.1284\n",
      "Epoch 7/50\n",
      "2/2 [==============================] - 0s 18ms/step - loss: 0.1035\n",
      "Epoch 8/50\n",
      "2/2 [==============================] - 0s 21ms/step - loss: 0.0863\n",
      "Epoch 9/50\n",
      "2/2 [==============================] - 0s 24ms/step - loss: 0.0757\n",
      "Epoch 10/50\n",
      "2/2 [==============================] - 0s 22ms/step - loss: 0.0687\n",
      "Epoch 11/50\n",
      "2/2 [==============================] - 0s 22ms/step - loss: 0.0659\n",
      "Epoch 12/50\n",
      "2/2 [==============================] - 0s 20ms/step - loss: 0.0634\n",
      "Epoch 13/50\n",
      "2/2 [==============================] - 0s 20ms/step - loss: 0.0646\n",
      "Epoch 14/50\n",
      "2/2 [==============================] - 0s 22ms/step - loss: 0.0659\n",
      "Epoch 15/50\n",
      "2/2 [==============================] - 0s 20ms/step - loss: 0.0664\n",
      "Epoch 16/50\n",
      "2/2 [==============================] - 0s 18ms/step - loss: 0.0672\n",
      "Epoch 17/50\n",
      "2/2 [==============================] - 0s 20ms/step - loss: 0.0664\n",
      "Epoch 18/50\n",
      "2/2 [==============================] - 0s 17ms/step - loss: 0.0640\n",
      "Epoch 19/50\n",
      "2/2 [==============================] - 0s 22ms/step - loss: 0.0610\n",
      "Epoch 20/50\n",
      "2/2 [==============================] - 0s 22ms/step - loss: 0.0579\n",
      "Epoch 21/50\n",
      "2/2 [==============================] - 0s 29ms/step - loss: 0.0552\n",
      "Epoch 22/50\n",
      "2/2 [==============================] - 0s 22ms/step - loss: 0.0538\n",
      "Epoch 23/50\n",
      "2/2 [==============================] - 0s 20ms/step - loss: 0.0527\n",
      "Epoch 24/50\n",
      "2/2 [==============================] - 0s 22ms/step - loss: 0.0518\n",
      "Epoch 25/50\n",
      "2/2 [==============================] - 0s 30ms/step - loss: 0.0509\n",
      "Epoch 26/50\n",
      "2/2 [==============================] - 0s 23ms/step - loss: 0.0500\n",
      "Epoch 27/50\n",
      "2/2 [==============================] - 0s 31ms/step - loss: 0.0492\n",
      "Epoch 28/50\n",
      "2/2 [==============================] - 0s 8ms/step - loss: 0.0482\n",
      "Epoch 29/50\n",
      "2/2 [==============================] - 0s 21ms/step - loss: 0.0480\n",
      "Epoch 30/50\n",
      "2/2 [==============================] - 0s 22ms/step - loss: 0.0485\n",
      "Epoch 31/50\n",
      "2/2 [==============================] - 0s 22ms/step - loss: 0.0489\n",
      "Epoch 32/50\n",
      "2/2 [==============================] - 0s 18ms/step - loss: 0.0480\n",
      "Epoch 33/50\n",
      "2/2 [==============================] - 0s 22ms/step - loss: 0.0459\n",
      "Epoch 34/50\n",
      "2/2 [==============================] - 0s 26ms/step - loss: 0.0443\n",
      "Epoch 35/50\n",
      "2/2 [==============================] - 0s 23ms/step - loss: 0.0433\n",
      "Epoch 36/50\n",
      "2/2 [==============================] - 0s 20ms/step - loss: 0.0439\n",
      "Epoch 37/50\n",
      "2/2 [==============================] - 0s 21ms/step - loss: 0.0446\n",
      "Epoch 38/50\n",
      "2/2 [==============================] - 0s 22ms/step - loss: 0.0434\n",
      "Epoch 39/50\n",
      "2/2 [==============================] - 0s 18ms/step - loss: 0.0425\n",
      "Epoch 40/50\n",
      "2/2 [==============================] - 0s 22ms/step - loss: 0.0413\n",
      "Epoch 41/50\n",
      "2/2 [==============================] - 0s 19ms/step - loss: 0.0409\n",
      "Epoch 42/50\n",
      "2/2 [==============================] - 0s 25ms/step - loss: 0.0404\n",
      "Epoch 43/50\n",
      "2/2 [==============================] - 0s 20ms/step - loss: 0.0404\n",
      "Epoch 44/50\n",
      "2/2 [==============================] - 0s 21ms/step - loss: 0.0406\n",
      "Epoch 45/50\n",
      "2/2 [==============================] - 0s 21ms/step - loss: 0.0407\n",
      "Epoch 46/50\n",
      "2/2 [==============================] - 0s 22ms/step - loss: 0.0408\n",
      "Epoch 47/50\n",
      "2/2 [==============================] - 0s 26ms/step - loss: 0.0397\n",
      "Epoch 48/50\n",
      "2/2 [==============================] - 0s 22ms/step - loss: 0.0396\n",
      "Epoch 49/50\n",
      "2/2 [==============================] - 0s 24ms/step - loss: 0.0406\n",
      "Epoch 50/50\n",
      "2/2 [==============================] - 0s 21ms/step - loss: 0.0444\n"
     ]
    },
    {
     "data": {
      "text/plain": [
       "<keras.callbacks.History at 0x2398fcbd040>"
      ]
     },
     "execution_count": 137,
     "metadata": {},
     "output_type": "execute_result"
    }
   ],
   "source": [
    "model_dr_sex_female.fit(x_train_scaled_sex_female, y_train_scaled_sex_female, batch_size = 16, epochs = 50)"
   ]
  },
  {
   "cell_type": "markdown",
   "id": "e3d2b97e-f0ad-426a-9c4b-808b97940a96",
   "metadata": {},
   "source": [
    "### Testing the Model"
   ]
  },
  {
   "cell_type": "code",
   "execution_count": 138,
   "id": "1e88dccc-2e7a-40fc-b95e-61b099b24d67",
   "metadata": {},
   "outputs": [],
   "source": [
    "test_data_dr_sex_female = dr_sex_female_v[training_data_len -previous_years: , :]"
   ]
  },
  {
   "cell_type": "markdown",
   "id": "6e1f8057-f782-491e-88e0-4303f5014a8c",
   "metadata": {},
   "source": [
    "#### Creating a Loop - Test Data"
   ]
  },
  {
   "cell_type": "code",
   "execution_count": 139,
   "id": "36151d8a-ded4-4c3e-8277-ccdd5db90324",
   "metadata": {},
   "outputs": [],
   "source": [
    "x_test_dr_sex_female = []\n",
    "y_test_dr_sex_female = dr_sex_female_v[training_data_len:, :]\n",
    "\n",
    "for i in range(previous_years,len(test_data_dr_sex_female)):\n",
    "    x_test_dr_sex_female.append(test_data_dr_sex_female[i-previous_years:i, 0])\n",
    "    \n",
    "x_test_dr_sex_female = np.array(x_test_dr_sex_female)\n",
    "y_test_dr_sex_female = np.array(y_test_dr_sex_female)   "
   ]
  },
  {
   "cell_type": "markdown",
   "id": "cbbb573b-8d71-4859-bc5c-28d51ef06e7b",
   "metadata": {},
   "source": [
    "#### Normalizing Test Data"
   ]
  },
  {
   "cell_type": "code",
   "execution_count": 140,
   "id": "280f3b86-7183-4e0d-b2ff-ed1e29445ef3",
   "metadata": {},
   "outputs": [],
   "source": [
    "scaler = MinMaxScaler(feature_range=(0, 1))\n",
    "x_test_scaled_sex_female = scaler.fit_transform(x_test_dr_sex_female)\n",
    "y_test_scaled_sex_female = scaler.fit_transform(y_test_dr_sex_female.reshape(-1, 1))"
   ]
  },
  {
   "cell_type": "markdown",
   "id": "e59a48fe-e56e-409b-83e9-b6b01fb88d5f",
   "metadata": {},
   "source": [
    "- Reshaping Test Data"
   ]
  },
  {
   "cell_type": "code",
   "execution_count": 141,
   "id": "fe089476-a1c4-4d57-8309-cb684dca1f64",
   "metadata": {},
   "outputs": [],
   "source": [
    "x_test_scaled_sex_female = np.reshape(x_test_scaled_sex_female,(x_test_scaled_sex_female.shape[0], x_test_scaled_sex_female.shape[1],1))"
   ]
  },
  {
   "cell_type": "markdown",
   "id": "3fbf0b2b-91f0-4719-9141-2a3438c3f87e",
   "metadata": {},
   "source": [
    "#### Predicting"
   ]
  },
  {
   "cell_type": "code",
   "execution_count": 142,
   "id": "c119408a-1624-480d-93ca-dac3390a587b",
   "metadata": {},
   "outputs": [
    {
     "name": "stdout",
     "output_type": "stream",
     "text": [
      "WARNING:tensorflow:5 out of the last 5 calls to <function Model.make_predict_function.<locals>.predict_function at 0x00000239934E5E50> triggered tf.function retracing. Tracing is expensive and the excessive number of tracings could be due to (1) creating @tf.function repeatedly in a loop, (2) passing tensors with different shapes, (3) passing Python objects instead of tensors. For (1), please define your @tf.function outside of the loop. For (2), @tf.function has reduce_retracing=True option that can avoid unnecessary retracing. For (3), please refer to https://www.tensorflow.org/guide/function#controlling_retracing and https://www.tensorflow.org/api_docs/python/tf/function for  more details.\n",
      "1/1 [==============================] - 2s 2s/step\n"
     ]
    }
   ],
   "source": [
    "predictions_sex_female = model_dr_sex_female.predict(x_test_scaled_sex_female)"
   ]
  },
  {
   "cell_type": "code",
   "execution_count": 143,
   "id": "2fffca28-c0e7-4976-af7e-6770ec25099b",
   "metadata": {},
   "outputs": [
    {
     "data": {
      "text/plain": [
       "array([[ 0.9360957 ],\n",
       "       [ 0.6706391 ],\n",
       "       [ 0.48039812],\n",
       "       [ 0.34989035],\n",
       "       [ 0.27538353],\n",
       "       [ 0.14532681],\n",
       "       [-0.00705965]], dtype=float32)"
      ]
     },
     "execution_count": 143,
     "metadata": {},
     "output_type": "execute_result"
    }
   ],
   "source": [
    "predictions_sex_female"
   ]
  },
  {
   "cell_type": "markdown",
   "id": "7cedeb93-844f-4c05-a169-4280b88e9033",
   "metadata": {},
   "source": [
    "#### Unscaling the Data"
   ]
  },
  {
   "cell_type": "code",
   "execution_count": 144,
   "id": "d0076655-a227-44f9-9f27-95bc9c0a80ff",
   "metadata": {},
   "outputs": [],
   "source": [
    "predictions_sex_female = scaler.inverse_transform(predictions_sex_female)"
   ]
  },
  {
   "cell_type": "markdown",
   "id": "6e6a37d6-3403-4d2b-b1fc-6287a1baa5e0",
   "metadata": {},
   "source": [
    "### Evaluating the Model"
   ]
  },
  {
   "cell_type": "code",
   "execution_count": 145,
   "id": "cfc863c4-904e-4dea-a6d6-73e6a49e4534",
   "metadata": {},
   "outputs": [
    {
     "name": "stdout",
     "output_type": "stream",
     "text": [
      "Root Mean Square Error:  500.87775138993635\n",
      "R^2 Value:  0.6461554004733807\n"
     ]
    }
   ],
   "source": [
    "rmse = np.sqrt(mean_squared_error(y_test_dr_sex_female,predictions_sex_female))\n",
    "r2_value = r2_score(y_test_dr_sex_female,predictions_sex_female)\n",
    "print(\"Root Mean Square Error: \", rmse)\n",
    "print(\"R^2 Value: \", r2_value)"
   ]
  },
  {
   "cell_type": "markdown",
   "id": "2bb42a86-fd33-49bd-b69a-b2f4ae141c50",
   "metadata": {},
   "source": [
    "### Plotting the Data"
   ]
  },
  {
   "cell_type": "code",
   "execution_count": 146,
   "id": "ca213c1e-b63a-441e-9599-c6cab8212568",
   "metadata": {},
   "outputs": [],
   "source": [
    "train_sex_female = dr_sex_female[:training_data_len]\n",
    "valid_sex_female = dr_sex_female[training_data_len:]\n",
    "valid_sex_female['Predictions'] = predictions_sex_female"
   ]
  },
  {
   "cell_type": "code",
   "execution_count": 147,
   "id": "611d0dec-7e92-442f-bed9-c50e3b2c1332",
   "metadata": {},
   "outputs": [
    {
     "data": {
      "image/png": "[encoded data removed]",
      "text/plain": [
       "<Figure size 1152x576 with 1 Axes>"
      ]
     },
     "metadata": {
      "needs_background": "light"
     },
     "output_type": "display_data"
    }
   ],
   "source": [
    "# Plot the graph with interlinked lines and different colors for train, valid, and predictions\n",
    "plt.figure(figsize=(16,8))\n",
    "plt.title('LSTM Deep Learning Neural Networks - Total Deaths by Year and Sex (Female)', fontsize=20)\n",
    "plt.xlabel('Year', fontsize=18)\n",
    "plt.ylabel('Number of Deaths', fontsize=18)\n",
    "\n",
    "# Concatenate train and valid to ensure the lines are continuous\n",
    "df_combined_sex_female = pd.concat([train_sex_female, valid_sex_female])\n",
    "\n",
    "# Plot train and valid interlinked with different colors\n",
    "plt.plot(df_combined_sex_female['year'], df_combined_sex_female['total_value'], marker='o', linestyle='-', color='blue', label='Train')\n",
    "\n",
    "# Highlight the validation part in yellow\n",
    "plt.plot(valid_sex_female['year'], valid_sex_female['total_value'], marker='o', linestyle='-', color='green', label='Valid')\n",
    "\n",
    "# Plot the predictions interlinked, but highlighted in green\n",
    "plt.plot(valid_sex_female['year'], valid_sex_female['Predictions'], marker='o', linestyle='-', color='orange', label='Predictions')\n",
    "\n",
    "# Final adjustments\n",
    "plt.legend(['Train', 'Valid', 'Predictions'], loc='upper right')\n",
    "plt.grid(True)\n",
    "plt.xticks(rotation=45)\n",
    "plt.tight_layout()\n",
    "\n",
    "# Show the plot\n",
    "plt.show()"
   ]
  },
  {
   "cell_type": "code",
   "execution_count": null,
   "id": "188989db-ee02-450c-86b9-e00e5d21d8ca",
   "metadata": {},
   "outputs": [],
   "source": []
  },
  {
   "cell_type": "code",
   "execution_count": null,
   "id": "de720403-b17f-4804-8087-a7543e92eb82",
   "metadata": {},
   "outputs": [],
   "source": []
  },
  {
   "cell_type": "code",
   "execution_count": null,
   "id": "147092c4-9aa1-4ea4-82c9-4412cbb56997",
   "metadata": {},
   "outputs": [],
   "source": []
  },
  {
   "cell_type": "code",
   "execution_count": null,
   "id": "e0210d7e-cca3-4dd1-9785-f36275e67538",
   "metadata": {},
   "outputs": [],
   "source": []
  },
  {
   "cell_type": "code",
   "execution_count": null,
   "id": "23204c40-3819-45e8-b548-e54a46d210a2",
   "metadata": {},
   "outputs": [],
   "source": []
  },
  {
   "cell_type": "code",
   "execution_count": null,
   "id": "be2b3b5c-3d91-45e0-a8da-82f07825c885",
   "metadata": {},
   "outputs": [],
   "source": []
  },
  {
   "cell_type": "code",
   "execution_count": null,
   "id": "61ee1adf-95fc-46dc-bacc-dcf87275be36",
   "metadata": {},
   "outputs": [],
   "source": []
  },
  {
   "cell_type": "code",
   "execution_count": null,
   "id": "112827eb-6ec3-4d0a-8025-0c49bed647b5",
   "metadata": {},
   "outputs": [],
   "source": []
  },
  {
   "cell_type": "code",
   "execution_count": null,
   "id": "76d47ef6-7928-4c8c-909c-30262fb49ebe",
   "metadata": {},
   "outputs": [],
   "source": []
  },
  {
   "cell_type": "code",
   "execution_count": null,
   "id": "425603d0-8180-4a4a-8f66-ac5cb3e322f9",
   "metadata": {},
   "outputs": [],
   "source": []
  },
  {
   "cell_type": "code",
   "execution_count": null,
   "id": "654c64c1-c5ca-42b4-9392-7be12453aa56",
   "metadata": {},
   "outputs": [],
   "source": []
  },
  {
   "cell_type": "code",
   "execution_count": null,
   "id": "453d8c21-9be1-4c18-96b7-7fc3e85da234",
   "metadata": {},
   "outputs": [],
   "source": []
  }
 ],
 "metadata": {
  "kernelspec": {
   "display_name": "Python 3 (ipykernel)",
   "language": "python",
   "name": "python3"
  },
  "language_info": {
   "codemirror_mode": {
    "name": "ipython",
    "version": 3
   },
   "file_extension": ".py",
   "mimetype": "text/x-python",
   "name": "python",
   "nbconvert_exporter": "python",
   "pygments_lexer": "ipython3",
   "version": "3.9.12"
  }
 },
 "nbformat": 4,
 "nbformat_minor": 5
}
