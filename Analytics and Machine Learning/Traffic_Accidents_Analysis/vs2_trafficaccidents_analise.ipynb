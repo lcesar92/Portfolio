{
 "cells": [
  {
   "cell_type": "markdown",
   "metadata": {},
   "source": [
    "# **TRAFFIC ACCIDENTS**"
   ]
  },
  {
   "cell_type": "markdown",
   "metadata": {},
   "source": [
    "## **Introdução**\n",
    "\n",
    "Nos dias atuais, o mundo tem enfrentado diversos problemas e situações jamais vividas na história da humanidade e que necessitam de grandes estratégias, planejamentos a curto/médio/longo prazo, além da adequação às necessidades atuais por parte dos líderes mundiais. Problemas na economia, saúde, meio ambiente e na sociedade em geral causam preocupação não apenas a países de terceiro mundo, mas também para àqueles que pertencem ao seleto grupo da elite mundial. Apesar desta grande lista de atuais adversidades, antigos grandes problemas também permanecem sendo motivos de preocupação mundial, como a questão do transporte e meios de locomoção, seus impactos ambientais, consequências na economia, além da segurança no trânsito. Este último item, por sua vez, tem movimentado esforços governamentais consideráveis na busca da segurança à vida e diminuição de estatísticas alarmantes de acidentes de trânsito. De acordo com dados da Organização Mundial da Saúde (OMS), cerca de 1,25 milhão de pessoas morrem no mundo, por ano, em acidentes de trânsito. Deste total, cerca de 50% das vítimas são pedestres, ciclistas e motociclistas. \n",
    "\n",
    "Acidentes de trânsito são motivos de diversas consequências de natureza diversa, em campos econômico, político, social e cultural. O alto número de óbitos, vítimas com incapacidades temporárias ou permanentes, problemas psicológicos, além do impacto negativo ao meio ambiente e aos sistemas de saúde, são as grandes razões para o alto dispêndio de recursos públicos financeiros. A necessidade de prevenção, conscientização e até mesmo previsão à ocorrências de acidentes de trânsito têm rigorosamente feito parte dos planos governamentais por todo o mundo. Isso ocorre por conta do alto custo aos cofres públicos, além de consequência de uma deseconomia. Segundo o GLOBAL STATUS REPORT ON ROAD SAFETY, da Organização Mundial de Saúde (OMS), acidentes de trânsito podem custar cerca de 3% do Gross Domestic Product (GPD) de países de baixa ou média renda.\n",
    "\n",
    "Tendo como referência os fatos e dados expostos introdutoriamente, surgem as seguintes perguntas:\n",
    "- Quais os principais motivos para ocorrência desses acidentes?\n",
    "- Existem um padrão de comportamento para determinados acidentes de trânsito? Se sim, qual o padrão para acidentes com vítimas fatais?\n",
    "- Aspectos como condições climáticas a area em que o motorista está dirigindo tem relevância na possível ocorrência de acidentes?\n",
    "- Motoristas com mais experiência na direção estão menos propensos a acidentes de trânsito?\n",
    "- Um dia específico na semana pode influenciar na ocorrência de acidentes?\n",
    "\n",
    "Para responder essas perguntas, analisaremos minunciosamente os dados referentes aos acidentes de trânsito de uma determinada localicade, utilizaremos técnicas para avaliar e detectar possíveis acidentes baseados nas ocorrências; identificaremos as características dos envolvidos, detectaremos fatores que levaram a ocorrência dos acidentes e traçaremos perfis baseados na severidade das ocorrência, mais especificamente em casos de Fatal Injury. Por fim, realizaremos propostas de possíveis decisões para prevenção à ocorrência destes acidentes.   \n",
    "\n",
    "## **Objetivos**\n",
    "\n",
    "####  **- Objetivo Principal** \n",
    "- Aplicar método de clusterização na intenção de identificar e traçar perfis dos envolvidos em acidentes de trânsito com decorrência de Fatal Injury, a fim de criar cenários e soluções para a prevenção de futuras ocorrências.\n",
    "\n",
    "#### **- Objetivos Secundários**\n",
    "- Identificar e rankear as principais variáveis que influenciam na ocorrência de acidentes de trânsito;\n",
    "- Identificar os períodos de tempo de maiores ocorrências baseado no nível de gravidade (Slight Injury, Serious Injury ou Fatal Injury)\n",
    "\n",
    "\n",
    "## **Base de Dados**\n",
    "\n",
    "Os dados utilizados para o estudo tem como fonte os departamentos de polícia da cidade de Addis Ababa, cidade capital da Etiópia. A cidade tem cerca de 3.6 milhões de habitantes e é a maior e principal cidade do país.    \n",
    "\n",
    "O conjunto de dados tem como fonte registros manuais de acidentes de trânsito na capital do país. Estes acidentes ocorreram entre o ano de 2017 e 2020. Os dados não possuem informações pessoais dos indivíduos envolvidos nas ocorrência, apenas informações gerais de perfil, como sexo, faixa etária e anos de experiência como motorista. Todos os dados são referentes a ocorrências com veículos automotores. O conjunto de dados possui 12.304 observações dispostas em 19 variáveis. Estas variáveis trazem informações sobre o perfil do motorista (Sexo, Faixa Etária, Nível de Escolaridade, etc.), além de informações sobre a ocorrência do acidente, sendo elas hora e dia da semana, área onde ocorreu o acidente, condições climáticas e de luminosidade, descrições sobre o tipo de colisão, causa do acidente, entre outros, além de nossa principal variável na base de dados, a severidade da ocorrência. Abaixo segue o dicionário com informações mais detalhadas sobre todas as variáveis da base de dados.\n",
    "\n",
    "#### **- Dictionary**\n",
    "\n",
    "\n",
    "Acronym | Categories | Description\n",
    "---|---|---\n",
    "Age_band_of_driver | Under 18| Faixa Etária na qual o motorista está incluso\n",
    " --- | 18-30 | ---\n",
    " --- | 31-50 | ---\n",
    " --- | Over 51 | ---\n",
    " --- | Unknown | ---\n",
    "  |  | \n",
    "Sex_of_driver | Male | Sexo do Motorista\n",
    " --- | Female | ---\n",
    " --- | Unknown | ---\n",
    " | |\n",
    "Educational_level | Illiterate | Nível de Escolaridade do motorista\n",
    " --- | Writing & reading | ---\n",
    " --- | Elementary school | ---\n",
    " --- | Junior high school | ---\n",
    " --- | High school | ---\n",
    " --- | Above high school | ---\n",
    " --- | Unknown | ---\n",
    "  |  | \n",
    "Vehicle_driver_relation | Employee | Relação do motorista com o veículo na qual está dirigindo\n",
    " --- | Owner | ---\n",
    " --- | Other | ---\n",
    " --- | Unknown | ---\n",
    "  |  |\n",
    "Driving_experience | No Licence | Anos de experiência do motorista na direção de veículos automotores\n",
    "--- | Below 1yr | ---\n",
    "--- | 1-2yr | ---\n",
    "--- | 2-5yr | ---\n",
    "--- | 5-10yr | ---\n",
    "--- | Above 10yr | ---\n",
    " --- | Unknown | ---\n",
    "  |  |\n",
    "Area_accident_occured | Residential areas | Area/Localidade onde aconteceu o acidente\n",
    " --- | Office areas | ---\n",
    " --- | Recreational areas | ---\n",
    " --- | Industrial areas | ---\n",
    " --- | Church areas | ---\n",
    " --- | Market areas | ---\n",
    " --- | Rural village areas | --- \n",
    " --- | Outside rural areas | ---\n",
    " --- | Hospital areas | ---\n",
    " --- | School areas | ---\n",
    " --- | Rural village areasOffice areas | ---\n",
    " --- | Recreational areas | ---\n",
    " --- | Other | ---\n",
    " --- | Unknown | ---\n",
    "  |  |\n",
    "Lanes_or_Medians | - | Tipo de estrada/rodovia onde ocorreu o acidente\n",
    "  |  |\n",
    "Types_of_Junction | - | Formato da estrada/rodovia onde ocorreu o acidente\n",
    "  |  |\n",
    "Road_surface_type | Asphalt roads | Tipo de superfície da estrada/rodovia onde ocorreu o acidente\n",
    " --- | Earth roads | ---\n",
    " --- | Gravel roads | ---\n",
    " --- | Asphalt roads with some distress | ---\n",
    " --- | Other | ---\n",
    " --- | Unknown | ---\n",
    " |  | \n",
    "Light_conditions | Darkness - no lighting | Condições de luminosidade da estrada/rodovia onde ocorreu o acidente\n",
    " --- | Darkness - lights unlit | ---\n",
    " --- | Darkness - lights lit | ---\n",
    " --- | Daylight | ---\n",
    " --- | Unknown | ---\n",
    "  |  | \n",
    "Weather_conditions | Normal | Condições climáticas na estrada/rodovia no momento em que ocorreu o acidente\n",
    " --- | Fog or mist | ---\n",
    " --- | Cloudy | ---\n",
    " --- | Windy | ---\n",
    " --- | Raining | ---\n",
    " --- | Raining and Windy | ---\n",
    " --- | Snow | ---\n",
    " --- | Other | ---\n",
    " --- | Unknown | ---\n",
    " | | \n",
    "Type_of_collision | | Descrição da forma como ocorreu a colisão do veículo no acidente\n",
    " | | \n",
    "Vehicle_movement | | Descrição do movimento do veículo no momento do acidente\n",
    " | | \n",
    "Pedestrian_movement | | Descrição do movimento do pedestre (se houve) no momento do acidente\n",
    " | | \n",
    "Cause_of_accident | | Descrição do motivo que levou à ocorrência do acidente\n",
    " | | \n",
    "Accident_severity | Slight Injury | Grau de severidade do acidente\n",
    " --- | Serious Injury | ---\n",
    " --- | Fatal injury | ---\n",
    " | | \n",
    "\n",
    "\n",
    "## **Metodologia**\n",
    "1) Análise Exploratória de Dados pra as diversas variáveis da base de dados, analisando individualmente seus comportamentos e a forma como cada categoria está distribuída na variável;\n",
    "\n",
    "2) Pré Processamento de dados para construção do modelo: \n",
    "      - Estruturação de variáveis para modelagem, transformando as categorias em números para imput nos modelos; \n",
    "      - Remoção de categorias 'Unknown'; \n",
    "      - Rebalanceamento de classes usando o método 'Oversampling', necessário para a boa funcionalidade dos modelos a serem aplicados;\n",
    "      - Análise de correlação com variáveis ordinais devidamente tratadas;\n",
    "      - Divisão dos dados em Treino e Teste para preparação dos dados para integração aos modelos. Foi escolhida a divisão 70/30, onde 70% dos dados sao destinados ao treino dos modelos e 30% ao teste de eficácia do modelo.\n",
    "      \n",
    "3) Aplicação de Modelos de Machine Learning para avaliação das variáveis que possuem mais influência na severidade dos acidentes de trânsito. Alguns modelos foram incluídos apenas para efeitos de comparação, porém não possuem a finalidade de Feature Importance, ou seja, não é possível ser utilizado para avaliação das variáveis que mais influenciam na variável resposta. Na análise, possuímos alguns modelos específicos para este objetivo, no entanto consideramos valiosa a aplicação para efeitos de comparação e avaliação dos modelos entre si. Serão criadas duas etapas de execução para 5 tipos de modelos distintos. \n",
    "    - As etapas são:\n",
    "      - Definição de Hiperparâmetros - Melhor Modelo: Nesta etapa utilizaremos funções específicas que nos ajudarão a encontrar os melhores hiperparâmetros dos modelos, executando diversas opções com base em iteração e definindo àqueles que melhor se adequam aos dados.\n",
    "      - Feature Importance: Nesta etapa, executaremos o Melhor Modelo, com base nos hiperparâmetros definidos na etapa anterior. Após isso, executaremos métricas de avaliação do desempenho modelo aos dados, como a Accuracy, além de métrica para avaliação que será útil na comparação entre os modelos distintos.\n",
    "    - Os modelos são:  \n",
    "      - Logistic Regression: Selecionamos este modelo pela sua capacidade de encontrar relações entre fatores de dados, sejam elas em abordagens binária, multinomial ou ordinal. Este modelo, por ser de fácil aplicação, será usado como modelo base (Benchmark) para a comparação com outros modelos. O modelo retornará o rank de variáveis mais relevantes para explicar a variável resposta, Severity.\n",
    "      - Decision Tree: Por ser um modelo de baixa complexidade de aplicação e processamento, este modelo é proposto com o intúito de avaliar se com apenas uma Decision Tree podemos obter bons resultados, não necessitando do uso de um algoritmo com maior complexidade. Será excelente para efeitos de comparação com o modelo seguinte.\n",
    "      - Random Forest: Por ser um modelo com método Emsemble, escolhemos este modelo como uma forma de avaliar se de fato usar um conjunto de Decision Tree seria mais eficaz para os dados do que usando apenas o modelo anterior. Outro ponto é o fato deste modelo ter grandes capacidades de adaptação a diversos tipos de dados, inclusives estimar dados ausentes, que não é nosso caso. É um modelo de alta precisão.\n",
    "      - KNN: Com uma concepção diferente dos demais algoritmos de Machine Learning, o KNN utiliza do cálculo de distâncias para determinar sua classificação. Como possui uma forma diferente de atuação, achamos interessante incluí-lo na análise. No entanto, por ser um algoritmo relativamente simples, não possui uma capacidade preditiva tão eficaz, portanto são esperamos que este modelo consiga se adaptar bem aos dados, no entanto é bastante valioso para efeitos de comparação. Por ter uma concepção diferente, o algoritmo não possui a opção de Feature Importance. \n",
    "      - Support Vector Machine (SVM): Por último escolhemos este modelo, um modelo de alta eficácia, porém de alta complexidade. É interessante pela sua capacidade de adaptação aos dados, podendo ser utlizado para classificação de dados linearmente e não-linearmente separáveis. Por ser um modelo de alta complexidade, ele necessita de alta capacidade de processamento. Será extremanete interessante para efeitos de comparação com os outros modelos, mas o SVM não possui a opção de Feature Importance. \n",
    "\n",
    "4) Nesta etapa aplicaremos a técnica de Clusterização. Será utilizado o algoritmo K-Means, que é um dos algoritmos mais usados para esta finalidade e serve como base para diversos outros algoritmos de Clusterização. Com este modelo, conseguiremos identificar perfis nos dados, com padrões de comportamento para a variável Severity. Para simplificar a análise e com o foco em responder nosso objetivo principal, executeramos o modelo e identificaremos perfis de comportamento apenas para o nível Fatal Injury da variável Severity. Após a execução do modelo, analisaremos os perfis e buscaremos possíveis soluções para prevenção de acidentes de trânsito.  \n",
    " "
   ]
  },
  {
   "cell_type": "markdown",
   "metadata": {},
   "source": [
    "## About Database"
   ]
  },
  {
   "cell_type": "markdown",
   "metadata": {},
   "source": [
    "A etapa inicial será de conhecimento dos dados e pequenas transformações. Executaremos algumas funções que trarão informações detalhadas dos dados, o que tornará possível a visualização das estruturações de dados que serão necessárias no decorrer do estudo. \n",
    "\n",
    "Inicialmente, necessitamos carregar todos os pacotes e módulos que serão necessários durante todo o processo de análise."
   ]
  },
  {
   "cell_type": "code",
   "execution_count": 399,
   "metadata": {},
   "outputs": [],
   "source": [
    "import pandas as pd\n",
    "import numpy as np\n",
    "import seaborn as sns\n",
    "import matplotlib.pyplot as plt\n",
    "import joblib\n",
    "import pickle\n",
    "import sklearn\n",
    "from sklearn.cluster import KMeans\n",
    "from sklearn.decomposition import PCA\n",
    "from sklearn.model_selection import train_test_split\n",
    "from sklearn.model_selection import GridSearchCV\n",
    "from sklearn.model_selection import cross_val_score\n",
    "from sklearn.model_selection import RandomizedSearchCV\n",
    "from sklearn.linear_model import LogisticRegression\n",
    "from sklearn.ensemble import RandomForestClassifier\n",
    "from sklearn.neighbors import KNeighborsClassifier\n",
    "from sklearn.tree import DecisionTreeClassifier\n",
    "from sklearn.svm import SVC\n",
    "from sklearn.metrics import roc_curve, auc, roc_auc_score, confusion_matrix\n",
    "from sklearn.metrics import accuracy_score\n",
    "%matplotlib inline \n",
    "import warnings\n",
    "warnings.filterwarnings(\"ignore\")"
   ]
  },
  {
   "cell_type": "markdown",
   "metadata": {},
   "source": [
    "Em seguida, realizamos a carga de dados através da função 'read_csv', que já nos retorna a base de dados em formato Data Frame, o ideal para o estudo."
   ]
  },
  {
   "cell_type": "code",
   "execution_count": 400,
   "metadata": {},
   "outputs": [
    {
     "data": {
      "text/html": [
       "<div>\n",
       "<style scoped>\n",
       "    .dataframe tbody tr th:only-of-type {\n",
       "        vertical-align: middle;\n",
       "    }\n",
       "\n",
       "    .dataframe tbody tr th {\n",
       "        vertical-align: top;\n",
       "    }\n",
       "\n",
       "    .dataframe thead th {\n",
       "        text-align: right;\n",
       "    }\n",
       "</style>\n",
       "<table border=\"1\" class=\"dataframe\">\n",
       "  <thead>\n",
       "    <tr style=\"text-align: right;\">\n",
       "      <th></th>\n",
       "      <th>Time</th>\n",
       "      <th>Hour</th>\n",
       "      <th>Day_of_week</th>\n",
       "      <th>Age_band_of_driver</th>\n",
       "      <th>Sex_of_driver</th>\n",
       "      <th>Educational_level</th>\n",
       "      <th>Vehicle_driver_relation</th>\n",
       "      <th>Driving_experience</th>\n",
       "      <th>Area_accident_occured</th>\n",
       "      <th>Lanes_or_Medians</th>\n",
       "      <th>Types_of_Junction</th>\n",
       "      <th>Road_surface_type</th>\n",
       "      <th>Light_conditions</th>\n",
       "      <th>Weather_conditions</th>\n",
       "      <th>Type_of_collision</th>\n",
       "      <th>Vehicle_movement</th>\n",
       "      <th>Pedestrian_movement</th>\n",
       "      <th>Cause_of_accident</th>\n",
       "      <th>Accident_severity</th>\n",
       "    </tr>\n",
       "  </thead>\n",
       "  <tbody>\n",
       "    <tr>\n",
       "      <th>0</th>\n",
       "      <td>17:02:00</td>\n",
       "      <td>17</td>\n",
       "      <td>Monday</td>\n",
       "      <td>18-30</td>\n",
       "      <td>Male</td>\n",
       "      <td>Above high school</td>\n",
       "      <td>Employee</td>\n",
       "      <td>1-2yr</td>\n",
       "      <td>Residential areas</td>\n",
       "      <td>Unknown</td>\n",
       "      <td>No junction</td>\n",
       "      <td>Asphalt roads</td>\n",
       "      <td>Daylight</td>\n",
       "      <td>Normal</td>\n",
       "      <td>Collision with roadside-parked vehicles</td>\n",
       "      <td>Going straight</td>\n",
       "      <td>Not a Pedestrian</td>\n",
       "      <td>Moving Backward</td>\n",
       "      <td>Slight Injury</td>\n",
       "    </tr>\n",
       "    <tr>\n",
       "      <th>1</th>\n",
       "      <td>17:02:00</td>\n",
       "      <td>17</td>\n",
       "      <td>Monday</td>\n",
       "      <td>31-50</td>\n",
       "      <td>Male</td>\n",
       "      <td>Junior high school</td>\n",
       "      <td>Employee</td>\n",
       "      <td>Above 10yr</td>\n",
       "      <td>Office areas</td>\n",
       "      <td>Undivided Two way</td>\n",
       "      <td>No junction</td>\n",
       "      <td>Asphalt roads</td>\n",
       "      <td>Daylight</td>\n",
       "      <td>Normal</td>\n",
       "      <td>Vehicle with vehicle collision</td>\n",
       "      <td>Going straight</td>\n",
       "      <td>Not a Pedestrian</td>\n",
       "      <td>Overtaking</td>\n",
       "      <td>Slight Injury</td>\n",
       "    </tr>\n",
       "    <tr>\n",
       "      <th>2</th>\n",
       "      <td>17:02:00</td>\n",
       "      <td>17</td>\n",
       "      <td>Monday</td>\n",
       "      <td>18-30</td>\n",
       "      <td>Male</td>\n",
       "      <td>Junior high school</td>\n",
       "      <td>Employee</td>\n",
       "      <td>1-2yr</td>\n",
       "      <td>Recreational areas</td>\n",
       "      <td>other</td>\n",
       "      <td>No junction</td>\n",
       "      <td>Asphalt roads</td>\n",
       "      <td>Daylight</td>\n",
       "      <td>Normal</td>\n",
       "      <td>Collision with roadside objects</td>\n",
       "      <td>Going straight</td>\n",
       "      <td>Not a Pedestrian</td>\n",
       "      <td>Changing lane to the left</td>\n",
       "      <td>Serious Injury</td>\n",
       "    </tr>\n",
       "    <tr>\n",
       "      <th>3</th>\n",
       "      <td>01:06:00</td>\n",
       "      <td>1</td>\n",
       "      <td>Sunday</td>\n",
       "      <td>18-30</td>\n",
       "      <td>Male</td>\n",
       "      <td>Junior high school</td>\n",
       "      <td>Employee</td>\n",
       "      <td>5-10yr</td>\n",
       "      <td>Office areas</td>\n",
       "      <td>other</td>\n",
       "      <td>Y Shape</td>\n",
       "      <td>Earth roads</td>\n",
       "      <td>Darkness - lights lit</td>\n",
       "      <td>Normal</td>\n",
       "      <td>Vehicle with vehicle collision</td>\n",
       "      <td>Going straight</td>\n",
       "      <td>Not a Pedestrian</td>\n",
       "      <td>Changing lane to the right</td>\n",
       "      <td>Slight Injury</td>\n",
       "    </tr>\n",
       "    <tr>\n",
       "      <th>4</th>\n",
       "      <td>01:06:00</td>\n",
       "      <td>1</td>\n",
       "      <td>Sunday</td>\n",
       "      <td>18-30</td>\n",
       "      <td>Male</td>\n",
       "      <td>Junior high school</td>\n",
       "      <td>Employee</td>\n",
       "      <td>2-5yr</td>\n",
       "      <td>Industrial areas</td>\n",
       "      <td>other</td>\n",
       "      <td>Y Shape</td>\n",
       "      <td>Asphalt roads</td>\n",
       "      <td>Darkness - lights lit</td>\n",
       "      <td>Normal</td>\n",
       "      <td>Vehicle with vehicle collision</td>\n",
       "      <td>Going straight</td>\n",
       "      <td>Not a Pedestrian</td>\n",
       "      <td>Overtaking</td>\n",
       "      <td>Slight Injury</td>\n",
       "    </tr>\n",
       "  </tbody>\n",
       "</table>\n",
       "</div>"
      ],
      "text/plain": [
       "       Time  Hour Day_of_week Age_band_of_driver Sex_of_driver  \\\n",
       "0  17:02:00    17      Monday              18-30          Male   \n",
       "1  17:02:00    17      Monday              31-50          Male   \n",
       "2  17:02:00    17      Monday              18-30          Male   \n",
       "3  01:06:00     1      Sunday              18-30          Male   \n",
       "4  01:06:00     1      Sunday              18-30          Male   \n",
       "\n",
       "    Educational_level Vehicle_driver_relation Driving_experience  \\\n",
       "0   Above high school                Employee              1-2yr   \n",
       "1  Junior high school                Employee         Above 10yr   \n",
       "2  Junior high school                Employee              1-2yr   \n",
       "3  Junior high school                Employee             5-10yr   \n",
       "4  Junior high school                Employee              2-5yr   \n",
       "\n",
       "  Area_accident_occured   Lanes_or_Medians Types_of_Junction  \\\n",
       "0     Residential areas            Unknown       No junction   \n",
       "1          Office areas  Undivided Two way       No junction   \n",
       "2    Recreational areas              other       No junction   \n",
       "3          Office areas              other           Y Shape   \n",
       "4      Industrial areas              other           Y Shape   \n",
       "\n",
       "  Road_surface_type       Light_conditions Weather_conditions  \\\n",
       "0     Asphalt roads               Daylight             Normal   \n",
       "1     Asphalt roads               Daylight             Normal   \n",
       "2     Asphalt roads               Daylight             Normal   \n",
       "3       Earth roads  Darkness - lights lit             Normal   \n",
       "4     Asphalt roads  Darkness - lights lit             Normal   \n",
       "\n",
       "                         Type_of_collision Vehicle_movement  \\\n",
       "0  Collision with roadside-parked vehicles   Going straight   \n",
       "1           Vehicle with vehicle collision   Going straight   \n",
       "2          Collision with roadside objects   Going straight   \n",
       "3           Vehicle with vehicle collision   Going straight   \n",
       "4           Vehicle with vehicle collision   Going straight   \n",
       "\n",
       "  Pedestrian_movement           Cause_of_accident Accident_severity  \n",
       "0    Not a Pedestrian             Moving Backward     Slight Injury  \n",
       "1    Not a Pedestrian                  Overtaking     Slight Injury  \n",
       "2    Not a Pedestrian   Changing lane to the left    Serious Injury  \n",
       "3    Not a Pedestrian  Changing lane to the right     Slight Injury  \n",
       "4    Not a Pedestrian                  Overtaking     Slight Injury  "
      ]
     },
     "execution_count": 400,
     "metadata": {},
     "output_type": "execute_result"
    }
   ],
   "source": [
    "# Data Loading\n",
    "dd = pd.read_csv('traffic_accidents_vs2.csv',sep=';');dd.head()"
   ]
  },
  {
   "cell_type": "markdown",
   "metadata": {},
   "source": [
    "Instantaneamente, já podemos observar algumas vriáveis que necessitarão de estruturação no decorrer do estudo. É o caso da variável 'Time', que possui um formato diferente das demais e que assim não possibilitará futuras análises. Outras variáveis deverão ser excluídas da base de dados por não trazerem informações relevantes para o objetivo do estudo. Um dos casos é o da variável 'Lanes_or_Medians'. \n",
    "\n",
    "Em seguida, verificaremos as dimensões da base de dados."
   ]
  },
  {
   "cell_type": "code",
   "execution_count": 401,
   "metadata": {},
   "outputs": [
    {
     "data": {
      "text/plain": [
       "(12304, 19)"
      ]
     },
     "execution_count": 401,
     "metadata": {},
     "output_type": "execute_result"
    }
   ],
   "source": [
    "# Dimensions\n",
    "dd.shape"
   ]
  },
  {
   "cell_type": "markdown",
   "metadata": {},
   "source": [
    "Como podemos observar, as dimensões respeitam os pré-requisitos do estudo. Desta forma, podemos seguir.\n",
    "\n",
    "Precisamos verificar como estão os formatos de cada variável e definir se necessitaremos realizar conversões de formatos."
   ]
  },
  {
   "cell_type": "code",
   "execution_count": 377,
   "metadata": {},
   "outputs": [
    {
     "name": "stdout",
     "output_type": "stream",
     "text": [
      "<class 'pandas.core.frame.DataFrame'>\n",
      "RangeIndex: 12304 entries, 0 to 12303\n",
      "Data columns (total 19 columns):\n",
      " #   Column                   Non-Null Count  Dtype \n",
      "---  ------                   --------------  ----- \n",
      " 0   Time                     12304 non-null  object\n",
      " 1   Hour                     12304 non-null  int64 \n",
      " 2   Day_of_week              12304 non-null  object\n",
      " 3   Age_band_of_driver       12304 non-null  object\n",
      " 4   Sex_of_driver            12304 non-null  object\n",
      " 5   Educational_level        12304 non-null  object\n",
      " 6   Vehicle_driver_relation  12304 non-null  object\n",
      " 7   Driving_experience       12304 non-null  object\n",
      " 8   Area_accident_occured    12304 non-null  object\n",
      " 9   Lanes_or_Medians         12304 non-null  object\n",
      " 10  Types_of_Junction        12304 non-null  object\n",
      " 11  Road_surface_type        12304 non-null  object\n",
      " 12  Light_conditions         12304 non-null  object\n",
      " 13  Weather_conditions       12304 non-null  object\n",
      " 14  Type_of_collision        12304 non-null  object\n",
      " 15  Vehicle_movement         12304 non-null  object\n",
      " 16  Pedestrian_movement      12304 non-null  object\n",
      " 17  Cause_of_accident        12304 non-null  object\n",
      " 18  Accident_severity        12304 non-null  object\n",
      "dtypes: int64(1), object(18)\n",
      "memory usage: 1.8+ MB\n"
     ]
    }
   ],
   "source": [
    "dd.info()"
   ]
  },
  {
   "cell_type": "markdown",
   "metadata": {},
   "source": [
    "As variáveis da base de dados carregadas no Data Frame, em sua grande maioria, possuem formatos de 'Object'. Desta forma, nas etapas seguintes necessitaremos realizar transformações para alteração destes formatos a fim de possibilitar o uso nos algoritmos de Machine Learning propostos.\n",
    "\n",
    "No entanto, uma breve transformação necessita ser realizada nesta etapa para que possamos seguir com as demais análises. É  necessário que façamos a alteração dos nomes de algumas colunas na base de dados, afim de facilitar seu acesso posteriormente. Desta forma, usaremos a função 'rename'."
   ]
  },
  {
   "cell_type": "code",
   "execution_count": 378,
   "metadata": {},
   "outputs": [],
   "source": [
    "## Rename Collums\n",
    "dd = dd.rename(columns={\n",
    "    'Age_band_of_driver':'age',\n",
    "    'Sex_of_driver':'sex',\n",
    "    'Educational_level':'education',\n",
    "    'Road_surface_type':'road_surface',\n",
    "    'Type_of_collision':'collision',\n",
    "    'Cause_of_accident':'cause',\n",
    "    'Accident_severity':'severity'})\n"
   ]
  },
  {
   "cell_type": "markdown",
   "metadata": {},
   "source": [
    "Após a alteração dos nomes de algumas colunas, realizaremos uma importante verificação nos dados: a verificação de valores Missing."
   ]
  },
  {
   "cell_type": "code",
   "execution_count": 379,
   "metadata": {},
   "outputs": [
    {
     "data": {
      "text/plain": [
       "Time                       0\n",
       "Hour                       0\n",
       "Day_of_week                0\n",
       "age                        0\n",
       "sex                        0\n",
       "education                  0\n",
       "Vehicle_driver_relation    0\n",
       "Driving_experience         0\n",
       "Area_accident_occured      0\n",
       "Lanes_or_Medians           0\n",
       "Types_of_Junction          0\n",
       "road_surface               0\n",
       "Light_conditions           0\n",
       "Weather_conditions         0\n",
       "collision                  0\n",
       "Vehicle_movement           0\n",
       "Pedestrian_movement        0\n",
       "cause                      0\n",
       "severity                   0\n",
       "dtype: int64"
      ]
     },
     "execution_count": 379,
     "metadata": {},
     "output_type": "execute_result"
    }
   ],
   "source": [
    "# Missing Values\n",
    "dd.isnull().sum()"
   ]
  },
  {
   "cell_type": "markdown",
   "metadata": {},
   "source": [
    "Como podemos ver, não possuímos valores Missing nesta base. Desta forma, podemos iniciar nossa Exploratory Data Analysis."
   ]
  },
  {
   "cell_type": "markdown",
   "metadata": {},
   "source": [
    "## Exploratory Data Analysis\n",
    "\n",
    "Iniciaremos agora a etapa de análise exploratória, estudando cada variável separadamente e verificando como suas categorias estão distribuídas. Esta etapa tem como importância a identificação das frequências de dados, maiores ocorrências de determinadas categorias, e como isso poderá influenciar quando analisada em conjunto. Gerar insights nesta etapa não é algo recomendado pela forma como as análises estão sendo feitas individualmente, mas será possível ter boas visões e identificar comportamentos que posteriormente poderão, ou não, ser comprovados. "
   ]
  },
  {
   "cell_type": "markdown",
   "metadata": {},
   "source": [
    "##### - Variável AGE\n",
    "\n",
    "A variável 'Age', apesar do nome, não trata-se especificamente da idade do motorista, mas sim da Faixa Etária na qual ele está incluso. Esta variável possui 5 categorias, sendo uma delas chamada 'Unknown'. Consideraremos esta categoria na análise a fim de entender a relevância de sua frequência % na variável como um todo. "
   ]
  },
  {
   "cell_type": "code",
   "execution_count": 380,
   "metadata": {},
   "outputs": [
    {
     "data": {
      "text/html": [
       "<div>\n",
       "<style scoped>\n",
       "    .dataframe tbody tr th:only-of-type {\n",
       "        vertical-align: middle;\n",
       "    }\n",
       "\n",
       "    .dataframe tbody tr th {\n",
       "        vertical-align: top;\n",
       "    }\n",
       "\n",
       "    .dataframe thead th {\n",
       "        text-align: right;\n",
       "    }\n",
       "</style>\n",
       "<table border=\"1\" class=\"dataframe\">\n",
       "  <thead>\n",
       "    <tr style=\"text-align: right;\">\n",
       "      <th></th>\n",
       "      <th>age</th>\n",
       "      <th>values</th>\n",
       "      <th>frequency (%)</th>\n",
       "    </tr>\n",
       "  </thead>\n",
       "  <tbody>\n",
       "    <tr>\n",
       "      <th>0</th>\n",
       "      <td>18-30</td>\n",
       "      <td>4269</td>\n",
       "      <td>34.70</td>\n",
       "    </tr>\n",
       "    <tr>\n",
       "      <th>1</th>\n",
       "      <td>31-50</td>\n",
       "      <td>4085</td>\n",
       "      <td>33.20</td>\n",
       "    </tr>\n",
       "    <tr>\n",
       "      <th>2</th>\n",
       "      <td>Over 51</td>\n",
       "      <td>1581</td>\n",
       "      <td>12.85</td>\n",
       "    </tr>\n",
       "    <tr>\n",
       "      <th>3</th>\n",
       "      <td>Unknown</td>\n",
       "      <td>1546</td>\n",
       "      <td>12.57</td>\n",
       "    </tr>\n",
       "    <tr>\n",
       "      <th>4</th>\n",
       "      <td>Under 18</td>\n",
       "      <td>823</td>\n",
       "      <td>6.69</td>\n",
       "    </tr>\n",
       "  </tbody>\n",
       "</table>\n",
       "</div>"
      ],
      "text/plain": [
       "        age  values  frequency (%)\n",
       "0     18-30    4269          34.70\n",
       "1     31-50    4085          33.20\n",
       "2   Over 51    1581          12.85\n",
       "3   Unknown    1546          12.57\n",
       "4  Under 18     823           6.69"
      ]
     },
     "execution_count": 380,
     "metadata": {},
     "output_type": "execute_result"
    }
   ],
   "source": [
    "age = pd.DataFrame(dd[['age']].value_counts(),columns=['values'])\n",
    "age = age.reset_index()\n",
    "age[['frequency (%)']] = round(((age[['values']]/age[['values']].sum())*100),2)\n",
    "age"
   ]
  },
  {
   "cell_type": "markdown",
   "metadata": {},
   "source": [
    "Segundo a tabela acima, a faixa etária de motoristas com idade entre 18 e 30 anos de idade esteve mais presente em ocorrências de acidentes de trânsito. Essa classe representa quase 35% de todos os envolvidos. É possível visualizar com mais clareza no gráfico abaixo:"
   ]
  },
  {
   "cell_type": "code",
   "execution_count": 381,
   "metadata": {},
   "outputs": [
    {
     "data": {
      "text/plain": [
       "(-1.2034904181678197, 1.110005247551477, -1.113765714475202, 1.14910561113799)"
      ]
     },
     "execution_count": 381,
     "metadata": {},
     "output_type": "execute_result"
    },
    {
     "data": {
      "image/png": "[encoded data removed]",
      "text/plain": [
       "<Figure size 432x576 with 1 Axes>"
      ]
     },
     "metadata": {},
     "output_type": "display_data"
    }
   ],
   "source": [
    "dd[['age']].value_counts()\n",
    "explode = (0.1,0,0,0,0)\n",
    "plt.figure(figsize = (6, 8))\n",
    "plt.pie(dd[['age']].value_counts(), explode=explode, autopct='%1.1f%%',shadow = True,startangle=90)\n",
    "plt.legend(labels=['18-30','31-50','Over 51','Unknown','Under 18'])\n",
    "plt.title('Faixa Etária dos Motoristas')\n",
    "plt.axis('equal')\n"
   ]
  },
  {
   "cell_type": "markdown",
   "metadata": {},
   "source": [
    "A faixa etária de jovens com idade abaixo de 18 anos possui cerca de 6,7% das ocorrências e é a classe que possui menor representatividde. Não temos informações suficientes sobre a idade mínima para condução de veículos automotores na Etiópia, então é impossível afirmar se os 823 jovens (informação no quadro acima) envolvidos em acidentes de trânsito dirigiam ilegalmente no momento da ocorrência. Nesta variável, a quantidade de motoristas com idade desconhecida (Unknown) representa 12,6%. "
   ]
  },
  {
   "cell_type": "markdown",
   "metadata": {},
   "source": [
    "##### - Variável SEX\n",
    "\n",
    "A variável 'Sex' representa o sexo do motorista envolvido no acidente de trânsito, e possui três categorias, sendo uma delas com registros de sexo desconhecido (Unknown)."
   ]
  },
  {
   "cell_type": "code",
   "execution_count": 382,
   "metadata": {},
   "outputs": [
    {
     "data": {
      "text/html": [
       "<div>\n",
       "<style scoped>\n",
       "    .dataframe tbody tr th:only-of-type {\n",
       "        vertical-align: middle;\n",
       "    }\n",
       "\n",
       "    .dataframe tbody tr th {\n",
       "        vertical-align: top;\n",
       "    }\n",
       "\n",
       "    .dataframe thead th {\n",
       "        text-align: right;\n",
       "    }\n",
       "</style>\n",
       "<table border=\"1\" class=\"dataframe\">\n",
       "  <thead>\n",
       "    <tr style=\"text-align: right;\">\n",
       "      <th></th>\n",
       "      <th>sex</th>\n",
       "      <th>values</th>\n",
       "      <th>frequency (%)</th>\n",
       "    </tr>\n",
       "  </thead>\n",
       "  <tbody>\n",
       "    <tr>\n",
       "      <th>0</th>\n",
       "      <td>Male</td>\n",
       "      <td>11426</td>\n",
       "      <td>92.86</td>\n",
       "    </tr>\n",
       "    <tr>\n",
       "      <th>1</th>\n",
       "      <td>Female</td>\n",
       "      <td>700</td>\n",
       "      <td>5.69</td>\n",
       "    </tr>\n",
       "    <tr>\n",
       "      <th>2</th>\n",
       "      <td>Unknown</td>\n",
       "      <td>178</td>\n",
       "      <td>1.45</td>\n",
       "    </tr>\n",
       "  </tbody>\n",
       "</table>\n",
       "</div>"
      ],
      "text/plain": [
       "       sex  values  frequency (%)\n",
       "0     Male   11426          92.86\n",
       "1   Female     700           5.69\n",
       "2  Unknown     178           1.45"
      ]
     },
     "execution_count": 382,
     "metadata": {},
     "output_type": "execute_result"
    }
   ],
   "source": [
    "sex = pd.DataFrame(dd[['sex']].value_counts(),columns=['values'])\n",
    "sex = sex.reset_index()\n",
    "sex[['frequency (%)']] = round(((sex[['values']]/sex[['values']].sum())*100),2)\n",
    "sex"
   ]
  },
  {
   "cell_type": "markdown",
   "metadata": {},
   "source": [
    "É claramente notória a presença de motoristas do sexo masculino em acidentes de trânsito, representando quase 93% do total de pessoas envolvidas em acidentes. Motoristas do sexo feminino representaram apenas 5,6% do total de indivíduos. Observe o gráfico abaixo:  "
   ]
  },
  {
   "cell_type": "code",
   "execution_count": 383,
   "metadata": {},
   "outputs": [
    {
     "data": {
      "text/plain": [
       "(-1.1523414722993333,\n",
       " 1.059117969149709,\n",
       " -1.3173168093313399,\n",
       " 1.2150021442036985)"
      ]
     },
     "execution_count": 383,
     "metadata": {},
     "output_type": "execute_result"
    },
    {
     "data": {
      "image/png": "[encoded data removed]",
      "text/plain": [
       "<Figure size 432x576 with 1 Axes>"
      ]
     },
     "metadata": {},
     "output_type": "display_data"
    }
   ],
   "source": [
    "dd[['sex']].value_counts()\n",
    "explode = (0.2,0,0.1)\n",
    "plt.figure(figsize = (6, 8))\n",
    "plt.pie(dd[['sex']].value_counts(), explode=explode,  autopct='%1.1f%%',shadow = True,startangle=90)\n",
    "plt.legend(labels=['Male','Female','Unknown'])\n",
    "plt.title('Sexo')\n",
    "plt.axis('equal')\n",
    "\n"
   ]
  },
  {
   "cell_type": "markdown",
   "metadata": {},
   "source": [
    "De forma alternativa, a presença de homens em acidentes de transito é aproximadamente 16 vezes maior que o número de mulheres, sendo 11426 ocorrências contra apenas 700. Para esta variável o número de registros sem informações (Unknown) foi de apenas 178, não alcançando 2% do total. \n",
    "\n",
    "Esta variável é um excelente ponto de observação para análises posteriores."
   ]
  },
  {
   "cell_type": "markdown",
   "metadata": {},
   "source": [
    "#### - Variável EDUCATION\n",
    "\n",
    "A variável 'Education' possui sete categorias e representa todos os níveis de escolaridade dos motoristas envolvidos em acidentes.    "
   ]
  },
  {
   "cell_type": "code",
   "execution_count": 384,
   "metadata": {},
   "outputs": [
    {
     "data": {
      "text/html": [
       "<div>\n",
       "<style scoped>\n",
       "    .dataframe tbody tr th:only-of-type {\n",
       "        vertical-align: middle;\n",
       "    }\n",
       "\n",
       "    .dataframe tbody tr th {\n",
       "        vertical-align: top;\n",
       "    }\n",
       "\n",
       "    .dataframe thead th {\n",
       "        text-align: right;\n",
       "    }\n",
       "</style>\n",
       "<table border=\"1\" class=\"dataframe\">\n",
       "  <thead>\n",
       "    <tr style=\"text-align: right;\">\n",
       "      <th></th>\n",
       "      <th>education</th>\n",
       "      <th>values</th>\n",
       "      <th>frequency (%)</th>\n",
       "    </tr>\n",
       "  </thead>\n",
       "  <tbody>\n",
       "    <tr>\n",
       "      <th>0</th>\n",
       "      <td>Junior high school</td>\n",
       "      <td>7610</td>\n",
       "      <td>61.85</td>\n",
       "    </tr>\n",
       "    <tr>\n",
       "      <th>1</th>\n",
       "      <td>Elementary school</td>\n",
       "      <td>2161</td>\n",
       "      <td>17.56</td>\n",
       "    </tr>\n",
       "    <tr>\n",
       "      <th>2</th>\n",
       "      <td>High school</td>\n",
       "      <td>1109</td>\n",
       "      <td>9.01</td>\n",
       "    </tr>\n",
       "    <tr>\n",
       "      <th>3</th>\n",
       "      <td>Unknown</td>\n",
       "      <td>841</td>\n",
       "      <td>6.84</td>\n",
       "    </tr>\n",
       "    <tr>\n",
       "      <th>4</th>\n",
       "      <td>Above high school</td>\n",
       "      <td>362</td>\n",
       "      <td>2.94</td>\n",
       "    </tr>\n",
       "    <tr>\n",
       "      <th>5</th>\n",
       "      <td>Writing &amp; reading</td>\n",
       "      <td>176</td>\n",
       "      <td>1.43</td>\n",
       "    </tr>\n",
       "    <tr>\n",
       "      <th>6</th>\n",
       "      <td>Illiterate</td>\n",
       "      <td>45</td>\n",
       "      <td>0.37</td>\n",
       "    </tr>\n",
       "  </tbody>\n",
       "</table>\n",
       "</div>"
      ],
      "text/plain": [
       "            education  values  frequency (%)\n",
       "0  Junior high school    7610          61.85\n",
       "1   Elementary school    2161          17.56\n",
       "2         High school    1109           9.01\n",
       "3             Unknown     841           6.84\n",
       "4   Above high school     362           2.94\n",
       "5   Writing & reading     176           1.43\n",
       "6          Illiterate      45           0.37"
      ]
     },
     "execution_count": 384,
     "metadata": {},
     "output_type": "execute_result"
    }
   ],
   "source": [
    "education = pd.DataFrame(dd[['education']].value_counts(),columns=['values'])\n",
    "education = education.reset_index()\n",
    "education[['frequency (%)']] = round(((education[['values']]/education[['values']].sum())*100),2)\n",
    "education"
   ]
  },
  {
   "cell_type": "markdown",
   "metadata": {},
   "source": [
    "Segundo os dados, aproximadamente 80% dos motoristas com escolaridade Elementary ou Junior estiveram presentes em acidentes de trânsito. Pessoas que encontram-se na High School representam cerca de 9%. Apenas 1,8% é a representatividade de motoristas que não possuem alfabetização ou que sabem apenas ler e escrever. Mais detalhes no gráfico abaixo:"
   ]
  },
  {
   "cell_type": "code",
   "execution_count": 386,
   "metadata": {},
   "outputs": [
    {
     "data": {
      "text/plain": [
       "<Figure size 720x576 with 0 Axes>"
      ]
     },
     "execution_count": 386,
     "metadata": {},
     "output_type": "execute_result"
    },
    {
     "data": {
      "image/png": "[encoded data removed]",
      "text/plain": [
       "<Figure size 360x360 with 1 Axes>"
      ]
     },
     "metadata": {
      "needs_background": "light"
     },
     "output_type": "display_data"
    },
    {
     "data": {
      "text/plain": [
       "<Figure size 720x576 with 0 Axes>"
      ]
     },
     "metadata": {},
     "output_type": "display_data"
    }
   ],
   "source": [
    "\n",
    "dd[['education']].value_counts() \n",
    "edu = pd.DataFrame(dd[['education']].value_counts(),columns=['values'])\n",
    "edu = edu.reset_index()\n",
    "sns.catplot(data=edu, y = 'education', x = 'values',kind = 'bar')    \n"
   ]
  },
  {
   "cell_type": "markdown",
   "metadata": {},
   "source": [
    "#### - VEHICLE DRIVER RELATION"
   ]
  },
  {
   "cell_type": "code",
   "execution_count": 93,
   "metadata": {},
   "outputs": [
    {
     "data": {
      "text/html": [
       "<div>\n",
       "<style scoped>\n",
       "    .dataframe tbody tr th:only-of-type {\n",
       "        vertical-align: middle;\n",
       "    }\n",
       "\n",
       "    .dataframe tbody tr th {\n",
       "        vertical-align: top;\n",
       "    }\n",
       "\n",
       "    .dataframe thead th {\n",
       "        text-align: right;\n",
       "    }\n",
       "</style>\n",
       "<table border=\"1\" class=\"dataframe\">\n",
       "  <thead>\n",
       "    <tr style=\"text-align: right;\">\n",
       "      <th></th>\n",
       "      <th>Vehicle_driver_relation</th>\n",
       "      <th>values</th>\n",
       "      <th>frequency (%)</th>\n",
       "    </tr>\n",
       "  </thead>\n",
       "  <tbody>\n",
       "    <tr>\n",
       "      <th>0</th>\n",
       "      <td>Employee</td>\n",
       "      <td>9616</td>\n",
       "      <td>78.15</td>\n",
       "    </tr>\n",
       "    <tr>\n",
       "      <th>1</th>\n",
       "      <td>Owner</td>\n",
       "      <td>1973</td>\n",
       "      <td>16.04</td>\n",
       "    </tr>\n",
       "    <tr>\n",
       "      <th>2</th>\n",
       "      <td>Unknown</td>\n",
       "      <td>592</td>\n",
       "      <td>4.81</td>\n",
       "    </tr>\n",
       "    <tr>\n",
       "      <th>3</th>\n",
       "      <td>Other</td>\n",
       "      <td>123</td>\n",
       "      <td>1.00</td>\n",
       "    </tr>\n",
       "  </tbody>\n",
       "</table>\n",
       "</div>"
      ],
      "text/plain": [
       "  Vehicle_driver_relation  values  frequency (%)\n",
       "0                Employee    9616          78.15\n",
       "1                   Owner    1973          16.04\n",
       "2                 Unknown     592           4.81\n",
       "3                   Other     123           1.00"
      ]
     },
     "execution_count": 93,
     "metadata": {},
     "output_type": "execute_result"
    }
   ],
   "source": [
    "relation = pd.DataFrame(dd[['Vehicle_driver_relation']].value_counts(),columns=['values'])\n",
    "relation = relation.reset_index()\n",
    "relation[['frequency (%)']] = round(((relation[['values']]/relation[['values']].sum())*100),2)\n",
    "relation"
   ]
  },
  {
   "cell_type": "markdown",
   "metadata": {},
   "source": [
    "- Mais de 3/4 dos envolvidos nos acidentes eram empregados utilizando os veículos."
   ]
  },
  {
   "cell_type": "code",
   "execution_count": 388,
   "metadata": {},
   "outputs": [
    {
     "data": {
      "text/plain": [
       "<matplotlib.legend.Legend at 0x1f211e4b520>"
      ]
     },
     "execution_count": 388,
     "metadata": {},
     "output_type": "execute_result"
    },
    {
     "data": {
      "image/png": "[encoded data removed]",
      "text/plain": [
       "<Figure size 432x576 with 1 Axes>"
      ]
     },
     "metadata": {},
     "output_type": "display_data"
    }
   ],
   "source": [
    "dd[['Vehicle_driver_relation']].value_counts()  \n",
    "explode = (0,0,0,0.1)\n",
    "plt.figure(figsize = (6, 8))\n",
    "plt.pie(dd[['Vehicle_driver_relation']].value_counts(), explode=explode,  autopct='%1.1f%%',shadow = True,startangle=90)\n",
    "plt.axis('equal')\n",
    "plt.tight_layout()\n",
    "plt.legend(labels=['Employee','Owner','Unknown','Other'])"
   ]
  },
  {
   "cell_type": "markdown",
   "metadata": {},
   "source": [
    "#### - DRIVING EXPERIENCE"
   ]
  },
  {
   "cell_type": "code",
   "execution_count": 95,
   "metadata": {},
   "outputs": [
    {
     "data": {
      "text/html": [
       "<div>\n",
       "<style scoped>\n",
       "    .dataframe tbody tr th:only-of-type {\n",
       "        vertical-align: middle;\n",
       "    }\n",
       "\n",
       "    .dataframe tbody tr th {\n",
       "        vertical-align: top;\n",
       "    }\n",
       "\n",
       "    .dataframe thead th {\n",
       "        text-align: right;\n",
       "    }\n",
       "</style>\n",
       "<table border=\"1\" class=\"dataframe\">\n",
       "  <thead>\n",
       "    <tr style=\"text-align: right;\">\n",
       "      <th></th>\n",
       "      <th>Driving_experience</th>\n",
       "      <th>values</th>\n",
       "      <th>frequency (%)</th>\n",
       "    </tr>\n",
       "  </thead>\n",
       "  <tbody>\n",
       "    <tr>\n",
       "      <th>0</th>\n",
       "      <td>5-10yr</td>\n",
       "      <td>3360</td>\n",
       "      <td>27.31</td>\n",
       "    </tr>\n",
       "    <tr>\n",
       "      <th>1</th>\n",
       "      <td>2-5yr</td>\n",
       "      <td>2609</td>\n",
       "      <td>21.20</td>\n",
       "    </tr>\n",
       "    <tr>\n",
       "      <th>2</th>\n",
       "      <td>Above 10yr</td>\n",
       "      <td>2259</td>\n",
       "      <td>18.36</td>\n",
       "    </tr>\n",
       "    <tr>\n",
       "      <th>3</th>\n",
       "      <td>1-2yr</td>\n",
       "      <td>1756</td>\n",
       "      <td>14.27</td>\n",
       "    </tr>\n",
       "    <tr>\n",
       "      <th>4</th>\n",
       "      <td>Below 1yr</td>\n",
       "      <td>1341</td>\n",
       "      <td>10.90</td>\n",
       "    </tr>\n",
       "    <tr>\n",
       "      <th>5</th>\n",
       "      <td>Unknown</td>\n",
       "      <td>828</td>\n",
       "      <td>6.73</td>\n",
       "    </tr>\n",
       "    <tr>\n",
       "      <th>6</th>\n",
       "      <td>No Licence</td>\n",
       "      <td>118</td>\n",
       "      <td>0.96</td>\n",
       "    </tr>\n",
       "    <tr>\n",
       "      <th>7</th>\n",
       "      <td>unknown</td>\n",
       "      <td>33</td>\n",
       "      <td>0.27</td>\n",
       "    </tr>\n",
       "  </tbody>\n",
       "</table>\n",
       "</div>"
      ],
      "text/plain": [
       "  Driving_experience  values  frequency (%)\n",
       "0             5-10yr    3360          27.31\n",
       "1              2-5yr    2609          21.20\n",
       "2         Above 10yr    2259          18.36\n",
       "3              1-2yr    1756          14.27\n",
       "4          Below 1yr    1341          10.90\n",
       "5            Unknown     828           6.73\n",
       "6         No Licence     118           0.96\n",
       "7            unknown      33           0.27"
      ]
     },
     "execution_count": 95,
     "metadata": {},
     "output_type": "execute_result"
    }
   ],
   "source": [
    "experience = pd.DataFrame(dd[['Driving_experience']].value_counts(),columns=['values'])\n",
    "experience = experience.reset_index()\n",
    "experience[['frequency (%)']] = round(((experience[['values']]/experience[['values']].sum())*100),2)\n",
    "experience"
   ]
  },
  {
   "cell_type": "markdown",
   "metadata": {},
   "source": [
    "- Os acidentes tendem a envolver pessoas com maior tempo de experiência.\n",
    "- Há muito menos incidências envolvendo pessoas não habilitadas, porém estas também representam um número muito menor entre os motoristas."
   ]
  },
  {
   "cell_type": "code",
   "execution_count": 390,
   "metadata": {},
   "outputs": [
    {
     "data": {
      "text/plain": [
       "<seaborn.axisgrid.FacetGrid at 0x1f234fbd430>"
      ]
     },
     "execution_count": 390,
     "metadata": {},
     "output_type": "execute_result"
    },
    {
     "data": {
      "image/png": "[encoded data removed]",
      "text/plain": [
       "<Figure size 360x360 with 1 Axes>"
      ]
     },
     "metadata": {
      "needs_background": "light"
     },
     "output_type": "display_data"
    }
   ],
   "source": [
    "dd[['Driving_experience']].value_counts()  \n",
    "exp = pd.DataFrame(dd[['Driving_experience']].value_counts(),columns=['values'])\n",
    "exp = exp.reset_index()\n",
    "sns.catplot(data=exp, y = 'Driving_experience', x = 'values',kind = 'bar')      "
   ]
  },
  {
   "cell_type": "markdown",
   "metadata": {},
   "source": [
    "#### - ROAD SURFACE"
   ]
  },
  {
   "cell_type": "code",
   "execution_count": 99,
   "metadata": {},
   "outputs": [
    {
     "data": {
      "text/html": [
       "<div>\n",
       "<style scoped>\n",
       "    .dataframe tbody tr th:only-of-type {\n",
       "        vertical-align: middle;\n",
       "    }\n",
       "\n",
       "    .dataframe tbody tr th {\n",
       "        vertical-align: top;\n",
       "    }\n",
       "\n",
       "    .dataframe thead th {\n",
       "        text-align: right;\n",
       "    }\n",
       "</style>\n",
       "<table border=\"1\" class=\"dataframe\">\n",
       "  <thead>\n",
       "    <tr style=\"text-align: right;\">\n",
       "      <th></th>\n",
       "      <th>road_surface</th>\n",
       "      <th>values</th>\n",
       "      <th>frequency (%)</th>\n",
       "    </tr>\n",
       "  </thead>\n",
       "  <tbody>\n",
       "    <tr>\n",
       "      <th>0</th>\n",
       "      <td>Asphalt roads</td>\n",
       "      <td>11285</td>\n",
       "      <td>91.72</td>\n",
       "    </tr>\n",
       "    <tr>\n",
       "      <th>1</th>\n",
       "      <td>Earth roads</td>\n",
       "      <td>358</td>\n",
       "      <td>2.91</td>\n",
       "    </tr>\n",
       "    <tr>\n",
       "      <th>2</th>\n",
       "      <td>Gravel roads</td>\n",
       "      <td>242</td>\n",
       "      <td>1.97</td>\n",
       "    </tr>\n",
       "    <tr>\n",
       "      <th>3</th>\n",
       "      <td>Unknown</td>\n",
       "      <td>172</td>\n",
       "      <td>1.40</td>\n",
       "    </tr>\n",
       "    <tr>\n",
       "      <th>4</th>\n",
       "      <td>Other</td>\n",
       "      <td>167</td>\n",
       "      <td>1.36</td>\n",
       "    </tr>\n",
       "    <tr>\n",
       "      <th>5</th>\n",
       "      <td>Asphalt roads with some distress</td>\n",
       "      <td>80</td>\n",
       "      <td>0.65</td>\n",
       "    </tr>\n",
       "  </tbody>\n",
       "</table>\n",
       "</div>"
      ],
      "text/plain": [
       "                       road_surface  values  frequency (%)\n",
       "0                     Asphalt roads   11285          91.72\n",
       "1                       Earth roads     358           2.91\n",
       "2                      Gravel roads     242           1.97\n",
       "3                           Unknown     172           1.40\n",
       "4                             Other     167           1.36\n",
       "5  Asphalt roads with some distress      80           0.65"
      ]
     },
     "execution_count": 99,
     "metadata": {},
     "output_type": "execute_result"
    }
   ],
   "source": [
    "surface = pd.DataFrame(dd[['road_surface']].value_counts(),columns=['values'])\n",
    "surface = surface.reset_index()\n",
    "surface[['frequency (%)']] = round(((surface[['values']]/surface[['values']].sum())*100),2)\n",
    "surface"
   ]
  },
  {
   "cell_type": "markdown",
   "metadata": {},
   "source": [
    "- O número de acidentes em vias asfaltadas é muito maior do que a soma dos acidentes ocorridos em outros tipos de vias.\n",
    "- A variação entre os acidentes ocorridos nos outros tipos de vias é baixa."
   ]
  },
  {
   "cell_type": "code",
   "execution_count": 393,
   "metadata": {},
   "outputs": [
    {
     "data": {
      "text/plain": [
       "<matplotlib.legend.Legend at 0x1f23582f280>"
      ]
     },
     "execution_count": 393,
     "metadata": {},
     "output_type": "execute_result"
    },
    {
     "data": {
      "image/png": "[encoded data removed]",
      "text/plain": [
       "<Figure size 576x576 with 1 Axes>"
      ]
     },
     "metadata": {},
     "output_type": "display_data"
    }
   ],
   "source": [
    "ddx = dd[['road_surface']].value_counts()  \n",
    "explode = (0.1,0,0.1,0.25,0.35,0.45)\n",
    "plt.figure(figsize = (8, 8))\n",
    "plt.pie(dd[['road_surface']].value_counts(), explode=explode,  autopct='%1.1f%%',shadow = True,startangle=90)\n",
    "plt.axis('equal')\n",
    "plt.tight_layout()\n",
    "plt.legend(labels=['Asphalt roads','Earth roads','Gravel roads','Unknown','Other','Asphalt roads with some distress'])"
   ]
  },
  {
   "cell_type": "markdown",
   "metadata": {},
   "source": [
    "#### - LIGHT CONDITIONS"
   ]
  },
  {
   "cell_type": "code",
   "execution_count": 101,
   "metadata": {},
   "outputs": [
    {
     "data": {
      "text/html": [
       "<div>\n",
       "<style scoped>\n",
       "    .dataframe tbody tr th:only-of-type {\n",
       "        vertical-align: middle;\n",
       "    }\n",
       "\n",
       "    .dataframe tbody tr th {\n",
       "        vertical-align: top;\n",
       "    }\n",
       "\n",
       "    .dataframe thead th {\n",
       "        text-align: right;\n",
       "    }\n",
       "</style>\n",
       "<table border=\"1\" class=\"dataframe\">\n",
       "  <thead>\n",
       "    <tr style=\"text-align: right;\">\n",
       "      <th></th>\n",
       "      <th>Light_conditions</th>\n",
       "      <th>values</th>\n",
       "      <th>frequency (%)</th>\n",
       "    </tr>\n",
       "  </thead>\n",
       "  <tbody>\n",
       "    <tr>\n",
       "      <th>0</th>\n",
       "      <td>Daylight</td>\n",
       "      <td>8790</td>\n",
       "      <td>71.44</td>\n",
       "    </tr>\n",
       "    <tr>\n",
       "      <th>1</th>\n",
       "      <td>Darkness - lights lit</td>\n",
       "      <td>3284</td>\n",
       "      <td>26.69</td>\n",
       "    </tr>\n",
       "    <tr>\n",
       "      <th>2</th>\n",
       "      <td>Darkness - no lighting</td>\n",
       "      <td>190</td>\n",
       "      <td>1.54</td>\n",
       "    </tr>\n",
       "    <tr>\n",
       "      <th>3</th>\n",
       "      <td>Darkness - lights unlit</td>\n",
       "      <td>40</td>\n",
       "      <td>0.33</td>\n",
       "    </tr>\n",
       "  </tbody>\n",
       "</table>\n",
       "</div>"
      ],
      "text/plain": [
       "          Light_conditions  values  frequency (%)\n",
       "0                 Daylight    8790          71.44\n",
       "1    Darkness - lights lit    3284          26.69\n",
       "2   Darkness - no lighting     190           1.54\n",
       "3  Darkness - lights unlit      40           0.33"
      ]
     },
     "execution_count": 101,
     "metadata": {},
     "output_type": "execute_result"
    }
   ],
   "source": [
    "light = pd.DataFrame(dd[['Light_conditions']].value_counts(),columns=['values'])\n",
    "light = light.reset_index()\n",
    "light[['frequency (%)']] = round(((light[['values']]/light[['values']].sum())*100),2)\n",
    "light"
   ]
  },
  {
   "cell_type": "markdown",
   "metadata": {},
   "source": [
    "- Os acidentes ocorridos À luz do dia representam mais do que o dobro dos acidentes ocorridos em outras condições.\n",
    "- Quase todos os acidentes ocorridos durante a noite ocorreram com luzes ligadas."
   ]
  },
  {
   "cell_type": "code",
   "execution_count": 396,
   "metadata": {},
   "outputs": [
    {
     "data": {
      "text/plain": [
       "<matplotlib.legend.Legend at 0x1f2352e7790>"
      ]
     },
     "execution_count": 396,
     "metadata": {},
     "output_type": "execute_result"
    },
    {
     "data": {
      "image/png": "[encoded data removed]",
      "text/plain": [
       "<Figure size 432x576 with 1 Axes>"
      ]
     },
     "metadata": {},
     "output_type": "display_data"
    }
   ],
   "source": [
    "dd[['Light_conditions']].value_counts()  \n",
    "explode = (0.1,0,0.1,0.25)\n",
    "plt.figure(figsize = (6, 8))\n",
    "plt.pie(dd[['Light_conditions']].value_counts(), explode=explode,  autopct='%1.1f%%',shadow = True,startangle=90)\n",
    "plt.axis('equal')\n",
    "plt.tight_layout()\n",
    "plt.legend(labels=['Daylight','Darkness - lights lit','Darkness - no lighting','Darkness - lights unlit'])"
   ]
  },
  {
   "cell_type": "markdown",
   "metadata": {},
   "source": [
    "#### - WEATHER CONDITIONS"
   ]
  },
  {
   "cell_type": "code",
   "execution_count": 103,
   "metadata": {},
   "outputs": [
    {
     "data": {
      "text/html": [
       "<div>\n",
       "<style scoped>\n",
       "    .dataframe tbody tr th:only-of-type {\n",
       "        vertical-align: middle;\n",
       "    }\n",
       "\n",
       "    .dataframe tbody tr th {\n",
       "        vertical-align: top;\n",
       "    }\n",
       "\n",
       "    .dataframe thead th {\n",
       "        text-align: right;\n",
       "    }\n",
       "</style>\n",
       "<table border=\"1\" class=\"dataframe\">\n",
       "  <thead>\n",
       "    <tr style=\"text-align: right;\">\n",
       "      <th></th>\n",
       "      <th>Weather_conditions</th>\n",
       "      <th>values</th>\n",
       "      <th>frequency (%)</th>\n",
       "    </tr>\n",
       "  </thead>\n",
       "  <tbody>\n",
       "    <tr>\n",
       "      <th>0</th>\n",
       "      <td>Normal</td>\n",
       "      <td>10055</td>\n",
       "      <td>81.72</td>\n",
       "    </tr>\n",
       "    <tr>\n",
       "      <th>1</th>\n",
       "      <td>Raining</td>\n",
       "      <td>1327</td>\n",
       "      <td>10.79</td>\n",
       "    </tr>\n",
       "    <tr>\n",
       "      <th>2</th>\n",
       "      <td>Other</td>\n",
       "      <td>296</td>\n",
       "      <td>2.41</td>\n",
       "    </tr>\n",
       "    <tr>\n",
       "      <th>3</th>\n",
       "      <td>Unknown</td>\n",
       "      <td>292</td>\n",
       "      <td>2.37</td>\n",
       "    </tr>\n",
       "    <tr>\n",
       "      <th>4</th>\n",
       "      <td>Cloudy</td>\n",
       "      <td>125</td>\n",
       "      <td>1.02</td>\n",
       "    </tr>\n",
       "    <tr>\n",
       "      <th>5</th>\n",
       "      <td>Windy</td>\n",
       "      <td>98</td>\n",
       "      <td>0.80</td>\n",
       "    </tr>\n",
       "    <tr>\n",
       "      <th>6</th>\n",
       "      <td>Snow</td>\n",
       "      <td>61</td>\n",
       "      <td>0.50</td>\n",
       "    </tr>\n",
       "    <tr>\n",
       "      <th>7</th>\n",
       "      <td>Raining and Windy</td>\n",
       "      <td>40</td>\n",
       "      <td>0.33</td>\n",
       "    </tr>\n",
       "    <tr>\n",
       "      <th>8</th>\n",
       "      <td>Fog or mist</td>\n",
       "      <td>10</td>\n",
       "      <td>0.08</td>\n",
       "    </tr>\n",
       "  </tbody>\n",
       "</table>\n",
       "</div>"
      ],
      "text/plain": [
       "  Weather_conditions  values  frequency (%)\n",
       "0             Normal   10055          81.72\n",
       "1            Raining    1327          10.79\n",
       "2              Other     296           2.41\n",
       "3            Unknown     292           2.37\n",
       "4             Cloudy     125           1.02\n",
       "5              Windy      98           0.80\n",
       "6               Snow      61           0.50\n",
       "7  Raining and Windy      40           0.33\n",
       "8        Fog or mist      10           0.08"
      ]
     },
     "execution_count": 103,
     "metadata": {},
     "output_type": "execute_result"
    }
   ],
   "source": [
    "weather = pd.DataFrame(dd[['Weather_conditions']].value_counts(),columns=['values'])\n",
    "weather = weather.reset_index()\n",
    "weather[['frequency (%)']] = round(((weather[['values']]/weather[['values']].sum())*100),2)\n",
    "weather"
   ]
  },
  {
   "cell_type": "markdown",
   "metadata": {},
   "source": [
    "- Cerca de 4/5 dos acidentes ocorreram em condições climáticas normais.\n",
    "- O clima fora da condição normal que mais envolveou acidentes é o chuvoso."
   ]
  },
  {
   "cell_type": "code",
   "execution_count": 104,
   "metadata": {},
   "outputs": [
    {
     "data": {
      "text/plain": [
       "<seaborn.axisgrid.FacetGrid at 0x1f21c3fecd0>"
      ]
     },
     "execution_count": 104,
     "metadata": {},
     "output_type": "execute_result"
    },
    {
     "data": {
      "image/png": "[encoded data removed]",
      "text/plain": [
       "<Figure size 360x360 with 1 Axes>"
      ]
     },
     "metadata": {
      "needs_background": "light"
     },
     "output_type": "display_data"
    }
   ],
   "source": [
    "dd[['Weather_conditions']].value_counts()  \n",
    "weather = pd.DataFrame(dd[['Weather_conditions']].value_counts(),columns=['values'])\n",
    "weather = weather.reset_index()\n",
    "sns.catplot(data=weather, y = 'Weather_conditions', x = 'values',kind = 'bar')      "
   ]
  },
  {
   "cell_type": "code",
   "execution_count": 397,
   "metadata": {},
   "outputs": [
    {
     "data": {
      "text/plain": [
       "<matplotlib.legend.Legend at 0x1f235793220>"
      ]
     },
     "execution_count": 397,
     "metadata": {},
     "output_type": "execute_result"
    },
    {
     "data": {
      "image/png": "[encoded data removed]",
      "text/plain": [
       "<Figure size 432x576 with 1 Axes>"
      ]
     },
     "metadata": {},
     "output_type": "display_data"
    }
   ],
   "source": [
    "dd[['Weather_conditions']].value_counts()  \n",
    "explode = (0.1,0,0.1,0.2,0.3,0.5,0.7,0.85,1)\n",
    "plt.figure(figsize = (6, 8))\n",
    "plt.pie(dd[['Weather_conditions']].value_counts(), explode=explode,   autopct='%1.1f%%',shadow = True,startangle=90)\n",
    "plt.title('Weather Conditions')\n",
    "plt.axis('equal')\n",
    "plt.tight_layout()\n",
    "plt.legend(labels=['Normal','Raining','Other','Unknown','Cloudy','Windy','Snow','Raining and Windy','Fog or mist'])\n"
   ]
  },
  {
   "cell_type": "markdown",
   "metadata": {},
   "source": [
    "#### - COLLISION"
   ]
  },
  {
   "cell_type": "code",
   "execution_count": 106,
   "metadata": {},
   "outputs": [
    {
     "data": {
      "text/html": [
       "<div>\n",
       "<style scoped>\n",
       "    .dataframe tbody tr th:only-of-type {\n",
       "        vertical-align: middle;\n",
       "    }\n",
       "\n",
       "    .dataframe tbody tr th {\n",
       "        vertical-align: top;\n",
       "    }\n",
       "\n",
       "    .dataframe thead th {\n",
       "        text-align: right;\n",
       "    }\n",
       "</style>\n",
       "<table border=\"1\" class=\"dataframe\">\n",
       "  <thead>\n",
       "    <tr style=\"text-align: right;\">\n",
       "      <th></th>\n",
       "      <th>collision</th>\n",
       "      <th>values</th>\n",
       "      <th>frequency (%)</th>\n",
       "    </tr>\n",
       "  </thead>\n",
       "  <tbody>\n",
       "    <tr>\n",
       "      <th>0</th>\n",
       "      <td>Vehicle with vehicle collision</td>\n",
       "      <td>8764</td>\n",
       "      <td>71.23</td>\n",
       "    </tr>\n",
       "    <tr>\n",
       "      <th>1</th>\n",
       "      <td>Collision with roadside objects</td>\n",
       "      <td>1785</td>\n",
       "      <td>14.51</td>\n",
       "    </tr>\n",
       "    <tr>\n",
       "      <th>2</th>\n",
       "      <td>Collision with pedestrians</td>\n",
       "      <td>895</td>\n",
       "      <td>7.27</td>\n",
       "    </tr>\n",
       "    <tr>\n",
       "      <th>3</th>\n",
       "      <td>Rollover</td>\n",
       "      <td>397</td>\n",
       "      <td>3.23</td>\n",
       "    </tr>\n",
       "    <tr>\n",
       "      <th>4</th>\n",
       "      <td>Collision with animals</td>\n",
       "      <td>171</td>\n",
       "      <td>1.39</td>\n",
       "    </tr>\n",
       "    <tr>\n",
       "      <th>5</th>\n",
       "      <td>Unknown</td>\n",
       "      <td>169</td>\n",
       "      <td>1.37</td>\n",
       "    </tr>\n",
       "    <tr>\n",
       "      <th>6</th>\n",
       "      <td>Collision with roadside-parked vehicles</td>\n",
       "      <td>54</td>\n",
       "      <td>0.44</td>\n",
       "    </tr>\n",
       "    <tr>\n",
       "      <th>7</th>\n",
       "      <td>Fall from vehicles</td>\n",
       "      <td>34</td>\n",
       "      <td>0.28</td>\n",
       "    </tr>\n",
       "    <tr>\n",
       "      <th>8</th>\n",
       "      <td>Other</td>\n",
       "      <td>26</td>\n",
       "      <td>0.21</td>\n",
       "    </tr>\n",
       "    <tr>\n",
       "      <th>9</th>\n",
       "      <td>With Train</td>\n",
       "      <td>9</td>\n",
       "      <td>0.07</td>\n",
       "    </tr>\n",
       "  </tbody>\n",
       "</table>\n",
       "</div>"
      ],
      "text/plain": [
       "                                 collision  values  frequency (%)\n",
       "0           Vehicle with vehicle collision    8764          71.23\n",
       "1          Collision with roadside objects    1785          14.51\n",
       "2               Collision with pedestrians     895           7.27\n",
       "3                                 Rollover     397           3.23\n",
       "4                   Collision with animals     171           1.39\n",
       "5                                  Unknown     169           1.37\n",
       "6  Collision with roadside-parked vehicles      54           0.44\n",
       "7                       Fall from vehicles      34           0.28\n",
       "8                                    Other      26           0.21\n",
       "9                               With Train       9           0.07"
      ]
     },
     "execution_count": 106,
     "metadata": {},
     "output_type": "execute_result"
    }
   ],
   "source": [
    "collision = pd.DataFrame(dd[['collision']].value_counts(),columns=['values'])\n",
    "collision = collision.reset_index()\n",
    "collision[['frequency (%)']] = round(((collision[['values']]/collision[['values']].sum())*100),2)\n",
    "collision"
   ]
  },
  {
   "cell_type": "markdown",
   "metadata": {},
   "source": [
    "- Colisões entre veículos representam cerca de 70% do total de colisões."
   ]
  },
  {
   "cell_type": "code",
   "execution_count": 107,
   "metadata": {},
   "outputs": [
    {
     "data": {
      "text/plain": [
       "<seaborn.axisgrid.FacetGrid at 0x1f21d883d30>"
      ]
     },
     "execution_count": 107,
     "metadata": {},
     "output_type": "execute_result"
    },
    {
     "data": {
      "image/png": "[encoded data removed]",
      "text/plain": [
       "<Figure size 360x360 with 1 Axes>"
      ]
     },
     "metadata": {
      "needs_background": "light"
     },
     "output_type": "display_data"
    }
   ],
   "source": [
    "dd[['collision']].value_counts()  \n",
    "collision = pd.DataFrame(dd[['collision']].value_counts(),columns=['values'])\n",
    "collision = collision.reset_index()\n",
    "sns.catplot(data=collision, y = 'collision', x = 'values',kind = 'bar')  "
   ]
  },
  {
   "cell_type": "markdown",
   "metadata": {},
   "source": [
    "#### - VEHICLE MOVEMENT"
   ]
  },
  {
   "cell_type": "code",
   "execution_count": 108,
   "metadata": {},
   "outputs": [
    {
     "data": {
      "text/html": [
       "<div>\n",
       "<style scoped>\n",
       "    .dataframe tbody tr th:only-of-type {\n",
       "        vertical-align: middle;\n",
       "    }\n",
       "\n",
       "    .dataframe tbody tr th {\n",
       "        vertical-align: top;\n",
       "    }\n",
       "\n",
       "    .dataframe thead th {\n",
       "        text-align: right;\n",
       "    }\n",
       "</style>\n",
       "<table border=\"1\" class=\"dataframe\">\n",
       "  <thead>\n",
       "    <tr style=\"text-align: right;\">\n",
       "      <th></th>\n",
       "      <th>Vehicle_movement</th>\n",
       "      <th>values</th>\n",
       "      <th>frequency (%)</th>\n",
       "    </tr>\n",
       "  </thead>\n",
       "  <tbody>\n",
       "    <tr>\n",
       "      <th>0</th>\n",
       "      <td>Going straight</td>\n",
       "      <td>8146</td>\n",
       "      <td>66.21</td>\n",
       "    </tr>\n",
       "    <tr>\n",
       "      <th>1</th>\n",
       "      <td>Moving Backward</td>\n",
       "      <td>985</td>\n",
       "      <td>8.01</td>\n",
       "    </tr>\n",
       "    <tr>\n",
       "      <th>2</th>\n",
       "      <td>Other</td>\n",
       "      <td>937</td>\n",
       "      <td>7.62</td>\n",
       "    </tr>\n",
       "    <tr>\n",
       "      <th>3</th>\n",
       "      <td>Reversing</td>\n",
       "      <td>563</td>\n",
       "      <td>4.58</td>\n",
       "    </tr>\n",
       "    <tr>\n",
       "      <th>4</th>\n",
       "      <td>Turnover</td>\n",
       "      <td>489</td>\n",
       "      <td>3.97</td>\n",
       "    </tr>\n",
       "    <tr>\n",
       "      <th>5</th>\n",
       "      <td>Unknown</td>\n",
       "      <td>396</td>\n",
       "      <td>3.22</td>\n",
       "    </tr>\n",
       "    <tr>\n",
       "      <th>6</th>\n",
       "      <td>Getting off</td>\n",
       "      <td>339</td>\n",
       "      <td>2.76</td>\n",
       "    </tr>\n",
       "    <tr>\n",
       "      <th>7</th>\n",
       "      <td>Entering a junction</td>\n",
       "      <td>193</td>\n",
       "      <td>1.57</td>\n",
       "    </tr>\n",
       "    <tr>\n",
       "      <th>8</th>\n",
       "      <td>Overtaking</td>\n",
       "      <td>96</td>\n",
       "      <td>0.78</td>\n",
       "    </tr>\n",
       "    <tr>\n",
       "      <th>9</th>\n",
       "      <td>Stopping</td>\n",
       "      <td>61</td>\n",
       "      <td>0.50</td>\n",
       "    </tr>\n",
       "    <tr>\n",
       "      <th>10</th>\n",
       "      <td>U-Turn</td>\n",
       "      <td>50</td>\n",
       "      <td>0.41</td>\n",
       "    </tr>\n",
       "    <tr>\n",
       "      <th>11</th>\n",
       "      <td>Waiting to go</td>\n",
       "      <td>39</td>\n",
       "      <td>0.32</td>\n",
       "    </tr>\n",
       "    <tr>\n",
       "      <th>12</th>\n",
       "      <td>Parked</td>\n",
       "      <td>10</td>\n",
       "      <td>0.08</td>\n",
       "    </tr>\n",
       "  </tbody>\n",
       "</table>\n",
       "</div>"
      ],
      "text/plain": [
       "       Vehicle_movement  values  frequency (%)\n",
       "0        Going straight    8146          66.21\n",
       "1       Moving Backward     985           8.01\n",
       "2                 Other     937           7.62\n",
       "3             Reversing     563           4.58\n",
       "4              Turnover     489           3.97\n",
       "5               Unknown     396           3.22\n",
       "6           Getting off     339           2.76\n",
       "7   Entering a junction     193           1.57\n",
       "8            Overtaking      96           0.78\n",
       "9              Stopping      61           0.50\n",
       "10               U-Turn      50           0.41\n",
       "11        Waiting to go      39           0.32\n",
       "12               Parked      10           0.08"
      ]
     },
     "execution_count": 108,
     "metadata": {},
     "output_type": "execute_result"
    }
   ],
   "source": [
    "vehicle_mov = pd.DataFrame(dd[['Vehicle_movement']].value_counts(),columns=['values'])\n",
    "vehicle_mov = vehicle_mov.reset_index()\n",
    "vehicle_mov[['frequency (%)']] = round(((vehicle_mov[['values']]/vehicle_mov[['values']].sum())*100),2)\n",
    "vehicle_mov\n"
   ]
  },
  {
   "cell_type": "markdown",
   "metadata": {},
   "source": [
    "#### - PEDESTRIAN MOVEMENT"
   ]
  },
  {
   "cell_type": "code",
   "execution_count": 109,
   "metadata": {},
   "outputs": [
    {
     "data": {
      "text/html": [
       "<div>\n",
       "<style scoped>\n",
       "    .dataframe tbody tr th:only-of-type {\n",
       "        vertical-align: middle;\n",
       "    }\n",
       "\n",
       "    .dataframe tbody tr th {\n",
       "        vertical-align: top;\n",
       "    }\n",
       "\n",
       "    .dataframe thead th {\n",
       "        text-align: right;\n",
       "    }\n",
       "</style>\n",
       "<table border=\"1\" class=\"dataframe\">\n",
       "  <thead>\n",
       "    <tr style=\"text-align: right;\">\n",
       "      <th></th>\n",
       "      <th>Pedestrian_movement</th>\n",
       "      <th>values</th>\n",
       "      <th>frequency (%)</th>\n",
       "    </tr>\n",
       "  </thead>\n",
       "  <tbody>\n",
       "    <tr>\n",
       "      <th>0</th>\n",
       "      <td>Not a Pedestrian</td>\n",
       "      <td>11390</td>\n",
       "      <td>92.57</td>\n",
       "    </tr>\n",
       "    <tr>\n",
       "      <th>1</th>\n",
       "      <td>Crossing from nearside - masked by parked or s...</td>\n",
       "      <td>337</td>\n",
       "      <td>2.74</td>\n",
       "    </tr>\n",
       "    <tr>\n",
       "      <th>2</th>\n",
       "      <td>Unknown or other</td>\n",
       "      <td>293</td>\n",
       "      <td>2.38</td>\n",
       "    </tr>\n",
       "    <tr>\n",
       "      <th>3</th>\n",
       "      <td>Crossing from driver's nearside</td>\n",
       "      <td>140</td>\n",
       "      <td>1.14</td>\n",
       "    </tr>\n",
       "    <tr>\n",
       "      <th>4</th>\n",
       "      <td>Crossing from offside - masked by  parked or s...</td>\n",
       "      <td>72</td>\n",
       "      <td>0.59</td>\n",
       "    </tr>\n",
       "    <tr>\n",
       "      <th>5</th>\n",
       "      <td>In carriageway, statioNot a Pedestrianry - not...</td>\n",
       "      <td>46</td>\n",
       "      <td>0.37</td>\n",
       "    </tr>\n",
       "    <tr>\n",
       "      <th>6</th>\n",
       "      <td>Walking along in carriageway, back to traffic</td>\n",
       "      <td>18</td>\n",
       "      <td>0.15</td>\n",
       "    </tr>\n",
       "    <tr>\n",
       "      <th>7</th>\n",
       "      <td>Walking along in carriageway, facing traffic</td>\n",
       "      <td>7</td>\n",
       "      <td>0.06</td>\n",
       "    </tr>\n",
       "    <tr>\n",
       "      <th>8</th>\n",
       "      <td>In carriageway, statioNot a Pedestrianry - not...</td>\n",
       "      <td>1</td>\n",
       "      <td>0.01</td>\n",
       "    </tr>\n",
       "  </tbody>\n",
       "</table>\n",
       "</div>"
      ],
      "text/plain": [
       "                                 Pedestrian_movement  values  frequency (%)\n",
       "0                                   Not a Pedestrian   11390          92.57\n",
       "1  Crossing from nearside - masked by parked or s...     337           2.74\n",
       "2                                   Unknown or other     293           2.38\n",
       "3                    Crossing from driver's nearside     140           1.14\n",
       "4  Crossing from offside - masked by  parked or s...      72           0.59\n",
       "5  In carriageway, statioNot a Pedestrianry - not...      46           0.37\n",
       "6      Walking along in carriageway, back to traffic      18           0.15\n",
       "7       Walking along in carriageway, facing traffic       7           0.06\n",
       "8  In carriageway, statioNot a Pedestrianry - not...       1           0.01"
      ]
     },
     "execution_count": 109,
     "metadata": {},
     "output_type": "execute_result"
    }
   ],
   "source": [
    "pedestrian = pd.DataFrame(dd[['Pedestrian_movement']].value_counts(),columns=['values'])\n",
    "pedestrian = pedestrian.reset_index()\n",
    "pedestrian[['frequency (%)']] = round(((pedestrian[['values']]/pedestrian[['values']].sum())*100),2)\n",
    "pedestrian\n"
   ]
  },
  {
   "cell_type": "markdown",
   "metadata": {},
   "source": [
    "#### - CAUSE"
   ]
  },
  {
   "cell_type": "code",
   "execution_count": 110,
   "metadata": {},
   "outputs": [
    {
     "data": {
      "text/html": [
       "<div>\n",
       "<style scoped>\n",
       "    .dataframe tbody tr th:only-of-type {\n",
       "        vertical-align: middle;\n",
       "    }\n",
       "\n",
       "    .dataframe tbody tr th {\n",
       "        vertical-align: top;\n",
       "    }\n",
       "\n",
       "    .dataframe thead th {\n",
       "        text-align: right;\n",
       "    }\n",
       "</style>\n",
       "<table border=\"1\" class=\"dataframe\">\n",
       "  <thead>\n",
       "    <tr style=\"text-align: right;\">\n",
       "      <th></th>\n",
       "      <th>cause</th>\n",
       "      <th>values</th>\n",
       "      <th>frequency (%)</th>\n",
       "    </tr>\n",
       "  </thead>\n",
       "  <tbody>\n",
       "    <tr>\n",
       "      <th>0</th>\n",
       "      <td>No distancing</td>\n",
       "      <td>2262</td>\n",
       "      <td>18.38</td>\n",
       "    </tr>\n",
       "    <tr>\n",
       "      <th>1</th>\n",
       "      <td>Changing lane to the right</td>\n",
       "      <td>1807</td>\n",
       "      <td>14.69</td>\n",
       "    </tr>\n",
       "    <tr>\n",
       "      <th>2</th>\n",
       "      <td>Changing lane to the left</td>\n",
       "      <td>1473</td>\n",
       "      <td>11.97</td>\n",
       "    </tr>\n",
       "    <tr>\n",
       "      <th>3</th>\n",
       "      <td>Driving carelessly</td>\n",
       "      <td>1401</td>\n",
       "      <td>11.39</td>\n",
       "    </tr>\n",
       "    <tr>\n",
       "      <th>4</th>\n",
       "      <td>No priority to vehicle</td>\n",
       "      <td>1205</td>\n",
       "      <td>9.79</td>\n",
       "    </tr>\n",
       "    <tr>\n",
       "      <th>5</th>\n",
       "      <td>Moving Backward</td>\n",
       "      <td>1134</td>\n",
       "      <td>9.22</td>\n",
       "    </tr>\n",
       "    <tr>\n",
       "      <th>6</th>\n",
       "      <td>No priority to pedestrian</td>\n",
       "      <td>720</td>\n",
       "      <td>5.85</td>\n",
       "    </tr>\n",
       "    <tr>\n",
       "      <th>7</th>\n",
       "      <td>Other</td>\n",
       "      <td>456</td>\n",
       "      <td>3.71</td>\n",
       "    </tr>\n",
       "    <tr>\n",
       "      <th>8</th>\n",
       "      <td>Overtaking</td>\n",
       "      <td>430</td>\n",
       "      <td>3.49</td>\n",
       "    </tr>\n",
       "    <tr>\n",
       "      <th>9</th>\n",
       "      <td>Driving under the influence of drugs</td>\n",
       "      <td>339</td>\n",
       "      <td>2.76</td>\n",
       "    </tr>\n",
       "    <tr>\n",
       "      <th>10</th>\n",
       "      <td>Driving to the left</td>\n",
       "      <td>283</td>\n",
       "      <td>2.30</td>\n",
       "    </tr>\n",
       "    <tr>\n",
       "      <th>11</th>\n",
       "      <td>Getting off the vehicle improperly</td>\n",
       "      <td>196</td>\n",
       "      <td>1.59</td>\n",
       "    </tr>\n",
       "    <tr>\n",
       "      <th>12</th>\n",
       "      <td>Driving at high speed</td>\n",
       "      <td>174</td>\n",
       "      <td>1.41</td>\n",
       "    </tr>\n",
       "    <tr>\n",
       "      <th>13</th>\n",
       "      <td>Overturning</td>\n",
       "      <td>149</td>\n",
       "      <td>1.21</td>\n",
       "    </tr>\n",
       "    <tr>\n",
       "      <th>14</th>\n",
       "      <td>Turnover</td>\n",
       "      <td>78</td>\n",
       "      <td>0.63</td>\n",
       "    </tr>\n",
       "    <tr>\n",
       "      <th>15</th>\n",
       "      <td>Overspeed</td>\n",
       "      <td>61</td>\n",
       "      <td>0.50</td>\n",
       "    </tr>\n",
       "    <tr>\n",
       "      <th>16</th>\n",
       "      <td>Overloading</td>\n",
       "      <td>59</td>\n",
       "      <td>0.48</td>\n",
       "    </tr>\n",
       "    <tr>\n",
       "      <th>17</th>\n",
       "      <td>Drunk driving</td>\n",
       "      <td>27</td>\n",
       "      <td>0.22</td>\n",
       "    </tr>\n",
       "    <tr>\n",
       "      <th>18</th>\n",
       "      <td>Improper parking</td>\n",
       "      <td>25</td>\n",
       "      <td>0.20</td>\n",
       "    </tr>\n",
       "    <tr>\n",
       "      <th>19</th>\n",
       "      <td>Unknown</td>\n",
       "      <td>25</td>\n",
       "      <td>0.20</td>\n",
       "    </tr>\n",
       "  </tbody>\n",
       "</table>\n",
       "</div>"
      ],
      "text/plain": [
       "                                   cause  values  frequency (%)\n",
       "0                          No distancing    2262          18.38\n",
       "1             Changing lane to the right    1807          14.69\n",
       "2              Changing lane to the left    1473          11.97\n",
       "3                     Driving carelessly    1401          11.39\n",
       "4                 No priority to vehicle    1205           9.79\n",
       "5                        Moving Backward    1134           9.22\n",
       "6              No priority to pedestrian     720           5.85\n",
       "7                                  Other     456           3.71\n",
       "8                             Overtaking     430           3.49\n",
       "9   Driving under the influence of drugs     339           2.76\n",
       "10                   Driving to the left     283           2.30\n",
       "11    Getting off the vehicle improperly     196           1.59\n",
       "12                 Driving at high speed     174           1.41\n",
       "13                           Overturning     149           1.21\n",
       "14                              Turnover      78           0.63\n",
       "15                             Overspeed      61           0.50\n",
       "16                           Overloading      59           0.48\n",
       "17                         Drunk driving      27           0.22\n",
       "18                      Improper parking      25           0.20\n",
       "19                               Unknown      25           0.20"
      ]
     },
     "execution_count": 110,
     "metadata": {},
     "output_type": "execute_result"
    }
   ],
   "source": [
    "cause = pd.DataFrame(dd[['cause']].value_counts(),columns=['values'])\n",
    "cause = cause.reset_index()\n",
    "cause[['frequency (%)']] = round(((cause[['values']]/cause[['values']].sum())*100),2)\n",
    "cause"
   ]
  },
  {
   "cell_type": "markdown",
   "metadata": {},
   "source": [
    "#### - SEVERITY"
   ]
  },
  {
   "cell_type": "code",
   "execution_count": 111,
   "metadata": {},
   "outputs": [
    {
     "data": {
      "text/html": [
       "<div>\n",
       "<style scoped>\n",
       "    .dataframe tbody tr th:only-of-type {\n",
       "        vertical-align: middle;\n",
       "    }\n",
       "\n",
       "    .dataframe tbody tr th {\n",
       "        vertical-align: top;\n",
       "    }\n",
       "\n",
       "    .dataframe thead th {\n",
       "        text-align: right;\n",
       "    }\n",
       "</style>\n",
       "<table border=\"1\" class=\"dataframe\">\n",
       "  <thead>\n",
       "    <tr style=\"text-align: right;\">\n",
       "      <th></th>\n",
       "      <th>severity</th>\n",
       "      <th>values</th>\n",
       "      <th>frequency (%)</th>\n",
       "    </tr>\n",
       "  </thead>\n",
       "  <tbody>\n",
       "    <tr>\n",
       "      <th>0</th>\n",
       "      <td>Slight Injury</td>\n",
       "      <td>10403</td>\n",
       "      <td>84.55</td>\n",
       "    </tr>\n",
       "    <tr>\n",
       "      <th>1</th>\n",
       "      <td>Serious Injury</td>\n",
       "      <td>1743</td>\n",
       "      <td>14.17</td>\n",
       "    </tr>\n",
       "    <tr>\n",
       "      <th>2</th>\n",
       "      <td>Fatal injury</td>\n",
       "      <td>158</td>\n",
       "      <td>1.28</td>\n",
       "    </tr>\n",
       "  </tbody>\n",
       "</table>\n",
       "</div>"
      ],
      "text/plain": [
       "         severity  values  frequency (%)\n",
       "0   Slight Injury   10403          84.55\n",
       "1  Serious Injury    1743          14.17\n",
       "2    Fatal injury     158           1.28"
      ]
     },
     "execution_count": 111,
     "metadata": {},
     "output_type": "execute_result"
    }
   ],
   "source": [
    "severity = pd.DataFrame(dd[['severity']].value_counts(),columns=['values'])\n",
    "severity = severity.reset_index()\n",
    "severity[['frequency (%)']] = round(((severity[['values']]/severity[['values']].sum())*100),2)\n",
    "severity"
   ]
  },
  {
   "cell_type": "markdown",
   "metadata": {},
   "source": [
    "- Aproximadamente 1 a cada 100 acidentes envolve fatalidades."
   ]
  },
  {
   "cell_type": "code",
   "execution_count": 398,
   "metadata": {},
   "outputs": [
    {
     "data": {
      "text/plain": [
       "<matplotlib.legend.Legend at 0x1f2356e1880>"
      ]
     },
     "execution_count": 398,
     "metadata": {},
     "output_type": "execute_result"
    },
    {
     "data": {
      "image/png": "[encoded data removed]",
      "text/plain": [
       "<Figure size 432x576 with 1 Axes>"
      ]
     },
     "metadata": {},
     "output_type": "display_data"
    }
   ],
   "source": [
    "dd[['severity']].value_counts()  \n",
    "explode = (0.1,0,0.1)\n",
    "plt.figure(figsize = (6, 8))\n",
    "plt.pie(dd[['severity']].value_counts(), explode=explode,   autopct='%1.1f%%',shadow = True,startangle=90)\n",
    "plt.title('Severity')\n",
    "plt.axis('equal')\n",
    "plt.tight_layout()\n",
    "plt.legend(labels=['Slight Injury','Serious Injury','Fatal injury'])\n"
   ]
  },
  {
   "cell_type": "markdown",
   "metadata": {},
   "source": [
    "## PRÉ PROCESSAMENTO PARA CONSTRUÇÃO DO MODELO\n",
    "\n",
    "Nesta etapa iniciaremos a preparação dos dados para a aplicação dos modelos de Machine Learning. Os modelos de Classificação, basicamente os que serão utilizados neste estudo, tem como pré requisitos uma estruturação específica da base de dados e que algumas vezes exigem aplicação de técnicas de pré-processamento, como transformação de variáveis categóricas em formato numérico, normalização e balanceamento de variáveis, além de técnicas de redução de dimensionalidade. Para nosso estudo, não serão necessárias as aplicações de técnicas de normalização, pois os dados encontram-se em escalas similares, nem técnicas de redução de dimensionalidade. Neste último caso, aplicaríamos especificamente com o objetivo de ganho em processamento. Contudo, não estamos trabalhando com grandes massas de dados, portanto não será necessária esta aplicação.\n",
    "\n",
    "As etapas de pré-processamento aplicadas são:\n",
    "- Estruturação de Variáveis;\n",
    "- Remoção de Unknown;\n",
    "- Rebalanceamento de classes;\n",
    "- Análises Complementares;\n",
    "- Divisão de Treino e Teste.\n",
    "\n",
    "Cada etapa de pré-processamento será explicada uma a uma nos seus respectivos tópicos."
   ]
  },
  {
   "cell_type": "markdown",
   "metadata": {},
   "source": [
    "### DATA STRUTUCTURE FOR ANALYSIS\n",
    "\n",
    "Incialmente, para as próximas etapas e construção dos modelos, através das análises exploratórias decidimos por não seguir com a análise de algumas variáveis. Estas se referem a descrição da ocorrência do acidente, descrevendo as causas e consequências do acidente, fatos posteriores o ocorrido. Sao elas:\n",
    " - Collision \n",
    " - Vehicle_movement \n",
    " - Pedestrian_movement\n",
    " - Cause"
   ]
  },
  {
   "cell_type": "code",
   "execution_count": 115,
   "metadata": {},
   "outputs": [],
   "source": [
    "# Removendo variáveis da base de dados\n",
    "dd = dd.drop(['Time','collision','Vehicle_movement','Pedestrian_movement','cause'],axis = 1)"
   ]
  },
  {
   "cell_type": "markdown",
   "metadata": {},
   "source": [
    "#### - ESTRUTURAÇÃO DE VARIÁVEIS\n",
    "\n",
    "Nesta etapa aplicaremos métodos de estruturação de variáveis, transformando-as em formato numérico pra input nos modelos de Classificação. Algumas variáveis serão consideradas ordinais, ou seja, os valores inseridos representarão uma ordem na variável. É o caso da variável 'Age', que possui faixas etárias e por sua vez uma ordem. Desta forma, os números de 1 a 4 representarão esta ordem. Isso possibilitará a criação de análises complementares para estas variáveis.\n",
    "\n",
    "Abaixo, a estruturação das variáveis em formato numérico:"
   ]
  },
  {
   "cell_type": "code",
   "execution_count": 116,
   "metadata": {},
   "outputs": [],
   "source": [
    "dd['Day_of_week'] = dd['Day_of_week'].replace(['Sunday','Monday','Tuesday','Wednesday','Thursday','Friday','Saturday'],[1,2,3,4,5,6,7])\n",
    "dd['age'] = dd['age'].replace(['Under 18','18-30','31-50','Over 51'],[1,2,3,4])\n",
    "dd['sex'] = dd['sex'].replace(['Male','Female'],[0,1])\n",
    "dd['education'] = dd['education'].replace(['Illiterate','Writing & reading','Elementary school','Junior high school','High school','Above high school'],[1,2,3,4,5,6])\n",
    "dd['Vehicle_driver_relation'] = dd['Vehicle_driver_relation'].replace(['Employee','Owner','Other'],[1,2,0])\n",
    "dd['Driving_experience'] = dd['Driving_experience'].replace(['No Licence','Below 1yr','1-2yr','2-5yr','5-10yr','Above 10yr'],[1,2,3,4,5,6])\n",
    "dd['Area_accident_occured'] = dd['Area_accident_occured'].replace(['Residential areas','Office areas','  Recreational areas',' Industrial areas',' Church areas','  Market areas',\n",
    "'Rural village areas',' Outside rural areas',' Hospital areas','School areas','Rural village areasOffice areas','Recreational areas','Other'],[1,2,3,4,5,6,7,8,9,10,11,12,0])\n",
    "dd['road_surface'] = dd['road_surface'].replace(['Asphalt roads','Earth roads','Gravel roads','Asphalt roads with some distress','Other'],[1,2,3,4,0])\n",
    "dd['Light_conditions'] = dd['Light_conditions'].replace(['Darkness - no lighting','Darkness - lights unlit','Darkness - lights lit','Daylight'],[1,2,3,4])\n",
    "dd['Weather_conditions'] = dd['Weather_conditions'].replace(['Normal','Fog or mist','Cloudy','Windy','Raining','Raining and Windy','Snow','Other'],[1,2,3,4,5,6,7,0])\n",
    "dd['severity'] = dd['severity'].replace(['Slight Injury','Serious Injury','Fatal injury'],[1,2,3])\n",
    "\n"
   ]
  },
  {
   "cell_type": "markdown",
   "metadata": {},
   "source": [
    "#### - REMOÇÃO DE UNKOWN\n",
    "\n",
    "Dentre as classes de dados em cada variável, identificamos na análise exploratória a presença de classes com a descrição 'Unknown', que trata-se de informação desconhecidas ou não inseridas no momento de coleta dos dados. Desta forma, chegamos a conclusão de que não há sentido em tirar conclusoes baseadas em informações desconhecidas. Por este motivo, faremos a exclusão desta classe nas variáveis da base de dados. "
   ]
  },
  {
   "cell_type": "code",
   "execution_count": 117,
   "metadata": {},
   "outputs": [
    {
     "name": "stdout",
     "output_type": "stream",
     "text": [
      "<class 'pandas.core.frame.DataFrame'>\n",
      "Int64Index: 9073 entries, 0 to 12303\n",
      "Data columns (total 12 columns):\n",
      " #   Column                   Non-Null Count  Dtype \n",
      "---  ------                   --------------  ----- \n",
      " 0   Hour                     9073 non-null   int64 \n",
      " 1   Day_of_week              9073 non-null   int64 \n",
      " 2   age                      9073 non-null   object\n",
      " 3   sex                      9073 non-null   object\n",
      " 4   education                9073 non-null   object\n",
      " 5   Vehicle_driver_relation  9073 non-null   object\n",
      " 6   Driving_experience       9073 non-null   object\n",
      " 7   Area_accident_occured    9073 non-null   object\n",
      " 8   road_surface             9073 non-null   object\n",
      " 9   Light_conditions         9073 non-null   int64 \n",
      " 10  Weather_conditions       9073 non-null   object\n",
      " 11  severity                 9073 non-null   int64 \n",
      "dtypes: int64(4), object(8)\n",
      "memory usage: 921.5+ KB\n"
     ]
    }
   ],
   "source": [
    "dd_trat = dd.drop(dd.loc[dd.age =='Unknown',:].index)\n",
    "dd_trat = dd_trat.drop(dd_trat.loc[dd_trat.sex =='Unknown',:].index)\n",
    "dd_trat = dd_trat.drop(dd_trat.loc[dd_trat.education =='Unknown',:].index)\n",
    "dd_trat = dd_trat.drop(dd_trat.loc[dd_trat.Vehicle_driver_relation =='Unknown',:].index)\n",
    "dd_trat = dd_trat.drop(dd_trat.loc[dd_trat.Driving_experience =='Unknown',:].index)\n",
    "dd_trat = dd_trat.drop(dd_trat.loc[dd_trat.Driving_experience =='unknown',:].index)\n",
    "dd_trat = dd_trat.drop(dd_trat.loc[dd_trat.Area_accident_occured =='Unknown',:].index)\n",
    "dd_trat = dd_trat.drop(dd_trat.loc[dd_trat.road_surface =='Unknown',:].index)\n",
    "dd_trat = dd_trat.drop(dd_trat.loc[dd_trat.Light_conditions =='Unknown',:].index)\n",
    "dd_trat = dd_trat.drop(dd_trat.loc[dd_trat.Weather_conditions =='Unknown',:].index)\n",
    "#dd_trat = dd_trat.drop(dd_trat.loc[dd_trat.collision =='Unknown',:].index)\n",
    "#dd_trat = dd_trat.drop(dd_trat.loc[dd_trat.Vehicle_movement =='Unknown',:].index)\n",
    "#dd_trat = dd_trat.drop(dd_trat.loc[dd_trat.Pedestrian_movement =='Unknown',:].index)\n",
    "#dd_trat = dd_trat.drop(dd_trat.loc[dd_trat.cause =='Unknown',:].index)\n",
    "#dd_trat = dd_trat.drop(dd_trat.loc[dd_trat.severity =='Unknown',:].index)\n",
    "dd_trat = dd_trat.drop(['Lanes_or_Medians','Types_of_Junction'],axis=1)\n",
    "\n",
    "\n",
    "dd_trat.info()"
   ]
  },
  {
   "cell_type": "markdown",
   "metadata": {},
   "source": [
    "Segundo a tabela acima, grande parte das variáveis possuem formato de objeto, mesmo já estando em estruturas numericas. Desta forma, necessitamos formata-las para 'int', ou seja, tipo 'inteiro'."
   ]
  },
  {
   "cell_type": "code",
   "execution_count": 118,
   "metadata": {},
   "outputs": [
    {
     "name": "stdout",
     "output_type": "stream",
     "text": [
      "<class 'pandas.core.frame.DataFrame'>\n",
      "Int64Index: 9073 entries, 0 to 12303\n",
      "Data columns (total 12 columns):\n",
      " #   Column                   Non-Null Count  Dtype\n",
      "---  ------                   --------------  -----\n",
      " 0   Hour                     9073 non-null   int32\n",
      " 1   Day_of_week              9073 non-null   int32\n",
      " 2   age                      9073 non-null   int32\n",
      " 3   sex                      9073 non-null   int32\n",
      " 4   education                9073 non-null   int32\n",
      " 5   Vehicle_driver_relation  9073 non-null   int32\n",
      " 6   Driving_experience       9073 non-null   int32\n",
      " 7   Area_accident_occured    9073 non-null   int32\n",
      " 8   road_surface             9073 non-null   int32\n",
      " 9   Light_conditions         9073 non-null   int32\n",
      " 10  Weather_conditions       9073 non-null   int32\n",
      " 11  severity                 9073 non-null   int32\n",
      "dtypes: int32(12)\n",
      "memory usage: 496.2 KB\n"
     ]
    }
   ],
   "source": [
    "# Transformando variáveis em numéricas\n",
    "dd_trat = dd_trat.astype(int)\n",
    "dd_trat.info()"
   ]
  },
  {
   "cell_type": "markdown",
   "metadata": {},
   "source": [
    "#### - REBALANCEAMENTO DE CLASSES"
   ]
  },
  {
   "cell_type": "markdown",
   "metadata": {},
   "source": [
    "Em problemas de modelagem focada em classificação, podemos nos deparar com bases de dados em que a variável alvo contenha classes muito desbalanceadas, isto é, contendo categorias com frequências muito diferentes. Ao treinar um modelo de classificação com a variável desbalanceada, encontraremos alguns problemas. Isso acontece porque o padrão dos dados para a classe dominante vai se sobressair em relação aos da classe com menor frequência. Geralmente, nas bases de dados que possuem a variável alvo desbalanceada, a classe com menor frequência é justamente a que temos interesse em prever, o que torna os problemas ainda maiores.\n",
    "\n",
    "Como uma das classes tem frequência muito grande, o modelo construído utilizando dados desbalanceados pode apresentar acurácia bem elevada e ainda assim não prever corretamente nenhuma observação para a classe com menor frequência. Isso pode deixar a falsa impressão de que o modelo está com boa performance quando na verdade não está.\n",
    "\n",
    "Para contornar esses problemas gerados pela base de dados desbalanceada, podemos recorrer a duas soluções que consistem em equilibrar os dados da variável alvo: Undersampling e Oversampling.\n",
    "\n",
    "Para este estudo, faremos uso da técnica de Oversampling, que consiste em aumentar a quantidade de registros da classe com menor frequência até que a base de dados possua uma quantidade equilibrada entre as classes da variável alvo. Para aumentar a quantidade de registros, podemos duplicar aleatoriamente os registros da classe com menor frequência. Uma vantagem dessa técnica é que nenhuma informação dos registros que possuíam a classe com maior frequência é perdida. Isso faz com que o conjunto de dados possua muitos registros para alimentar os algoritmos de machine learning. Outra vantagem é de que o comportamento da classe é mantido, pois a técnica busca aumentar os registros respeitando o comportamento apresentado originalmente.\n",
    "\n",
    "Desta forma, aplicaremos abaixo a técnica de Oversampling:"
   ]
  },
  {
   "cell_type": "code",
   "execution_count": 119,
   "metadata": {},
   "outputs": [
    {
     "data": {
      "image/png": "[encoded data removed]",
      "text/plain": [
       "<Figure size 432x576 with 1 Axes>"
      ]
     },
     "metadata": {},
     "output_type": "display_data"
    }
   ],
   "source": [
    "# Carregando a função SMOTE\n",
    "from imblearn.over_sampling import SMOTE\n",
    "\n",
    "# Ajustando os dados para receber a técnica de rebalanceamento\n",
    "x = dd_trat.drop(['severity'],axis=1)\n",
    "y = dd_trat['severity']\n",
    "\n",
    "# Aplcando a técnica de rebalanceamento\n",
    "smt = SMOTE()\n",
    "x,y = smt.fit_resample(x,y)\n",
    "\n",
    "### Reajustando e renomeando os dados rebalanceados\n",
    "x['severity'] = y\n",
    "dd_res = x;dd_res\n",
    "\n",
    "# Análise Gráfica dos dados rebalanceados\n",
    "dd_res[['severity']].value_counts()  \n",
    "explode = (0.1,0,0.1)\n",
    "plt.figure(figsize = (6, 8))\n",
    "plt.pie(dd_res[['severity']].value_counts(), explode=explode,  autopct='%1.1f%%',shadow = True,startangle=90)\n",
    "plt.legend(labels=['Slight Injury','Serious Injury','Fatal injury'])\n",
    "plt.title('Severity')\n",
    "plt.axis('equal')\n",
    "plt.tight_layout()\n"
   ]
  },
  {
   "cell_type": "markdown",
   "metadata": {},
   "source": [
    "Agora, como podemos ver no gráfico, as classes possuem mesmas frequências, ou seja, estão devidamente balanceados."
   ]
  },
  {
   "cell_type": "markdown",
   "metadata": {},
   "source": [
    "#### - ANALISES COMPLEMENTARES\n",
    "\n",
    "Após a estruturação das variáveis, como a modificação de algumas delas para o formato numerico ordinal, tornou-se possível análises complementares. É o caso da análise de correlação."
   ]
  },
  {
   "cell_type": "markdown",
   "metadata": {},
   "source": [
    "##### - CORRELATION ANALYSIS\n",
    "\n",
    "Para esta análise, selecionamos 4 variáveis que consideramos ordinais após a estruturação para o formato numérico, além da variável alvo 'Severity'. Como a análise de correlação visa identificar causas e efeitos baseados no crescimento ou descrescimento dentre as variáveis de estudo, podemos então gerar a análise abaixo."
   ]
  },
  {
   "cell_type": "code",
   "execution_count": 120,
   "metadata": {},
   "outputs": [
    {
     "data": {
      "text/plain": [
       "<AxesSubplot:>"
      ]
     },
     "execution_count": 120,
     "metadata": {},
     "output_type": "execute_result"
    },
    {
     "data": {
      "image/png": "[encoded data removed]",
      "text/plain": [
       "<Figure size 432x360 with 2 Axes>"
      ]
     },
     "metadata": {
      "needs_background": "light"
     },
     "output_type": "display_data"
    }
   ],
   "source": [
    "corr_df = dd_res[['Hour','age','education','Driving_experience','severity']].corr()\n",
    "plt.figure(figsize = (6, 5))\n",
    "sns.heatmap(corr_df, cmap = 'Blues', annot = True, fmt = '.2f',square=True)"
   ]
  },
  {
   "cell_type": "markdown",
   "metadata": {},
   "source": [
    "Segundo o gráfico acima, não possuímos nenhuma correlação expressiva entre as variáveis. Desta forma, podemos afirmar que individualmente, estas variáveis não possuem relação de causa ou efeito na ocorrência de acidentes de trânsito, muito menos na gravidade deste aacidente."
   ]
  },
  {
   "cell_type": "markdown",
   "metadata": {},
   "source": [
    "#### - DIVISÃO TREINO E TESTE\n",
    "\n",
    "Esta é a etapa final do pré-processamento de dados, e é uma das etapas mais importantes na estruturação dos dados para modelagem de Machine Learning. Trata-se da dividsão de dados em treino e teste e nesta etapa, separaremos os dados históricos existentes em dois grupos, sendo o primeiro responsável pelo aprendizado do algoritmo, e o segundo por realizar os testes e avaliação do modelo. Para esta divisão, usaremos o método 70/30, com 70% dos dados para treino e 30% para teste. Sendo assim:"
   ]
  },
  {
   "cell_type": "code",
   "execution_count": 125,
   "metadata": {},
   "outputs": [],
   "source": [
    "# Carregando pacotes necessários para a execução do split Treino/Teste\n",
    "from sklearn.model_selection import train_test_split\n",
    "from numpy import random\n",
    "\n",
    "# Setando fator de aleatoriedade\n",
    "seed = 999000\n",
    "random.seed(seed)\n",
    "\n",
    "# Separando a variável Target da base de dados\n",
    "X = dd_res.drop(['severity'],axis = 1)\n",
    "y = dd_res['severity']"
   ]
  },
  {
   "cell_type": "markdown",
   "metadata": {},
   "source": [
    "Agora, basta aplicarmos a função de split e obteremos 4 subconjuntos de dados:\n",
    "- x_train: Variáveis preditoras de treino;\n",
    "- y_train: Variável Target de treino;\n",
    "- x_test: Variáveis preditoras para testar o modelo;\n",
    "- y_test: Variável Target para testar a eficácia do modelo em suas previsões."
   ]
  },
  {
   "cell_type": "code",
   "execution_count": 126,
   "metadata": {},
   "outputs": [],
   "source": [
    "x_train,x_test, y_train,y_test = train_test_split(X,\n",
    "                                                  y,\n",
    "                                                  test_size=0.3,\n",
    "                                                  stratify=dd_res.severity)"
   ]
  },
  {
   "cell_type": "markdown",
   "metadata": {},
   "source": [
    "Por último, verificamos as dimensões de cad subconjunto de dados:"
   ]
  },
  {
   "cell_type": "code",
   "execution_count": 127,
   "metadata": {},
   "outputs": [
    {
     "name": "stdout",
     "output_type": "stream",
     "text": [
      "(16020, 11) (16020,)\n",
      "(6867, 11) (6867,)\n"
     ]
    }
   ],
   "source": [
    "print(x_train.shape, y_train.shape)\n",
    "print(x_test.shape, y_test.shape)"
   ]
  },
  {
   "cell_type": "markdown",
   "metadata": {},
   "source": [
    "## CONSTRUÇÃO DOS MODELOS\n",
    "\n",
    "Nosso objetivo nesta etapa é definir as variáveis mais relevantes para a gravidade dos aciendes de trânsito ocorridos. Aplicaremos os 5 modelos de Classificação abaixo e avaliaremos através de medidas de desempenho para definição do melhor modelo. \n",
    "Os modelos são:\n",
    "1) Logistic Regression\n",
    "2) Decision Tree\n",
    "3) Random Forest\n",
    "4) KNN\n",
    "5) Support Vector Machine (SVM) \n",
    "\n",
    "Como já realizamos as devidas considerações e motivos para aplicação destes modelos na etapa de Metodologia, nesta etapa faremos a aplicação dos modelos e no final as conclusões necessárias."
   ]
  },
  {
   "cell_type": "markdown",
   "metadata": {},
   "source": [
    "### MODEL 01 - LOGISTIC REGRESSION "
   ]
  },
  {
   "cell_type": "markdown",
   "metadata": {},
   "source": [
    "#### - DEFINIÇÃO DE HIPERPARÂMETROS - MELHOR MODELO"
   ]
  },
  {
   "cell_type": "markdown",
   "metadata": {},
   "source": [
    "Inicialmente, faremos uma breve verificação dos melhores hiperparâmetros para o modelo de Logistic Regression. "
   ]
  },
  {
   "cell_type": "code",
   "execution_count": 403,
   "metadata": {},
   "outputs": [],
   "source": [
    "# Define lista de hiperparâmetros\n",
    "tuned_params_v1 = {'C': [0.0001, 0.001, 0.01, 0.1, 1, 10, 100, 1000, 10000], \n",
    "                   'penalty': ['l2']}"
   ]
  },
  {
   "cell_type": "markdown",
   "metadata": {},
   "source": [
    "Utilizamos a função 'GridSearchCV' que fará a iteração dos hiperparâmetros no modelo, testando um a um e realizando suas próprias verificações de compatibilidade."
   ]
  },
  {
   "cell_type": "code",
   "execution_count": 404,
   "metadata": {},
   "outputs": [],
   "source": [
    "# Criaremos o modelo com GridSearch \n",
    "# Vários modelos serão criados com diferentes combinações de hiperparâmetros\n",
    "mod1 = GridSearchCV(LogisticRegression(),\n",
    "                    tuned_params_v1,\n",
    "                    scoring = 'roc_auc',\n",
    "                    n_jobs = -1)"
   ]
  },
  {
   "cell_type": "markdown",
   "metadata": {},
   "source": [
    "Sendo assim, necessitamos testar os modelos para os diferentes valores de hiperparâmetros. Logo:"
   ]
  },
  {
   "cell_type": "code",
   "execution_count": 405,
   "metadata": {},
   "outputs": [
    {
     "data": {
      "text/html": [
       "<style>#sk-container-id-26 {color: black;background-color: white;}#sk-container-id-26 pre{padding: 0;}#sk-container-id-26 div.sk-toggleable {background-color: white;}#sk-container-id-26 label.sk-toggleable__label {cursor: pointer;display: block;width: 100%;margin-bottom: 0;padding: 0.3em;box-sizing: border-box;text-align: center;}#sk-container-id-26 label.sk-toggleable__label-arrow:before {content: \"▸\";float: left;margin-right: 0.25em;color: #696969;}#sk-container-id-26 label.sk-toggleable__label-arrow:hover:before {color: black;}#sk-container-id-26 div.sk-estimator:hover label.sk-toggleable__label-arrow:before {color: black;}#sk-container-id-26 div.sk-toggleable__content {max-height: 0;max-width: 0;overflow: hidden;text-align: left;background-color: #f0f8ff;}#sk-container-id-26 div.sk-toggleable__content pre {margin: 0.2em;color: black;border-radius: 0.25em;background-color: #f0f8ff;}#sk-container-id-26 input.sk-toggleable__control:checked~div.sk-toggleable__content {max-height: 200px;max-width: 100%;overflow: auto;}#sk-container-id-26 input.sk-toggleable__control:checked~label.sk-toggleable__label-arrow:before {content: \"▾\";}#sk-container-id-26 div.sk-estimator input.sk-toggleable__control:checked~label.sk-toggleable__label {background-color: #d4ebff;}#sk-container-id-26 div.sk-label input.sk-toggleable__control:checked~label.sk-toggleable__label {background-color: #d4ebff;}#sk-container-id-26 input.sk-hidden--visually {border: 0;clip: rect(1px 1px 1px 1px);clip: rect(1px, 1px, 1px, 1px);height: 1px;margin: -1px;overflow: hidden;padding: 0;position: absolute;width: 1px;}#sk-container-id-26 div.sk-estimator {font-family: monospace;background-color: #f0f8ff;border: 1px dotted black;border-radius: 0.25em;box-sizing: border-box;margin-bottom: 0.5em;}#sk-container-id-26 div.sk-estimator:hover {background-color: #d4ebff;}#sk-container-id-26 div.sk-parallel-item::after {content: \"\";width: 100%;border-bottom: 1px solid gray;flex-grow: 1;}#sk-container-id-26 div.sk-label:hover label.sk-toggleable__label {background-color: #d4ebff;}#sk-container-id-26 div.sk-serial::before {content: \"\";position: absolute;border-left: 1px solid gray;box-sizing: border-box;top: 0;bottom: 0;left: 50%;z-index: 0;}#sk-container-id-26 div.sk-serial {display: flex;flex-direction: column;align-items: center;background-color: white;padding-right: 0.2em;padding-left: 0.2em;position: relative;}#sk-container-id-26 div.sk-item {position: relative;z-index: 1;}#sk-container-id-26 div.sk-parallel {display: flex;align-items: stretch;justify-content: center;background-color: white;position: relative;}#sk-container-id-26 div.sk-item::before, #sk-container-id-26 div.sk-parallel-item::before {content: \"\";position: absolute;border-left: 1px solid gray;box-sizing: border-box;top: 0;bottom: 0;left: 50%;z-index: -1;}#sk-container-id-26 div.sk-parallel-item {display: flex;flex-direction: column;z-index: 1;position: relative;background-color: white;}#sk-container-id-26 div.sk-parallel-item:first-child::after {align-self: flex-end;width: 50%;}#sk-container-id-26 div.sk-parallel-item:last-child::after {align-self: flex-start;width: 50%;}#sk-container-id-26 div.sk-parallel-item:only-child::after {width: 0;}#sk-container-id-26 div.sk-dashed-wrapped {border: 1px dashed gray;margin: 0 0.4em 0.5em 0.4em;box-sizing: border-box;padding-bottom: 0.4em;background-color: white;}#sk-container-id-26 div.sk-label label {font-family: monospace;font-weight: bold;display: inline-block;line-height: 1.2em;}#sk-container-id-26 div.sk-label-container {text-align: center;}#sk-container-id-26 div.sk-container {/* jupyter's `normalize.less` sets `[hidden] { display: none; }` but bootstrap.min.css set `[hidden] { display: none !important; }` so we also need the `!important` here to be able to override the default hidden behavior on the sphinx rendered scikit-learn.org. See: https://github.com/scikit-learn/scikit-learn/issues/21755 */display: inline-block !important;position: relative;}#sk-container-id-26 div.sk-text-repr-fallback {display: none;}</style><div id=\"sk-container-id-26\" class=\"sk-top-container\"><div class=\"sk-text-repr-fallback\"><pre>GridSearchCV(estimator=LogisticRegression(), n_jobs=-1,\n",
       "             param_grid={&#x27;C&#x27;: [0.0001, 0.001, 0.01, 0.1, 1, 10, 100, 1000,\n",
       "                               10000],\n",
       "                         &#x27;penalty&#x27;: [&#x27;l2&#x27;]},\n",
       "             scoring=&#x27;roc_auc&#x27;)</pre><b>In a Jupyter environment, please rerun this cell to show the HTML representation or trust the notebook. <br />On GitHub, the HTML representation is unable to render, please try loading this page with nbviewer.org.</b></div><div class=\"sk-container\" hidden><div class=\"sk-item sk-dashed-wrapped\"><div class=\"sk-label-container\"><div class=\"sk-label sk-toggleable\"><input class=\"sk-toggleable__control sk-hidden--visually\" id=\"sk-estimator-id-44\" type=\"checkbox\" ><label for=\"sk-estimator-id-44\" class=\"sk-toggleable__label sk-toggleable__label-arrow\">GridSearchCV</label><div class=\"sk-toggleable__content\"><pre>GridSearchCV(estimator=LogisticRegression(), n_jobs=-1,\n",
       "             param_grid={&#x27;C&#x27;: [0.0001, 0.001, 0.01, 0.1, 1, 10, 100, 1000,\n",
       "                               10000],\n",
       "                         &#x27;penalty&#x27;: [&#x27;l2&#x27;]},\n",
       "             scoring=&#x27;roc_auc&#x27;)</pre></div></div></div><div class=\"sk-parallel\"><div class=\"sk-parallel-item\"><div class=\"sk-item\"><div class=\"sk-label-container\"><div class=\"sk-label sk-toggleable\"><input class=\"sk-toggleable__control sk-hidden--visually\" id=\"sk-estimator-id-45\" type=\"checkbox\" ><label for=\"sk-estimator-id-45\" class=\"sk-toggleable__label sk-toggleable__label-arrow\">estimator: LogisticRegression</label><div class=\"sk-toggleable__content\"><pre>LogisticRegression()</pre></div></div></div><div class=\"sk-serial\"><div class=\"sk-item\"><div class=\"sk-estimator sk-toggleable\"><input class=\"sk-toggleable__control sk-hidden--visually\" id=\"sk-estimator-id-46\" type=\"checkbox\" ><label for=\"sk-estimator-id-46\" class=\"sk-toggleable__label sk-toggleable__label-arrow\">LogisticRegression</label><div class=\"sk-toggleable__content\"><pre>LogisticRegression()</pre></div></div></div></div></div></div></div></div></div></div>"
      ],
      "text/plain": [
       "GridSearchCV(estimator=LogisticRegression(), n_jobs=-1,\n",
       "             param_grid={'C': [0.0001, 0.001, 0.01, 0.1, 1, 10, 100, 1000,\n",
       "                               10000],\n",
       "                         'penalty': ['l2']},\n",
       "             scoring='roc_auc')"
      ]
     },
     "execution_count": 405,
     "metadata": {},
     "output_type": "execute_result"
    }
   ],
   "source": [
    "# Treinamento do Modelo\n",
    "mod1.fit(x_train,y_train)"
   ]
  },
  {
   "cell_type": "markdown",
   "metadata": {},
   "source": [
    "Após isso, podemos verificar o hiperparâmetro que melhor se adaptou aos dados e assim definir o melhor modelo. "
   ]
  },
  {
   "cell_type": "code",
   "execution_count": 406,
   "metadata": {},
   "outputs": [
    {
     "data": {
      "text/html": [
       "<style>#sk-container-id-27 {color: black;background-color: white;}#sk-container-id-27 pre{padding: 0;}#sk-container-id-27 div.sk-toggleable {background-color: white;}#sk-container-id-27 label.sk-toggleable__label {cursor: pointer;display: block;width: 100%;margin-bottom: 0;padding: 0.3em;box-sizing: border-box;text-align: center;}#sk-container-id-27 label.sk-toggleable__label-arrow:before {content: \"▸\";float: left;margin-right: 0.25em;color: #696969;}#sk-container-id-27 label.sk-toggleable__label-arrow:hover:before {color: black;}#sk-container-id-27 div.sk-estimator:hover label.sk-toggleable__label-arrow:before {color: black;}#sk-container-id-27 div.sk-toggleable__content {max-height: 0;max-width: 0;overflow: hidden;text-align: left;background-color: #f0f8ff;}#sk-container-id-27 div.sk-toggleable__content pre {margin: 0.2em;color: black;border-radius: 0.25em;background-color: #f0f8ff;}#sk-container-id-27 input.sk-toggleable__control:checked~div.sk-toggleable__content {max-height: 200px;max-width: 100%;overflow: auto;}#sk-container-id-27 input.sk-toggleable__control:checked~label.sk-toggleable__label-arrow:before {content: \"▾\";}#sk-container-id-27 div.sk-estimator input.sk-toggleable__control:checked~label.sk-toggleable__label {background-color: #d4ebff;}#sk-container-id-27 div.sk-label input.sk-toggleable__control:checked~label.sk-toggleable__label {background-color: #d4ebff;}#sk-container-id-27 input.sk-hidden--visually {border: 0;clip: rect(1px 1px 1px 1px);clip: rect(1px, 1px, 1px, 1px);height: 1px;margin: -1px;overflow: hidden;padding: 0;position: absolute;width: 1px;}#sk-container-id-27 div.sk-estimator {font-family: monospace;background-color: #f0f8ff;border: 1px dotted black;border-radius: 0.25em;box-sizing: border-box;margin-bottom: 0.5em;}#sk-container-id-27 div.sk-estimator:hover {background-color: #d4ebff;}#sk-container-id-27 div.sk-parallel-item::after {content: \"\";width: 100%;border-bottom: 1px solid gray;flex-grow: 1;}#sk-container-id-27 div.sk-label:hover label.sk-toggleable__label {background-color: #d4ebff;}#sk-container-id-27 div.sk-serial::before {content: \"\";position: absolute;border-left: 1px solid gray;box-sizing: border-box;top: 0;bottom: 0;left: 50%;z-index: 0;}#sk-container-id-27 div.sk-serial {display: flex;flex-direction: column;align-items: center;background-color: white;padding-right: 0.2em;padding-left: 0.2em;position: relative;}#sk-container-id-27 div.sk-item {position: relative;z-index: 1;}#sk-container-id-27 div.sk-parallel {display: flex;align-items: stretch;justify-content: center;background-color: white;position: relative;}#sk-container-id-27 div.sk-item::before, #sk-container-id-27 div.sk-parallel-item::before {content: \"\";position: absolute;border-left: 1px solid gray;box-sizing: border-box;top: 0;bottom: 0;left: 50%;z-index: -1;}#sk-container-id-27 div.sk-parallel-item {display: flex;flex-direction: column;z-index: 1;position: relative;background-color: white;}#sk-container-id-27 div.sk-parallel-item:first-child::after {align-self: flex-end;width: 50%;}#sk-container-id-27 div.sk-parallel-item:last-child::after {align-self: flex-start;width: 50%;}#sk-container-id-27 div.sk-parallel-item:only-child::after {width: 0;}#sk-container-id-27 div.sk-dashed-wrapped {border: 1px dashed gray;margin: 0 0.4em 0.5em 0.4em;box-sizing: border-box;padding-bottom: 0.4em;background-color: white;}#sk-container-id-27 div.sk-label label {font-family: monospace;font-weight: bold;display: inline-block;line-height: 1.2em;}#sk-container-id-27 div.sk-label-container {text-align: center;}#sk-container-id-27 div.sk-container {/* jupyter's `normalize.less` sets `[hidden] { display: none; }` but bootstrap.min.css set `[hidden] { display: none !important; }` so we also need the `!important` here to be able to override the default hidden behavior on the sphinx rendered scikit-learn.org. See: https://github.com/scikit-learn/scikit-learn/issues/21755 */display: inline-block !important;position: relative;}#sk-container-id-27 div.sk-text-repr-fallback {display: none;}</style><div id=\"sk-container-id-27\" class=\"sk-top-container\"><div class=\"sk-text-repr-fallback\"><pre>LogisticRegression(C=0.0001)</pre><b>In a Jupyter environment, please rerun this cell to show the HTML representation or trust the notebook. <br />On GitHub, the HTML representation is unable to render, please try loading this page with nbviewer.org.</b></div><div class=\"sk-container\" hidden><div class=\"sk-item\"><div class=\"sk-estimator sk-toggleable\"><input class=\"sk-toggleable__control sk-hidden--visually\" id=\"sk-estimator-id-47\" type=\"checkbox\" checked><label for=\"sk-estimator-id-47\" class=\"sk-toggleable__label sk-toggleable__label-arrow\">LogisticRegression</label><div class=\"sk-toggleable__content\"><pre>LogisticRegression(C=0.0001)</pre></div></div></div></div></div>"
      ],
      "text/plain": [
       "LogisticRegression(C=0.0001)"
      ]
     },
     "execution_count": 406,
     "metadata": {},
     "output_type": "execute_result"
    }
   ],
   "source": [
    "# Selecionamos o melhor modelo\n",
    "mod1.best_estimator_"
   ]
  },
  {
   "cell_type": "markdown",
   "metadata": {},
   "source": [
    "Realizamos também previsões baseadas no melhor modelo afim de avaliar seu desepenho."
   ]
  },
  {
   "cell_type": "code",
   "execution_count": 407,
   "metadata": {},
   "outputs": [
    {
     "data": {
      "text/plain": [
       "array([[0.30012223, 0.32201901, 0.37785876],\n",
       "       [0.26348269, 0.32130061, 0.41521669],\n",
       "       [0.35446918, 0.31079229, 0.33473853],\n",
       "       [0.26803882, 0.32173056, 0.41023062],\n",
       "       [0.36817803, 0.32703957, 0.3047824 ],\n",
       "       [0.28295619, 0.29667593, 0.42036788],\n",
       "       [0.42570765, 0.24663601, 0.32765634],\n",
       "       [0.42253826, 0.35286842, 0.22459333],\n",
       "       [0.2703939 , 0.32037347, 0.40923263],\n",
       "       [0.33828755, 0.34899446, 0.31271799]])"
      ]
     },
     "execution_count": 407,
     "metadata": {},
     "output_type": "execute_result"
    }
   ],
   "source": [
    "# Previsões com dados de teste\n",
    "y_pred_mod1 = mod1.predict(x_test)\n",
    "\n",
    "# Extrai as probabilidade das predições do modelo\n",
    "y_pred_prob_mod1 = mod1.predict_proba(x_test)\n",
    "y_pred_prob_mod1[:10]"
   ]
  },
  {
   "cell_type": "markdown",
   "metadata": {},
   "source": [
    "Criamos então a Matriz de Confusão do modelo. esta técnica é comumente usada para avaliação de erros de classificação dos modelos."
   ]
  },
  {
   "cell_type": "code",
   "execution_count": 408,
   "metadata": {},
   "outputs": [
    {
     "data": {
      "text/plain": [
       "array([[1177,  432,  680],\n",
       "       [ 894,  534,  861],\n",
       "       [ 565,  416, 1308]], dtype=int64)"
      ]
     },
     "execution_count": 408,
     "metadata": {},
     "output_type": "execute_result"
    }
   ],
   "source": [
    "# Matriz de confusão\n",
    "confusion_matrix(y_test, y_pred_mod1)"
   ]
  },
  {
   "cell_type": "markdown",
   "metadata": {},
   "source": [
    "Podemos verificar no vetor diagonal principal as observações que o modelo conseguiu classificar de forma correta, baseando-se nos dados de teste da variável target para esta comparação. Ao lado desta linha diagonal, estão todos os valores classificados erroneamente. Sendo assim, podemos verificar que nosso modelo não obteve um resultado satisfatório pelo alto número de ocorrências de classificações errôneas mostrados na matriz."
   ]
  },
  {
   "cell_type": "markdown",
   "metadata": {},
   "source": [
    "Calculando a medida ROC AUC, que será útil para a comparação entre modelos, temos:"
   ]
  },
  {
   "cell_type": "code",
   "execution_count": 409,
   "metadata": {},
   "outputs": [
    {
     "name": "stdout",
     "output_type": "stream",
     "text": [
      "0.6255818677572498\n"
     ]
    }
   ],
   "source": [
    "# Calcula a métrica global AUC (Area Under The Curve) com dados reais e previsões em teste\n",
    "roc_auc_v1 = roc_auc_score(y_test.values, y_pred_prob_mod1, multi_class = 'ovo')\n",
    "print(roc_auc_v1)"
   ]
  },
  {
   "cell_type": "markdown",
   "metadata": {},
   "source": [
    "Neste índice, quanto maior o valor, melhor é o modelo para classificação das multiclasses do problema. Neste caso, obtivemos cerca 62%, um índice razoável mas que acreditamos que pode melhorar com a aplicação de outros modelos. "
   ]
  },
  {
   "cell_type": "markdown",
   "metadata": {},
   "source": [
    "Por fim, calculamos a acurácia do modelo, medida comumente usada para avaliação de modelos mas que não pode ser utilizada para comparação entre modelos distintos.  "
   ]
  },
  {
   "cell_type": "code",
   "execution_count": 410,
   "metadata": {},
   "outputs": [
    {
     "data": {
      "text/plain": [
       "0.4396388524828892"
      ]
     },
     "execution_count": 410,
     "metadata": {},
     "output_type": "execute_result"
    }
   ],
   "source": [
    "# Acurácia em teste\n",
    "accuracy_mod1 = accuracy_score(y_test,y_pred_mod1)\n",
    "accuracy_mod1"
   ]
  },
  {
   "cell_type": "markdown",
   "metadata": {},
   "source": [
    "Sua interpretação é muito semelhante a ROC AUC, pois o valor retorna expressa a capacidade do modelo de classificar os valores da variável Target. Neste caso, obtivemos um valor nada satisfatório, estando abaixo dos 50%. Com cerca 44% de acurácia, podemos interpretar que o modelo tem a capacidade de classificar corretamente apenas 44% da variável Target."
   ]
  },
  {
   "cell_type": "markdown",
   "metadata": {},
   "source": [
    "#### - FEATURE IMPORTANCE "
   ]
  },
  {
   "cell_type": "markdown",
   "metadata": {},
   "source": [
    "Nesta etapa, faremos a construção melhor modelo, incuindo os valores de hiperparâmetros definidos do tópico anterior. Por fim, verificaremos as variáveis que o modelo selecionou como mais relevantes para explicar a variável Target.    "
   ]
  },
  {
   "cell_type": "markdown",
   "metadata": {},
   "source": [
    "Desta forma, construindo a versão final do modelo:"
   ]
  },
  {
   "cell_type": "code",
   "execution_count": 411,
   "metadata": {},
   "outputs": [
    {
     "data": {
      "text/html": [
       "<style>#sk-container-id-28 {color: black;background-color: white;}#sk-container-id-28 pre{padding: 0;}#sk-container-id-28 div.sk-toggleable {background-color: white;}#sk-container-id-28 label.sk-toggleable__label {cursor: pointer;display: block;width: 100%;margin-bottom: 0;padding: 0.3em;box-sizing: border-box;text-align: center;}#sk-container-id-28 label.sk-toggleable__label-arrow:before {content: \"▸\";float: left;margin-right: 0.25em;color: #696969;}#sk-container-id-28 label.sk-toggleable__label-arrow:hover:before {color: black;}#sk-container-id-28 div.sk-estimator:hover label.sk-toggleable__label-arrow:before {color: black;}#sk-container-id-28 div.sk-toggleable__content {max-height: 0;max-width: 0;overflow: hidden;text-align: left;background-color: #f0f8ff;}#sk-container-id-28 div.sk-toggleable__content pre {margin: 0.2em;color: black;border-radius: 0.25em;background-color: #f0f8ff;}#sk-container-id-28 input.sk-toggleable__control:checked~div.sk-toggleable__content {max-height: 200px;max-width: 100%;overflow: auto;}#sk-container-id-28 input.sk-toggleable__control:checked~label.sk-toggleable__label-arrow:before {content: \"▾\";}#sk-container-id-28 div.sk-estimator input.sk-toggleable__control:checked~label.sk-toggleable__label {background-color: #d4ebff;}#sk-container-id-28 div.sk-label input.sk-toggleable__control:checked~label.sk-toggleable__label {background-color: #d4ebff;}#sk-container-id-28 input.sk-hidden--visually {border: 0;clip: rect(1px 1px 1px 1px);clip: rect(1px, 1px, 1px, 1px);height: 1px;margin: -1px;overflow: hidden;padding: 0;position: absolute;width: 1px;}#sk-container-id-28 div.sk-estimator {font-family: monospace;background-color: #f0f8ff;border: 1px dotted black;border-radius: 0.25em;box-sizing: border-box;margin-bottom: 0.5em;}#sk-container-id-28 div.sk-estimator:hover {background-color: #d4ebff;}#sk-container-id-28 div.sk-parallel-item::after {content: \"\";width: 100%;border-bottom: 1px solid gray;flex-grow: 1;}#sk-container-id-28 div.sk-label:hover label.sk-toggleable__label {background-color: #d4ebff;}#sk-container-id-28 div.sk-serial::before {content: \"\";position: absolute;border-left: 1px solid gray;box-sizing: border-box;top: 0;bottom: 0;left: 50%;z-index: 0;}#sk-container-id-28 div.sk-serial {display: flex;flex-direction: column;align-items: center;background-color: white;padding-right: 0.2em;padding-left: 0.2em;position: relative;}#sk-container-id-28 div.sk-item {position: relative;z-index: 1;}#sk-container-id-28 div.sk-parallel {display: flex;align-items: stretch;justify-content: center;background-color: white;position: relative;}#sk-container-id-28 div.sk-item::before, #sk-container-id-28 div.sk-parallel-item::before {content: \"\";position: absolute;border-left: 1px solid gray;box-sizing: border-box;top: 0;bottom: 0;left: 50%;z-index: -1;}#sk-container-id-28 div.sk-parallel-item {display: flex;flex-direction: column;z-index: 1;position: relative;background-color: white;}#sk-container-id-28 div.sk-parallel-item:first-child::after {align-self: flex-end;width: 50%;}#sk-container-id-28 div.sk-parallel-item:last-child::after {align-self: flex-start;width: 50%;}#sk-container-id-28 div.sk-parallel-item:only-child::after {width: 0;}#sk-container-id-28 div.sk-dashed-wrapped {border: 1px dashed gray;margin: 0 0.4em 0.5em 0.4em;box-sizing: border-box;padding-bottom: 0.4em;background-color: white;}#sk-container-id-28 div.sk-label label {font-family: monospace;font-weight: bold;display: inline-block;line-height: 1.2em;}#sk-container-id-28 div.sk-label-container {text-align: center;}#sk-container-id-28 div.sk-container {/* jupyter's `normalize.less` sets `[hidden] { display: none; }` but bootstrap.min.css set `[hidden] { display: none !important; }` so we also need the `!important` here to be able to override the default hidden behavior on the sphinx rendered scikit-learn.org. See: https://github.com/scikit-learn/scikit-learn/issues/21755 */display: inline-block !important;position: relative;}#sk-container-id-28 div.sk-text-repr-fallback {display: none;}</style><div id=\"sk-container-id-28\" class=\"sk-top-container\"><div class=\"sk-text-repr-fallback\"><pre>LogisticRegression(C=0.0001)</pre><b>In a Jupyter environment, please rerun this cell to show the HTML representation or trust the notebook. <br />On GitHub, the HTML representation is unable to render, please try loading this page with nbviewer.org.</b></div><div class=\"sk-container\" hidden><div class=\"sk-item\"><div class=\"sk-estimator sk-toggleable\"><input class=\"sk-toggleable__control sk-hidden--visually\" id=\"sk-estimator-id-48\" type=\"checkbox\" checked><label for=\"sk-estimator-id-48\" class=\"sk-toggleable__label sk-toggleable__label-arrow\">LogisticRegression</label><div class=\"sk-toggleable__content\"><pre>LogisticRegression(C=0.0001)</pre></div></div></div></div></div>"
      ],
      "text/plain": [
       "LogisticRegression(C=0.0001)"
      ]
     },
     "execution_count": 411,
     "metadata": {},
     "output_type": "execute_result"
    }
   ],
   "source": [
    "# Construindo o modelo novamente com os melhores hiperparâmetros\n",
    "mod1 = LogisticRegression(C = 0.0001)\n",
    "mod1.fit(x_train, y_train)"
   ]
  },
  {
   "cell_type": "markdown",
   "metadata": {},
   "source": [
    "Extraímos os coeficientes do modelo. Será através deles que verificaremos a relevÂncia das variáveis para o modelo."
   ]
  },
  {
   "cell_type": "code",
   "execution_count": 412,
   "metadata": {},
   "outputs": [
    {
     "name": "stdout",
     "output_type": "stream",
     "text": [
      "Most important variables for Logistic Reression model:\n",
      "--------------------------------------------------\n",
      "age\n",
      "Light_conditions\n",
      "education\n",
      "Area_accident_occured\n",
      "Driving_experience\n",
      "Vehicle_driver_relation\n",
      "Day_of_week\n",
      "road_surface\n",
      "Weather_conditions\n",
      "Hour\n",
      "sex\n"
     ]
    }
   ],
   "source": [
    "# Obtemos os coeficientes pelo maior maior usando np.argsort\n",
    "coef = np.argsort(-abs(mod1.coef_[0,:]))\n",
    "\n",
    "print(\"Most important variables for Logistic Reression model:\")\n",
    "print(50*'-')\n",
    "for feature in X.columns[coef]:\n",
    "    print(feature)"
   ]
  },
  {
   "cell_type": "markdown",
   "metadata": {},
   "source": [
    "Estas são as variáveis mais relevantes para explicar a variável Target, selecionadas pelo modelo de Logistic Regression. Segundo o modelo, A faixa etária do indivídou ('Age'), as condições climáticas ('Light_conditions') e seu nível de escolaridade ('Education') são as variáveis que mais influenciam na gravidade do acidente de trânsito que esses motoristas estão presentes. Por outro lado, o gênero ('Sex') e a hora do dia ('Hour') em que o acidente ocorreu não possuem grandes influenciam na gravidade deste acidente. Verificaremos agora se, para os demais modelos, estas conclusões se manterão.  "
   ]
  },
  {
   "cell_type": "markdown",
   "metadata": {},
   "source": [
    "### MODEL 02 - DECISION TREE "
   ]
  },
  {
   "cell_type": "markdown",
   "metadata": {},
   "source": [
    "Faremos agora a aplicação do modelo Decision Tree aos dados na busca da classificação da gravidade dos acidentes de trânsito ('Severity')."
   ]
  },
  {
   "cell_type": "markdown",
   "metadata": {},
   "source": [
    "#### - DEFINIÇÃO DE HIPERPARÂMETROS - MELHOR MODELO"
   ]
  },
  {
   "cell_type": "markdown",
   "metadata": {},
   "source": [
    "Semelhante ao realizado no modelo anterior, iniciamos o trabalho definindo os melhores hiperparâmetros para o modelo, desta vez usando a função 'RandomizedSearchCV'."
   ]
  },
  {
   "cell_type": "code",
   "execution_count": 413,
   "metadata": {},
   "outputs": [],
   "source": [
    "# Hiperparâmetros\n",
    "tuned_params_v2 = {'min_samples_split': [2, 3, 4, 5, 7], \n",
    "                   'min_samples_leaf': [1, 2, 3, 4, 6], \n",
    "                   'max_depth': [2, 3, 4, 5, 6, 7]}\n",
    "\n",
    "# Cria o modelo com RandomizedSearchCV\n",
    "mod2 = RandomizedSearchCV(DecisionTreeClassifier(), \n",
    "                               tuned_params_v2, \n",
    "                               n_iter = 15, \n",
    "                               scoring = 'roc_auc', \n",
    "                               n_jobs = -1)"
   ]
  },
  {
   "cell_type": "markdown",
   "metadata": {},
   "source": [
    "Após a escolha dos hiperparâmetros mais indicado para o modelo, segundo os dados, podemos realizar o treinamento."
   ]
  },
  {
   "cell_type": "code",
   "execution_count": 414,
   "metadata": {},
   "outputs": [
    {
     "data": {
      "text/html": [
       "<style>#sk-container-id-29 {color: black;background-color: white;}#sk-container-id-29 pre{padding: 0;}#sk-container-id-29 div.sk-toggleable {background-color: white;}#sk-container-id-29 label.sk-toggleable__label {cursor: pointer;display: block;width: 100%;margin-bottom: 0;padding: 0.3em;box-sizing: border-box;text-align: center;}#sk-container-id-29 label.sk-toggleable__label-arrow:before {content: \"▸\";float: left;margin-right: 0.25em;color: #696969;}#sk-container-id-29 label.sk-toggleable__label-arrow:hover:before {color: black;}#sk-container-id-29 div.sk-estimator:hover label.sk-toggleable__label-arrow:before {color: black;}#sk-container-id-29 div.sk-toggleable__content {max-height: 0;max-width: 0;overflow: hidden;text-align: left;background-color: #f0f8ff;}#sk-container-id-29 div.sk-toggleable__content pre {margin: 0.2em;color: black;border-radius: 0.25em;background-color: #f0f8ff;}#sk-container-id-29 input.sk-toggleable__control:checked~div.sk-toggleable__content {max-height: 200px;max-width: 100%;overflow: auto;}#sk-container-id-29 input.sk-toggleable__control:checked~label.sk-toggleable__label-arrow:before {content: \"▾\";}#sk-container-id-29 div.sk-estimator input.sk-toggleable__control:checked~label.sk-toggleable__label {background-color: #d4ebff;}#sk-container-id-29 div.sk-label input.sk-toggleable__control:checked~label.sk-toggleable__label {background-color: #d4ebff;}#sk-container-id-29 input.sk-hidden--visually {border: 0;clip: rect(1px 1px 1px 1px);clip: rect(1px, 1px, 1px, 1px);height: 1px;margin: -1px;overflow: hidden;padding: 0;position: absolute;width: 1px;}#sk-container-id-29 div.sk-estimator {font-family: monospace;background-color: #f0f8ff;border: 1px dotted black;border-radius: 0.25em;box-sizing: border-box;margin-bottom: 0.5em;}#sk-container-id-29 div.sk-estimator:hover {background-color: #d4ebff;}#sk-container-id-29 div.sk-parallel-item::after {content: \"\";width: 100%;border-bottom: 1px solid gray;flex-grow: 1;}#sk-container-id-29 div.sk-label:hover label.sk-toggleable__label {background-color: #d4ebff;}#sk-container-id-29 div.sk-serial::before {content: \"\";position: absolute;border-left: 1px solid gray;box-sizing: border-box;top: 0;bottom: 0;left: 50%;z-index: 0;}#sk-container-id-29 div.sk-serial {display: flex;flex-direction: column;align-items: center;background-color: white;padding-right: 0.2em;padding-left: 0.2em;position: relative;}#sk-container-id-29 div.sk-item {position: relative;z-index: 1;}#sk-container-id-29 div.sk-parallel {display: flex;align-items: stretch;justify-content: center;background-color: white;position: relative;}#sk-container-id-29 div.sk-item::before, #sk-container-id-29 div.sk-parallel-item::before {content: \"\";position: absolute;border-left: 1px solid gray;box-sizing: border-box;top: 0;bottom: 0;left: 50%;z-index: -1;}#sk-container-id-29 div.sk-parallel-item {display: flex;flex-direction: column;z-index: 1;position: relative;background-color: white;}#sk-container-id-29 div.sk-parallel-item:first-child::after {align-self: flex-end;width: 50%;}#sk-container-id-29 div.sk-parallel-item:last-child::after {align-self: flex-start;width: 50%;}#sk-container-id-29 div.sk-parallel-item:only-child::after {width: 0;}#sk-container-id-29 div.sk-dashed-wrapped {border: 1px dashed gray;margin: 0 0.4em 0.5em 0.4em;box-sizing: border-box;padding-bottom: 0.4em;background-color: white;}#sk-container-id-29 div.sk-label label {font-family: monospace;font-weight: bold;display: inline-block;line-height: 1.2em;}#sk-container-id-29 div.sk-label-container {text-align: center;}#sk-container-id-29 div.sk-container {/* jupyter's `normalize.less` sets `[hidden] { display: none; }` but bootstrap.min.css set `[hidden] { display: none !important; }` so we also need the `!important` here to be able to override the default hidden behavior on the sphinx rendered scikit-learn.org. See: https://github.com/scikit-learn/scikit-learn/issues/21755 */display: inline-block !important;position: relative;}#sk-container-id-29 div.sk-text-repr-fallback {display: none;}</style><div id=\"sk-container-id-29\" class=\"sk-top-container\"><div class=\"sk-text-repr-fallback\"><pre>DecisionTreeClassifier(max_depth=5)</pre><b>In a Jupyter environment, please rerun this cell to show the HTML representation or trust the notebook. <br />On GitHub, the HTML representation is unable to render, please try loading this page with nbviewer.org.</b></div><div class=\"sk-container\" hidden><div class=\"sk-item\"><div class=\"sk-estimator sk-toggleable\"><input class=\"sk-toggleable__control sk-hidden--visually\" id=\"sk-estimator-id-49\" type=\"checkbox\" checked><label for=\"sk-estimator-id-49\" class=\"sk-toggleable__label sk-toggleable__label-arrow\">DecisionTreeClassifier</label><div class=\"sk-toggleable__content\"><pre>DecisionTreeClassifier(max_depth=5)</pre></div></div></div></div></div>"
      ],
      "text/plain": [
       "DecisionTreeClassifier(max_depth=5)"
      ]
     },
     "execution_count": 414,
     "metadata": {},
     "output_type": "execute_result"
    }
   ],
   "source": [
    "# Treinamento\n",
    "mod2.fit(x_train, y_train)\n",
    "\n",
    "# Melhor modelo\n",
    "mod2.best_estimator_"
   ]
  },
  {
   "cell_type": "markdown",
   "metadata": {},
   "source": [
    "Após o treinamento do modelo, conseguimos então capturar os hiperparâmetros mais indicados para construção do modelo. Isso será útil na próxima etapa, onde construirems nossa melhor versão do modelo."
   ]
  },
  {
   "cell_type": "markdown",
   "metadata": {},
   "source": [
    "Realizando as previsões do modelo com base nos valores das classes da variável target ('Severity') e suas devidas probabilidades de previsão:"
   ]
  },
  {
   "cell_type": "code",
   "execution_count": 415,
   "metadata": {},
   "outputs": [],
   "source": [
    "# Previsões de classe\n",
    "y_pred_mod2 = mod2.predict(x_test)\n",
    "\n",
    "# Previsões de probabilidade\n",
    "y_pred_prob_mod2 = mod2.predict_proba(x_test)"
   ]
  },
  {
   "cell_type": "markdown",
   "metadata": {},
   "source": [
    "Feitas as previsões, chegamos na etapa de avaliação do modelo. Verificaremos seu desempenho e como foram suas classificações.\n",
    "\n",
    "Sendo assim, obtendo a matriz de confusão:"
   ]
  },
  {
   "cell_type": "code",
   "execution_count": 416,
   "metadata": {},
   "outputs": [
    {
     "data": {
      "text/plain": [
       "array([[ 879,  891,  519],\n",
       "       [ 573, 1126,  590],\n",
       "       [ 131,  683, 1475]], dtype=int64)"
      ]
     },
     "execution_count": 416,
     "metadata": {},
     "output_type": "execute_result"
    }
   ],
   "source": [
    "# Confusion matrix\n",
    "confusion_matrix(y_test, y_pred_mod2)"
   ]
  },
  {
   "cell_type": "markdown",
   "metadata": {},
   "source": [
    "Podemos verificar na matriz, utilizando como base o vetor diagonal, que o modelo de Decision Tree ainda cometou muitos erros de classificação, o que implica em um baixo desempenho e mostra este ainda não seria o modelo ideal na classificação da severidade de acidentes de trânsito."
   ]
  },
  {
   "cell_type": "markdown",
   "metadata": {},
   "source": [
    "Calculando a medida ROC AUC:"
   ]
  },
  {
   "cell_type": "code",
   "execution_count": 417,
   "metadata": {},
   "outputs": [
    {
     "name": "stdout",
     "output_type": "stream",
     "text": [
      "0.7000010751618961\n"
     ]
    }
   ],
   "source": [
    "# Calcula ROC AUC score\n",
    "roc_auc_v2 = roc_auc_score(y_test.values, y_pred_prob_mod2, multi_class = 'ovo')\n",
    "print(roc_auc_v2)"
   ]
  },
  {
   "cell_type": "markdown",
   "metadata": {},
   "source": [
    "O modelo de Decision Tree obteve como medida ROC AUC um percentual de aproximadamente 68%. Este modelo já mostra uma melhora de desempenho comparado ao modelo anterior, porém este percentual ainda não é considerado o ideal. "
   ]
  },
  {
   "cell_type": "markdown",
   "metadata": {},
   "source": [
    "Calculando a acurácia do modelo, temos:"
   ]
  },
  {
   "cell_type": "code",
   "execution_count": 418,
   "metadata": {},
   "outputs": [
    {
     "name": "stdout",
     "output_type": "stream",
     "text": [
      "0.5067715159458279\n"
     ]
    }
   ],
   "source": [
    "# Calcula acurácia\n",
    "accuracy_mod2 = accuracy_score(y_test, y_pred_mod2)\n",
    "print(accuracy_mod2)"
   ]
  },
  {
   "cell_type": "markdown",
   "metadata": {},
   "source": [
    "O modelo de Decision Tree obteve uma acurácia de aproximadamente 50%. Isso significa que de todas as informações da variável 'Severity', o modelo tem a capacidade de classificar corretamente 50% delas, o que obviamente está longe de ser o resultado ideal e esperado."
   ]
  },
  {
   "cell_type": "markdown",
   "metadata": {},
   "source": [
    "#### - FEATURE IMPORTANCE \n",
    "\n",
    "Construindo a melhor versão do modelo baseado nos hiperparâmetros definidos na etapa anterior, temos:"
   ]
  },
  {
   "cell_type": "code",
   "execution_count": 419,
   "metadata": {},
   "outputs": [
    {
     "data": {
      "text/html": [
       "<style>#sk-container-id-30 {color: black;background-color: white;}#sk-container-id-30 pre{padding: 0;}#sk-container-id-30 div.sk-toggleable {background-color: white;}#sk-container-id-30 label.sk-toggleable__label {cursor: pointer;display: block;width: 100%;margin-bottom: 0;padding: 0.3em;box-sizing: border-box;text-align: center;}#sk-container-id-30 label.sk-toggleable__label-arrow:before {content: \"▸\";float: left;margin-right: 0.25em;color: #696969;}#sk-container-id-30 label.sk-toggleable__label-arrow:hover:before {color: black;}#sk-container-id-30 div.sk-estimator:hover label.sk-toggleable__label-arrow:before {color: black;}#sk-container-id-30 div.sk-toggleable__content {max-height: 0;max-width: 0;overflow: hidden;text-align: left;background-color: #f0f8ff;}#sk-container-id-30 div.sk-toggleable__content pre {margin: 0.2em;color: black;border-radius: 0.25em;background-color: #f0f8ff;}#sk-container-id-30 input.sk-toggleable__control:checked~div.sk-toggleable__content {max-height: 200px;max-width: 100%;overflow: auto;}#sk-container-id-30 input.sk-toggleable__control:checked~label.sk-toggleable__label-arrow:before {content: \"▾\";}#sk-container-id-30 div.sk-estimator input.sk-toggleable__control:checked~label.sk-toggleable__label {background-color: #d4ebff;}#sk-container-id-30 div.sk-label input.sk-toggleable__control:checked~label.sk-toggleable__label {background-color: #d4ebff;}#sk-container-id-30 input.sk-hidden--visually {border: 0;clip: rect(1px 1px 1px 1px);clip: rect(1px, 1px, 1px, 1px);height: 1px;margin: -1px;overflow: hidden;padding: 0;position: absolute;width: 1px;}#sk-container-id-30 div.sk-estimator {font-family: monospace;background-color: #f0f8ff;border: 1px dotted black;border-radius: 0.25em;box-sizing: border-box;margin-bottom: 0.5em;}#sk-container-id-30 div.sk-estimator:hover {background-color: #d4ebff;}#sk-container-id-30 div.sk-parallel-item::after {content: \"\";width: 100%;border-bottom: 1px solid gray;flex-grow: 1;}#sk-container-id-30 div.sk-label:hover label.sk-toggleable__label {background-color: #d4ebff;}#sk-container-id-30 div.sk-serial::before {content: \"\";position: absolute;border-left: 1px solid gray;box-sizing: border-box;top: 0;bottom: 0;left: 50%;z-index: 0;}#sk-container-id-30 div.sk-serial {display: flex;flex-direction: column;align-items: center;background-color: white;padding-right: 0.2em;padding-left: 0.2em;position: relative;}#sk-container-id-30 div.sk-item {position: relative;z-index: 1;}#sk-container-id-30 div.sk-parallel {display: flex;align-items: stretch;justify-content: center;background-color: white;position: relative;}#sk-container-id-30 div.sk-item::before, #sk-container-id-30 div.sk-parallel-item::before {content: \"\";position: absolute;border-left: 1px solid gray;box-sizing: border-box;top: 0;bottom: 0;left: 50%;z-index: -1;}#sk-container-id-30 div.sk-parallel-item {display: flex;flex-direction: column;z-index: 1;position: relative;background-color: white;}#sk-container-id-30 div.sk-parallel-item:first-child::after {align-self: flex-end;width: 50%;}#sk-container-id-30 div.sk-parallel-item:last-child::after {align-self: flex-start;width: 50%;}#sk-container-id-30 div.sk-parallel-item:only-child::after {width: 0;}#sk-container-id-30 div.sk-dashed-wrapped {border: 1px dashed gray;margin: 0 0.4em 0.5em 0.4em;box-sizing: border-box;padding-bottom: 0.4em;background-color: white;}#sk-container-id-30 div.sk-label label {font-family: monospace;font-weight: bold;display: inline-block;line-height: 1.2em;}#sk-container-id-30 div.sk-label-container {text-align: center;}#sk-container-id-30 div.sk-container {/* jupyter's `normalize.less` sets `[hidden] { display: none; }` but bootstrap.min.css set `[hidden] { display: none !important; }` so we also need the `!important` here to be able to override the default hidden behavior on the sphinx rendered scikit-learn.org. See: https://github.com/scikit-learn/scikit-learn/issues/21755 */display: inline-block !important;position: relative;}#sk-container-id-30 div.sk-text-repr-fallback {display: none;}</style><div id=\"sk-container-id-30\" class=\"sk-top-container\"><div class=\"sk-text-repr-fallback\"><pre>DecisionTreeClassifier(max_depth=3, min_samples_leaf=4, min_samples_split=3)</pre><b>In a Jupyter environment, please rerun this cell to show the HTML representation or trust the notebook. <br />On GitHub, the HTML representation is unable to render, please try loading this page with nbviewer.org.</b></div><div class=\"sk-container\" hidden><div class=\"sk-item\"><div class=\"sk-estimator sk-toggleable\"><input class=\"sk-toggleable__control sk-hidden--visually\" id=\"sk-estimator-id-50\" type=\"checkbox\" checked><label for=\"sk-estimator-id-50\" class=\"sk-toggleable__label sk-toggleable__label-arrow\">DecisionTreeClassifier</label><div class=\"sk-toggleable__content\"><pre>DecisionTreeClassifier(max_depth=3, min_samples_leaf=4, min_samples_split=3)</pre></div></div></div></div></div>"
      ],
      "text/plain": [
       "DecisionTreeClassifier(max_depth=3, min_samples_leaf=4, min_samples_split=3)"
      ]
     },
     "execution_count": 419,
     "metadata": {},
     "output_type": "execute_result"
    }
   ],
   "source": [
    "# Recriando o modelo\n",
    "mod2 = DecisionTreeClassifier(min_samples_split = 3, min_samples_leaf = 4, max_depth = 3)\n",
    "mod2.fit(x_train, y_train)"
   ]
  },
  {
   "cell_type": "markdown",
   "metadata": {},
   "source": [
    "Sendo assim, capturamos as variáveis mais relevantes para o modelo Decision Tree. São elas:"
   ]
  },
  {
   "cell_type": "code",
   "execution_count": 420,
   "metadata": {},
   "outputs": [
    {
     "name": "stdout",
     "output_type": "stream",
     "text": [
      "Variáveis mais importantes para o resultado do modelo_v2:\n",
      "--------------------------------------------------\n",
      "Light_conditions\n",
      "Hour\n",
      "education\n",
      "Area_accident_occured\n",
      "Driving_experience\n",
      "age\n",
      "Day_of_week\n",
      "sex\n",
      "Vehicle_driver_relation\n",
      "road_surface\n",
      "Weather_conditions\n"
     ]
    }
   ],
   "source": [
    "# Variáveis mais importantes\n",
    "coef = np.argsort(-mod2.feature_importances_)\n",
    "print(\"Variáveis mais importantes para o resultado do modelo_v2:\")\n",
    "print(50*'-')\n",
    "for feature in X.columns[coef]:\n",
    "    print(feature)"
   ]
  },
  {
   "cell_type": "markdown",
   "metadata": {},
   "source": [
    "Podemos observar que para o modelo Decision Tree, a variável 'Light_conditions' passou a ser a variável com maior relevância na severidade dos acidentes de trânsito. Diferentemente do modelo anterior, desta vez o horário do dia (Hour) mostrou ser uma variável que tem alta influência na gravidade de acidentes, aparecendo em segundo lugar. Por último desta vez estão as condições climáticas (Weather_conditions). Segundo o modelo, esta variável é a que menos influencia na gravidade de aciendentes de trânsito.  "
   ]
  },
  {
   "cell_type": "markdown",
   "metadata": {},
   "source": [
    "### MODEL 03 - RANDOM FOREST"
   ]
  },
  {
   "cell_type": "markdown",
   "metadata": {},
   "source": [
    "A aplicação do modelo Decision Tree não resultou em um bom desempenho, com métricas de desempenho longe das ideias. Pensando nisso, decidimos por aplicar um modelo de aprendizado conjunto. O aprendizado conjunto é o processo de usar vários modelos, treinados sobre os mesmos dados, calculando a média dos resultados de cada modelo, em última análise, encontrando um resultado preditivo/classificação mais poderoso. Desta forma, utilizaremos o modelo de Random Forest e avaliaremos se de forma conjunta, e não apenas uma, árvores de decisão podem ser a solução para nosso problema. Nossa esperança, e o requisito, para o ensemble learning é que os erros de cada modelo (neste caso, árvore de decisão) sejam independentes e diferentes de árvore para árvore. "
   ]
  },
  {
   "cell_type": "markdown",
   "metadata": {},
   "source": [
    "#### - DEFINIÇÃO DE HIPERPARÂMETROS - MELHOR MODELO"
   ]
  },
  {
   "cell_type": "markdown",
   "metadata": {},
   "source": [
    "Como padrão, iniciamos nosso trabalho definindo a escolha dos melhores hiperparâmetros através da função 'RandomizedSearchCV'."
   ]
  },
  {
   "cell_type": "code",
   "execution_count": 421,
   "metadata": {},
   "outputs": [],
   "source": [
    "# Grid de hiperparâmetros\n",
    "tuned_params_v3 = {'n_estimators': [100, 200, 300, 400, 500], \n",
    "                   'min_samples_split': [2, 5, 10], \n",
    "                   'min_samples_leaf': [1, 2, 4]}\n",
    "\n",
    "# Cria o modelo com RandomizedSearchCV para buscar a melhor combinação de hiperparâmetros\n",
    "mod3 = RandomizedSearchCV(RandomForestClassifier(), \n",
    "                               tuned_params_v3, \n",
    "                               n_iter = 15, \n",
    "                               scoring = 'roc_auc', \n",
    "                               n_jobs  = -1)"
   ]
  },
  {
   "cell_type": "markdown",
   "metadata": {},
   "source": [
    "Após a definição dos hiperparâmetros, treinamos o modelo:"
   ]
  },
  {
   "cell_type": "code",
   "execution_count": 422,
   "metadata": {},
   "outputs": [
    {
     "data": {
      "text/html": [
       "<style>#sk-container-id-31 {color: black;background-color: white;}#sk-container-id-31 pre{padding: 0;}#sk-container-id-31 div.sk-toggleable {background-color: white;}#sk-container-id-31 label.sk-toggleable__label {cursor: pointer;display: block;width: 100%;margin-bottom: 0;padding: 0.3em;box-sizing: border-box;text-align: center;}#sk-container-id-31 label.sk-toggleable__label-arrow:before {content: \"▸\";float: left;margin-right: 0.25em;color: #696969;}#sk-container-id-31 label.sk-toggleable__label-arrow:hover:before {color: black;}#sk-container-id-31 div.sk-estimator:hover label.sk-toggleable__label-arrow:before {color: black;}#sk-container-id-31 div.sk-toggleable__content {max-height: 0;max-width: 0;overflow: hidden;text-align: left;background-color: #f0f8ff;}#sk-container-id-31 div.sk-toggleable__content pre {margin: 0.2em;color: black;border-radius: 0.25em;background-color: #f0f8ff;}#sk-container-id-31 input.sk-toggleable__control:checked~div.sk-toggleable__content {max-height: 200px;max-width: 100%;overflow: auto;}#sk-container-id-31 input.sk-toggleable__control:checked~label.sk-toggleable__label-arrow:before {content: \"▾\";}#sk-container-id-31 div.sk-estimator input.sk-toggleable__control:checked~label.sk-toggleable__label {background-color: #d4ebff;}#sk-container-id-31 div.sk-label input.sk-toggleable__control:checked~label.sk-toggleable__label {background-color: #d4ebff;}#sk-container-id-31 input.sk-hidden--visually {border: 0;clip: rect(1px 1px 1px 1px);clip: rect(1px, 1px, 1px, 1px);height: 1px;margin: -1px;overflow: hidden;padding: 0;position: absolute;width: 1px;}#sk-container-id-31 div.sk-estimator {font-family: monospace;background-color: #f0f8ff;border: 1px dotted black;border-radius: 0.25em;box-sizing: border-box;margin-bottom: 0.5em;}#sk-container-id-31 div.sk-estimator:hover {background-color: #d4ebff;}#sk-container-id-31 div.sk-parallel-item::after {content: \"\";width: 100%;border-bottom: 1px solid gray;flex-grow: 1;}#sk-container-id-31 div.sk-label:hover label.sk-toggleable__label {background-color: #d4ebff;}#sk-container-id-31 div.sk-serial::before {content: \"\";position: absolute;border-left: 1px solid gray;box-sizing: border-box;top: 0;bottom: 0;left: 50%;z-index: 0;}#sk-container-id-31 div.sk-serial {display: flex;flex-direction: column;align-items: center;background-color: white;padding-right: 0.2em;padding-left: 0.2em;position: relative;}#sk-container-id-31 div.sk-item {position: relative;z-index: 1;}#sk-container-id-31 div.sk-parallel {display: flex;align-items: stretch;justify-content: center;background-color: white;position: relative;}#sk-container-id-31 div.sk-item::before, #sk-container-id-31 div.sk-parallel-item::before {content: \"\";position: absolute;border-left: 1px solid gray;box-sizing: border-box;top: 0;bottom: 0;left: 50%;z-index: -1;}#sk-container-id-31 div.sk-parallel-item {display: flex;flex-direction: column;z-index: 1;position: relative;background-color: white;}#sk-container-id-31 div.sk-parallel-item:first-child::after {align-self: flex-end;width: 50%;}#sk-container-id-31 div.sk-parallel-item:last-child::after {align-self: flex-start;width: 50%;}#sk-container-id-31 div.sk-parallel-item:only-child::after {width: 0;}#sk-container-id-31 div.sk-dashed-wrapped {border: 1px dashed gray;margin: 0 0.4em 0.5em 0.4em;box-sizing: border-box;padding-bottom: 0.4em;background-color: white;}#sk-container-id-31 div.sk-label label {font-family: monospace;font-weight: bold;display: inline-block;line-height: 1.2em;}#sk-container-id-31 div.sk-label-container {text-align: center;}#sk-container-id-31 div.sk-container {/* jupyter's `normalize.less` sets `[hidden] { display: none; }` but bootstrap.min.css set `[hidden] { display: none !important; }` so we also need the `!important` here to be able to override the default hidden behavior on the sphinx rendered scikit-learn.org. See: https://github.com/scikit-learn/scikit-learn/issues/21755 */display: inline-block !important;position: relative;}#sk-container-id-31 div.sk-text-repr-fallback {display: none;}</style><div id=\"sk-container-id-31\" class=\"sk-top-container\"><div class=\"sk-text-repr-fallback\"><pre>RandomizedSearchCV(estimator=RandomForestClassifier(), n_iter=15, n_jobs=-1,\n",
       "                   param_distributions={&#x27;min_samples_leaf&#x27;: [1, 2, 4],\n",
       "                                        &#x27;min_samples_split&#x27;: [2, 5, 10],\n",
       "                                        &#x27;n_estimators&#x27;: [100, 200, 300, 400,\n",
       "                                                         500]},\n",
       "                   scoring=&#x27;roc_auc&#x27;)</pre><b>In a Jupyter environment, please rerun this cell to show the HTML representation or trust the notebook. <br />On GitHub, the HTML representation is unable to render, please try loading this page with nbviewer.org.</b></div><div class=\"sk-container\" hidden><div class=\"sk-item sk-dashed-wrapped\"><div class=\"sk-label-container\"><div class=\"sk-label sk-toggleable\"><input class=\"sk-toggleable__control sk-hidden--visually\" id=\"sk-estimator-id-51\" type=\"checkbox\" ><label for=\"sk-estimator-id-51\" class=\"sk-toggleable__label sk-toggleable__label-arrow\">RandomizedSearchCV</label><div class=\"sk-toggleable__content\"><pre>RandomizedSearchCV(estimator=RandomForestClassifier(), n_iter=15, n_jobs=-1,\n",
       "                   param_distributions={&#x27;min_samples_leaf&#x27;: [1, 2, 4],\n",
       "                                        &#x27;min_samples_split&#x27;: [2, 5, 10],\n",
       "                                        &#x27;n_estimators&#x27;: [100, 200, 300, 400,\n",
       "                                                         500]},\n",
       "                   scoring=&#x27;roc_auc&#x27;)</pre></div></div></div><div class=\"sk-parallel\"><div class=\"sk-parallel-item\"><div class=\"sk-item\"><div class=\"sk-label-container\"><div class=\"sk-label sk-toggleable\"><input class=\"sk-toggleable__control sk-hidden--visually\" id=\"sk-estimator-id-52\" type=\"checkbox\" ><label for=\"sk-estimator-id-52\" class=\"sk-toggleable__label sk-toggleable__label-arrow\">estimator: RandomForestClassifier</label><div class=\"sk-toggleable__content\"><pre>RandomForestClassifier()</pre></div></div></div><div class=\"sk-serial\"><div class=\"sk-item\"><div class=\"sk-estimator sk-toggleable\"><input class=\"sk-toggleable__control sk-hidden--visually\" id=\"sk-estimator-id-53\" type=\"checkbox\" ><label for=\"sk-estimator-id-53\" class=\"sk-toggleable__label sk-toggleable__label-arrow\">RandomForestClassifier</label><div class=\"sk-toggleable__content\"><pre>RandomForestClassifier()</pre></div></div></div></div></div></div></div></div></div></div>"
      ],
      "text/plain": [
       "RandomizedSearchCV(estimator=RandomForestClassifier(), n_iter=15, n_jobs=-1,\n",
       "                   param_distributions={'min_samples_leaf': [1, 2, 4],\n",
       "                                        'min_samples_split': [2, 5, 10],\n",
       "                                        'n_estimators': [100, 200, 300, 400,\n",
       "                                                         500]},\n",
       "                   scoring='roc_auc')"
      ]
     },
     "execution_count": 422,
     "metadata": {},
     "output_type": "execute_result"
    }
   ],
   "source": [
    "# Treina o modelo\n",
    "mod3.fit(x_train, y_train)"
   ]
  },
  {
   "cell_type": "markdown",
   "metadata": {},
   "source": [
    "Com o modelo treinado, podemos capturar os hiperparâmetros que serão úteis na construção do melhor modelo na próxima etapa."
   ]
  },
  {
   "cell_type": "code",
   "execution_count": 423,
   "metadata": {},
   "outputs": [
    {
     "data": {
      "text/html": [
       "<style>#sk-container-id-32 {color: black;background-color: white;}#sk-container-id-32 pre{padding: 0;}#sk-container-id-32 div.sk-toggleable {background-color: white;}#sk-container-id-32 label.sk-toggleable__label {cursor: pointer;display: block;width: 100%;margin-bottom: 0;padding: 0.3em;box-sizing: border-box;text-align: center;}#sk-container-id-32 label.sk-toggleable__label-arrow:before {content: \"▸\";float: left;margin-right: 0.25em;color: #696969;}#sk-container-id-32 label.sk-toggleable__label-arrow:hover:before {color: black;}#sk-container-id-32 div.sk-estimator:hover label.sk-toggleable__label-arrow:before {color: black;}#sk-container-id-32 div.sk-toggleable__content {max-height: 0;max-width: 0;overflow: hidden;text-align: left;background-color: #f0f8ff;}#sk-container-id-32 div.sk-toggleable__content pre {margin: 0.2em;color: black;border-radius: 0.25em;background-color: #f0f8ff;}#sk-container-id-32 input.sk-toggleable__control:checked~div.sk-toggleable__content {max-height: 200px;max-width: 100%;overflow: auto;}#sk-container-id-32 input.sk-toggleable__control:checked~label.sk-toggleable__label-arrow:before {content: \"▾\";}#sk-container-id-32 div.sk-estimator input.sk-toggleable__control:checked~label.sk-toggleable__label {background-color: #d4ebff;}#sk-container-id-32 div.sk-label input.sk-toggleable__control:checked~label.sk-toggleable__label {background-color: #d4ebff;}#sk-container-id-32 input.sk-hidden--visually {border: 0;clip: rect(1px 1px 1px 1px);clip: rect(1px, 1px, 1px, 1px);height: 1px;margin: -1px;overflow: hidden;padding: 0;position: absolute;width: 1px;}#sk-container-id-32 div.sk-estimator {font-family: monospace;background-color: #f0f8ff;border: 1px dotted black;border-radius: 0.25em;box-sizing: border-box;margin-bottom: 0.5em;}#sk-container-id-32 div.sk-estimator:hover {background-color: #d4ebff;}#sk-container-id-32 div.sk-parallel-item::after {content: \"\";width: 100%;border-bottom: 1px solid gray;flex-grow: 1;}#sk-container-id-32 div.sk-label:hover label.sk-toggleable__label {background-color: #d4ebff;}#sk-container-id-32 div.sk-serial::before {content: \"\";position: absolute;border-left: 1px solid gray;box-sizing: border-box;top: 0;bottom: 0;left: 50%;z-index: 0;}#sk-container-id-32 div.sk-serial {display: flex;flex-direction: column;align-items: center;background-color: white;padding-right: 0.2em;padding-left: 0.2em;position: relative;}#sk-container-id-32 div.sk-item {position: relative;z-index: 1;}#sk-container-id-32 div.sk-parallel {display: flex;align-items: stretch;justify-content: center;background-color: white;position: relative;}#sk-container-id-32 div.sk-item::before, #sk-container-id-32 div.sk-parallel-item::before {content: \"\";position: absolute;border-left: 1px solid gray;box-sizing: border-box;top: 0;bottom: 0;left: 50%;z-index: -1;}#sk-container-id-32 div.sk-parallel-item {display: flex;flex-direction: column;z-index: 1;position: relative;background-color: white;}#sk-container-id-32 div.sk-parallel-item:first-child::after {align-self: flex-end;width: 50%;}#sk-container-id-32 div.sk-parallel-item:last-child::after {align-self: flex-start;width: 50%;}#sk-container-id-32 div.sk-parallel-item:only-child::after {width: 0;}#sk-container-id-32 div.sk-dashed-wrapped {border: 1px dashed gray;margin: 0 0.4em 0.5em 0.4em;box-sizing: border-box;padding-bottom: 0.4em;background-color: white;}#sk-container-id-32 div.sk-label label {font-family: monospace;font-weight: bold;display: inline-block;line-height: 1.2em;}#sk-container-id-32 div.sk-label-container {text-align: center;}#sk-container-id-32 div.sk-container {/* jupyter's `normalize.less` sets `[hidden] { display: none; }` but bootstrap.min.css set `[hidden] { display: none !important; }` so we also need the `!important` here to be able to override the default hidden behavior on the sphinx rendered scikit-learn.org. See: https://github.com/scikit-learn/scikit-learn/issues/21755 */display: inline-block !important;position: relative;}#sk-container-id-32 div.sk-text-repr-fallback {display: none;}</style><div id=\"sk-container-id-32\" class=\"sk-top-container\"><div class=\"sk-text-repr-fallback\"><pre>RandomForestClassifier(min_samples_leaf=2, n_estimators=500)</pre><b>In a Jupyter environment, please rerun this cell to show the HTML representation or trust the notebook. <br />On GitHub, the HTML representation is unable to render, please try loading this page with nbviewer.org.</b></div><div class=\"sk-container\" hidden><div class=\"sk-item\"><div class=\"sk-estimator sk-toggleable\"><input class=\"sk-toggleable__control sk-hidden--visually\" id=\"sk-estimator-id-54\" type=\"checkbox\" checked><label for=\"sk-estimator-id-54\" class=\"sk-toggleable__label sk-toggleable__label-arrow\">RandomForestClassifier</label><div class=\"sk-toggleable__content\"><pre>RandomForestClassifier(min_samples_leaf=2, n_estimators=500)</pre></div></div></div></div></div>"
      ],
      "text/plain": [
       "RandomForestClassifier(min_samples_leaf=2, n_estimators=500)"
      ]
     },
     "execution_count": 423,
     "metadata": {},
     "output_type": "execute_result"
    }
   ],
   "source": [
    "# Extrai o melhor modelo\n",
    "mod3.best_estimator_"
   ]
  },
  {
   "cell_type": "markdown",
   "metadata": {},
   "source": [
    "Sendo assim, podemos realizar as predições do modelo baseadas nos dados de teste e avaliar seu desempenho."
   ]
  },
  {
   "cell_type": "code",
   "execution_count": 424,
   "metadata": {},
   "outputs": [],
   "source": [
    "# Previsões em teste\n",
    "y_pred_mod3 = mod3.predict(x_test)\n",
    "\n",
    "# Obtém as previsões em probabilidades\n",
    "y_pred_prob_mod3 = mod3.predict_proba(x_test)"
   ]
  },
  {
   "cell_type": "markdown",
   "metadata": {},
   "source": [
    "Após a etapa previsões do modelo, iniciamos a avaliação do modelo com a matriz de confusão. "
   ]
  },
  {
   "cell_type": "code",
   "execution_count": 425,
   "metadata": {},
   "outputs": [
    {
     "data": {
      "text/plain": [
       "array([[1692,  491,  106],\n",
       "       [ 362, 1874,   53],\n",
       "       [  28,   17, 2244]], dtype=int64)"
      ]
     },
     "execution_count": 425,
     "metadata": {},
     "output_type": "execute_result"
    }
   ],
   "source": [
    "# Matriz de Confusão\n",
    "confusion_matrix(y_test, y_pred_mod3)"
   ]
  },
  {
   "cell_type": "markdown",
   "metadata": {},
   "source": [
    "Podemos observar na matriz de confusão que o modelo de Random Forest, com seu conceito de aprendizagem conjunto de árvores de decisão, obteve um desepenho muito melhor nas classificações, tendo uma diminuição considerável no número de erros de classificação comparado ao modelo anterior com apenas uma árvore de decisão.\n",
    "\n",
    "Vamos calcular a métrica ROC AUC e verificar seu desempenho."
   ]
  },
  {
   "cell_type": "code",
   "execution_count": 426,
   "metadata": {},
   "outputs": [
    {
     "name": "stdout",
     "output_type": "stream",
     "text": [
      "0.9491482777401471\n"
     ]
    }
   ],
   "source": [
    "# Curva ROC nos dados e previsões em teste\n",
    "roc_auc_v3 = roc_auc_score(y_test.values, y_pred_prob_mod3,multi_class = 'ovo')\n",
    "print(roc_auc_v3)"
   ]
  },
  {
   "cell_type": "markdown",
   "metadata": {},
   "source": [
    "Claramente, houve um aumento de desempenho considerável em comparação a outros modelos. A métrica ROC AUC obteve um percentual de aproximandamente 95%.\n",
    "\n",
    "Calculando a acurácia, temos:"
   ]
  },
  {
   "cell_type": "code",
   "execution_count": 427,
   "metadata": {},
   "outputs": [
    {
     "name": "stdout",
     "output_type": "stream",
     "text": [
      "0.8460754332313966\n"
     ]
    }
   ],
   "source": [
    "# Acurácia em teste\n",
    "accuracy_mod3 = accuracy_score(y_test, y_pred_mod3)\n",
    "print(accuracy_mod3)"
   ]
  },
  {
   "cell_type": "markdown",
   "metadata": {},
   "source": [
    "Segundo o valor de acurácia, o modelo de Random Forest é capaz de explicar cerca de 85% da variável target (Severity). Este sem dúvidas é um percentual aceitável para nosso problema de classificação.  "
   ]
  },
  {
   "cell_type": "markdown",
   "metadata": {},
   "source": [
    "#### - FEATURE IMPORTANCE "
   ]
  },
  {
   "cell_type": "markdown",
   "metadata": {},
   "source": [
    "Vamos agora criar o melhor modelo de Random Forest e capturar a informação de variáveis mais relevantes na severidade de acidentes de trânsito.\n",
    "\n",
    "Primeiro, recriamos o modelo, agora com os melhores hiperparâmetros. "
   ]
  },
  {
   "cell_type": "code",
   "execution_count": 428,
   "metadata": {},
   "outputs": [
    {
     "data": {
      "text/html": [
       "<style>#sk-container-id-33 {color: black;background-color: white;}#sk-container-id-33 pre{padding: 0;}#sk-container-id-33 div.sk-toggleable {background-color: white;}#sk-container-id-33 label.sk-toggleable__label {cursor: pointer;display: block;width: 100%;margin-bottom: 0;padding: 0.3em;box-sizing: border-box;text-align: center;}#sk-container-id-33 label.sk-toggleable__label-arrow:before {content: \"▸\";float: left;margin-right: 0.25em;color: #696969;}#sk-container-id-33 label.sk-toggleable__label-arrow:hover:before {color: black;}#sk-container-id-33 div.sk-estimator:hover label.sk-toggleable__label-arrow:before {color: black;}#sk-container-id-33 div.sk-toggleable__content {max-height: 0;max-width: 0;overflow: hidden;text-align: left;background-color: #f0f8ff;}#sk-container-id-33 div.sk-toggleable__content pre {margin: 0.2em;color: black;border-radius: 0.25em;background-color: #f0f8ff;}#sk-container-id-33 input.sk-toggleable__control:checked~div.sk-toggleable__content {max-height: 200px;max-width: 100%;overflow: auto;}#sk-container-id-33 input.sk-toggleable__control:checked~label.sk-toggleable__label-arrow:before {content: \"▾\";}#sk-container-id-33 div.sk-estimator input.sk-toggleable__control:checked~label.sk-toggleable__label {background-color: #d4ebff;}#sk-container-id-33 div.sk-label input.sk-toggleable__control:checked~label.sk-toggleable__label {background-color: #d4ebff;}#sk-container-id-33 input.sk-hidden--visually {border: 0;clip: rect(1px 1px 1px 1px);clip: rect(1px, 1px, 1px, 1px);height: 1px;margin: -1px;overflow: hidden;padding: 0;position: absolute;width: 1px;}#sk-container-id-33 div.sk-estimator {font-family: monospace;background-color: #f0f8ff;border: 1px dotted black;border-radius: 0.25em;box-sizing: border-box;margin-bottom: 0.5em;}#sk-container-id-33 div.sk-estimator:hover {background-color: #d4ebff;}#sk-container-id-33 div.sk-parallel-item::after {content: \"\";width: 100%;border-bottom: 1px solid gray;flex-grow: 1;}#sk-container-id-33 div.sk-label:hover label.sk-toggleable__label {background-color: #d4ebff;}#sk-container-id-33 div.sk-serial::before {content: \"\";position: absolute;border-left: 1px solid gray;box-sizing: border-box;top: 0;bottom: 0;left: 50%;z-index: 0;}#sk-container-id-33 div.sk-serial {display: flex;flex-direction: column;align-items: center;background-color: white;padding-right: 0.2em;padding-left: 0.2em;position: relative;}#sk-container-id-33 div.sk-item {position: relative;z-index: 1;}#sk-container-id-33 div.sk-parallel {display: flex;align-items: stretch;justify-content: center;background-color: white;position: relative;}#sk-container-id-33 div.sk-item::before, #sk-container-id-33 div.sk-parallel-item::before {content: \"\";position: absolute;border-left: 1px solid gray;box-sizing: border-box;top: 0;bottom: 0;left: 50%;z-index: -1;}#sk-container-id-33 div.sk-parallel-item {display: flex;flex-direction: column;z-index: 1;position: relative;background-color: white;}#sk-container-id-33 div.sk-parallel-item:first-child::after {align-self: flex-end;width: 50%;}#sk-container-id-33 div.sk-parallel-item:last-child::after {align-self: flex-start;width: 50%;}#sk-container-id-33 div.sk-parallel-item:only-child::after {width: 0;}#sk-container-id-33 div.sk-dashed-wrapped {border: 1px dashed gray;margin: 0 0.4em 0.5em 0.4em;box-sizing: border-box;padding-bottom: 0.4em;background-color: white;}#sk-container-id-33 div.sk-label label {font-family: monospace;font-weight: bold;display: inline-block;line-height: 1.2em;}#sk-container-id-33 div.sk-label-container {text-align: center;}#sk-container-id-33 div.sk-container {/* jupyter's `normalize.less` sets `[hidden] { display: none; }` but bootstrap.min.css set `[hidden] { display: none !important; }` so we also need the `!important` here to be able to override the default hidden behavior on the sphinx rendered scikit-learn.org. See: https://github.com/scikit-learn/scikit-learn/issues/21755 */display: inline-block !important;position: relative;}#sk-container-id-33 div.sk-text-repr-fallback {display: none;}</style><div id=\"sk-container-id-33\" class=\"sk-top-container\"><div class=\"sk-text-repr-fallback\"><pre>RandomForestClassifier(min_samples_leaf=2, min_samples_split=5,\n",
       "                       n_estimators=400)</pre><b>In a Jupyter environment, please rerun this cell to show the HTML representation or trust the notebook. <br />On GitHub, the HTML representation is unable to render, please try loading this page with nbviewer.org.</b></div><div class=\"sk-container\" hidden><div class=\"sk-item\"><div class=\"sk-estimator sk-toggleable\"><input class=\"sk-toggleable__control sk-hidden--visually\" id=\"sk-estimator-id-55\" type=\"checkbox\" checked><label for=\"sk-estimator-id-55\" class=\"sk-toggleable__label sk-toggleable__label-arrow\">RandomForestClassifier</label><div class=\"sk-toggleable__content\"><pre>RandomForestClassifier(min_samples_leaf=2, min_samples_split=5,\n",
       "                       n_estimators=400)</pre></div></div></div></div></div>"
      ],
      "text/plain": [
       "RandomForestClassifier(min_samples_leaf=2, min_samples_split=5,\n",
       "                       n_estimators=400)"
      ]
     },
     "execution_count": 428,
     "metadata": {},
     "output_type": "execute_result"
    }
   ],
   "source": [
    "# Recria o modelo com os melhores hiperparâmetros\n",
    "mod3 = RandomForestClassifier(n_estimators = 400, min_samples_split = 5, min_samples_leaf = 2)\n",
    "mod3.fit(x_train, y_train)"
   ]
  },
  {
   "cell_type": "markdown",
   "metadata": {},
   "source": [
    "Assim, capturamos o rank de relevância das variáveis no modelo."
   ]
  },
  {
   "cell_type": "code",
   "execution_count": 429,
   "metadata": {},
   "outputs": [
    {
     "name": "stdout",
     "output_type": "stream",
     "text": [
      "Variáveis mais importantes para o resultado do modelo_v2:\n",
      "--------------------------------------------------\n",
      "Hour\n",
      "Day_of_week\n",
      "Driving_experience\n",
      "Area_accident_occured\n",
      "age\n",
      "education\n",
      "Light_conditions\n",
      "Weather_conditions\n",
      "Vehicle_driver_relation\n",
      "road_surface\n",
      "sex\n"
     ]
    }
   ],
   "source": [
    "# Variáveis mais relevantes\n",
    "coef = np.argsort(-mod3.feature_importances_)\n",
    "print(\"Variáveis mais importantes para o resultado do modelo_v2:\")\n",
    "print(50*'-')\n",
    "for feature in X.columns[coef]:\n",
    "    print(feature)"
   ]
  },
  {
   "cell_type": "markdown",
   "metadata": {},
   "source": [
    "Diferentemente dos demais modelos aplicados até aqui, o Random Forest selecionou as variáveis periódicas como mais importantes na explicação da variável target. Isso significa que, segundo o modelo, o dia da semana e o horário do dia possuem grande influência na severidade dos aciedentes de trânsito que ocorrem. Se pensarmos que determinados horários do dia e dias da semana possuem uma maior propensão a acidentes de trânsito, de fato a implicação disto na severidade dos acidentes faz todo sentido. Além disso, mais uma vez a variável 'Sex' aparece como uma das menos relevantes, trazendo a informação de que o gênero do motorista não influencia na gravidades dos acidentes de trânsito. "
   ]
  },
  {
   "cell_type": "markdown",
   "metadata": {},
   "source": [
    "### MODEL 04 - KNN "
   ]
  },
  {
   "cell_type": "markdown",
   "metadata": {},
   "source": [
    "Agora, faremos a aplicação do modelo KNN aos dados. Trata-se de um modelo mais simples, com menor capacidade de classificação comparado aos demais, mas que é comumente usado em casos assim."
   ]
  },
  {
   "cell_type": "markdown",
   "metadata": {},
   "source": [
    "#### - DEFINIÇÃO DE HIPERPARÂMETROS - MELHOR MODELO"
   ]
  },
  {
   "cell_type": "markdown",
   "metadata": {},
   "source": [
    "Como padrão, inciamos com a escolha dos melhores hiperparâmetros pro modelo, que neste caso será o número k de vizinhos a serem considerados."
   ]
  },
  {
   "cell_type": "code",
   "execution_count": 430,
   "metadata": {},
   "outputs": [
    {
     "name": "stdout",
     "output_type": "stream",
     "text": [
      "The ideal value of K is: 1\n"
     ]
    }
   ],
   "source": [
    "# Lista de possíveis valores de K\n",
    "neighbors = list(range(1, 20, 2))\n",
    "\n",
    "# Lista para os scores\n",
    "cv_scores = []\n",
    "\n",
    "# Validação cruzada para determinar o melhor valor de k\n",
    "for k in neighbors:\n",
    "    knn = KNeighborsClassifier(n_neighbors = k)\n",
    "    scores = cross_val_score(knn, x_train, y_train, cv = 5, scoring = 'accuracy')\n",
    "    cv_scores.append(scores.mean())  \n",
    "\n",
    "# Ajustando o erro de classificação\n",
    "error = [1 - x for x in cv_scores]\n",
    "\n",
    "# Determinando o melhor valor de k (com menor erro)\n",
    "optimal_k = neighbors[error.index(min(error))]\n",
    "print('The ideal value of K is: %d' % optimal_k)"
   ]
  },
  {
   "cell_type": "markdown",
   "metadata": {},
   "source": [
    "Após a definição do valor de vizinhos K, podemos iniciar o treinamnto do modelo."
   ]
  },
  {
   "cell_type": "code",
   "execution_count": 431,
   "metadata": {},
   "outputs": [
    {
     "data": {
      "text/html": [
       "<style>#sk-container-id-34 {color: black;background-color: white;}#sk-container-id-34 pre{padding: 0;}#sk-container-id-34 div.sk-toggleable {background-color: white;}#sk-container-id-34 label.sk-toggleable__label {cursor: pointer;display: block;width: 100%;margin-bottom: 0;padding: 0.3em;box-sizing: border-box;text-align: center;}#sk-container-id-34 label.sk-toggleable__label-arrow:before {content: \"▸\";float: left;margin-right: 0.25em;color: #696969;}#sk-container-id-34 label.sk-toggleable__label-arrow:hover:before {color: black;}#sk-container-id-34 div.sk-estimator:hover label.sk-toggleable__label-arrow:before {color: black;}#sk-container-id-34 div.sk-toggleable__content {max-height: 0;max-width: 0;overflow: hidden;text-align: left;background-color: #f0f8ff;}#sk-container-id-34 div.sk-toggleable__content pre {margin: 0.2em;color: black;border-radius: 0.25em;background-color: #f0f8ff;}#sk-container-id-34 input.sk-toggleable__control:checked~div.sk-toggleable__content {max-height: 200px;max-width: 100%;overflow: auto;}#sk-container-id-34 input.sk-toggleable__control:checked~label.sk-toggleable__label-arrow:before {content: \"▾\";}#sk-container-id-34 div.sk-estimator input.sk-toggleable__control:checked~label.sk-toggleable__label {background-color: #d4ebff;}#sk-container-id-34 div.sk-label input.sk-toggleable__control:checked~label.sk-toggleable__label {background-color: #d4ebff;}#sk-container-id-34 input.sk-hidden--visually {border: 0;clip: rect(1px 1px 1px 1px);clip: rect(1px, 1px, 1px, 1px);height: 1px;margin: -1px;overflow: hidden;padding: 0;position: absolute;width: 1px;}#sk-container-id-34 div.sk-estimator {font-family: monospace;background-color: #f0f8ff;border: 1px dotted black;border-radius: 0.25em;box-sizing: border-box;margin-bottom: 0.5em;}#sk-container-id-34 div.sk-estimator:hover {background-color: #d4ebff;}#sk-container-id-34 div.sk-parallel-item::after {content: \"\";width: 100%;border-bottom: 1px solid gray;flex-grow: 1;}#sk-container-id-34 div.sk-label:hover label.sk-toggleable__label {background-color: #d4ebff;}#sk-container-id-34 div.sk-serial::before {content: \"\";position: absolute;border-left: 1px solid gray;box-sizing: border-box;top: 0;bottom: 0;left: 50%;z-index: 0;}#sk-container-id-34 div.sk-serial {display: flex;flex-direction: column;align-items: center;background-color: white;padding-right: 0.2em;padding-left: 0.2em;position: relative;}#sk-container-id-34 div.sk-item {position: relative;z-index: 1;}#sk-container-id-34 div.sk-parallel {display: flex;align-items: stretch;justify-content: center;background-color: white;position: relative;}#sk-container-id-34 div.sk-item::before, #sk-container-id-34 div.sk-parallel-item::before {content: \"\";position: absolute;border-left: 1px solid gray;box-sizing: border-box;top: 0;bottom: 0;left: 50%;z-index: -1;}#sk-container-id-34 div.sk-parallel-item {display: flex;flex-direction: column;z-index: 1;position: relative;background-color: white;}#sk-container-id-34 div.sk-parallel-item:first-child::after {align-self: flex-end;width: 50%;}#sk-container-id-34 div.sk-parallel-item:last-child::after {align-self: flex-start;width: 50%;}#sk-container-id-34 div.sk-parallel-item:only-child::after {width: 0;}#sk-container-id-34 div.sk-dashed-wrapped {border: 1px dashed gray;margin: 0 0.4em 0.5em 0.4em;box-sizing: border-box;padding-bottom: 0.4em;background-color: white;}#sk-container-id-34 div.sk-label label {font-family: monospace;font-weight: bold;display: inline-block;line-height: 1.2em;}#sk-container-id-34 div.sk-label-container {text-align: center;}#sk-container-id-34 div.sk-container {/* jupyter's `normalize.less` sets `[hidden] { display: none; }` but bootstrap.min.css set `[hidden] { display: none !important; }` so we also need the `!important` here to be able to override the default hidden behavior on the sphinx rendered scikit-learn.org. See: https://github.com/scikit-learn/scikit-learn/issues/21755 */display: inline-block !important;position: relative;}#sk-container-id-34 div.sk-text-repr-fallback {display: none;}</style><div id=\"sk-container-id-34\" class=\"sk-top-container\"><div class=\"sk-text-repr-fallback\"><pre>KNeighborsClassifier(n_neighbors=1)</pre><b>In a Jupyter environment, please rerun this cell to show the HTML representation or trust the notebook. <br />On GitHub, the HTML representation is unable to render, please try loading this page with nbviewer.org.</b></div><div class=\"sk-container\" hidden><div class=\"sk-item\"><div class=\"sk-estimator sk-toggleable\"><input class=\"sk-toggleable__control sk-hidden--visually\" id=\"sk-estimator-id-56\" type=\"checkbox\" checked><label for=\"sk-estimator-id-56\" class=\"sk-toggleable__label sk-toggleable__label-arrow\">KNeighborsClassifier</label><div class=\"sk-toggleable__content\"><pre>KNeighborsClassifier(n_neighbors=1)</pre></div></div></div></div></div>"
      ],
      "text/plain": [
       "KNeighborsClassifier(n_neighbors=1)"
      ]
     },
     "execution_count": 431,
     "metadata": {},
     "output_type": "execute_result"
    }
   ],
   "source": [
    "# Criamos o modelo versão 4\n",
    "mod4 = KNeighborsClassifier(n_neighbors = optimal_k)\n",
    "\n",
    "# Treinamento\n",
    "mod4.fit(x_train, y_train)"
   ]
  },
  {
   "cell_type": "markdown",
   "metadata": {},
   "source": [
    "Com o treinamento realizado, seguimos para as previsões do modelo."
   ]
  },
  {
   "cell_type": "code",
   "execution_count": 432,
   "metadata": {},
   "outputs": [],
   "source": [
    "# Previsões\n",
    "y_pred_mod4 = mod4.predict(x_test)\n",
    "\n",
    "# Previsão de probabilidade da classe positiva\n",
    "y_pred_prob_mod4 = mod4.predict_proba(x_test)"
   ]
  },
  {
   "cell_type": "markdown",
   "metadata": {},
   "source": [
    "Após a etapa de previsões, então podemos iniciar a validação de desempenho do modelo, começando pela matriz de confusão."
   ]
  },
  {
   "cell_type": "code",
   "execution_count": 433,
   "metadata": {},
   "outputs": [
    {
     "data": {
      "text/plain": [
       "array([[1453,  658,  178],\n",
       "       [ 273, 1970,   46],\n",
       "       [  40,   60, 2189]], dtype=int64)"
      ]
     },
     "execution_count": 433,
     "metadata": {},
     "output_type": "execute_result"
    }
   ],
   "source": [
    "# Confusion Matrix\n",
    "confusion_matrix(y_test, y_pred_mod4)"
   ]
  },
  {
   "cell_type": "markdown",
   "metadata": {},
   "source": [
    "Podemos verificar que, apesar de possuir um conceito mais simples na classificação, o modelo de KNN obteve um bom desempenho, tenho baixa quantidade de erros de classificação.\n",
    "\n",
    "Assim, calculando a medida ROC AUC:"
   ]
  },
  {
   "cell_type": "code",
   "execution_count": 434,
   "metadata": {},
   "outputs": [
    {
     "name": "stdout",
     "output_type": "stream",
     "text": [
      "0.8629314110965488\n"
     ]
    }
   ],
   "source": [
    "# Calcula ROC_AUC em teste\n",
    "roc_auc_v4 = roc_auc_score(y_test.values, y_pred_prob_mod4,multi_class = 'ovo')\n",
    "print(roc_auc_v4)"
   ]
  },
  {
   "cell_type": "markdown",
   "metadata": {},
   "source": [
    "O modelo obteve um valor satisfatório de desempenho na métrica ROC AUC, com aproximadamente 86%.\n",
    "\n",
    "Por fim, calculamos a acurácia do modelo."
   ]
  },
  {
   "cell_type": "code",
   "execution_count": 435,
   "metadata": {},
   "outputs": [
    {
     "name": "stdout",
     "output_type": "stream",
     "text": [
      "0.817241881462065\n"
     ]
    }
   ],
   "source": [
    "# Calcula acurácia\n",
    "accuracy_mod4 = accuracy_score(y_test, y_pred_mod4)\n",
    "print(accuracy_mod4)"
   ]
  },
  {
   "cell_type": "markdown",
   "metadata": {},
   "source": [
    "O modelo KNN obteve, assim como na métrica ROC AUC, percentual satisfatório. A acurária do modelo informa que o KNN tem a capacidade de classificar corretamente 81% das informações, o que é um desempenho considerado satisfatório para nosso caso de estudo."
   ]
  },
  {
   "cell_type": "markdown",
   "metadata": {},
   "source": [
    "Observação: Com o algoritmo KNN não extraímos as variáveis mais importantes, pois o conceito do algoritmo é diferente."
   ]
  },
  {
   "cell_type": "markdown",
   "metadata": {},
   "source": [
    "### MODEL 05 - SVM "
   ]
  },
  {
   "cell_type": "markdown",
   "metadata": {},
   "source": [
    "Seguindo para nosso último modelo, utilizaremos o SVM, um poderoso algoritmo de classificação. O SVM é um algoritmo que busca uma linha de separação entre duas classes distintas analisando os dois pontos, um de cada grupo, mais próximos da outra classe.\n",
    "\n",
    "Observação: Por ser um poderoso algoritmo, seu tempo de processamento pode ser elevado."
   ]
  },
  {
   "cell_type": "markdown",
   "metadata": {},
   "source": [
    "#### - DEFINIÇÃO DE HIPERPARÂMETROS - MELHOR MODELO"
   ]
  },
  {
   "cell_type": "markdown",
   "metadata": {},
   "source": [
    "Como padrão, iniciamos a aplicação do modelo com a definição dos hiperparâmetros."
   ]
  },
  {
   "cell_type": "code",
   "execution_count": 436,
   "metadata": {},
   "outputs": [
    {
     "data": {
      "text/plain": [
       "{'C': 1, 'gamma': 1}"
      ]
     },
     "execution_count": 436,
     "metadata": {},
     "output_type": "execute_result"
    }
   ],
   "source": [
    "# Função para seleção de hiperparâmetros\n",
    "def svc_param_selection(X, y, nfolds):\n",
    "    Cs = [0.001, 0.01, 0.1, 1]\n",
    "    gammas = [0.001, 0.01, 0.1, 1]\n",
    "    param_grid = {'C': Cs, 'gamma' : gammas}\n",
    "    grid_search = GridSearchCV(SVC(kernel = 'rbf'), param_grid, cv = nfolds)\n",
    "    grid_search.fit(x_train, y_train)\n",
    "    grid_search.best_params_\n",
    "    return grid_search.best_params_\n",
    "\n",
    "# Aplica a função\n",
    "svc_param_selection(x_train, y_train, 5)"
   ]
  },
  {
   "cell_type": "markdown",
   "metadata": {},
   "source": [
    "Com a definição dos hiperparâmetros, podemos proseeguir com a criação do melhor modelo."
   ]
  },
  {
   "cell_type": "code",
   "execution_count": 439,
   "metadata": {},
   "outputs": [],
   "source": [
    "# Cria o modelo com os melhores hiperparâmetros\n",
    "mod5 = SVC(C = 1, gamma = 1, probability = True)"
   ]
  },
  {
   "cell_type": "markdown",
   "metadata": {},
   "source": [
    "Após a criação do melhor modelo, podemos então realizar o treinamento."
   ]
  },
  {
   "cell_type": "code",
   "execution_count": 440,
   "metadata": {},
   "outputs": [
    {
     "data": {
      "text/html": [
       "<style>#sk-container-id-36 {color: black;background-color: white;}#sk-container-id-36 pre{padding: 0;}#sk-container-id-36 div.sk-toggleable {background-color: white;}#sk-container-id-36 label.sk-toggleable__label {cursor: pointer;display: block;width: 100%;margin-bottom: 0;padding: 0.3em;box-sizing: border-box;text-align: center;}#sk-container-id-36 label.sk-toggleable__label-arrow:before {content: \"▸\";float: left;margin-right: 0.25em;color: #696969;}#sk-container-id-36 label.sk-toggleable__label-arrow:hover:before {color: black;}#sk-container-id-36 div.sk-estimator:hover label.sk-toggleable__label-arrow:before {color: black;}#sk-container-id-36 div.sk-toggleable__content {max-height: 0;max-width: 0;overflow: hidden;text-align: left;background-color: #f0f8ff;}#sk-container-id-36 div.sk-toggleable__content pre {margin: 0.2em;color: black;border-radius: 0.25em;background-color: #f0f8ff;}#sk-container-id-36 input.sk-toggleable__control:checked~div.sk-toggleable__content {max-height: 200px;max-width: 100%;overflow: auto;}#sk-container-id-36 input.sk-toggleable__control:checked~label.sk-toggleable__label-arrow:before {content: \"▾\";}#sk-container-id-36 div.sk-estimator input.sk-toggleable__control:checked~label.sk-toggleable__label {background-color: #d4ebff;}#sk-container-id-36 div.sk-label input.sk-toggleable__control:checked~label.sk-toggleable__label {background-color: #d4ebff;}#sk-container-id-36 input.sk-hidden--visually {border: 0;clip: rect(1px 1px 1px 1px);clip: rect(1px, 1px, 1px, 1px);height: 1px;margin: -1px;overflow: hidden;padding: 0;position: absolute;width: 1px;}#sk-container-id-36 div.sk-estimator {font-family: monospace;background-color: #f0f8ff;border: 1px dotted black;border-radius: 0.25em;box-sizing: border-box;margin-bottom: 0.5em;}#sk-container-id-36 div.sk-estimator:hover {background-color: #d4ebff;}#sk-container-id-36 div.sk-parallel-item::after {content: \"\";width: 100%;border-bottom: 1px solid gray;flex-grow: 1;}#sk-container-id-36 div.sk-label:hover label.sk-toggleable__label {background-color: #d4ebff;}#sk-container-id-36 div.sk-serial::before {content: \"\";position: absolute;border-left: 1px solid gray;box-sizing: border-box;top: 0;bottom: 0;left: 50%;z-index: 0;}#sk-container-id-36 div.sk-serial {display: flex;flex-direction: column;align-items: center;background-color: white;padding-right: 0.2em;padding-left: 0.2em;position: relative;}#sk-container-id-36 div.sk-item {position: relative;z-index: 1;}#sk-container-id-36 div.sk-parallel {display: flex;align-items: stretch;justify-content: center;background-color: white;position: relative;}#sk-container-id-36 div.sk-item::before, #sk-container-id-36 div.sk-parallel-item::before {content: \"\";position: absolute;border-left: 1px solid gray;box-sizing: border-box;top: 0;bottom: 0;left: 50%;z-index: -1;}#sk-container-id-36 div.sk-parallel-item {display: flex;flex-direction: column;z-index: 1;position: relative;background-color: white;}#sk-container-id-36 div.sk-parallel-item:first-child::after {align-self: flex-end;width: 50%;}#sk-container-id-36 div.sk-parallel-item:last-child::after {align-self: flex-start;width: 50%;}#sk-container-id-36 div.sk-parallel-item:only-child::after {width: 0;}#sk-container-id-36 div.sk-dashed-wrapped {border: 1px dashed gray;margin: 0 0.4em 0.5em 0.4em;box-sizing: border-box;padding-bottom: 0.4em;background-color: white;}#sk-container-id-36 div.sk-label label {font-family: monospace;font-weight: bold;display: inline-block;line-height: 1.2em;}#sk-container-id-36 div.sk-label-container {text-align: center;}#sk-container-id-36 div.sk-container {/* jupyter's `normalize.less` sets `[hidden] { display: none; }` but bootstrap.min.css set `[hidden] { display: none !important; }` so we also need the `!important` here to be able to override the default hidden behavior on the sphinx rendered scikit-learn.org. See: https://github.com/scikit-learn/scikit-learn/issues/21755 */display: inline-block !important;position: relative;}#sk-container-id-36 div.sk-text-repr-fallback {display: none;}</style><div id=\"sk-container-id-36\" class=\"sk-top-container\"><div class=\"sk-text-repr-fallback\"><pre>SVC(C=1, gamma=1, probability=True)</pre><b>In a Jupyter environment, please rerun this cell to show the HTML representation or trust the notebook. <br />On GitHub, the HTML representation is unable to render, please try loading this page with nbviewer.org.</b></div><div class=\"sk-container\" hidden><div class=\"sk-item\"><div class=\"sk-estimator sk-toggleable\"><input class=\"sk-toggleable__control sk-hidden--visually\" id=\"sk-estimator-id-58\" type=\"checkbox\" checked><label for=\"sk-estimator-id-58\" class=\"sk-toggleable__label sk-toggleable__label-arrow\">SVC</label><div class=\"sk-toggleable__content\"><pre>SVC(C=1, gamma=1, probability=True)</pre></div></div></div></div></div>"
      ],
      "text/plain": [
       "SVC(C=1, gamma=1, probability=True)"
      ]
     },
     "execution_count": 440,
     "metadata": {},
     "output_type": "execute_result"
    }
   ],
   "source": [
    "# Treinamento\n",
    "mod5.fit(x_train, y_train)"
   ]
  },
  {
   "cell_type": "markdown",
   "metadata": {},
   "source": [
    "Com o treinamento realizado, como padrão nossa próxima etapa é a de previsão das classes."
   ]
  },
  {
   "cell_type": "code",
   "execution_count": 441,
   "metadata": {},
   "outputs": [],
   "source": [
    "# Previsões de classe\n",
    "y_pred_mod5 = mod5.predict(x_test)\n",
    "\n",
    "# Previsões de probabilidade\n",
    "y_pred_prob_mod5 = mod5.predict_proba(x_test)"
   ]
  },
  {
   "cell_type": "markdown",
   "metadata": {},
   "source": [
    "Com as previsões realizadas, podemos então iniciar a etapa de avaliação de desempenho do modelo.\n",
    "\n",
    "Incialmente, calculamos a matriz de confusão."
   ]
  },
  {
   "cell_type": "code",
   "execution_count": 442,
   "metadata": {},
   "outputs": [
    {
     "data": {
      "text/plain": [
       "array([[1921,  320,   48],\n",
       "       [ 489, 1769,   31],\n",
       "       [  53,   11, 2225]], dtype=int64)"
      ]
     },
     "execution_count": 442,
     "metadata": {},
     "output_type": "execute_result"
    }
   ],
   "source": [
    "confusion_matrix(y_test, y_pred_mod5)"
   ]
  },
  {
   "cell_type": "markdown",
   "metadata": {},
   "source": [
    "Podemos observar que, baseando-se pelo vetor diagonal de acertos do modelos, o modelo SVM também obteve baixa quantidade de erros de classificação, dando indícios de que o algoritmo adequou-se bem aos dados.\n",
    "\n",
    "Calculamos então a métrica ROC AUC."
   ]
  },
  {
   "cell_type": "code",
   "execution_count": 443,
   "metadata": {},
   "outputs": [
    {
     "name": "stdout",
     "output_type": "stream",
     "text": [
      "0.9501264205894647\n"
     ]
    }
   ],
   "source": [
    "# Calcula ROC AUC score\n",
    "roc_auc_v5 = roc_auc_score(y_test.values, y_pred_prob_mod5,multi_class = 'ovo')\n",
    "print(roc_auc_v5)"
   ]
  },
  {
   "cell_type": "markdown",
   "metadata": {},
   "source": [
    "Com a métrica ROC AUC, podemos observar o excelente desempenho do modelo SVM na classificação das classes de severidade de aciendes de trânsito, com percentual de aproximadamente 95%.\n",
    "\n",
    "Por fim, calculamos a acurácia do modelo."
   ]
  },
  {
   "cell_type": "code",
   "execution_count": 444,
   "metadata": {},
   "outputs": [
    {
     "name": "stdout",
     "output_type": "stream",
     "text": [
      "0.8613659531090724\n"
     ]
    }
   ],
   "source": [
    "# Calcula acurácia\n",
    "accuracy_mod5 = accuracy_score(y_test, y_pred_mod5)\n",
    "print(accuracy_mod5)"
   ]
  },
  {
   "cell_type": "markdown",
   "metadata": {},
   "source": [
    "A acurácia do modelo também nos mostra o bom desempenho do SVM na classificação, informando que o modelo tem a capcidade de classificar corretamente 86% das informações do nível de severidade em aciendentes de trânsito.\n",
    "\n",
    "Observação: Assim como o KNN, no SVM também não obtemos importância das variáveis, pois seu conceito difere deste objetivo. "
   ]
  },
  {
   "cell_type": "markdown",
   "metadata": {},
   "source": [
    "### COMPARAÇÃO DE MODELOS"
   ]
  },
  {
   "cell_type": "markdown",
   "metadata": {},
   "source": [
    "Realizaremos agora a comparação dos modelos, comparando suas métricas a fim de decidir o melhor modelo e assim, com base em seu resultados, tirar as conclusões necessárias.\n",
    "\n",
    "Abaixo, apresentaremos uma tabela com os resultados dos modelos>"
   ]
  },
  {
   "cell_type": "code",
   "execution_count": 445,
   "metadata": {},
   "outputs": [
    {
     "data": {
      "text/html": [
       "<div>\n",
       "<style scoped>\n",
       "    .dataframe tbody tr th:only-of-type {\n",
       "        vertical-align: middle;\n",
       "    }\n",
       "\n",
       "    .dataframe tbody tr th {\n",
       "        vertical-align: top;\n",
       "    }\n",
       "\n",
       "    .dataframe thead th {\n",
       "        text-align: right;\n",
       "    }\n",
       "</style>\n",
       "<table border=\"1\" class=\"dataframe\">\n",
       "  <thead>\n",
       "    <tr style=\"text-align: right;\">\n",
       "      <th></th>\n",
       "      <th>Name</th>\n",
       "      <th>Algorithm</th>\n",
       "      <th>ROC_AUC Score</th>\n",
       "      <th>Accuracy</th>\n",
       "    </tr>\n",
       "  </thead>\n",
       "  <tbody>\n",
       "    <tr>\n",
       "      <th>0</th>\n",
       "      <td>Model 01</td>\n",
       "      <td>Logistic Regression</td>\n",
       "      <td>0.625582</td>\n",
       "      <td>0.439639</td>\n",
       "    </tr>\n",
       "    <tr>\n",
       "      <th>1</th>\n",
       "      <td>Model 02</td>\n",
       "      <td>Decision Tree</td>\n",
       "      <td>0.700001</td>\n",
       "      <td>0.506772</td>\n",
       "    </tr>\n",
       "    <tr>\n",
       "      <th>2</th>\n",
       "      <td>Model 03</td>\n",
       "      <td>Random Forest</td>\n",
       "      <td>0.949148</td>\n",
       "      <td>0.846075</td>\n",
       "    </tr>\n",
       "    <tr>\n",
       "      <th>3</th>\n",
       "      <td>Model 04</td>\n",
       "      <td>KNN</td>\n",
       "      <td>0.862931</td>\n",
       "      <td>0.817242</td>\n",
       "    </tr>\n",
       "    <tr>\n",
       "      <th>4</th>\n",
       "      <td>Model 05</td>\n",
       "      <td>SVM</td>\n",
       "      <td>0.950126</td>\n",
       "      <td>0.861366</td>\n",
       "    </tr>\n",
       "  </tbody>\n",
       "</table>\n",
       "</div>"
      ],
      "text/plain": [
       "       Name            Algorithm  ROC_AUC Score  Accuracy\n",
       "0  Model 01  Logistic Regression       0.625582  0.439639\n",
       "1  Model 02        Decision Tree       0.700001  0.506772\n",
       "2  Model 03        Random Forest       0.949148  0.846075\n",
       "3  Model 04                  KNN       0.862931  0.817242\n",
       "4  Model 05                  SVM       0.950126  0.861366"
      ]
     },
     "execution_count": 445,
     "metadata": {},
     "output_type": "execute_result"
    }
   ],
   "source": [
    "# Cria um dataframe para receber as métricas de cada modelo\n",
    "df_models = pd.DataFrame()\n",
    "\n",
    "# Dicionário com as métricas do modelo_v1\n",
    "dict_mod1 = {'Name': 'Model 01', \n",
    "                  'Algorithm': 'Logistic Regression', \n",
    "                  'ROC_AUC Score': roc_auc_v1,\n",
    "                  'Accuracy': accuracy_mod1}\n",
    "\n",
    "# Dicionário com as métricas do modelo_v2\n",
    "dict_mod2 = {'Name': 'Model 02', \n",
    "                  'Algorithm': 'Decision Tree', \n",
    "                  'ROC_AUC Score': roc_auc_v2,\n",
    "                  'Accuracy': accuracy_mod2}\n",
    "\n",
    "# Dicionário com as métricas do modelo_v2\n",
    "dict_mod3 = {'Name': 'Model 03', \n",
    "                  'Algorithm': 'Random Forest', \n",
    "                  'ROC_AUC Score': roc_auc_v3,\n",
    "                  'Accuracy': accuracy_mod3}\n",
    "\n",
    "# Dicionário com as métricas do modelo_v4\n",
    "dict_mod4 = {'Name': 'Model 04', \n",
    "                  'Algorithm': 'KNN', \n",
    "                  'ROC_AUC Score': roc_auc_v4,\n",
    "                  'Accuracy': accuracy_mod4}\n",
    "\n",
    "# Dicionário com as métricas do modelo_v5\n",
    "dict_mod5 = {'Name': 'Model 05', \n",
    "                  'Algorithm': 'SVM', \n",
    "                  'ROC_AUC Score': roc_auc_v5,\n",
    "                  'Accuracy': accuracy_mod5}\n",
    "\n",
    "# Adiciona o dict ao dataframe\n",
    "df_models = df_models.append([dict_mod1,dict_mod2,dict_mod3,dict_mod4,dict_mod5], ignore_index = True)\n",
    "df_models"
   ]
  },
  {
   "cell_type": "markdown",
   "metadata": {},
   "source": [
    "A tabela acima mostra os resultados dos 5 testes aplicados com o objetivo de classificar o nível de severidade de acidentes de trânsito e, assim, definir as variáveis mais releantes para explicar este nível de severidade. As métricas apresentadas acima são a ROC AUC Score e Accuracy. A métrica Accuracy é comumente usada em casos onde é necessário escolher um melhor modelo. No entanto, é indicado o uso desta métrica apenas em caso onde o algoritmo de Machine Learning é o mesmo, sendo avaliado apenas versões diferentes do modelo. Neste caso, estamos avaliando modelos diferente em algoritmos diferentes. Por este motivo, o mais indicado é o uso da métrica ROC AUC nesta decisão, e a Accuracy será utilizada apenas como métrica de apoio para a decisão final.\n",
    "\n",
    "Podemos obervar que, dentre os modelos propostos, dois modelos obtiveram desempenhos abaixo do esperado. Os modelos de Logistic Regression e Decision Tree não conseguiram alcançar valores consideravelmente aceitáiveis para o estudo, obtendo valores de ROC AUC abaixo de 70%. \n",
    "\n",
    "Três modelos distintos obtiveram bons desempenhos, segundo a métrica ROC AUC. Dois deles, o Random Forest e o SVM, obtiveram desempenhos superiores e se adequaram bem aos dados e ao problema de classificação. Com valors de ROC AUC muito próximas, podemos observar que os valores de acurácia também são muito semelhantes, ou seja, a capacidade dos modelos de classificar corretamente as classes de severidade em acidentes de trânsito é acima de 85%. Mesmo sendo um algoritmo extremamente poderoso, o SVM foi escolhido neste estudo apenas como forma de comparação de desempenhos, porém seu conceito não permite a definição do rank de variáveis relevantes para explicar a variável target. Sendo assim, o modelo escolhido como base para nossas conclusões é o modelo Random Forest.\n",
    "\n"
   ]
  },
  {
   "cell_type": "markdown",
   "metadata": {},
   "source": [
    "## Clusterização de Motoristas Envolvidos em Acidentes de Trânsito com Lesão Fatal"
   ]
  },
  {
   "cell_type": "markdown",
   "metadata": {},
   "source": [
    "Com todos os problemas citados introdutoriamente a respeito dos acidentes de trânsito ao redor do mundo, é de extrema importância identificar os perfis destes acidentes com a finalidade da tomada de medidas preventivas. Por este motivo, nesta etapa executaremos o estudo de clusterização nos dados, especificamente em acidentes com maior severidade, ou seja, acidentes que levam as vítimas ao óbito. Acreditamos que, identificando estes perfis, será possível propor soluções de medidas preventivas a esses casos. \n",
    "\n",
    "Para este estudo, utilizaremos como base o estudo anterior que, com a escolha do Random Forest como melhor modelo, retornou um rank ds variáveis mais influentes na severidade de aciendes de trânsito. O rank de variáveis retornado foi:\n",
    "\n",
    "1) Hour\n",
    "2) Day_of_week\n",
    "3) Driving_experience\n",
    "4) Area_accident_occured\n",
    "5) age\n",
    "6) education\n",
    "7) Light_conditions\n",
    "8) Weather_conditions\n",
    "9) Vehicle_driver_relation\n",
    "10) road_surface\n",
    "11) sex\n",
    "\n",
    "Sendo assim, decidimos por não considerar as três últimas variáveis do rank, são elas\n",
    "\n",
    "- Vehicle_driver_relation\n",
    "- road_surface\n",
    "- sex\n",
    "\n",
    "Feitas as definições, podemos iniciar o estudo de clusterização."
   ]
  },
  {
   "cell_type": "markdown",
   "metadata": {},
   "source": [
    "#### - Transformação de Dados\n",
    "\n",
    "Inicialmente, precisamos realizar algumas transformações nos dados. Como estamos trabalhando com dados categóricos, algumas variáveis possuem mais de duas classes. O algoritmo K-Means, que será utilizado neste estudo, tem como pré-requisito utilizar variáveis binárias para a análise. Desta forma, transformaremos nossas variáveis em formato binário. Sendo assim:"
   ]
  },
  {
   "cell_type": "code",
   "execution_count": 332,
   "metadata": {},
   "outputs": [],
   "source": [
    "amostra = dd_res[['Hour']]\n",
    "teste = pd.get_dummies(dd_res[dd_res.columns[1]],prefix = dd_res.columns[1]);amostra = amostra.join(teste)\n",
    "teste = pd.get_dummies(dd_res[dd_res.columns[2]],prefix = dd_res.columns[2]);amostra = amostra.join(teste)\n",
    "teste = pd.get_dummies(dd_res[dd_res.columns[4]],prefix = dd_res.columns[4]);amostra = amostra.join(teste)\n",
    "teste = pd.get_dummies(dd_res[dd_res.columns[6]],prefix = dd_res.columns[6]);amostra = amostra.join(teste)\n",
    "teste = pd.get_dummies(dd_res[dd_res.columns[7]],prefix = dd_res.columns[7]);amostra = amostra.join(teste)\n",
    "teste = pd.get_dummies(dd_res[dd_res.columns[9]],prefix = dd_res.columns[9]);amostra = amostra.join(teste)\n",
    "teste = pd.get_dummies(dd_res[dd_res.columns[10]],prefix = dd_res.columns[10]);amostra = amostra.join(teste)\n",
    "amostra[['severity']] = dd_res[['severity']]\n",
    "\n"
   ]
  },
  {
   "cell_type": "markdown",
   "metadata": {},
   "source": [
    "Como podemos ver, nossa base de dados foi modificada e agora possuímos as mesmas variáveis, porém com outra formatação. Todos os valores agora são binários, com exceção da variável 'Hour', que por já ser númérica, não necessitou de tal transformação."
   ]
  },
  {
   "cell_type": "code",
   "execution_count": 334,
   "metadata": {},
   "outputs": [],
   "source": [
    "names = ['Hour','Sunday','Monday','Tuesday','Wednesday','Thursday','Friday','Saturday','Under 18','18-30','31-50','Over 51','Illiterate','Writing & reading',\n",
    "'Elementary school','Junior high school','High school','Above high school','No Licence','Below 1yr','1-2yr','2-5yr','5-10yr','Above 10yr','Residential areas',\n",
    "'Office areas','  Recreational areas',' Industrial areas',' Church areas','  Market areas','Rural village areas',' Outside rural areas',' Hospital areas',\n",
    "'School areas','Rural village areasOffice areas','Recreational areas','Other','Darkness - no lighting','Darkness - lights unlit','Darkness - lights lit','Daylight',\n",
    "'Normal','Fog or mist','Cloudy','Windy','Raining','Raining and Windy','Snow','Other','severity']"
   ]
  },
  {
   "cell_type": "code",
   "execution_count": 335,
   "metadata": {},
   "outputs": [
    {
     "data": {
      "text/plain": [
       "Index(['Hour', 'Sunday', 'Monday', 'Tuesday', 'Wednesday', 'Thursday',\n",
       "       'Friday', 'Saturday', 'Under 18', '18-30', '31-50', 'Over 51',\n",
       "       'Illiterate', 'Writing & reading', 'Elementary school',\n",
       "       'Junior high school', 'High school', 'Above high school', 'No Licence',\n",
       "       'Below 1yr', '1-2yr', '2-5yr', '5-10yr', 'Above 10yr',\n",
       "       'Residential areas', 'Office areas', '  Recreational areas',\n",
       "       ' Industrial areas', ' Church areas', '  Market areas',\n",
       "       'Rural village areas', ' Outside rural areas', ' Hospital areas',\n",
       "       'School areas', 'Rural village areasOffice areas', 'Recreational areas',\n",
       "       'Other', 'Darkness - no lighting', 'Darkness - lights unlit',\n",
       "       'Darkness - lights lit', 'Daylight', 'Normal', 'Fog or mist', 'Cloudy',\n",
       "       'Windy', 'Raining', 'Raining and Windy', 'Snow', 'Other', 'severity'],\n",
       "      dtype='object')"
      ]
     },
     "execution_count": 335,
     "metadata": {},
     "output_type": "execute_result"
    }
   ],
   "source": [
    "amostra.columns = names\n",
    "amostra.columns"
   ]
  },
  {
   "cell_type": "markdown",
   "metadata": {},
   "source": [
    "Abaixo a visualização de como foi transformada a base de dados."
   ]
  },
  {
   "cell_type": "code",
   "execution_count": 336,
   "metadata": {},
   "outputs": [
    {
     "data": {
      "text/html": [
       "<div>\n",
       "<style scoped>\n",
       "    .dataframe tbody tr th:only-of-type {\n",
       "        vertical-align: middle;\n",
       "    }\n",
       "\n",
       "    .dataframe tbody tr th {\n",
       "        vertical-align: top;\n",
       "    }\n",
       "\n",
       "    .dataframe thead th {\n",
       "        text-align: right;\n",
       "    }\n",
       "</style>\n",
       "<table border=\"1\" class=\"dataframe\">\n",
       "  <thead>\n",
       "    <tr style=\"text-align: right;\">\n",
       "      <th></th>\n",
       "      <th>Hour</th>\n",
       "      <th>Sunday</th>\n",
       "      <th>Monday</th>\n",
       "      <th>Tuesday</th>\n",
       "      <th>Wednesday</th>\n",
       "      <th>Thursday</th>\n",
       "      <th>Friday</th>\n",
       "      <th>Saturday</th>\n",
       "      <th>Under 18</th>\n",
       "      <th>18-30</th>\n",
       "      <th>...</th>\n",
       "      <th>Daylight</th>\n",
       "      <th>Normal</th>\n",
       "      <th>Fog or mist</th>\n",
       "      <th>Cloudy</th>\n",
       "      <th>Windy</th>\n",
       "      <th>Raining</th>\n",
       "      <th>Raining and Windy</th>\n",
       "      <th>Snow</th>\n",
       "      <th>Other</th>\n",
       "      <th>severity</th>\n",
       "    </tr>\n",
       "  </thead>\n",
       "  <tbody>\n",
       "    <tr>\n",
       "      <th>0</th>\n",
       "      <td>17</td>\n",
       "      <td>0</td>\n",
       "      <td>1</td>\n",
       "      <td>0</td>\n",
       "      <td>0</td>\n",
       "      <td>0</td>\n",
       "      <td>0</td>\n",
       "      <td>0</td>\n",
       "      <td>0</td>\n",
       "      <td>1</td>\n",
       "      <td>...</td>\n",
       "      <td>1</td>\n",
       "      <td>0</td>\n",
       "      <td>1</td>\n",
       "      <td>0</td>\n",
       "      <td>0</td>\n",
       "      <td>0</td>\n",
       "      <td>0</td>\n",
       "      <td>0</td>\n",
       "      <td>0</td>\n",
       "      <td>1</td>\n",
       "    </tr>\n",
       "    <tr>\n",
       "      <th>1</th>\n",
       "      <td>17</td>\n",
       "      <td>0</td>\n",
       "      <td>1</td>\n",
       "      <td>0</td>\n",
       "      <td>0</td>\n",
       "      <td>0</td>\n",
       "      <td>0</td>\n",
       "      <td>0</td>\n",
       "      <td>0</td>\n",
       "      <td>0</td>\n",
       "      <td>...</td>\n",
       "      <td>1</td>\n",
       "      <td>0</td>\n",
       "      <td>1</td>\n",
       "      <td>0</td>\n",
       "      <td>0</td>\n",
       "      <td>0</td>\n",
       "      <td>0</td>\n",
       "      <td>0</td>\n",
       "      <td>0</td>\n",
       "      <td>1</td>\n",
       "    </tr>\n",
       "    <tr>\n",
       "      <th>2</th>\n",
       "      <td>17</td>\n",
       "      <td>0</td>\n",
       "      <td>1</td>\n",
       "      <td>0</td>\n",
       "      <td>0</td>\n",
       "      <td>0</td>\n",
       "      <td>0</td>\n",
       "      <td>0</td>\n",
       "      <td>0</td>\n",
       "      <td>1</td>\n",
       "      <td>...</td>\n",
       "      <td>1</td>\n",
       "      <td>0</td>\n",
       "      <td>1</td>\n",
       "      <td>0</td>\n",
       "      <td>0</td>\n",
       "      <td>0</td>\n",
       "      <td>0</td>\n",
       "      <td>0</td>\n",
       "      <td>0</td>\n",
       "      <td>2</td>\n",
       "    </tr>\n",
       "    <tr>\n",
       "      <th>3</th>\n",
       "      <td>1</td>\n",
       "      <td>1</td>\n",
       "      <td>0</td>\n",
       "      <td>0</td>\n",
       "      <td>0</td>\n",
       "      <td>0</td>\n",
       "      <td>0</td>\n",
       "      <td>0</td>\n",
       "      <td>0</td>\n",
       "      <td>1</td>\n",
       "      <td>...</td>\n",
       "      <td>0</td>\n",
       "      <td>0</td>\n",
       "      <td>1</td>\n",
       "      <td>0</td>\n",
       "      <td>0</td>\n",
       "      <td>0</td>\n",
       "      <td>0</td>\n",
       "      <td>0</td>\n",
       "      <td>0</td>\n",
       "      <td>1</td>\n",
       "    </tr>\n",
       "    <tr>\n",
       "      <th>4</th>\n",
       "      <td>1</td>\n",
       "      <td>1</td>\n",
       "      <td>0</td>\n",
       "      <td>0</td>\n",
       "      <td>0</td>\n",
       "      <td>0</td>\n",
       "      <td>0</td>\n",
       "      <td>0</td>\n",
       "      <td>0</td>\n",
       "      <td>1</td>\n",
       "      <td>...</td>\n",
       "      <td>0</td>\n",
       "      <td>0</td>\n",
       "      <td>1</td>\n",
       "      <td>0</td>\n",
       "      <td>0</td>\n",
       "      <td>0</td>\n",
       "      <td>0</td>\n",
       "      <td>0</td>\n",
       "      <td>0</td>\n",
       "      <td>1</td>\n",
       "    </tr>\n",
       "  </tbody>\n",
       "</table>\n",
       "<p>5 rows × 50 columns</p>\n",
       "</div>"
      ],
      "text/plain": [
       "   Hour  Sunday  Monday  Tuesday  Wednesday  Thursday  Friday  Saturday  \\\n",
       "0    17       0       1        0          0         0       0         0   \n",
       "1    17       0       1        0          0         0       0         0   \n",
       "2    17       0       1        0          0         0       0         0   \n",
       "3     1       1       0        0          0         0       0         0   \n",
       "4     1       1       0        0          0         0       0         0   \n",
       "\n",
       "   Under 18  18-30  ...  Daylight  Normal  Fog or mist  Cloudy  Windy  \\\n",
       "0         0      1  ...         1       0            1       0      0   \n",
       "1         0      0  ...         1       0            1       0      0   \n",
       "2         0      1  ...         1       0            1       0      0   \n",
       "3         0      1  ...         0       0            1       0      0   \n",
       "4         0      1  ...         0       0            1       0      0   \n",
       "\n",
       "   Raining  Raining and Windy  Snow  Other  severity  \n",
       "0        0                  0     0      0         1  \n",
       "1        0                  0     0      0         1  \n",
       "2        0                  0     0      0         2  \n",
       "3        0                  0     0      0         1  \n",
       "4        0                  0     0      0         1  \n",
       "\n",
       "[5 rows x 50 columns]"
      ]
     },
     "execution_count": 336,
     "metadata": {},
     "output_type": "execute_result"
    }
   ],
   "source": [
    "amostra.head()"
   ]
  },
  {
   "cell_type": "markdown",
   "metadata": {},
   "source": [
    "Em seguida, precisamos filtrar apenas por casos de acidentes de severidade nível 3, ou seja, casos onde o acidente de trânsito resultou no óbito. "
   ]
  },
  {
   "cell_type": "code",
   "execution_count": 337,
   "metadata": {},
   "outputs": [
    {
     "data": {
      "text/html": [
       "<div>\n",
       "<style scoped>\n",
       "    .dataframe tbody tr th:only-of-type {\n",
       "        vertical-align: middle;\n",
       "    }\n",
       "\n",
       "    .dataframe tbody tr th {\n",
       "        vertical-align: top;\n",
       "    }\n",
       "\n",
       "    .dataframe thead th {\n",
       "        text-align: right;\n",
       "    }\n",
       "</style>\n",
       "<table border=\"1\" class=\"dataframe\">\n",
       "  <thead>\n",
       "    <tr style=\"text-align: right;\">\n",
       "      <th></th>\n",
       "      <th>Hour</th>\n",
       "      <th>Sunday</th>\n",
       "      <th>Monday</th>\n",
       "      <th>Tuesday</th>\n",
       "      <th>Wednesday</th>\n",
       "      <th>Thursday</th>\n",
       "      <th>Friday</th>\n",
       "      <th>Saturday</th>\n",
       "      <th>Under 18</th>\n",
       "      <th>18-30</th>\n",
       "      <th>...</th>\n",
       "      <th>Daylight</th>\n",
       "      <th>Normal</th>\n",
       "      <th>Fog or mist</th>\n",
       "      <th>Cloudy</th>\n",
       "      <th>Windy</th>\n",
       "      <th>Raining</th>\n",
       "      <th>Raining and Windy</th>\n",
       "      <th>Snow</th>\n",
       "      <th>Other</th>\n",
       "      <th>severity</th>\n",
       "    </tr>\n",
       "  </thead>\n",
       "  <tbody>\n",
       "    <tr>\n",
       "      <th>64</th>\n",
       "      <td>15</td>\n",
       "      <td>1</td>\n",
       "      <td>0</td>\n",
       "      <td>0</td>\n",
       "      <td>0</td>\n",
       "      <td>0</td>\n",
       "      <td>0</td>\n",
       "      <td>0</td>\n",
       "      <td>0</td>\n",
       "      <td>0</td>\n",
       "      <td>...</td>\n",
       "      <td>1</td>\n",
       "      <td>0</td>\n",
       "      <td>1</td>\n",
       "      <td>0</td>\n",
       "      <td>0</td>\n",
       "      <td>0</td>\n",
       "      <td>0</td>\n",
       "      <td>0</td>\n",
       "      <td>0</td>\n",
       "      <td>3</td>\n",
       "    </tr>\n",
       "    <tr>\n",
       "      <th>65</th>\n",
       "      <td>15</td>\n",
       "      <td>1</td>\n",
       "      <td>0</td>\n",
       "      <td>0</td>\n",
       "      <td>0</td>\n",
       "      <td>0</td>\n",
       "      <td>0</td>\n",
       "      <td>0</td>\n",
       "      <td>0</td>\n",
       "      <td>0</td>\n",
       "      <td>...</td>\n",
       "      <td>1</td>\n",
       "      <td>0</td>\n",
       "      <td>1</td>\n",
       "      <td>0</td>\n",
       "      <td>0</td>\n",
       "      <td>0</td>\n",
       "      <td>0</td>\n",
       "      <td>0</td>\n",
       "      <td>0</td>\n",
       "      <td>3</td>\n",
       "    </tr>\n",
       "    <tr>\n",
       "      <th>328</th>\n",
       "      <td>20</td>\n",
       "      <td>0</td>\n",
       "      <td>0</td>\n",
       "      <td>0</td>\n",
       "      <td>1</td>\n",
       "      <td>0</td>\n",
       "      <td>0</td>\n",
       "      <td>0</td>\n",
       "      <td>0</td>\n",
       "      <td>0</td>\n",
       "      <td>...</td>\n",
       "      <td>0</td>\n",
       "      <td>0</td>\n",
       "      <td>0</td>\n",
       "      <td>0</td>\n",
       "      <td>0</td>\n",
       "      <td>0</td>\n",
       "      <td>1</td>\n",
       "      <td>0</td>\n",
       "      <td>0</td>\n",
       "      <td>3</td>\n",
       "    </tr>\n",
       "    <tr>\n",
       "      <th>387</th>\n",
       "      <td>16</td>\n",
       "      <td>0</td>\n",
       "      <td>0</td>\n",
       "      <td>0</td>\n",
       "      <td>0</td>\n",
       "      <td>1</td>\n",
       "      <td>0</td>\n",
       "      <td>0</td>\n",
       "      <td>0</td>\n",
       "      <td>0</td>\n",
       "      <td>...</td>\n",
       "      <td>1</td>\n",
       "      <td>0</td>\n",
       "      <td>1</td>\n",
       "      <td>0</td>\n",
       "      <td>0</td>\n",
       "      <td>0</td>\n",
       "      <td>0</td>\n",
       "      <td>0</td>\n",
       "      <td>0</td>\n",
       "      <td>3</td>\n",
       "    </tr>\n",
       "    <tr>\n",
       "      <th>388</th>\n",
       "      <td>16</td>\n",
       "      <td>0</td>\n",
       "      <td>0</td>\n",
       "      <td>0</td>\n",
       "      <td>0</td>\n",
       "      <td>1</td>\n",
       "      <td>0</td>\n",
       "      <td>0</td>\n",
       "      <td>0</td>\n",
       "      <td>1</td>\n",
       "      <td>...</td>\n",
       "      <td>1</td>\n",
       "      <td>0</td>\n",
       "      <td>1</td>\n",
       "      <td>0</td>\n",
       "      <td>0</td>\n",
       "      <td>0</td>\n",
       "      <td>0</td>\n",
       "      <td>0</td>\n",
       "      <td>0</td>\n",
       "      <td>3</td>\n",
       "    </tr>\n",
       "    <tr>\n",
       "      <th>...</th>\n",
       "      <td>...</td>\n",
       "      <td>...</td>\n",
       "      <td>...</td>\n",
       "      <td>...</td>\n",
       "      <td>...</td>\n",
       "      <td>...</td>\n",
       "      <td>...</td>\n",
       "      <td>...</td>\n",
       "      <td>...</td>\n",
       "      <td>...</td>\n",
       "      <td>...</td>\n",
       "      <td>...</td>\n",
       "      <td>...</td>\n",
       "      <td>...</td>\n",
       "      <td>...</td>\n",
       "      <td>...</td>\n",
       "      <td>...</td>\n",
       "      <td>...</td>\n",
       "      <td>...</td>\n",
       "      <td>...</td>\n",
       "      <td>...</td>\n",
       "    </tr>\n",
       "    <tr>\n",
       "      <th>22882</th>\n",
       "      <td>6</td>\n",
       "      <td>0</td>\n",
       "      <td>0</td>\n",
       "      <td>0</td>\n",
       "      <td>1</td>\n",
       "      <td>0</td>\n",
       "      <td>0</td>\n",
       "      <td>0</td>\n",
       "      <td>0</td>\n",
       "      <td>1</td>\n",
       "      <td>...</td>\n",
       "      <td>0</td>\n",
       "      <td>0</td>\n",
       "      <td>1</td>\n",
       "      <td>0</td>\n",
       "      <td>0</td>\n",
       "      <td>0</td>\n",
       "      <td>0</td>\n",
       "      <td>0</td>\n",
       "      <td>0</td>\n",
       "      <td>3</td>\n",
       "    </tr>\n",
       "    <tr>\n",
       "      <th>22883</th>\n",
       "      <td>13</td>\n",
       "      <td>0</td>\n",
       "      <td>0</td>\n",
       "      <td>0</td>\n",
       "      <td>0</td>\n",
       "      <td>0</td>\n",
       "      <td>1</td>\n",
       "      <td>0</td>\n",
       "      <td>0</td>\n",
       "      <td>1</td>\n",
       "      <td>...</td>\n",
       "      <td>1</td>\n",
       "      <td>0</td>\n",
       "      <td>1</td>\n",
       "      <td>0</td>\n",
       "      <td>0</td>\n",
       "      <td>0</td>\n",
       "      <td>0</td>\n",
       "      <td>0</td>\n",
       "      <td>0</td>\n",
       "      <td>3</td>\n",
       "    </tr>\n",
       "    <tr>\n",
       "      <th>22884</th>\n",
       "      <td>13</td>\n",
       "      <td>0</td>\n",
       "      <td>0</td>\n",
       "      <td>0</td>\n",
       "      <td>0</td>\n",
       "      <td>0</td>\n",
       "      <td>1</td>\n",
       "      <td>0</td>\n",
       "      <td>0</td>\n",
       "      <td>0</td>\n",
       "      <td>...</td>\n",
       "      <td>1</td>\n",
       "      <td>0</td>\n",
       "      <td>1</td>\n",
       "      <td>0</td>\n",
       "      <td>0</td>\n",
       "      <td>0</td>\n",
       "      <td>0</td>\n",
       "      <td>0</td>\n",
       "      <td>0</td>\n",
       "      <td>3</td>\n",
       "    </tr>\n",
       "    <tr>\n",
       "      <th>22885</th>\n",
       "      <td>17</td>\n",
       "      <td>0</td>\n",
       "      <td>0</td>\n",
       "      <td>1</td>\n",
       "      <td>0</td>\n",
       "      <td>0</td>\n",
       "      <td>0</td>\n",
       "      <td>0</td>\n",
       "      <td>0</td>\n",
       "      <td>1</td>\n",
       "      <td>...</td>\n",
       "      <td>0</td>\n",
       "      <td>0</td>\n",
       "      <td>1</td>\n",
       "      <td>0</td>\n",
       "      <td>0</td>\n",
       "      <td>0</td>\n",
       "      <td>0</td>\n",
       "      <td>0</td>\n",
       "      <td>0</td>\n",
       "      <td>3</td>\n",
       "    </tr>\n",
       "    <tr>\n",
       "      <th>22886</th>\n",
       "      <td>16</td>\n",
       "      <td>0</td>\n",
       "      <td>0</td>\n",
       "      <td>0</td>\n",
       "      <td>1</td>\n",
       "      <td>0</td>\n",
       "      <td>0</td>\n",
       "      <td>0</td>\n",
       "      <td>0</td>\n",
       "      <td>1</td>\n",
       "      <td>...</td>\n",
       "      <td>1</td>\n",
       "      <td>0</td>\n",
       "      <td>1</td>\n",
       "      <td>0</td>\n",
       "      <td>0</td>\n",
       "      <td>0</td>\n",
       "      <td>0</td>\n",
       "      <td>0</td>\n",
       "      <td>0</td>\n",
       "      <td>3</td>\n",
       "    </tr>\n",
       "  </tbody>\n",
       "</table>\n",
       "<p>7629 rows × 50 columns</p>\n",
       "</div>"
      ],
      "text/plain": [
       "       Hour  Sunday  Monday  Tuesday  Wednesday  Thursday  Friday  Saturday  \\\n",
       "64       15       1       0        0          0         0       0         0   \n",
       "65       15       1       0        0          0         0       0         0   \n",
       "328      20       0       0        0          1         0       0         0   \n",
       "387      16       0       0        0          0         1       0         0   \n",
       "388      16       0       0        0          0         1       0         0   \n",
       "...     ...     ...     ...      ...        ...       ...     ...       ...   \n",
       "22882     6       0       0        0          1         0       0         0   \n",
       "22883    13       0       0        0          0         0       1         0   \n",
       "22884    13       0       0        0          0         0       1         0   \n",
       "22885    17       0       0        1          0         0       0         0   \n",
       "22886    16       0       0        0          1         0       0         0   \n",
       "\n",
       "       Under 18  18-30  ...  Daylight  Normal  Fog or mist  Cloudy  Windy  \\\n",
       "64            0      0  ...         1       0            1       0      0   \n",
       "65            0      0  ...         1       0            1       0      0   \n",
       "328           0      0  ...         0       0            0       0      0   \n",
       "387           0      0  ...         1       0            1       0      0   \n",
       "388           0      1  ...         1       0            1       0      0   \n",
       "...         ...    ...  ...       ...     ...          ...     ...    ...   \n",
       "22882         0      1  ...         0       0            1       0      0   \n",
       "22883         0      1  ...         1       0            1       0      0   \n",
       "22884         0      0  ...         1       0            1       0      0   \n",
       "22885         0      1  ...         0       0            1       0      0   \n",
       "22886         0      1  ...         1       0            1       0      0   \n",
       "\n",
       "       Raining  Raining and Windy  Snow  Other  severity  \n",
       "64           0                  0     0      0         3  \n",
       "65           0                  0     0      0         3  \n",
       "328          0                  1     0      0         3  \n",
       "387          0                  0     0      0         3  \n",
       "388          0                  0     0      0         3  \n",
       "...        ...                ...   ...    ...       ...  \n",
       "22882        0                  0     0      0         3  \n",
       "22883        0                  0     0      0         3  \n",
       "22884        0                  0     0      0         3  \n",
       "22885        0                  0     0      0         3  \n",
       "22886        0                  0     0      0         3  \n",
       "\n",
       "[7629 rows x 50 columns]"
      ]
     },
     "execution_count": 337,
     "metadata": {},
     "output_type": "execute_result"
    }
   ],
   "source": [
    "# Filtrando apenas por Severity = 3\n",
    "\n",
    "amostra.query('severity==3')"
   ]
  },
  {
   "cell_type": "markdown",
   "metadata": {},
   "source": [
    "#### - Definindo o número de Clusters\n",
    "\n",
    "Muitas vezes, os dados com os quais trabalhamos têm várias dimensões, dificultando a visualização. Como consequência, o número ideal de clusters não é muito óbvio. Felizmente, temos uma maneira de determinar isso matematicamente.\n",
    "\n",
    "Representamos graficamente a relação entre o número de clusters e a soma dos quadrados dentro do cluster (Within Cluster Sum of Squares - WCSS) e, em seguida, selecionamos o número de clusters nos quais a mudança no WCSS começa a se estabilizar (Método Elbow).\n",
    "\n",
    "Vamos testar diferentes valores de K (valores de cluster) entre 2 e 10.\n",
    "\n",
    "Para a inicialização dos clusters, usamos o algoritmo k-means++ que oferece convergência mais rápida para o resultado final."
   ]
  },
  {
   "cell_type": "code",
   "execution_count": 338,
   "metadata": {},
   "outputs": [],
   "source": [
    "X1 = amostra.drop(['severity'],axis = 1).iloc[:,:].values\n",
    "wcss_X1 = []"
   ]
  },
  {
   "cell_type": "code",
   "execution_count": 339,
   "metadata": {},
   "outputs": [],
   "source": [
    "# Loop para testar os valores de K\n",
    "for n in range(2, 11):\n",
    "    modelo = (KMeans(n_clusters = n,\n",
    "                     init = 'k-means++', \n",
    "                     n_init = 10,\n",
    "                     max_iter = 300, \n",
    "                     tol = 0.0001,  \n",
    "                     random_state = 111, \n",
    "                     algorithm = 'elkan'))\n",
    "    modelo.fit(X1)\n",
    "    wcss_X1.append(modelo.inertia_)"
   ]
  },
  {
   "cell_type": "code",
   "execution_count": 340,
   "metadata": {},
   "outputs": [
    {
     "data": {
      "image/png": "[encoded data removed]",
      "text/plain": [
       "<Figure size 1080x432 with 1 Axes>"
      ]
     },
     "metadata": {
      "needs_background": "light"
     },
     "output_type": "display_data"
    }
   ],
   "source": [
    "# Plot\n",
    "plt.figure(1 , figsize = (15 ,6))\n",
    "plt.plot(np.arange(2 , 11) , wcss_X1 , 'o')\n",
    "plt.plot(np.arange(2 , 11) , wcss_X1 , '-' , alpha = 0.5)\n",
    "plt.xlabel('Número de Clusters') , plt.ylabel('WCSS')\n",
    "plt.show()"
   ]
  },
  {
   "cell_type": "markdown",
   "metadata": {},
   "source": [
    "Observe no gráfico acima que não há certo ou errado. Poderíamos trabalhar com qualquer valor entre 2 e 10. O gráfico acima é chamado de Curva de Elbow e normalmente usamos o valor com o menor WCSS. Mas isso deve ser alinhado com as necessidade de negócio. Para o nosso caso, 2 clusters será suficiente para definirmos perfis de aciendes de trânsito. Isso facilitará a análise e simplificará nossas conclusões. No entanto, deixamos como proposta para trabalhos futuros a criação de mais Clusters."
   ]
  },
  {
   "cell_type": "markdown",
   "metadata": {},
   "source": [
    "#### - Treinando o Modelo"
   ]
  },
  {
   "cell_type": "markdown",
   "metadata": {},
   "source": [
    "Inicialmente criamos o modelo com o número de clusters definido anteriormente."
   ]
  },
  {
   "cell_type": "code",
   "execution_count": 341,
   "metadata": {},
   "outputs": [],
   "source": [
    "# Criação do modelo\n",
    "modelo_seg1 = KMeans(n_clusters = 2, \n",
    "                     init = 'k-means++', \n",
    "                     n_init = 10, \n",
    "                     max_iter = 300, \n",
    "                     tol = 0.0001,  \n",
    "                     random_state = 111, \n",
    "                     algorithm = 'elkan')"
   ]
  },
  {
   "cell_type": "markdown",
   "metadata": {},
   "source": [
    "Em seguida, treinamos o modelo."
   ]
  },
  {
   "cell_type": "code",
   "execution_count": 342,
   "metadata": {},
   "outputs": [
    {
     "data": {
      "text/html": [
       "<style>#sk-container-id-25 {color: black;background-color: white;}#sk-container-id-25 pre{padding: 0;}#sk-container-id-25 div.sk-toggleable {background-color: white;}#sk-container-id-25 label.sk-toggleable__label {cursor: pointer;display: block;width: 100%;margin-bottom: 0;padding: 0.3em;box-sizing: border-box;text-align: center;}#sk-container-id-25 label.sk-toggleable__label-arrow:before {content: \"▸\";float: left;margin-right: 0.25em;color: #696969;}#sk-container-id-25 label.sk-toggleable__label-arrow:hover:before {color: black;}#sk-container-id-25 div.sk-estimator:hover label.sk-toggleable__label-arrow:before {color: black;}#sk-container-id-25 div.sk-toggleable__content {max-height: 0;max-width: 0;overflow: hidden;text-align: left;background-color: #f0f8ff;}#sk-container-id-25 div.sk-toggleable__content pre {margin: 0.2em;color: black;border-radius: 0.25em;background-color: #f0f8ff;}#sk-container-id-25 input.sk-toggleable__control:checked~div.sk-toggleable__content {max-height: 200px;max-width: 100%;overflow: auto;}#sk-container-id-25 input.sk-toggleable__control:checked~label.sk-toggleable__label-arrow:before {content: \"▾\";}#sk-container-id-25 div.sk-estimator input.sk-toggleable__control:checked~label.sk-toggleable__label {background-color: #d4ebff;}#sk-container-id-25 div.sk-label input.sk-toggleable__control:checked~label.sk-toggleable__label {background-color: #d4ebff;}#sk-container-id-25 input.sk-hidden--visually {border: 0;clip: rect(1px 1px 1px 1px);clip: rect(1px, 1px, 1px, 1px);height: 1px;margin: -1px;overflow: hidden;padding: 0;position: absolute;width: 1px;}#sk-container-id-25 div.sk-estimator {font-family: monospace;background-color: #f0f8ff;border: 1px dotted black;border-radius: 0.25em;box-sizing: border-box;margin-bottom: 0.5em;}#sk-container-id-25 div.sk-estimator:hover {background-color: #d4ebff;}#sk-container-id-25 div.sk-parallel-item::after {content: \"\";width: 100%;border-bottom: 1px solid gray;flex-grow: 1;}#sk-container-id-25 div.sk-label:hover label.sk-toggleable__label {background-color: #d4ebff;}#sk-container-id-25 div.sk-serial::before {content: \"\";position: absolute;border-left: 1px solid gray;box-sizing: border-box;top: 0;bottom: 0;left: 50%;z-index: 0;}#sk-container-id-25 div.sk-serial {display: flex;flex-direction: column;align-items: center;background-color: white;padding-right: 0.2em;padding-left: 0.2em;position: relative;}#sk-container-id-25 div.sk-item {position: relative;z-index: 1;}#sk-container-id-25 div.sk-parallel {display: flex;align-items: stretch;justify-content: center;background-color: white;position: relative;}#sk-container-id-25 div.sk-item::before, #sk-container-id-25 div.sk-parallel-item::before {content: \"\";position: absolute;border-left: 1px solid gray;box-sizing: border-box;top: 0;bottom: 0;left: 50%;z-index: -1;}#sk-container-id-25 div.sk-parallel-item {display: flex;flex-direction: column;z-index: 1;position: relative;background-color: white;}#sk-container-id-25 div.sk-parallel-item:first-child::after {align-self: flex-end;width: 50%;}#sk-container-id-25 div.sk-parallel-item:last-child::after {align-self: flex-start;width: 50%;}#sk-container-id-25 div.sk-parallel-item:only-child::after {width: 0;}#sk-container-id-25 div.sk-dashed-wrapped {border: 1px dashed gray;margin: 0 0.4em 0.5em 0.4em;box-sizing: border-box;padding-bottom: 0.4em;background-color: white;}#sk-container-id-25 div.sk-label label {font-family: monospace;font-weight: bold;display: inline-block;line-height: 1.2em;}#sk-container-id-25 div.sk-label-container {text-align: center;}#sk-container-id-25 div.sk-container {/* jupyter's `normalize.less` sets `[hidden] { display: none; }` but bootstrap.min.css set `[hidden] { display: none !important; }` so we also need the `!important` here to be able to override the default hidden behavior on the sphinx rendered scikit-learn.org. See: https://github.com/scikit-learn/scikit-learn/issues/21755 */display: inline-block !important;position: relative;}#sk-container-id-25 div.sk-text-repr-fallback {display: none;}</style><div id=\"sk-container-id-25\" class=\"sk-top-container\"><div class=\"sk-text-repr-fallback\"><pre>KMeans(algorithm=&#x27;elkan&#x27;, n_clusters=2, random_state=111)</pre><b>In a Jupyter environment, please rerun this cell to show the HTML representation or trust the notebook. <br />On GitHub, the HTML representation is unable to render, please try loading this page with nbviewer.org.</b></div><div class=\"sk-container\" hidden><div class=\"sk-item\"><div class=\"sk-estimator sk-toggleable\"><input class=\"sk-toggleable__control sk-hidden--visually\" id=\"sk-estimator-id-43\" type=\"checkbox\" checked><label for=\"sk-estimator-id-43\" class=\"sk-toggleable__label sk-toggleable__label-arrow\">KMeans</label><div class=\"sk-toggleable__content\"><pre>KMeans(algorithm=&#x27;elkan&#x27;, n_clusters=2, random_state=111)</pre></div></div></div></div></div>"
      ],
      "text/plain": [
       "KMeans(algorithm='elkan', n_clusters=2, random_state=111)"
      ]
     },
     "execution_count": 342,
     "metadata": {},
     "output_type": "execute_result"
    }
   ],
   "source": [
    "# Treinamento do modelo\n",
    "modelo_seg1.fit(X1)"
   ]
  },
  {
   "cell_type": "markdown",
   "metadata": {},
   "source": [
    "Após a criação e treinamento do modelo, obtivemos os clusters para cada ocorrência de acidentes com severidade 3 na base de dados. Assim, extraímos os labels dos clusters e incluímos na base de dados utilizada para a Clusterização. "
   ]
  },
  {
   "cell_type": "code",
   "execution_count": 343,
   "metadata": {},
   "outputs": [
    {
     "data": {
      "text/html": [
       "<div>\n",
       "<style scoped>\n",
       "    .dataframe tbody tr th:only-of-type {\n",
       "        vertical-align: middle;\n",
       "    }\n",
       "\n",
       "    .dataframe tbody tr th {\n",
       "        vertical-align: top;\n",
       "    }\n",
       "\n",
       "    .dataframe thead th {\n",
       "        text-align: right;\n",
       "    }\n",
       "</style>\n",
       "<table border=\"1\" class=\"dataframe\">\n",
       "  <thead>\n",
       "    <tr style=\"text-align: right;\">\n",
       "      <th></th>\n",
       "      <th>Hour</th>\n",
       "      <th>Sunday</th>\n",
       "      <th>Monday</th>\n",
       "      <th>Tuesday</th>\n",
       "      <th>Wednesday</th>\n",
       "      <th>Thursday</th>\n",
       "      <th>Friday</th>\n",
       "      <th>Saturday</th>\n",
       "      <th>Under 18</th>\n",
       "      <th>18-30</th>\n",
       "      <th>...</th>\n",
       "      <th>Normal</th>\n",
       "      <th>Fog or mist</th>\n",
       "      <th>Cloudy</th>\n",
       "      <th>Windy</th>\n",
       "      <th>Raining</th>\n",
       "      <th>Raining and Windy</th>\n",
       "      <th>Snow</th>\n",
       "      <th>Other</th>\n",
       "      <th>severity</th>\n",
       "      <th>cluster</th>\n",
       "    </tr>\n",
       "  </thead>\n",
       "  <tbody>\n",
       "    <tr>\n",
       "      <th>0</th>\n",
       "      <td>17</td>\n",
       "      <td>0</td>\n",
       "      <td>1</td>\n",
       "      <td>0</td>\n",
       "      <td>0</td>\n",
       "      <td>0</td>\n",
       "      <td>0</td>\n",
       "      <td>0</td>\n",
       "      <td>0</td>\n",
       "      <td>1</td>\n",
       "      <td>...</td>\n",
       "      <td>0</td>\n",
       "      <td>1</td>\n",
       "      <td>0</td>\n",
       "      <td>0</td>\n",
       "      <td>0</td>\n",
       "      <td>0</td>\n",
       "      <td>0</td>\n",
       "      <td>0</td>\n",
       "      <td>1</td>\n",
       "      <td>0</td>\n",
       "    </tr>\n",
       "    <tr>\n",
       "      <th>1</th>\n",
       "      <td>17</td>\n",
       "      <td>0</td>\n",
       "      <td>1</td>\n",
       "      <td>0</td>\n",
       "      <td>0</td>\n",
       "      <td>0</td>\n",
       "      <td>0</td>\n",
       "      <td>0</td>\n",
       "      <td>0</td>\n",
       "      <td>0</td>\n",
       "      <td>...</td>\n",
       "      <td>0</td>\n",
       "      <td>1</td>\n",
       "      <td>0</td>\n",
       "      <td>0</td>\n",
       "      <td>0</td>\n",
       "      <td>0</td>\n",
       "      <td>0</td>\n",
       "      <td>0</td>\n",
       "      <td>1</td>\n",
       "      <td>0</td>\n",
       "    </tr>\n",
       "    <tr>\n",
       "      <th>2</th>\n",
       "      <td>17</td>\n",
       "      <td>0</td>\n",
       "      <td>1</td>\n",
       "      <td>0</td>\n",
       "      <td>0</td>\n",
       "      <td>0</td>\n",
       "      <td>0</td>\n",
       "      <td>0</td>\n",
       "      <td>0</td>\n",
       "      <td>1</td>\n",
       "      <td>...</td>\n",
       "      <td>0</td>\n",
       "      <td>1</td>\n",
       "      <td>0</td>\n",
       "      <td>0</td>\n",
       "      <td>0</td>\n",
       "      <td>0</td>\n",
       "      <td>0</td>\n",
       "      <td>0</td>\n",
       "      <td>2</td>\n",
       "      <td>0</td>\n",
       "    </tr>\n",
       "    <tr>\n",
       "      <th>3</th>\n",
       "      <td>1</td>\n",
       "      <td>1</td>\n",
       "      <td>0</td>\n",
       "      <td>0</td>\n",
       "      <td>0</td>\n",
       "      <td>0</td>\n",
       "      <td>0</td>\n",
       "      <td>0</td>\n",
       "      <td>0</td>\n",
       "      <td>1</td>\n",
       "      <td>...</td>\n",
       "      <td>0</td>\n",
       "      <td>1</td>\n",
       "      <td>0</td>\n",
       "      <td>0</td>\n",
       "      <td>0</td>\n",
       "      <td>0</td>\n",
       "      <td>0</td>\n",
       "      <td>0</td>\n",
       "      <td>1</td>\n",
       "      <td>1</td>\n",
       "    </tr>\n",
       "    <tr>\n",
       "      <th>4</th>\n",
       "      <td>1</td>\n",
       "      <td>1</td>\n",
       "      <td>0</td>\n",
       "      <td>0</td>\n",
       "      <td>0</td>\n",
       "      <td>0</td>\n",
       "      <td>0</td>\n",
       "      <td>0</td>\n",
       "      <td>0</td>\n",
       "      <td>1</td>\n",
       "      <td>...</td>\n",
       "      <td>0</td>\n",
       "      <td>1</td>\n",
       "      <td>0</td>\n",
       "      <td>0</td>\n",
       "      <td>0</td>\n",
       "      <td>0</td>\n",
       "      <td>0</td>\n",
       "      <td>0</td>\n",
       "      <td>1</td>\n",
       "      <td>1</td>\n",
       "    </tr>\n",
       "    <tr>\n",
       "      <th>...</th>\n",
       "      <td>...</td>\n",
       "      <td>...</td>\n",
       "      <td>...</td>\n",
       "      <td>...</td>\n",
       "      <td>...</td>\n",
       "      <td>...</td>\n",
       "      <td>...</td>\n",
       "      <td>...</td>\n",
       "      <td>...</td>\n",
       "      <td>...</td>\n",
       "      <td>...</td>\n",
       "      <td>...</td>\n",
       "      <td>...</td>\n",
       "      <td>...</td>\n",
       "      <td>...</td>\n",
       "      <td>...</td>\n",
       "      <td>...</td>\n",
       "      <td>...</td>\n",
       "      <td>...</td>\n",
       "      <td>...</td>\n",
       "      <td>...</td>\n",
       "    </tr>\n",
       "    <tr>\n",
       "      <th>22882</th>\n",
       "      <td>6</td>\n",
       "      <td>0</td>\n",
       "      <td>0</td>\n",
       "      <td>0</td>\n",
       "      <td>1</td>\n",
       "      <td>0</td>\n",
       "      <td>0</td>\n",
       "      <td>0</td>\n",
       "      <td>0</td>\n",
       "      <td>1</td>\n",
       "      <td>...</td>\n",
       "      <td>0</td>\n",
       "      <td>1</td>\n",
       "      <td>0</td>\n",
       "      <td>0</td>\n",
       "      <td>0</td>\n",
       "      <td>0</td>\n",
       "      <td>0</td>\n",
       "      <td>0</td>\n",
       "      <td>3</td>\n",
       "      <td>1</td>\n",
       "    </tr>\n",
       "    <tr>\n",
       "      <th>22883</th>\n",
       "      <td>13</td>\n",
       "      <td>0</td>\n",
       "      <td>0</td>\n",
       "      <td>0</td>\n",
       "      <td>0</td>\n",
       "      <td>0</td>\n",
       "      <td>1</td>\n",
       "      <td>0</td>\n",
       "      <td>0</td>\n",
       "      <td>1</td>\n",
       "      <td>...</td>\n",
       "      <td>0</td>\n",
       "      <td>1</td>\n",
       "      <td>0</td>\n",
       "      <td>0</td>\n",
       "      <td>0</td>\n",
       "      <td>0</td>\n",
       "      <td>0</td>\n",
       "      <td>0</td>\n",
       "      <td>3</td>\n",
       "      <td>0</td>\n",
       "    </tr>\n",
       "    <tr>\n",
       "      <th>22884</th>\n",
       "      <td>13</td>\n",
       "      <td>0</td>\n",
       "      <td>0</td>\n",
       "      <td>0</td>\n",
       "      <td>0</td>\n",
       "      <td>0</td>\n",
       "      <td>1</td>\n",
       "      <td>0</td>\n",
       "      <td>0</td>\n",
       "      <td>0</td>\n",
       "      <td>...</td>\n",
       "      <td>0</td>\n",
       "      <td>1</td>\n",
       "      <td>0</td>\n",
       "      <td>0</td>\n",
       "      <td>0</td>\n",
       "      <td>0</td>\n",
       "      <td>0</td>\n",
       "      <td>0</td>\n",
       "      <td>3</td>\n",
       "      <td>0</td>\n",
       "    </tr>\n",
       "    <tr>\n",
       "      <th>22885</th>\n",
       "      <td>17</td>\n",
       "      <td>0</td>\n",
       "      <td>0</td>\n",
       "      <td>1</td>\n",
       "      <td>0</td>\n",
       "      <td>0</td>\n",
       "      <td>0</td>\n",
       "      <td>0</td>\n",
       "      <td>0</td>\n",
       "      <td>1</td>\n",
       "      <td>...</td>\n",
       "      <td>0</td>\n",
       "      <td>1</td>\n",
       "      <td>0</td>\n",
       "      <td>0</td>\n",
       "      <td>0</td>\n",
       "      <td>0</td>\n",
       "      <td>0</td>\n",
       "      <td>0</td>\n",
       "      <td>3</td>\n",
       "      <td>0</td>\n",
       "    </tr>\n",
       "    <tr>\n",
       "      <th>22886</th>\n",
       "      <td>16</td>\n",
       "      <td>0</td>\n",
       "      <td>0</td>\n",
       "      <td>0</td>\n",
       "      <td>1</td>\n",
       "      <td>0</td>\n",
       "      <td>0</td>\n",
       "      <td>0</td>\n",
       "      <td>0</td>\n",
       "      <td>1</td>\n",
       "      <td>...</td>\n",
       "      <td>0</td>\n",
       "      <td>1</td>\n",
       "      <td>0</td>\n",
       "      <td>0</td>\n",
       "      <td>0</td>\n",
       "      <td>0</td>\n",
       "      <td>0</td>\n",
       "      <td>0</td>\n",
       "      <td>3</td>\n",
       "      <td>0</td>\n",
       "    </tr>\n",
       "  </tbody>\n",
       "</table>\n",
       "<p>22887 rows × 51 columns</p>\n",
       "</div>"
      ],
      "text/plain": [
       "       Hour  Sunday  Monday  Tuesday  Wednesday  Thursday  Friday  Saturday  \\\n",
       "0        17       0       1        0          0         0       0         0   \n",
       "1        17       0       1        0          0         0       0         0   \n",
       "2        17       0       1        0          0         0       0         0   \n",
       "3         1       1       0        0          0         0       0         0   \n",
       "4         1       1       0        0          0         0       0         0   \n",
       "...     ...     ...     ...      ...        ...       ...     ...       ...   \n",
       "22882     6       0       0        0          1         0       0         0   \n",
       "22883    13       0       0        0          0         0       1         0   \n",
       "22884    13       0       0        0          0         0       1         0   \n",
       "22885    17       0       0        1          0         0       0         0   \n",
       "22886    16       0       0        0          1         0       0         0   \n",
       "\n",
       "       Under 18  18-30  ...  Normal  Fog or mist  Cloudy  Windy  Raining  \\\n",
       "0             0      1  ...       0            1       0      0        0   \n",
       "1             0      0  ...       0            1       0      0        0   \n",
       "2             0      1  ...       0            1       0      0        0   \n",
       "3             0      1  ...       0            1       0      0        0   \n",
       "4             0      1  ...       0            1       0      0        0   \n",
       "...         ...    ...  ...     ...          ...     ...    ...      ...   \n",
       "22882         0      1  ...       0            1       0      0        0   \n",
       "22883         0      1  ...       0            1       0      0        0   \n",
       "22884         0      0  ...       0            1       0      0        0   \n",
       "22885         0      1  ...       0            1       0      0        0   \n",
       "22886         0      1  ...       0            1       0      0        0   \n",
       "\n",
       "       Raining and Windy  Snow  Other  severity  cluster  \n",
       "0                      0     0      0         1        0  \n",
       "1                      0     0      0         1        0  \n",
       "2                      0     0      0         2        0  \n",
       "3                      0     0      0         1        1  \n",
       "4                      0     0      0         1        1  \n",
       "...                  ...   ...    ...       ...      ...  \n",
       "22882                  0     0      0         3        1  \n",
       "22883                  0     0      0         3        0  \n",
       "22884                  0     0      0         3        0  \n",
       "22885                  0     0      0         3        0  \n",
       "22886                  0     0      0         3        0  \n",
       "\n",
       "[22887 rows x 51 columns]"
      ]
     },
     "execution_count": 343,
     "metadata": {},
     "output_type": "execute_result"
    }
   ],
   "source": [
    "# Extração dos labels\n",
    "labels1 = modelo_seg1.labels_\n",
    "\n",
    "# Converte o array para dataframe\n",
    "df_labels = pd.DataFrame(labels1)\n",
    "\n",
    "# Adiciona aos dados\n",
    "amostra['cluster'] = df_labels\n",
    "amostra"
   ]
  },
  {
   "cell_type": "markdown",
   "metadata": {},
   "source": [
    "##### - ANÁLISES POR CLUSTERS"
   ]
  },
  {
   "cell_type": "markdown",
   "metadata": {},
   "source": [
    "Agora, realizaremos uma análise dos perfis de acidentes de trânsito criados através do algoritmo de clusterização K-Means. \n",
    "\n",
    "Primeiro, separamos os clusters em dois subconjuntos:"
   ]
  },
  {
   "cell_type": "code",
   "execution_count": 361,
   "metadata": {},
   "outputs": [],
   "source": [
    "cluster0 = amostra.query('cluster==0')\n",
    "cluster1 = amostra.query('cluster==1')"
   ]
  },
  {
   "cell_type": "markdown",
   "metadata": {},
   "source": [
    "Em seguida, analisamos cada variável independentemente, baseando-se na frequência de ocorrências dentro do cluester. Isto nos retornará os pontos de maior frequência em cada variável e assim construiremos os perfis para cada cluster. \n",
    "\n",
    "Desta forma, calculando as frequências por variáveis do Cluster 0, temos:"
   ]
  },
  {
   "cell_type": "code",
   "execution_count": 362,
   "metadata": {},
   "outputs": [],
   "source": [
    "## Cluster 0\n",
    "\n",
    "# Hour\n",
    "hour0 = pd.DataFrame(cluster0[['Hour']].astype(object).value_counts(),columns=['values'])\n",
    "hour0 = hour0.reset_index()\n",
    "hour0 = hour0.Hour[0]\n",
    "\n",
    "# Day Week\n",
    "day_week0 = cluster0[['Sunday', 'Monday', 'Tuesday', 'Wednesday', 'Thursday','Friday', 'Saturday']].astype(int)\n",
    "day_week0 = pd.DataFrame(day_week0.sum(axis = 0),columns=['values'])\n",
    "day_week0 = day_week0.sort_values(['values'],ascending = False).index[0]\n",
    "\n",
    "# Age\n",
    "age0 = cluster0[['Under 18', '18-30', '31-50', 'Over 51']].astype(int)\n",
    "age0 = pd.DataFrame(age0.sum(axis = 0),columns=['values'])\n",
    "age0 = age0.sort_values(['values'],ascending = False).index[0]\n",
    "\n",
    "# Education\n",
    "education0 = cluster0[['Illiterate', 'Writing & reading', 'Elementary school','Junior high school', 'High school', 'Above high school']].astype(int)\n",
    "education0 = pd.DataFrame(education0.sum(axis = 0),columns=['values'])\n",
    "education0 = education0.sort_values(['values'],ascending=False).index[0]\n",
    "\n",
    "# Driving_experience\n",
    "exp0 = cluster0[['No Licence','Below 1yr', '1-2yr', '2-5yr', '5-10yr', 'Above 10yr']].astype(int)\n",
    "exp0 = pd.DataFrame(exp0.sum(axis = 0),columns=['values'])\n",
    "exp0 = exp0.sort_values(['values'],ascending=False).index[0]\n",
    "\n",
    "# Area Accident\n",
    "area0 = cluster0[['Residential areas', 'Office areas', '  Recreational areas',' Industrial areas', ' Church areas', '  Market areas',\n",
    "       'Rural village areas', ' Outside rural areas', ' Hospital areas','School areas', 'Rural village areasOffice areas', 'Recreational areas','Other']].astype(int)\n",
    "area0 = pd.DataFrame(area0.sum(axis = 0),columns=['values'])\n",
    "area0 = area0.sort_values(['values'],ascending=False).index[0]\n",
    "\n",
    "#Light Conditions\n",
    "light0 = cluster0[['Darkness - no lighting', 'Darkness - lights unlit','Darkness - lights lit', 'Daylight']].astype(int)\n",
    "light0 = pd.DataFrame(light0.sum(axis = 0),columns=['values'])\n",
    "light0 = light0.sort_values(['values'],ascending=False).index[0]\n",
    "\n",
    "#Weather Conditions\n",
    "weather0 = cluster0[['Normal', 'Fog or mist', 'Cloudy','Windy', 'Raining', 'Raining and Windy', 'Snow', 'Other']].astype(int)\n",
    "weather0 = pd.DataFrame(weather0.sum(axis = 0),columns=['values'])\n",
    "weather0 = weather0.sort_values(['values'],ascending=False).index[0]\n"
   ]
  },
  {
   "cell_type": "markdown",
   "metadata": {},
   "source": [
    "Após isto, o mesmo é feito para o Cluster 1, então:"
   ]
  },
  {
   "cell_type": "code",
   "execution_count": 363,
   "metadata": {},
   "outputs": [],
   "source": [
    "## Cluster 1\n",
    "\n",
    "# Hour\n",
    "hour1 = pd.DataFrame(cluster1[['Hour']].astype(object).value_counts(),columns=['values'])\n",
    "hour1 = hour1.reset_index()\n",
    "hour1 = hour1.Hour[0]\n",
    "\n",
    "# Day Week\n",
    "day_week1 = cluster1[['Sunday', 'Monday', 'Tuesday', 'Wednesday', 'Thursday','Friday', 'Saturday']].astype(int)\n",
    "day_week1 = pd.DataFrame(day_week1.sum(axis = 0),columns=['values'])\n",
    "day_week1 = day_week1.sort_values(['values'],ascending = False).index[0]\n",
    "\n",
    "# Age\n",
    "age1 = cluster1[['Under 18', '18-30', '31-50', 'Over 51']].astype(int)\n",
    "age1 = pd.DataFrame(age1.sum(axis = 0),columns=['values'])\n",
    "age1 = age1.sort_values(['values'],ascending = False).index[0]\n",
    "\n",
    "# Education\n",
    "education1 = cluster1[['Illiterate', 'Writing & reading', 'Elementary school','Junior high school', 'High school', 'Above high school']].astype(int)\n",
    "education1 = pd.DataFrame(education1.sum(axis = 0),columns=['values'])\n",
    "education1 = education1.sort_values(['values'],ascending=False).index[0]\n",
    "\n",
    "# Driving_experience\n",
    "exp1 = cluster1[['No Licence','Below 1yr', '1-2yr', '2-5yr', '5-10yr', 'Above 10yr']].astype(int)\n",
    "exp1 = pd.DataFrame(exp1.sum(axis = 0),columns=['values'])\n",
    "exp1 = exp1.sort_values(['values'],ascending=False).index[0]\n",
    "\n",
    "# Area Accident\n",
    "area1 = cluster1[['Residential areas', 'Office areas', '  Recreational areas',' Industrial areas', ' Church areas', '  Market areas',\n",
    "       'Rural village areas', ' Outside rural areas', ' Hospital areas','School areas', 'Rural village areasOffice areas', 'Recreational areas','Other']].astype(int)\n",
    "area1 = pd.DataFrame(area1.sum(axis = 0),columns=['values'])\n",
    "area1 = area1.sort_values(['values'],ascending=False).index[0]\n",
    "\n",
    "#Light Conditions\n",
    "light1 = cluster1[['Darkness - no lighting', 'Darkness - lights unlit','Darkness - lights lit', 'Daylight']].astype(int)\n",
    "light1 = pd.DataFrame(light1.sum(axis = 0),columns=['values'])\n",
    "light1 = light1.sort_values(['values'],ascending=False).index[0]\n",
    "\n",
    "#Weather Conditions\n",
    "weather1 = cluster1[['Normal', 'Fog or mist', 'Cloudy','Windy', 'Raining', 'Raining and Windy', 'Snow', 'Other']].astype(int)\n",
    "weather1 = pd.DataFrame(weather1.sum(axis = 0),columns=['values'])\n",
    "weather1 = weather1.sort_values(['values'],ascending=False).index[0]\n"
   ]
  },
  {
   "cell_type": "markdown",
   "metadata": {},
   "source": [
    "Por fim, criamos uma matriz com os dois perfis, trazendo as observações com maior frequência nas variáveis."
   ]
  },
  {
   "cell_type": "code",
   "execution_count": 370,
   "metadata": {},
   "outputs": [
    {
     "data": {
      "text/html": [
       "<div>\n",
       "<style scoped>\n",
       "    .dataframe tbody tr th:only-of-type {\n",
       "        vertical-align: middle;\n",
       "    }\n",
       "\n",
       "    .dataframe tbody tr th {\n",
       "        vertical-align: top;\n",
       "    }\n",
       "\n",
       "    .dataframe thead th {\n",
       "        text-align: right;\n",
       "    }\n",
       "</style>\n",
       "<table border=\"1\" class=\"dataframe\">\n",
       "  <thead>\n",
       "    <tr style=\"text-align: right;\">\n",
       "      <th></th>\n",
       "      <th>Variables</th>\n",
       "      <th>Profile 01</th>\n",
       "      <th>Profile 02</th>\n",
       "    </tr>\n",
       "  </thead>\n",
       "  <tbody>\n",
       "    <tr>\n",
       "      <th>0</th>\n",
       "      <td>Hour Time</td>\n",
       "      <td>17</td>\n",
       "      <td>11</td>\n",
       "    </tr>\n",
       "    <tr>\n",
       "      <th>1</th>\n",
       "      <td>Day Week</td>\n",
       "      <td>Friday</td>\n",
       "      <td>Sunday</td>\n",
       "    </tr>\n",
       "    <tr>\n",
       "      <th>2</th>\n",
       "      <td>Age</td>\n",
       "      <td>18-30</td>\n",
       "      <td>18-30</td>\n",
       "    </tr>\n",
       "    <tr>\n",
       "      <th>3</th>\n",
       "      <td>Education</td>\n",
       "      <td>Junior high school</td>\n",
       "      <td>Junior high school</td>\n",
       "    </tr>\n",
       "    <tr>\n",
       "      <th>4</th>\n",
       "      <td>Driving Experience</td>\n",
       "      <td>5-10yr</td>\n",
       "      <td>2-5yr</td>\n",
       "    </tr>\n",
       "    <tr>\n",
       "      <th>5</th>\n",
       "      <td>Area Accident</td>\n",
       "      <td>Residential areas</td>\n",
       "      <td>Residential areas</td>\n",
       "    </tr>\n",
       "    <tr>\n",
       "      <th>6</th>\n",
       "      <td>Light Conditions</td>\n",
       "      <td>Daylight</td>\n",
       "      <td>Daylight</td>\n",
       "    </tr>\n",
       "    <tr>\n",
       "      <th>7</th>\n",
       "      <td>Weather Conditions</td>\n",
       "      <td>values\n",
       "Fog or mist         ...</td>\n",
       "      <td>values\n",
       "Fog or mist         ...</td>\n",
       "    </tr>\n",
       "  </tbody>\n",
       "</table>\n",
       "</div>"
      ],
      "text/plain": [
       "            Variables                                         Profile 01  \\\n",
       "0           Hour Time                                                 17   \n",
       "1            Day Week                                             Friday   \n",
       "2                 Age                                              18-30   \n",
       "3           Education                                 Junior high school   \n",
       "4  Driving Experience                                             5-10yr   \n",
       "5       Area Accident                                  Residential areas   \n",
       "6    Light Conditions                                           Daylight   \n",
       "7  Weather Conditions                     values\n",
       "Fog or mist         ...   \n",
       "\n",
       "                                          Profile 02  \n",
       "0                                                 11  \n",
       "1                                             Sunday  \n",
       "2                                              18-30  \n",
       "3                                 Junior high school  \n",
       "4                                              2-5yr  \n",
       "5                                  Residential areas  \n",
       "6                                           Daylight  \n",
       "7                     values\n",
       "Fog or mist         ...  "
      ]
     },
     "execution_count": 370,
     "metadata": {},
     "output_type": "execute_result"
    }
   ],
   "source": [
    "# Comparation Data Frame\n",
    "\n",
    "clusters_view = pd.DataFrame()\n",
    "\n",
    "Variables = ['Hour Time', 'Day Week','Age','Education','Driving Experience','Area Accident','Light Conditions','Weather Conditions']\n",
    "Profile_1 = [hour0,day_week0,age0,education0,exp0,area0,light0,weather0]\n",
    "Profile_2 = [hour1,day_week1,age1,education1,exp1,area1,light1,weather1]\n",
    "\n",
    "clusters_view['Variables'] = Variables\n",
    "clusters_view['Profile 01'] = Profile_1\n",
    "clusters_view['Profile 02'] = Profile_2\n",
    "clusters_view"
   ]
  },
  {
   "cell_type": "markdown",
   "metadata": {},
   "source": [
    "## Conclusão"
   ]
  },
  {
   "cell_type": "markdown",
   "metadata": {},
   "source": [
    "Segundo o estudo dos perfis criados através dos clusters gerados pelo algoritmo K-Means, observamos que existem algumas similaridades entre os perfis que mais influenciam em acidentes de severidade alta. Motoristas envolvidos em acidentes com lesão fatal costumam ter um nível de escolaridade Junior High School e estarem na faixa etária de 18 a 30 anos. Seus acidentes costumam ocorrer em áreas residenciais, durante a luz do dia, porém com um ponto em comum importante: os acidentes graves costumam ocorrer em períodos de neblina, o que dificulta a visibilidade do motorista em relação as sinalizações, curvas na estrada e pedestres no entorno. \n",
    "\n",
    "No entanto, os perfis também demonstraram algumas dissimilaridades. No perfil 01, os motoristas envolvidos em acidentes com lesão fatal costumam possuir vasta experiência na direção, com 5 a 10 anos de experiência. Com certa diferença, motoristas do perfil 02 costumam ter entre 2 a 5 anos de experiência na direção. Isso mostra que acidentes fatais não costumam ocorrer com motoristas iniciantes, mas sim com pessoas experientes na direção. Outros pontos que diferem estão relacionados ao momento em que ocorrem os acidentes. Enquanto no perfil 01 os casos de acidentes fatais costumam ocorrer às sextas feiras, por volta das 17 horas, no perfil 02 os acidentes graves costumam ocorrer aos Domingos, durante o período da manhã, por volta das 11 horas. De qualquer forma, observa-se uma semelhança adicional: os casos de acidentes de trânsitos fatais costumam acontecer aos finais de semana."
   ]
  },
  {
   "cell_type": "markdown",
   "metadata": {},
   "source": [
    "Tendo estes insights como base para possíveis soluções de prevenção a acidentes de trânsito fatais, podemos considerar alguns pontos:\n",
    "- Ações de fiscalização de trânsito por parte dos órgãos de trânsito responsáveis em períodos de finais de semana;\n",
    "- Atualização de cursos de direção para motoristas com idades entre 18 e 30 anos;\n",
    "- Melhoria de sinalizações em ruas, estradas e rodovias, possibilitando a visão de motoristas mesmo em condições climáticas adversas;\n",
    "- Fiscalização e controle de fluxo de trânsito em áreas residencias   "
   ]
  },
  {
   "cell_type": "markdown",
   "metadata": {},
   "source": [
    "Por fim, temos algumas questões que motivaram este estudo que necessitam ser respondidas. São elas:\n",
    "\n",
    "- Quais os principais motivos para ocorrência desses acidentes?\n",
    "\n",
    "Segundo o estudo, principais motivos para a ocorrência de acidentes de trânsito, desconsiderando variáveis de perfil dos motoristas, são: a localização onde estão dirigindo no momento do acidente, comumente ocorridos em áreas residenciais; as condições de luminosidade; o tipo de rua/estrada/rodovia em que estão dirigindo; e principalmente, as condições climáticas na qual estão dirigindo, com acidentes graves ocorridos principalemente em condições de neblina.\n",
    "\n",
    "- Existem um padrão de comportamento para determinados acidentes de trânsito? Se sim, qual o padrão para acidentes com vítimas fatais?\n",
    "\n",
    "Segundo o estudo existem padrões de perfis e comportamento na ocorrência de acidentes de trânsito, principalmente para casos graves. Abordamos este tópico um pouco acima, onde discutimos os tipos de perfis de motoristas envolvidos em acidentes de trânsito graves. \n",
    "\n",
    "- Aspectos como condições climáticas a area em que o motorista está dirigindo tem relevância na possível ocorrência de acidentes?\n",
    "\n",
    "Condições climáticas e área não só podem influenciar em casos de acidentes de trânsito, como também são uns dos principais fatores dessas ocorrências, principalmente em casos de acidentes com vítimas fatais.\n",
    "\n",
    "- Motoristas com mais experiência na direção estão menos propensos a acidentes de trânsito?\n",
    "\n",
    "Pelo que vimos na discussão acima, motoristas com mais experiência na direção não estão menos propensos a acidentes de trânsito, pelo contrário, segundo os dados, este perfil de motoristas costumam estar mais envolvidos em acidentes graves.\n",
    "\n",
    "- Um dia específico na semana pode influenciar na ocorrência de acidentes?\n",
    "\n",
    "Em casos de acidentes graves e fatais, pudemos observar que os padrões de ocorrência são em dias de finais de semana, principalmente às Sextas Feiras e Domingos."
   ]
  }
 ],
 "metadata": {
  "kernelspec": {
   "display_name": "Python 3.9.12 ('base')",
   "language": "python",
   "name": "python3"
  },
  "language_info": {
   "codemirror_mode": {
    "name": "ipython",
    "version": 3
   },
   "file_extension": ".py",
   "mimetype": "text/x-python",
   "name": "python",
   "nbconvert_exporter": "python",
   "pygments_lexer": "ipython3",
   "version": "3.9.12"
  },
  "orig_nbformat": 4,
  "vscode": {
   "interpreter": {
    "hash": "277dd6a00b2f158b92cd75c77435a6853cc3e9f1875f1641e06ab39c770775fa"
   }
  }
 },
 "nbformat": 4,
 "nbformat_minor": 2
}
